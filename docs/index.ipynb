{
 "cells": [
  {
   "cell_type": "markdown",
   "id": "c688d4ac",
   "metadata": {},
   "source": [
    "\n",
    "# ipyvizzu\n",
    "\n",
    "ipyvizzu is the [Jupyter Notebook](https://jupyter.org/) integration of Vizzu.\n",
    "\n",
    "# Vizzu\n",
    "\n",
    "[Vizzu](https://lib.vizzuhq.com/) is a free, open-source Javascript/C++ library utilizing a generic dataviz engine that generates many types of charts and seamlessly animates between them. It can be used to create static charts but more importantly it is designed for building animated data stories and interactive explorers as Vizzu enables showing different perspectives of the data that the viewers can easily follow due to the animation. Visit [Vizzu on Github](https://github.com/vizzuhq/vizzu-lib)."
   ]
  },
  {
   "cell_type": "code",
   "execution_count": 1,
   "id": "af20f729",
   "metadata": {},
   "outputs": [
   ],
   "source": [
    "#sample\n",
    "from ipyvizzu import Chart, Data, Config\n",
    "\n",
    "data = Data()\n",
    "data.add_series(\"Foo\", ['Alice', 'Bob', 'Ted'])\n",
    "data.add_series(\"Bar\", [15, 32, 12])\n",
    "data.add_series(\"Baz\", [5, 2, 2])\n",
    "\n",
    "chart = Chart()\n",
    "chart.animate(data)\n",
    "\n",
    "chart.animate(Config({\"x\": \"Foo\", \"y\": \"Bar\", \"color\": \"Foo\"}))\n",
    "chart.animate(Config({\"geometry\": \"circle\"}))\n",
    "chart.animate(Config({\"x\": \"Foo\", \"y\": \"Baz\", \"color\": \"Foo\"}))\n",
    "chart.animate(Config({\"geometry\": \"rectangle\"}))"
   ]
  },
  {
   "cell_type": "markdown",
   "id": "f07fd301",
   "metadata": {},
   "source": [
    "**Note:** `Chart` only generates the Javascript code, the Vizzu calls are evaluated by the browser. Therefore if a blank space appears where the vizzu should be, check the console of your browser where the Javascript lib reports its errors.\n",
    "\n",
    "# Installation\n",
    "\n",
    "ipyvizzu requires `IPython` and `NumPy` packages.\n",
    "The `notebook` project has to be installed as ipyvizzu can only be used within a Jupyter Notebook.\n",
    "\n",
    "```python\n",
    "pip install ipyvizzu\n",
    "pip install notebook\n",
    "```\n",
    "You can also use local installation, there's more info about this in the [Intro](tutorial/intro.html)  section of the documentation.\n",
    "\n",
    "# Documentation\n",
    "\n",
    "* [ipyvizzu options](options.html)\n",
    "\n",
    "The following tutorial is an excellent place to start using ipyvizzu, as it walks you through the installation, introduces the logic it employs and the different settings to control how your charts look and behave.\n",
    "* [Intro](tutorial/basic_logic.html)\n",
    "* [Adding data](tutorial/data.html)\n",
    "* [Axes, title, tooltip](tutorial/axes.html)\n",
    "* [Geometry](tutorial/geometry.html)\n",
    "* [Channels & legend](tutorial/channels.html)\n",
    "* [Group/stack](tutorial/group.html)\n",
    "* [Sorting](tutorial/sorting.html)\n",
    "* [Align & range](tutorial/align.html)\n",
    "* [Aggregate/drill-down](tutorial/aggregate.html)\n",
    "* [Orientation, split & polar](tutorial/orientation.html)\n",
    "* [Filtering & adding new records](tutorial/filter.html)\n",
    "* [Without coordinates & noop channel](tutorial/without_coordinates.html)\n",
    "* [Color palette & fonts](tutorial/palette_font.html)\n",
    "* [Chart layout](tutorial/layout.html)\n",
    "* [Animation options](tutorial/animation_options.html)"
   ]
  }
 ],
 "metadata": {
  "kernelspec": {
   "display_name": ".venv",
   "language": "python",
   "name": ".venv"
  },
  "language_info": {
   "codemirror_mode": {
    "name": "ipython",
    "version": 3
   },
   "file_extension": ".py",
   "mimetype": "text/x-python",
   "name": "python",
   "nbconvert_exporter": "python",
   "pygments_lexer": "ipython3",
   "version": "3.8.10"
  }
 },
 "nbformat": 4,
 "nbformat_minor": 5
}
