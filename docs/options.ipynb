{
 "cells": [
  {
   "cell_type": "markdown",
   "id": "c688d4ac",
   "metadata": {},
   "source": [
    "# ipyvizzu options\n",
    "\n",
    "ipyvizzu behaviour can be changed with the following options.\n",
    "\n",
    "## ipyvizzu constructor arguments\n",
    "\n",
    "### vizzu\n",
    "\n",
    "ipyvizzu downloads Vizzu from [jsDelivr](https://www.jsdelivr.com/package/npm/vizzu?version=~0.4.0) CDN by default. It can be changed with the `vizzu` constructor argument.\n",
    "\n",
    "```python\n",
    "from ipyvizzu import Chart\n",
    "\n",
    "chart = Chart(vizzu=\"./node_modules/vizzu/dist/vizzu.min.js\")\n",
    "```\n",
    "\n",
    "### width, height\n",
    "\n",
    "ipyvizzu displays the animation in a `width=\"800px\", height=\"480px\"` div by default. It can be changed with the `width` and the `height` constructor arguments.\n",
    "\n",
    "```python\n",
    "from ipyvizzu import Chart\n",
    "\n",
    "chart = Chart(width=\"400px\", height=\"240px\")\n",
    "```\n",
    "\n",
    "### display\n",
    "\n",
    "ipyvizzu displays the animation after the currently running cell by default. It can be changed with the `display` constructor argument.\n",
    "\n",
    "* `begin`: displays all of the animations after the constructor's cell\n",
    "* `actual` (default): displays the animation after the currently running cell\n",
    "* `end`: displays all of the animations after the last cell\n",
    "\n",
    "```python\n",
    "from ipyvizzu import Chart\n",
    "\n",
    "chart = Chart(display=\"begin\")\n",
    "```\n",
    "\n",
    "## ipyvizzu properties\n",
    "\n",
    "### scroll_into_view\n",
    "\n",
    "ipyvizzu scrolls to the currently running animation by default. It can be changed any time with the `scroll_into_view` property.\n",
    "Note: If manual scroll detected, it will not scroll automatically until a cell is runned again.\n",
    "\n",
    "\n",
    "```python\n",
    "from ipyvizzu import Chart\n",
    "\n",
    "chart = Chart()\n",
    "chart.scroll_into_view = False\n",
    "```"
   ]
  }
 ],
 "metadata": {
  "kernelspec": {
   "display_name": "Python 3 (ipykernel)",
   "language": "python",
   "name": "python3"
  },
  "language_info": {
   "codemirror_mode": {
    "name": "ipython",
    "version": 3
   },
   "file_extension": ".py",
   "mimetype": "text/x-python",
   "name": "python",
   "nbconvert_exporter": "python",
   "pygments_lexer": "ipython3",
   "version": "3.8.10"
  }
 },
 "nbformat": 4,
 "nbformat_minor": 5
}
