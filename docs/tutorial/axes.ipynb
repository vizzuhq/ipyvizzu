{
 "cells": [
  {
   "cell_type": "markdown",
   "id": "789167c4",
   "metadata": {},
   "source": [
    "## Axes, title, tooltip\n",
    "\n",
    "To build a chart with Vizzu, you have to add data series to the channels.\n",
    "\n",
    "The first step is to create a simple column chart, adding one of the dimensions (Genre) to the x-axis and the measure (Popularity) to the y-axis using the set property.\n",
    "\n",
    "In the next step, the chart is rearranged by putting both series on the y-axis using once again the set property, resulting in a single column chart. Vizzu automatically animates between the initial state and this one.\n",
    "\n",
    "Or instead of set, you can use attach and detach to add or remove series to/from the channels.\n",
    "\n",
    "Using attach & detach makes it easier to build your animated charts step-by-step, however you either have to keep in mind what you had on which channel in the previous step."
   ]
  },
  {
   "cell_type": "code",
   "execution_count": 1,
   "id": "8f05ec83",
   "metadata": {},
   "outputs": [
    {
     "data": {
      "text/html": [
       "<script id=\"myVizzu_f6b134e\">\n",
       "    document.inhibitScroll = false;\n",
       "    document.addEventListener('wheel', function (evt) { document.inhibitScroll = true }, true);\n",
       "    document.addEventListener('keydown', function (evt) { document.inhibitScroll = true }, true);\n",
       "    document.addEventListener('touchstart', function (evt) { document.inhibitScroll = true }, true);\n",
       "    let myVizzu_7433da9 = document.createElement(\"div\");\n",
       "    myVizzu_7433da9.style.cssText = \"width: 800px; height: 480px;\";\n",
       "    let chart_7433da9 = import(\"https://cdn.jsdelivr.net/npm/vizzu@~0.4.0/dist/vizzu.min.js\").then(Vizzu => new Vizzu.default(myVizzu_7433da9).initializing);\n",
       "    myVizzu_f6b134e.parentNode.insertBefore(myVizzu_7433da9, myVizzu_f6b134e);\n",
       "</script>"
      ]
     },
     "metadata": {},
     "output_type": "display_data"
    },
    {
     "data": {
      "text/html": [
       "<script id=\"myVizzu_c818eef\">\n",
       "    let display_c818eef = myVizzu_c818eef.parentNode.parentNode.style.display;\n",
       "    myVizzu_c818eef.parentNode.parentNode.style.display = \"none\";\n",
       "    chart_7433da9 = chart_7433da9.then(chart => {\n",
       "        if (myVizzu_7433da9.parentNode && myVizzu_7433da9.parentNode.parentNode) {\n",
       "            myVizzu_7433da9.parentNode.parentNode.style.display = \"none\";\n",
       "        }\n",
       "        myVizzu_c818eef.parentNode.parentNode.style.display = display_c818eef;\n",
       "        myVizzu_c818eef.parentNode.insertBefore(myVizzu_7433da9, myVizzu_c818eef);\n",
       "        if (!document.inhibitScroll && true) {\n",
       "            myVizzu_7433da9.scrollIntoView({behavior: \"auto\", block: \"center\"});\n",
       "        }\n",
       "        return chart.animate({\"data\": {\"dimensions\": [{\"name\": \"Genres\", \"values\": [\"Pop\", \"Rock\", \"Jazz\", \"Metal\"]}, {\"name\": \"Types\", \"values\": [\"Hard\", \"Smooth\", \"Experimental\"]}], \"measures\": [{\"name\": \"Popularity\", \"values\": [[114, 96, 78, 52], [56, 36, 174, 121], [127, 83, 94, 58]]}]}});\n",
       "    });\n",
       "</script>"
      ]
     },
     "metadata": {},
     "output_type": "display_data"
    },
    {
     "data": {
      "text/html": [
       "<script id=\"myVizzu_cc43435\">\n",
       "    let display_cc43435 = myVizzu_cc43435.parentNode.parentNode.style.display;\n",
       "    myVizzu_cc43435.parentNode.parentNode.style.display = \"none\";\n",
       "    chart_7433da9 = chart_7433da9.then(chart => {\n",
       "        if (myVizzu_7433da9.parentNode && myVizzu_7433da9.parentNode.parentNode) {\n",
       "            myVizzu_7433da9.parentNode.parentNode.style.display = \"none\";\n",
       "        }\n",
       "        myVizzu_cc43435.parentNode.parentNode.style.display = display_cc43435;\n",
       "        myVizzu_cc43435.parentNode.insertBefore(myVizzu_7433da9, myVizzu_cc43435);\n",
       "        if (!document.inhibitScroll && true) {\n",
       "            myVizzu_7433da9.scrollIntoView({behavior: \"auto\", block: \"center\"});\n",
       "        }\n",
       "        return chart.animate({\"config\": {\"channels\": {\"y\": {\"set\": \"Popularity\"}, \"x\": {\"set\": \"Genres\"}}}});\n",
       "    });\n",
       "</script>"
      ]
     },
     "metadata": {},
     "output_type": "display_data"
    },
    {
     "data": {
      "text/html": [
       "<script id=\"myVizzu_031ddf7\">\n",
       "    let display_031ddf7 = myVizzu_031ddf7.parentNode.parentNode.style.display;\n",
       "    myVizzu_031ddf7.parentNode.parentNode.style.display = \"none\";\n",
       "    chart_7433da9 = chart_7433da9.then(chart => {\n",
       "        if (myVizzu_7433da9.parentNode && myVizzu_7433da9.parentNode.parentNode) {\n",
       "            myVizzu_7433da9.parentNode.parentNode.style.display = \"none\";\n",
       "        }\n",
       "        myVizzu_031ddf7.parentNode.parentNode.style.display = display_031ddf7;\n",
       "        myVizzu_031ddf7.parentNode.insertBefore(myVizzu_7433da9, myVizzu_031ddf7);\n",
       "        if (!document.inhibitScroll && true) {\n",
       "            myVizzu_7433da9.scrollIntoView({behavior: \"auto\", block: \"center\"});\n",
       "        }\n",
       "        return chart.animate({\"config\": {\"channels\": {\"y\": {\"set\": [\"Popularity\", \"Genres\"]}, \"x\": {\"set\": null}}}});\n",
       "    });\n",
       "</script>"
      ]
     },
     "metadata": {},
     "output_type": "display_data"
    },
    {
     "data": {
      "text/html": [
       "<script id=\"myVizzu_f78ef04\">\n",
       "    let display_f78ef04 = myVizzu_f78ef04.parentNode.parentNode.style.display;\n",
       "    myVizzu_f78ef04.parentNode.parentNode.style.display = \"none\";\n",
       "    chart_7433da9 = chart_7433da9.then(chart => {\n",
       "        if (myVizzu_7433da9.parentNode && myVizzu_7433da9.parentNode.parentNode) {\n",
       "            myVizzu_7433da9.parentNode.parentNode.style.display = \"none\";\n",
       "        }\n",
       "        myVizzu_f78ef04.parentNode.parentNode.style.display = display_f78ef04;\n",
       "        myVizzu_f78ef04.parentNode.insertBefore(myVizzu_7433da9, myVizzu_f78ef04);\n",
       "        if (!document.inhibitScroll && true) {\n",
       "            myVizzu_7433da9.scrollIntoView({behavior: \"auto\", block: \"center\"});\n",
       "        }\n",
       "        return chart.animate({\"config\": {\"channels\": {\"y\": {\"detach\": \"Popularity\"}, \"x\": {\"attach\": \"Popularity\"}}}});\n",
       "    });\n",
       "</script>"
      ]
     },
     "metadata": {},
     "output_type": "display_data"
    },
    {
     "data": {
      "text/html": [
       "<script id=\"myVizzu_45132a7\">\n",
       "    myVizzu_45132a7.parentNode.parentNode.style.display = \"none\";\n",
       "    let snapshot_45132a7;\n",
       "    chart_7433da9 = chart_7433da9.then(chart => {\n",
       "        snapshot_45132a7 = chart.store();\n",
       "        return chart;\n",
       "    });\n",
       "</script>"
      ]
     },
     "metadata": {},
     "output_type": "display_data"
    }
   ],
   "source": [
    "from ipyvizzu import Chart, Data, Config\n",
    "\n",
    "chart = Chart()\n",
    "\n",
    "data = Data.from_json(\"./music_data.json\")\n",
    "\n",
    "chart.animate(data)\n",
    "\n",
    "chart.animate(Config({\n",
    "    \"channels\": {\n",
    "        \"y\": {\n",
    "            \"set\": \"Popularity\"\n",
    "        }, \n",
    "        \"x\": {\n",
    "            \"set\": \"Genres\"\n",
    "        }\n",
    "    }\n",
    "}))\n",
    "\n",
    "chart.animate(Config({\n",
    "    \"channels\": {\n",
    "        \"y\": {\n",
    "            \"set\": [\"Popularity\", \"Genres\"]\n",
    "        }, \n",
    "        \"x\": {\n",
    "            \"set\": None\n",
    "        }\n",
    "    }\n",
    "}))\n",
    "\n",
    "chart.animate(Config({\n",
    "    \"channels\": {\n",
    "        \"y\": {\n",
    "            \"detach\": \"Popularity\"\n",
    "        }, \n",
    "        \"x\": {\n",
    "            \"attach\": \"Popularity\"\n",
    "        }\n",
    "    }\n",
    "}))\n",
    "\n",
    "snapshot1 = chart.store()"
   ]
  },
  {
   "cell_type": "markdown",
   "id": "86c8b72b",
   "metadata": {},
   "source": [
    "Setting the chart title with the title command."
   ]
  },
  {
   "cell_type": "code",
   "execution_count": 2,
   "id": "e642e113",
   "metadata": {},
   "outputs": [
    {
     "data": {
      "text/html": [
       "<script id=\"myVizzu_4c68412\">\n",
       "    document.inhibitScroll = false;\n",
       "</script>"
      ]
     },
     "metadata": {},
     "output_type": "display_data"
    },
    {
     "data": {
      "text/html": [
       "<script id=\"myVizzu_f32a92c\">\n",
       "    let display_f32a92c = myVizzu_f32a92c.parentNode.parentNode.style.display;\n",
       "    myVizzu_f32a92c.parentNode.parentNode.style.display = \"none\";\n",
       "    chart_7433da9 = chart_7433da9.then(chart => {\n",
       "        if (myVizzu_7433da9.parentNode && myVizzu_7433da9.parentNode.parentNode) {\n",
       "            myVizzu_7433da9.parentNode.parentNode.style.display = \"none\";\n",
       "        }\n",
       "        myVizzu_f32a92c.parentNode.parentNode.style.display = display_f32a92c;\n",
       "        myVizzu_f32a92c.parentNode.insertBefore(myVizzu_7433da9, myVizzu_f32a92c);\n",
       "        if (!document.inhibitScroll && true) {\n",
       "            myVizzu_7433da9.scrollIntoView({behavior: \"auto\", block: \"center\"});\n",
       "        }\n",
       "        return chart.animate(snapshot_45132a7);\n",
       "    });\n",
       "</script>"
      ]
     },
     "metadata": {},
     "output_type": "display_data"
    },
    {
     "data": {
      "text/html": [
       "<script id=\"myVizzu_2983363\">\n",
       "    let display_2983363 = myVizzu_2983363.parentNode.parentNode.style.display;\n",
       "    myVizzu_2983363.parentNode.parentNode.style.display = \"none\";\n",
       "    chart_7433da9 = chart_7433da9.then(chart => {\n",
       "        if (myVizzu_7433da9.parentNode && myVizzu_7433da9.parentNode.parentNode) {\n",
       "            myVizzu_7433da9.parentNode.parentNode.style.display = \"none\";\n",
       "        }\n",
       "        myVizzu_2983363.parentNode.parentNode.style.display = display_2983363;\n",
       "        myVizzu_2983363.parentNode.insertBefore(myVizzu_7433da9, myVizzu_2983363);\n",
       "        if (!document.inhibitScroll && true) {\n",
       "            myVizzu_7433da9.scrollIntoView({behavior: \"auto\", block: \"center\"});\n",
       "        }\n",
       "        return chart.animate({\"config\": {\"title\": \"My first chart\"}});\n",
       "    });\n",
       "</script>"
      ]
     },
     "metadata": {},
     "output_type": "display_data"
    },
    {
     "data": {
      "text/html": [
       "<script id=\"myVizzu_c7860c4\">\n",
       "    myVizzu_c7860c4.parentNode.parentNode.style.display = \"none\";\n",
       "    let snapshot_c7860c4;\n",
       "    chart_7433da9 = chart_7433da9.then(chart => {\n",
       "        snapshot_c7860c4 = chart.store();\n",
       "        return chart;\n",
       "    });\n",
       "</script>"
      ]
     },
     "metadata": {},
     "output_type": "display_data"
    }
   ],
   "source": [
    "chart.animate(snapshot1)\n",
    "\n",
    "chart.animate(Config({\n",
    "    \"title\": \"My first chart\"\n",
    "}))\n",
    "\n",
    "snapshot2 = chart.store()"
   ]
  },
  {
   "cell_type": "markdown",
   "id": "faee856f",
   "metadata": {},
   "source": [
    "Switching on the tooltips that appear on the chart elements when the user hovers over them with their mouse by adding the (tooltip, true) parameters to the chart.feature method."
   ]
  },
  {
   "cell_type": "code",
   "execution_count": 3,
   "id": "6a541934",
   "metadata": {},
   "outputs": [
    {
     "data": {
      "text/html": [
       "<script id=\"myVizzu_4e5bb86\">\n",
       "    document.inhibitScroll = false;\n",
       "</script>"
      ]
     },
     "metadata": {},
     "output_type": "display_data"
    },
    {
     "data": {
      "text/html": [
       "<script id=\"myVizzu_84d184f\">\n",
       "    let display_84d184f = myVizzu_84d184f.parentNode.parentNode.style.display;\n",
       "    myVizzu_84d184f.parentNode.parentNode.style.display = \"none\";\n",
       "    chart_7433da9 = chart_7433da9.then(chart => {\n",
       "        if (myVizzu_7433da9.parentNode && myVizzu_7433da9.parentNode.parentNode) {\n",
       "            myVizzu_7433da9.parentNode.parentNode.style.display = \"none\";\n",
       "        }\n",
       "        myVizzu_84d184f.parentNode.parentNode.style.display = display_84d184f;\n",
       "        myVizzu_84d184f.parentNode.insertBefore(myVizzu_7433da9, myVizzu_84d184f);\n",
       "        if (!document.inhibitScroll && true) {\n",
       "            myVizzu_7433da9.scrollIntoView({behavior: \"auto\", block: \"center\"});\n",
       "        }\n",
       "        return chart.animate(snapshot_c7860c4);\n",
       "    });\n",
       "</script>"
      ]
     },
     "metadata": {},
     "output_type": "display_data"
    },
    {
     "data": {
      "text/html": [
       "<script id=\"myVizzu_2eb7619\">\n",
       "    myVizzu_2eb7619.parentNode.parentNode.style.display = \"none\";\n",
       "    chart_7433da9 = chart_7433da9.then(chart => {\n",
       "        chart.feature(\"tooltip\", true);\n",
       "        return chart;\n",
       "    });\n",
       "</script>"
      ]
     },
     "metadata": {},
     "output_type": "display_data"
    }
   ],
   "source": [
    "chart.animate(snapshot2)\n",
    "\n",
    "chart.feature(\"tooltip\", True)"
   ]
  }
 ],
 "metadata": {
  "kernelspec": {
   "display_name": ".venv",
   "language": "python",
   "name": ".venv"
  },
  "language_info": {
   "codemirror_mode": {
    "name": "ipython",
    "version": 3
   },
   "file_extension": ".py",
   "mimetype": "text/x-python",
   "name": "python",
   "nbconvert_exporter": "python",
   "pygments_lexer": "ipython3",
   "version": "3.8.10"
  }
 },
 "nbformat": 4,
 "nbformat_minor": 5
}
