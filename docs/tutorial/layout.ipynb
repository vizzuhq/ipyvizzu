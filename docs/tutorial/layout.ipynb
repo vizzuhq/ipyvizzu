{
 "cells": [
  {
   "cell_type": "markdown",
   "id": "8518ab11",
   "metadata": {},
   "source": [
    "## Chart layout\n",
    "\n",
    "Vizzu has three separate parts of the chart layout: the plot area that contains the chart, the title containing the chart title on the top, and the legend on the left. Vizzu automatically hides the legend when it’s unnecessary to show it. When the title is not in use, Vizzu hides that part automatically as well. Each of these parts have their own paddings on all four sides that adjust to the chart size by default, but can also be set with the appropriate settings in the style object. All size parameters can be set in pixel, percentage and em.\n",
    "\n",
    "We add different background colors to the parts of the layout to show how they are aligned."
   ]
  },
  {
   "cell_type": "code",
   "execution_count": 1,
   "id": "b0552636",
   "metadata": {},
   "outputs": [
    {
     "data": {
      "text/html": [
       "<script id=\"myVizzu_1c1cb52\">\n",
       "    document.inhibitScroll = false;\n",
       "    document.addEventListener('wheel', function (evt) { document.inhibitScroll = true }, true);\n",
       "    document.addEventListener('keydown', function (evt) { document.inhibitScroll = true }, true);\n",
       "    document.addEventListener('touchstart', function (evt) { document.inhibitScroll = true }, true);\n",
       "    let myVizzu_bab48ff = document.createElement(\"div\");\n",
       "    myVizzu_bab48ff.style.cssText = \"width: 800px; height: 480px;\";\n",
       "    let chart_bab48ff = import(\"https://cdn.jsdelivr.net/npm/vizzu@~0.4.0/dist/vizzu.min.js\").then(Vizzu => new Vizzu.default(myVizzu_bab48ff).initializing);\n",
       "    myVizzu_1c1cb52.parentNode.insertBefore(myVizzu_bab48ff, myVizzu_1c1cb52);\n",
       "</script>"
      ]
     },
     "metadata": {},
     "output_type": "display_data"
    },
    {
     "data": {
      "text/html": [
       "<script id=\"myVizzu_261b347\">\n",
       "    let display_261b347 = myVizzu_261b347.parentNode.parentNode.style.display;\n",
       "    myVizzu_261b347.parentNode.parentNode.style.display = \"none\";\n",
       "    chart_bab48ff = chart_bab48ff.then(chart => {\n",
       "        if (myVizzu_bab48ff.parentNode && myVizzu_bab48ff.parentNode.parentNode) {\n",
       "            myVizzu_bab48ff.parentNode.parentNode.style.display = \"none\";\n",
       "        }\n",
       "        myVizzu_261b347.parentNode.parentNode.style.display = display_261b347;\n",
       "        myVizzu_261b347.parentNode.insertBefore(myVizzu_bab48ff, myVizzu_261b347);\n",
       "        if (!document.inhibitScroll && true) {\n",
       "            myVizzu_bab48ff.scrollIntoView({behavior: \"auto\", block: \"center\"});\n",
       "        }\n",
       "        return chart.animate({\"data\": {\"dimensions\": [{\"name\": \"Genres\", \"values\": [\"Pop\", \"Rock\", \"Jazz\", \"Metal\"]}, {\"name\": \"Types\", \"values\": [\"Hard\", \"Smooth\", \"Experimental\"]}], \"measures\": [{\"name\": \"Popularity\", \"values\": [[114, 96, 78, 52], [56, 36, 174, 121], [127, 83, 94, 58]]}]}});\n",
       "    });\n",
       "</script>"
      ]
     },
     "metadata": {},
     "output_type": "display_data"
    },
    {
     "data": {
      "text/html": [
       "<script id=\"myVizzu_9cfc2de\">\n",
       "    let display_9cfc2de = myVizzu_9cfc2de.parentNode.parentNode.style.display;\n",
       "    myVizzu_9cfc2de.parentNode.parentNode.style.display = \"none\";\n",
       "    chart_bab48ff = chart_bab48ff.then(chart => {\n",
       "        if (myVizzu_bab48ff.parentNode && myVizzu_bab48ff.parentNode.parentNode) {\n",
       "            myVizzu_bab48ff.parentNode.parentNode.style.display = \"none\";\n",
       "        }\n",
       "        myVizzu_9cfc2de.parentNode.parentNode.style.display = display_9cfc2de;\n",
       "        myVizzu_9cfc2de.parentNode.insertBefore(myVizzu_bab48ff, myVizzu_9cfc2de);\n",
       "        if (!document.inhibitScroll && true) {\n",
       "            myVizzu_bab48ff.scrollIntoView({behavior: \"auto\", block: \"center\"});\n",
       "        }\n",
       "        return chart.animate({\"config\": {\"channels\": {\"y\": {\"set\": [\"Popularity\", \"Types\"]}, \"x\": {\"set\": \"Genres\"}}, \"label\": {\"attach\": \"Popularity\"}, \"color\": {\"set\": \"Types\"}, \"title\": \"Plot, title and legend background\"}});\n",
       "    });\n",
       "</script>"
      ]
     },
     "metadata": {},
     "output_type": "display_data"
    },
    {
     "data": {
      "text/html": [
       "<script id=\"myVizzu_b77d53c\">\n",
       "    let display_b77d53c = myVizzu_b77d53c.parentNode.parentNode.style.display;\n",
       "    myVizzu_b77d53c.parentNode.parentNode.style.display = \"none\";\n",
       "    chart_bab48ff = chart_bab48ff.then(chart => {\n",
       "        if (myVizzu_bab48ff.parentNode && myVizzu_bab48ff.parentNode.parentNode) {\n",
       "            myVizzu_bab48ff.parentNode.parentNode.style.display = \"none\";\n",
       "        }\n",
       "        myVizzu_b77d53c.parentNode.parentNode.style.display = display_b77d53c;\n",
       "        myVizzu_b77d53c.parentNode.insertBefore(myVizzu_bab48ff, myVizzu_b77d53c);\n",
       "        if (!document.inhibitScroll && true) {\n",
       "            myVizzu_bab48ff.scrollIntoView({behavior: \"auto\", block: \"center\"});\n",
       "        }\n",
       "        return chart.animate({\"style\": {\"title\": {\"backgroundColor\": \"#A0A0A0\"}, \"plot\": {\"backgroundColor\": \"#D2D2D2\"}, \"legend\": {\"backgroundColor\": \"#808080\"}}});\n",
       "    });\n",
       "</script>"
      ]
     },
     "metadata": {},
     "output_type": "display_data"
    },
    {
     "data": {
      "text/html": [
       "<script id=\"myVizzu_3811e06\">\n",
       "    myVizzu_3811e06.parentNode.parentNode.style.display = \"none\";\n",
       "    let snapshot_3811e06;\n",
       "    chart_bab48ff = chart_bab48ff.then(chart => {\n",
       "        snapshot_3811e06 = chart.store();\n",
       "        return chart;\n",
       "    });\n",
       "</script>"
      ]
     },
     "metadata": {},
     "output_type": "display_data"
    }
   ],
   "source": [
    "from ipyvizzu import Chart, Data, Config, Style\n",
    "\n",
    "chart = Chart()\n",
    "\n",
    "data = Data.from_json(\"./music_data.json\")\n",
    "\n",
    "chart.animate(data)\n",
    "\n",
    "chart.animate(Config({\n",
    "    \"channels\": {\n",
    "        \"y\": {\n",
    "            \"set\": [\"Popularity\", \"Types\"]\n",
    "        }, \n",
    "        \"x\": {\n",
    "            \"set\": \"Genres\"\n",
    "        }\n",
    "    }, \n",
    "    \"label\": {\n",
    "        \"attach\": \"Popularity\"\n",
    "    },\n",
    "    \"color\": {\n",
    "        \"set\": \"Types\"\n",
    "    },\n",
    "    \"title\": \"Plot, title and legend background\"\n",
    "}))\n",
    "\n",
    "chart.animate(Style({\n",
    "    \"title\": { \n",
    "        \"backgroundColor\": '#A0A0A0' \n",
    "    },\n",
    "    \"plot\": { \n",
    "        \"backgroundColor\": '#D2D2D2' \n",
    "    },\n",
    "    \"legend\": { \n",
    "        \"backgroundColor\": '#808080' \n",
    "    }\n",
    "}))\n",
    "\n",
    "snapshot1 = chart.store()"
   ]
  },
  {
   "cell_type": "markdown",
   "id": "00bf9cba",
   "metadata": {},
   "source": [
    "Setting the width of the legend."
   ]
  },
  {
   "cell_type": "code",
   "execution_count": 2,
   "id": "9a7fe9b8",
   "metadata": {},
   "outputs": [
    {
     "data": {
      "text/html": [
       "<script id=\"myVizzu_084ef9f\">\n",
       "    document.inhibitScroll = false;\n",
       "</script>"
      ]
     },
     "metadata": {},
     "output_type": "display_data"
    },
    {
     "data": {
      "text/html": [
       "<script id=\"myVizzu_d0f9d51\">\n",
       "    let display_d0f9d51 = myVizzu_d0f9d51.parentNode.parentNode.style.display;\n",
       "    myVizzu_d0f9d51.parentNode.parentNode.style.display = \"none\";\n",
       "    chart_bab48ff = chart_bab48ff.then(chart => {\n",
       "        if (myVizzu_bab48ff.parentNode && myVizzu_bab48ff.parentNode.parentNode) {\n",
       "            myVizzu_bab48ff.parentNode.parentNode.style.display = \"none\";\n",
       "        }\n",
       "        myVizzu_d0f9d51.parentNode.parentNode.style.display = display_d0f9d51;\n",
       "        myVizzu_d0f9d51.parentNode.insertBefore(myVizzu_bab48ff, myVizzu_d0f9d51);\n",
       "        if (!document.inhibitScroll && true) {\n",
       "            myVizzu_bab48ff.scrollIntoView({behavior: \"auto\", block: \"center\"});\n",
       "        }\n",
       "        return chart.animate(snapshot_3811e06);\n",
       "    });\n",
       "</script>"
      ]
     },
     "metadata": {},
     "output_type": "display_data"
    },
    {
     "data": {
      "text/html": [
       "<script id=\"myVizzu_3cb66e5\">\n",
       "    let display_3cb66e5 = myVizzu_3cb66e5.parentNode.parentNode.style.display;\n",
       "    myVizzu_3cb66e5.parentNode.parentNode.style.display = \"none\";\n",
       "    chart_bab48ff = chart_bab48ff.then(chart => {\n",
       "        if (myVizzu_bab48ff.parentNode && myVizzu_bab48ff.parentNode.parentNode) {\n",
       "            myVizzu_bab48ff.parentNode.parentNode.style.display = \"none\";\n",
       "        }\n",
       "        myVizzu_3cb66e5.parentNode.parentNode.style.display = display_3cb66e5;\n",
       "        myVizzu_3cb66e5.parentNode.insertBefore(myVizzu_bab48ff, myVizzu_3cb66e5);\n",
       "        if (!document.inhibitScroll && true) {\n",
       "            myVizzu_bab48ff.scrollIntoView({behavior: \"auto\", block: \"center\"});\n",
       "        }\n",
       "        return chart.animate({\"config\": {\"title\": \"Legend width\"}});\n",
       "    });\n",
       "</script>"
      ]
     },
     "metadata": {},
     "output_type": "display_data"
    },
    {
     "data": {
      "text/html": [
       "<script id=\"myVizzu_05bfc5f\">\n",
       "    let display_05bfc5f = myVizzu_05bfc5f.parentNode.parentNode.style.display;\n",
       "    myVizzu_05bfc5f.parentNode.parentNode.style.display = \"none\";\n",
       "    chart_bab48ff = chart_bab48ff.then(chart => {\n",
       "        if (myVizzu_bab48ff.parentNode && myVizzu_bab48ff.parentNode.parentNode) {\n",
       "            myVizzu_bab48ff.parentNode.parentNode.style.display = \"none\";\n",
       "        }\n",
       "        myVizzu_05bfc5f.parentNode.parentNode.style.display = display_05bfc5f;\n",
       "        myVizzu_05bfc5f.parentNode.insertBefore(myVizzu_bab48ff, myVizzu_05bfc5f);\n",
       "        if (!document.inhibitScroll && true) {\n",
       "            myVizzu_bab48ff.scrollIntoView({behavior: \"auto\", block: \"center\"});\n",
       "        }\n",
       "        return chart.animate({\"style\": {\"legend\": {\"width\": 50}}});\n",
       "    });\n",
       "</script>"
      ]
     },
     "metadata": {},
     "output_type": "display_data"
    },
    {
     "data": {
      "text/html": [
       "<script id=\"myVizzu_2bab728\">\n",
       "    myVizzu_2bab728.parentNode.parentNode.style.display = \"none\";\n",
       "    let snapshot_2bab728;\n",
       "    chart_bab48ff = chart_bab48ff.then(chart => {\n",
       "        snapshot_2bab728 = chart.store();\n",
       "        return chart;\n",
       "    });\n",
       "</script>"
      ]
     },
     "metadata": {},
     "output_type": "display_data"
    }
   ],
   "source": [
    "chart.animate(snapshot1)\n",
    "\n",
    "chart.animate(Config({\"title\": \"Legend width\"}))\n",
    "\n",
    "chart.animate(Style({\n",
    "    \"legend\": { \n",
    "        \"width\": 50 \n",
    "    }\n",
    "}))\n",
    "\n",
    "snapshot2 = chart.store()"
   ]
  },
  {
   "cell_type": "markdown",
   "id": "fa329122",
   "metadata": {},
   "source": [
    "Setting the legend width back to its default value."
   ]
  },
  {
   "cell_type": "code",
   "execution_count": 3,
   "id": "88fa24a8",
   "metadata": {},
   "outputs": [
    {
     "data": {
      "text/html": [
       "<script id=\"myVizzu_0f50d2c\">\n",
       "    document.inhibitScroll = false;\n",
       "</script>"
      ]
     },
     "metadata": {},
     "output_type": "display_data"
    },
    {
     "data": {
      "text/html": [
       "<script id=\"myVizzu_9dec8e9\">\n",
       "    let display_9dec8e9 = myVizzu_9dec8e9.parentNode.parentNode.style.display;\n",
       "    myVizzu_9dec8e9.parentNode.parentNode.style.display = \"none\";\n",
       "    chart_bab48ff = chart_bab48ff.then(chart => {\n",
       "        if (myVizzu_bab48ff.parentNode && myVizzu_bab48ff.parentNode.parentNode) {\n",
       "            myVizzu_bab48ff.parentNode.parentNode.style.display = \"none\";\n",
       "        }\n",
       "        myVizzu_9dec8e9.parentNode.parentNode.style.display = display_9dec8e9;\n",
       "        myVizzu_9dec8e9.parentNode.insertBefore(myVizzu_bab48ff, myVizzu_9dec8e9);\n",
       "        if (!document.inhibitScroll && true) {\n",
       "            myVizzu_bab48ff.scrollIntoView({behavior: \"auto\", block: \"center\"});\n",
       "        }\n",
       "        return chart.animate(snapshot_2bab728);\n",
       "    });\n",
       "</script>"
      ]
     },
     "metadata": {},
     "output_type": "display_data"
    },
    {
     "data": {
      "text/html": [
       "<script id=\"myVizzu_be207c0\">\n",
       "    let display_be207c0 = myVizzu_be207c0.parentNode.parentNode.style.display;\n",
       "    myVizzu_be207c0.parentNode.parentNode.style.display = \"none\";\n",
       "    chart_bab48ff = chart_bab48ff.then(chart => {\n",
       "        if (myVizzu_bab48ff.parentNode && myVizzu_bab48ff.parentNode.parentNode) {\n",
       "            myVizzu_bab48ff.parentNode.parentNode.style.display = \"none\";\n",
       "        }\n",
       "        myVizzu_be207c0.parentNode.parentNode.style.display = display_be207c0;\n",
       "        myVizzu_be207c0.parentNode.insertBefore(myVizzu_bab48ff, myVizzu_be207c0);\n",
       "        if (!document.inhibitScroll && true) {\n",
       "            myVizzu_bab48ff.scrollIntoView({behavior: \"auto\", block: \"center\"});\n",
       "        }\n",
       "        return chart.animate({\"style\": {\"legend\": {\"width\": null}}});\n",
       "    });\n",
       "</script>"
      ]
     },
     "metadata": {},
     "output_type": "display_data"
    },
    {
     "data": {
      "text/html": [
       "<script id=\"myVizzu_aa9f2bb\">\n",
       "    myVizzu_aa9f2bb.parentNode.parentNode.style.display = \"none\";\n",
       "    let snapshot_aa9f2bb;\n",
       "    chart_bab48ff = chart_bab48ff.then(chart => {\n",
       "        snapshot_aa9f2bb = chart.store();\n",
       "        return chart;\n",
       "    });\n",
       "</script>"
      ]
     },
     "metadata": {},
     "output_type": "display_data"
    }
   ],
   "source": [
    "chart.animate(snapshot2)\n",
    "\n",
    "chart.animate(Style({\n",
    "    \"legend\": { \n",
    "        \"width\": None \n",
    "    }\n",
    "}))\n",
    "\n",
    "snapshot3 = chart.store()"
   ]
  },
  {
   "cell_type": "markdown",
   "id": "3d68c376",
   "metadata": {},
   "source": [
    "Changing the title paddings. By default, the title is horizontally centered above the chart. In this example, we set the title’s left padding, resulting in the text moving to the right."
   ]
  },
  {
   "cell_type": "code",
   "execution_count": 4,
   "id": "c7e60196",
   "metadata": {},
   "outputs": [
    {
     "data": {
      "text/html": [
       "<script id=\"myVizzu_c5cc693\">\n",
       "    document.inhibitScroll = false;\n",
       "</script>"
      ]
     },
     "metadata": {},
     "output_type": "display_data"
    },
    {
     "data": {
      "text/html": [
       "<script id=\"myVizzu_a1e6530\">\n",
       "    let display_a1e6530 = myVizzu_a1e6530.parentNode.parentNode.style.display;\n",
       "    myVizzu_a1e6530.parentNode.parentNode.style.display = \"none\";\n",
       "    chart_bab48ff = chart_bab48ff.then(chart => {\n",
       "        if (myVizzu_bab48ff.parentNode && myVizzu_bab48ff.parentNode.parentNode) {\n",
       "            myVizzu_bab48ff.parentNode.parentNode.style.display = \"none\";\n",
       "        }\n",
       "        myVizzu_a1e6530.parentNode.parentNode.style.display = display_a1e6530;\n",
       "        myVizzu_a1e6530.parentNode.insertBefore(myVizzu_bab48ff, myVizzu_a1e6530);\n",
       "        if (!document.inhibitScroll && true) {\n",
       "            myVizzu_bab48ff.scrollIntoView({behavior: \"auto\", block: \"center\"});\n",
       "        }\n",
       "        return chart.animate(snapshot_aa9f2bb);\n",
       "    });\n",
       "</script>"
      ]
     },
     "metadata": {},
     "output_type": "display_data"
    },
    {
     "data": {
      "text/html": [
       "<script id=\"myVizzu_48c6f1f\">\n",
       "    let display_48c6f1f = myVizzu_48c6f1f.parentNode.parentNode.style.display;\n",
       "    myVizzu_48c6f1f.parentNode.parentNode.style.display = \"none\";\n",
       "    chart_bab48ff = chart_bab48ff.then(chart => {\n",
       "        if (myVizzu_bab48ff.parentNode && myVizzu_bab48ff.parentNode.parentNode) {\n",
       "            myVizzu_bab48ff.parentNode.parentNode.style.display = \"none\";\n",
       "        }\n",
       "        myVizzu_48c6f1f.parentNode.parentNode.style.display = display_48c6f1f;\n",
       "        myVizzu_48c6f1f.parentNode.insertBefore(myVizzu_bab48ff, myVizzu_48c6f1f);\n",
       "        if (!document.inhibitScroll && true) {\n",
       "            myVizzu_bab48ff.scrollIntoView({behavior: \"auto\", block: \"center\"});\n",
       "        }\n",
       "        return chart.animate({\"config\": {\"title\": \"Title padding\"}});\n",
       "    });\n",
       "</script>"
      ]
     },
     "metadata": {},
     "output_type": "display_data"
    },
    {
     "data": {
      "text/html": [
       "<script id=\"myVizzu_b2a2c44\">\n",
       "    let display_b2a2c44 = myVizzu_b2a2c44.parentNode.parentNode.style.display;\n",
       "    myVizzu_b2a2c44.parentNode.parentNode.style.display = \"none\";\n",
       "    chart_bab48ff = chart_bab48ff.then(chart => {\n",
       "        if (myVizzu_bab48ff.parentNode && myVizzu_bab48ff.parentNode.parentNode) {\n",
       "            myVizzu_bab48ff.parentNode.parentNode.style.display = \"none\";\n",
       "        }\n",
       "        myVizzu_b2a2c44.parentNode.parentNode.style.display = display_b2a2c44;\n",
       "        myVizzu_b2a2c44.parentNode.insertBefore(myVizzu_bab48ff, myVizzu_b2a2c44);\n",
       "        if (!document.inhibitScroll && true) {\n",
       "            myVizzu_bab48ff.scrollIntoView({behavior: \"auto\", block: \"center\"});\n",
       "        }\n",
       "        return chart.animate({\"style\": {\"title\": {\"paddingTop\": 20, \"paddingBottom\": 20, \"paddingLeft\": 200}}});\n",
       "    });\n",
       "</script>"
      ]
     },
     "metadata": {},
     "output_type": "display_data"
    },
    {
     "data": {
      "text/html": [
       "<script id=\"myVizzu_4639eb3\">\n",
       "    myVizzu_4639eb3.parentNode.parentNode.style.display = \"none\";\n",
       "    let snapshot_4639eb3;\n",
       "    chart_bab48ff = chart_bab48ff.then(chart => {\n",
       "        snapshot_4639eb3 = chart.store();\n",
       "        return chart;\n",
       "    });\n",
       "</script>"
      ]
     },
     "metadata": {},
     "output_type": "display_data"
    }
   ],
   "source": [
    "chart.animate(snapshot3)\n",
    "\n",
    "chart.animate(Config({\"title\": \"Title padding\"}))\n",
    "\n",
    "chart.animate(Style({\n",
    "    \"title\": {\n",
    "        \"paddingTop\": 20,\n",
    "        \"paddingBottom\": 20,\n",
    "        \"paddingLeft\": 200\n",
    "    }\n",
    "}))\n",
    "\n",
    "snapshot4 = chart.store()"
   ]
  },
  {
   "cell_type": "markdown",
   "id": "b45e96b6",
   "metadata": {},
   "source": [
    "Setting the title paddings back to their default values."
   ]
  },
  {
   "cell_type": "code",
   "execution_count": 5,
   "id": "d58b14d9",
   "metadata": {},
   "outputs": [
    {
     "data": {
      "text/html": [
       "<script id=\"myVizzu_dfd39f2\">\n",
       "    document.inhibitScroll = false;\n",
       "</script>"
      ]
     },
     "metadata": {},
     "output_type": "display_data"
    },
    {
     "data": {
      "text/html": [
       "<script id=\"myVizzu_e0c86b2\">\n",
       "    let display_e0c86b2 = myVizzu_e0c86b2.parentNode.parentNode.style.display;\n",
       "    myVizzu_e0c86b2.parentNode.parentNode.style.display = \"none\";\n",
       "    chart_bab48ff = chart_bab48ff.then(chart => {\n",
       "        if (myVizzu_bab48ff.parentNode && myVizzu_bab48ff.parentNode.parentNode) {\n",
       "            myVizzu_bab48ff.parentNode.parentNode.style.display = \"none\";\n",
       "        }\n",
       "        myVizzu_e0c86b2.parentNode.parentNode.style.display = display_e0c86b2;\n",
       "        myVizzu_e0c86b2.parentNode.insertBefore(myVizzu_bab48ff, myVizzu_e0c86b2);\n",
       "        if (!document.inhibitScroll && true) {\n",
       "            myVizzu_bab48ff.scrollIntoView({behavior: \"auto\", block: \"center\"});\n",
       "        }\n",
       "        return chart.animate(snapshot_4639eb3);\n",
       "    });\n",
       "</script>"
      ]
     },
     "metadata": {},
     "output_type": "display_data"
    },
    {
     "data": {
      "text/html": [
       "<script id=\"myVizzu_aa62a7b\">\n",
       "    let display_aa62a7b = myVizzu_aa62a7b.parentNode.parentNode.style.display;\n",
       "    myVizzu_aa62a7b.parentNode.parentNode.style.display = \"none\";\n",
       "    chart_bab48ff = chart_bab48ff.then(chart => {\n",
       "        if (myVizzu_bab48ff.parentNode && myVizzu_bab48ff.parentNode.parentNode) {\n",
       "            myVizzu_bab48ff.parentNode.parentNode.style.display = \"none\";\n",
       "        }\n",
       "        myVizzu_aa62a7b.parentNode.parentNode.style.display = display_aa62a7b;\n",
       "        myVizzu_aa62a7b.parentNode.insertBefore(myVizzu_bab48ff, myVizzu_aa62a7b);\n",
       "        if (!document.inhibitScroll && true) {\n",
       "            myVizzu_bab48ff.scrollIntoView({behavior: \"auto\", block: \"center\"});\n",
       "        }\n",
       "        return chart.animate({\"style\": {\"title\": {\"paddingTop\": null, \"paddingBottom\": null, \"paddingLeft\": null}}});\n",
       "    });\n",
       "</script>"
      ]
     },
     "metadata": {},
     "output_type": "display_data"
    },
    {
     "data": {
      "text/html": [
       "<script id=\"myVizzu_a77261e\">\n",
       "    myVizzu_a77261e.parentNode.parentNode.style.display = \"none\";\n",
       "    let snapshot_a77261e;\n",
       "    chart_bab48ff = chart_bab48ff.then(chart => {\n",
       "        snapshot_a77261e = chart.store();\n",
       "        return chart;\n",
       "    });\n",
       "</script>"
      ]
     },
     "metadata": {},
     "output_type": "display_data"
    }
   ],
   "source": [
    "chart.animate(snapshot4)\n",
    "\n",
    "chart.animate(Style({\n",
    "    \"title\": {\n",
    "        \"paddingTop\": None,\n",
    "        \"paddingBottom\": None,\n",
    "        \"paddingLeft\": None\n",
    "    }\n",
    "}))\n",
    "\n",
    "snapshot5 = chart.store()"
   ]
  },
  {
   "cell_type": "markdown",
   "id": "6af0c821",
   "metadata": {},
   "source": [
    "Changing the paddings of the plot area to position the plot. The texts on the axes are drawn on the padding of the plot and not the plot itself."
   ]
  },
  {
   "cell_type": "code",
   "execution_count": 6,
   "id": "054257d1",
   "metadata": {},
   "outputs": [
    {
     "data": {
      "text/html": [
       "<script id=\"myVizzu_5fdc3b4\">\n",
       "    document.inhibitScroll = false;\n",
       "</script>"
      ]
     },
     "metadata": {},
     "output_type": "display_data"
    },
    {
     "data": {
      "text/html": [
       "<script id=\"myVizzu_f80cdf4\">\n",
       "    let display_f80cdf4 = myVizzu_f80cdf4.parentNode.parentNode.style.display;\n",
       "    myVizzu_f80cdf4.parentNode.parentNode.style.display = \"none\";\n",
       "    chart_bab48ff = chart_bab48ff.then(chart => {\n",
       "        if (myVizzu_bab48ff.parentNode && myVizzu_bab48ff.parentNode.parentNode) {\n",
       "            myVizzu_bab48ff.parentNode.parentNode.style.display = \"none\";\n",
       "        }\n",
       "        myVizzu_f80cdf4.parentNode.parentNode.style.display = display_f80cdf4;\n",
       "        myVizzu_f80cdf4.parentNode.insertBefore(myVizzu_bab48ff, myVizzu_f80cdf4);\n",
       "        if (!document.inhibitScroll && true) {\n",
       "            myVizzu_bab48ff.scrollIntoView({behavior: \"auto\", block: \"center\"});\n",
       "        }\n",
       "        return chart.animate(snapshot_a77261e);\n",
       "    });\n",
       "</script>"
      ]
     },
     "metadata": {},
     "output_type": "display_data"
    },
    {
     "data": {
      "text/html": [
       "<script id=\"myVizzu_a82ca99\">\n",
       "    let display_a82ca99 = myVizzu_a82ca99.parentNode.parentNode.style.display;\n",
       "    myVizzu_a82ca99.parentNode.parentNode.style.display = \"none\";\n",
       "    chart_bab48ff = chart_bab48ff.then(chart => {\n",
       "        if (myVizzu_bab48ff.parentNode && myVizzu_bab48ff.parentNode.parentNode) {\n",
       "            myVizzu_bab48ff.parentNode.parentNode.style.display = \"none\";\n",
       "        }\n",
       "        myVizzu_a82ca99.parentNode.parentNode.style.display = display_a82ca99;\n",
       "        myVizzu_a82ca99.parentNode.insertBefore(myVizzu_bab48ff, myVizzu_a82ca99);\n",
       "        if (!document.inhibitScroll && true) {\n",
       "            myVizzu_bab48ff.scrollIntoView({behavior: \"auto\", block: \"center\"});\n",
       "        }\n",
       "        return chart.animate({\"config\": {\"title\": \"Plot padding\"}});\n",
       "    });\n",
       "</script>"
      ]
     },
     "metadata": {},
     "output_type": "display_data"
    },
    {
     "data": {
      "text/html": [
       "<script id=\"myVizzu_24f693b\">\n",
       "    let display_24f693b = myVizzu_24f693b.parentNode.parentNode.style.display;\n",
       "    myVizzu_24f693b.parentNode.parentNode.style.display = \"none\";\n",
       "    chart_bab48ff = chart_bab48ff.then(chart => {\n",
       "        if (myVizzu_bab48ff.parentNode && myVizzu_bab48ff.parentNode.parentNode) {\n",
       "            myVizzu_bab48ff.parentNode.parentNode.style.display = \"none\";\n",
       "        }\n",
       "        myVizzu_24f693b.parentNode.parentNode.style.display = display_24f693b;\n",
       "        myVizzu_24f693b.parentNode.insertBefore(myVizzu_bab48ff, myVizzu_24f693b);\n",
       "        if (!document.inhibitScroll && true) {\n",
       "            myVizzu_bab48ff.scrollIntoView({behavior: \"auto\", block: \"center\"});\n",
       "        }\n",
       "        return chart.animate({\"style\": {\"plot\": {\"paddingLeft\": 100, \"paddingRight\": 100}}});\n",
       "    });\n",
       "</script>"
      ]
     },
     "metadata": {},
     "output_type": "display_data"
    },
    {
     "data": {
      "text/html": [
       "<script id=\"myVizzu_d40a047\">\n",
       "    myVizzu_d40a047.parentNode.parentNode.style.display = \"none\";\n",
       "    let snapshot_d40a047;\n",
       "    chart_bab48ff = chart_bab48ff.then(chart => {\n",
       "        snapshot_d40a047 = chart.store();\n",
       "        return chart;\n",
       "    });\n",
       "</script>"
      ]
     },
     "metadata": {},
     "output_type": "display_data"
    }
   ],
   "source": [
    "chart.animate(snapshot5)\n",
    "\n",
    "chart.animate(Config({\"title\": \"Plot padding\"}))\n",
    "\n",
    "chart.animate(Style({\n",
    "    \"plot\": {\n",
    "        \"paddingLeft\": 100,\n",
    "        \"paddingRight\": 100\n",
    "    }\n",
    "}))\n",
    "\n",
    "snapshot6 = chart.store()"
   ]
  },
  {
   "cell_type": "markdown",
   "id": "9e4b5dad",
   "metadata": {},
   "source": [
    "Setting the plot paddings back to their default values."
   ]
  },
  {
   "cell_type": "code",
   "execution_count": 7,
   "id": "28536d66",
   "metadata": {},
   "outputs": [
    {
     "data": {
      "text/html": [
       "<script id=\"myVizzu_b2e9264\">\n",
       "    document.inhibitScroll = false;\n",
       "</script>"
      ]
     },
     "metadata": {},
     "output_type": "display_data"
    },
    {
     "data": {
      "text/html": [
       "<script id=\"myVizzu_4dce8e9\">\n",
       "    let display_4dce8e9 = myVizzu_4dce8e9.parentNode.parentNode.style.display;\n",
       "    myVizzu_4dce8e9.parentNode.parentNode.style.display = \"none\";\n",
       "    chart_bab48ff = chart_bab48ff.then(chart => {\n",
       "        if (myVizzu_bab48ff.parentNode && myVizzu_bab48ff.parentNode.parentNode) {\n",
       "            myVizzu_bab48ff.parentNode.parentNode.style.display = \"none\";\n",
       "        }\n",
       "        myVizzu_4dce8e9.parentNode.parentNode.style.display = display_4dce8e9;\n",
       "        myVizzu_4dce8e9.parentNode.insertBefore(myVizzu_bab48ff, myVizzu_4dce8e9);\n",
       "        if (!document.inhibitScroll && true) {\n",
       "            myVizzu_bab48ff.scrollIntoView({behavior: \"auto\", block: \"center\"});\n",
       "        }\n",
       "        return chart.animate(snapshot_d40a047);\n",
       "    });\n",
       "</script>"
      ]
     },
     "metadata": {},
     "output_type": "display_data"
    },
    {
     "data": {
      "text/html": [
       "<script id=\"myVizzu_a35ff55\">\n",
       "    let display_a35ff55 = myVizzu_a35ff55.parentNode.parentNode.style.display;\n",
       "    myVizzu_a35ff55.parentNode.parentNode.style.display = \"none\";\n",
       "    chart_bab48ff = chart_bab48ff.then(chart => {\n",
       "        if (myVizzu_bab48ff.parentNode && myVizzu_bab48ff.parentNode.parentNode) {\n",
       "            myVizzu_bab48ff.parentNode.parentNode.style.display = \"none\";\n",
       "        }\n",
       "        myVizzu_a35ff55.parentNode.parentNode.style.display = display_a35ff55;\n",
       "        myVizzu_a35ff55.parentNode.insertBefore(myVizzu_bab48ff, myVizzu_a35ff55);\n",
       "        if (!document.inhibitScroll && true) {\n",
       "            myVizzu_bab48ff.scrollIntoView({behavior: \"auto\", block: \"center\"});\n",
       "        }\n",
       "        return chart.animate({\"style\": {\"plot\": {\"paddingLeft\": null, \"paddingRight\": null}}});\n",
       "    });\n",
       "</script>"
      ]
     },
     "metadata": {},
     "output_type": "display_data"
    }
   ],
   "source": [
    "chart.animate(snapshot6)\n",
    "\n",
    "chart.animate(Style({\n",
    "    \"plot\": {\n",
    "        \"paddingLeft\": None,\n",
    "        \"paddingRight\": None\n",
    "    }\n",
    "}))"
   ]
  }
 ],
 "metadata": {
  "kernelspec": {
   "display_name": ".venv",
   "language": "python",
   "name": ".venv"
  },
  "language_info": {
   "codemirror_mode": {
    "name": "ipython",
    "version": 3
   },
   "file_extension": ".py",
   "mimetype": "text/x-python",
   "name": "python",
   "nbconvert_exporter": "python",
   "pygments_lexer": "ipython3",
   "version": "3.8.10"
  }
 },
 "nbformat": 4,
 "nbformat_minor": 5
}
