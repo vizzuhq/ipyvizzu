{
 "cells": [
  {
   "cell_type": "markdown",
   "id": "22efdcb5",
   "metadata": {},
   "source": [
    "## Channels & legend\n",
    "\n",
    "Besides the x-axis and the y-axis, there are five more channels in Vizzu you can use to visualize your data. Similarly to the axes you can put any number of dimensions and/or one measure to a channel. In the following example the four most commonly used channels are shown. The fifth, noop channel is introduced later in the Without coordinates & noop channel chapter.\n",
    "\n",
    "Data on the label channel will be written on the markers on the chart. Vizzu automatically determines the best way to position these labels, but you can set them differently with the style object introduced in the Color palette & fonts chapter."
   ]
  },
  {
   "cell_type": "code",
   "execution_count": 1,
   "id": "3a2e88db",
   "metadata": {},
   "outputs": [
    {
     "data": {
      "text/html": [
       "<script id=\"myVizzu_c36a58c\">\n",
       "    document.inhibitScroll = false;\n",
       "    document.addEventListener('wheel', function (evt) { document.inhibitScroll = true }, true);\n",
       "    document.addEventListener('keydown', function (evt) { document.inhibitScroll = true }, true);\n",
       "    document.addEventListener('touchstart', function (evt) { document.inhibitScroll = true }, true);\n",
       "    let myVizzu_08692fe = document.createElement(\"div\");\n",
       "    myVizzu_08692fe.style.cssText = \"width: 800px; height: 480px;\";\n",
       "    let chart_08692fe = import(\"https://cdn.jsdelivr.net/npm/vizzu@~0.4.0/dist/vizzu.min.js\").then(Vizzu => new Vizzu.default(myVizzu_08692fe).initializing);\n",
       "    myVizzu_c36a58c.parentNode.insertBefore(myVizzu_08692fe, myVizzu_c36a58c);\n",
       "</script>"
      ]
     },
     "metadata": {},
     "output_type": "display_data"
    },
    {
     "data": {
      "text/html": [
       "<script id=\"myVizzu_5b4355b\">\n",
       "    let display_5b4355b = myVizzu_5b4355b.parentNode.parentNode.style.display;\n",
       "    myVizzu_5b4355b.parentNode.parentNode.style.display = \"none\";\n",
       "    chart_08692fe = chart_08692fe.then(chart => {\n",
       "        if (myVizzu_08692fe.parentNode && myVizzu_08692fe.parentNode.parentNode) {\n",
       "            myVizzu_08692fe.parentNode.parentNode.style.display = \"none\";\n",
       "        }\n",
       "        myVizzu_5b4355b.parentNode.parentNode.style.display = display_5b4355b;\n",
       "        myVizzu_5b4355b.parentNode.insertBefore(myVizzu_08692fe, myVizzu_5b4355b);\n",
       "        if (!document.inhibitScroll && true) {\n",
       "            myVizzu_08692fe.scrollIntoView({behavior: \"auto\", block: \"center\"});\n",
       "        }\n",
       "        return chart.animate({\"data\": {\"dimensions\": [{\"name\": \"Genres\", \"values\": [\"Pop\", \"Rock\", \"Jazz\", \"Metal\"]}, {\"name\": \"Types\", \"values\": [\"Hard\", \"Smooth\", \"Experimental\"]}], \"measures\": [{\"name\": \"Popularity\", \"values\": [[114, 96, 78, 52], [56, 36, 174, 121], [127, 83, 94, 58]]}]}});\n",
       "    });\n",
       "</script>"
      ]
     },
     "metadata": {},
     "output_type": "display_data"
    },
    {
     "data": {
      "text/html": [
       "<script id=\"myVizzu_825d39e\">\n",
       "    let display_825d39e = myVizzu_825d39e.parentNode.parentNode.style.display;\n",
       "    myVizzu_825d39e.parentNode.parentNode.style.display = \"none\";\n",
       "    chart_08692fe = chart_08692fe.then(chart => {\n",
       "        if (myVizzu_08692fe.parentNode && myVizzu_08692fe.parentNode.parentNode) {\n",
       "            myVizzu_08692fe.parentNode.parentNode.style.display = \"none\";\n",
       "        }\n",
       "        myVizzu_825d39e.parentNode.parentNode.style.display = display_825d39e;\n",
       "        myVizzu_825d39e.parentNode.insertBefore(myVizzu_08692fe, myVizzu_825d39e);\n",
       "        if (!document.inhibitScroll && true) {\n",
       "            myVizzu_08692fe.scrollIntoView({behavior: \"auto\", block: \"center\"});\n",
       "        }\n",
       "        return chart.animate({\"config\": {\"channels\": {\"y\": {\"set\": \"Popularity\"}, \"x\": {\"set\": \"Genres\"}}, \"title\": \"Label\"}});\n",
       "    });\n",
       "</script>"
      ]
     },
     "metadata": {},
     "output_type": "display_data"
    },
    {
     "data": {
      "text/html": [
       "<script id=\"myVizzu_0b601aa\">\n",
       "    let display_0b601aa = myVizzu_0b601aa.parentNode.parentNode.style.display;\n",
       "    myVizzu_0b601aa.parentNode.parentNode.style.display = \"none\";\n",
       "    chart_08692fe = chart_08692fe.then(chart => {\n",
       "        if (myVizzu_08692fe.parentNode && myVizzu_08692fe.parentNode.parentNode) {\n",
       "            myVizzu_08692fe.parentNode.parentNode.style.display = \"none\";\n",
       "        }\n",
       "        myVizzu_0b601aa.parentNode.parentNode.style.display = display_0b601aa;\n",
       "        myVizzu_0b601aa.parentNode.insertBefore(myVizzu_08692fe, myVizzu_0b601aa);\n",
       "        if (!document.inhibitScroll && true) {\n",
       "            myVizzu_08692fe.scrollIntoView({behavior: \"auto\", block: \"center\"});\n",
       "        }\n",
       "        return chart.animate({\"config\": {\"channels\": {\"label\": {\"attach\": \"Popularity\"}}}});\n",
       "    });\n",
       "</script>"
      ]
     },
     "metadata": {},
     "output_type": "display_data"
    },
    {
     "data": {
      "text/html": [
       "<script id=\"myVizzu_3eb04c3\">\n",
       "    myVizzu_3eb04c3.parentNode.parentNode.style.display = \"none\";\n",
       "    let snapshot_3eb04c3;\n",
       "    chart_08692fe = chart_08692fe.then(chart => {\n",
       "        snapshot_3eb04c3 = chart.store();\n",
       "        return chart;\n",
       "    });\n",
       "</script>"
      ]
     },
     "metadata": {},
     "output_type": "display_data"
    }
   ],
   "source": [
    "from ipyvizzu import Chart, Data, Config\n",
    "\n",
    "chart = Chart()\n",
    "\n",
    "data = Data.from_json(\"./music_data.json\")\n",
    "\n",
    "chart.animate(data)\n",
    "\n",
    "chart.animate(Config({\n",
    "    \"channels\": {\n",
    "        \"y\": {\n",
    "            \"set\": \"Popularity\"\n",
    "        }, \n",
    "        \"x\": {\n",
    "            \"set\": \"Genres\"\n",
    "        }\n",
    "    }, \n",
    "    \"title\": \"Label\"\n",
    "}))\n",
    "\n",
    "chart.animate(Config({\n",
    "    \"channels\": {\n",
    "        \"label\": {\n",
    "            \"attach\": \"Popularity\"\n",
    "        }\n",
    "    }\n",
    "}))\n",
    "\n",
    "snapshot1 = chart.store()"
   ]
  },
  {
   "cell_type": "markdown",
   "id": "077a2b92",
   "metadata": {},
   "source": [
    "The lightness channel sets the lightness of the markers. In this case the same measure (Popularity) is added to it that is on the y-axis, meaning that columns’ height and lightness represent the same values. The legend for the lightness channel is turned on using the legend property.\n",
    "\n",
    "Note: This is an example when we explicitly instruct Vizzu to show the legend. By default Vizzu automatically shows/hides the legend when it's necessary. You can also turn it off with the legend : null command or set back to automatic mode with legend : 'auto'."
   ]
  },
  {
   "cell_type": "code",
   "execution_count": 2,
   "id": "2b42bdfd",
   "metadata": {},
   "outputs": [
    {
     "data": {
      "text/html": [
       "<script id=\"myVizzu_9fbb3c1\">\n",
       "    document.inhibitScroll = false;\n",
       "</script>"
      ]
     },
     "metadata": {},
     "output_type": "display_data"
    },
    {
     "data": {
      "text/html": [
       "<script id=\"myVizzu_f9f4208\">\n",
       "    let display_f9f4208 = myVizzu_f9f4208.parentNode.parentNode.style.display;\n",
       "    myVizzu_f9f4208.parentNode.parentNode.style.display = \"none\";\n",
       "    chart_08692fe = chart_08692fe.then(chart => {\n",
       "        if (myVizzu_08692fe.parentNode && myVizzu_08692fe.parentNode.parentNode) {\n",
       "            myVizzu_08692fe.parentNode.parentNode.style.display = \"none\";\n",
       "        }\n",
       "        myVizzu_f9f4208.parentNode.parentNode.style.display = display_f9f4208;\n",
       "        myVizzu_f9f4208.parentNode.insertBefore(myVizzu_08692fe, myVizzu_f9f4208);\n",
       "        if (!document.inhibitScroll && true) {\n",
       "            myVizzu_08692fe.scrollIntoView({behavior: \"auto\", block: \"center\"});\n",
       "        }\n",
       "        return chart.animate(snapshot_3eb04c3);\n",
       "    });\n",
       "</script>"
      ]
     },
     "metadata": {},
     "output_type": "display_data"
    },
    {
     "data": {
      "text/html": [
       "<script id=\"myVizzu_f5411c9\">\n",
       "    let display_f5411c9 = myVizzu_f5411c9.parentNode.parentNode.style.display;\n",
       "    myVizzu_f5411c9.parentNode.parentNode.style.display = \"none\";\n",
       "    chart_08692fe = chart_08692fe.then(chart => {\n",
       "        if (myVizzu_08692fe.parentNode && myVizzu_08692fe.parentNode.parentNode) {\n",
       "            myVizzu_08692fe.parentNode.parentNode.style.display = \"none\";\n",
       "        }\n",
       "        myVizzu_f5411c9.parentNode.parentNode.style.display = display_f5411c9;\n",
       "        myVizzu_f5411c9.parentNode.insertBefore(myVizzu_08692fe, myVizzu_f5411c9);\n",
       "        if (!document.inhibitScroll && true) {\n",
       "            myVizzu_08692fe.scrollIntoView({behavior: \"auto\", block: \"center\"});\n",
       "        }\n",
       "        return chart.animate({\"config\": {\"title\": \"Lightness - legend on\"}});\n",
       "    });\n",
       "</script>"
      ]
     },
     "metadata": {},
     "output_type": "display_data"
    },
    {
     "data": {
      "text/html": [
       "<script id=\"myVizzu_8ab2d29\">\n",
       "    let display_8ab2d29 = myVizzu_8ab2d29.parentNode.parentNode.style.display;\n",
       "    myVizzu_8ab2d29.parentNode.parentNode.style.display = \"none\";\n",
       "    chart_08692fe = chart_08692fe.then(chart => {\n",
       "        if (myVizzu_08692fe.parentNode && myVizzu_08692fe.parentNode.parentNode) {\n",
       "            myVizzu_08692fe.parentNode.parentNode.style.display = \"none\";\n",
       "        }\n",
       "        myVizzu_8ab2d29.parentNode.parentNode.style.display = display_8ab2d29;\n",
       "        myVizzu_8ab2d29.parentNode.insertBefore(myVizzu_08692fe, myVizzu_8ab2d29);\n",
       "        if (!document.inhibitScroll && true) {\n",
       "            myVizzu_08692fe.scrollIntoView({behavior: \"auto\", block: \"center\"});\n",
       "        }\n",
       "        return chart.animate({\"config\": {\"channels\": {\"lightness\": {\"attach\": \"Popularity\"}}, \"legend\": \"lightness\"}});\n",
       "    });\n",
       "</script>"
      ]
     },
     "metadata": {},
     "output_type": "display_data"
    },
    {
     "data": {
      "text/html": [
       "<script id=\"myVizzu_546b39b\">\n",
       "    myVizzu_546b39b.parentNode.parentNode.style.display = \"none\";\n",
       "    let snapshot_546b39b;\n",
       "    chart_08692fe = chart_08692fe.then(chart => {\n",
       "        snapshot_546b39b = chart.store();\n",
       "        return chart;\n",
       "    });\n",
       "</script>"
      ]
     },
     "metadata": {},
     "output_type": "display_data"
    }
   ],
   "source": [
    "chart.animate(snapshot1)\n",
    "\n",
    "chart.animate(Config({\"title\": \"Lightness - legend on\"}))\n",
    "\n",
    "chart.animate(Config({\n",
    "    \"channels\": {\n",
    "        \"lightness\": {\n",
    "            \"attach\": \"Popularity\"\n",
    "        }\n",
    "    },\n",
    "    \"legend\": \"lightness\"\n",
    "}))\n",
    "\n",
    "snapshot2 = chart.store()"
   ]
  },
  {
   "cell_type": "markdown",
   "id": "33b46377",
   "metadata": {},
   "source": [
    "The color channel sets the color of the markers. The same dimension (Genres) is put on it that is on the x-axis resulting in each bar having a different color. If a measure is put on the color channel, a color range will be used.\n",
    "\n",
    "Note: The value on the lightness channel is removed in this step as it doesn’t make sense to use it together with the color channel in this case."
   ]
  },
  {
   "cell_type": "code",
   "execution_count": 3,
   "id": "1b4481a7",
   "metadata": {},
   "outputs": [
    {
     "data": {
      "text/html": [
       "<script id=\"myVizzu_8272e39\">\n",
       "    document.inhibitScroll = false;\n",
       "</script>"
      ]
     },
     "metadata": {},
     "output_type": "display_data"
    },
    {
     "data": {
      "text/html": [
       "<script id=\"myVizzu_54df9a1\">\n",
       "    let display_54df9a1 = myVizzu_54df9a1.parentNode.parentNode.style.display;\n",
       "    myVizzu_54df9a1.parentNode.parentNode.style.display = \"none\";\n",
       "    chart_08692fe = chart_08692fe.then(chart => {\n",
       "        if (myVizzu_08692fe.parentNode && myVizzu_08692fe.parentNode.parentNode) {\n",
       "            myVizzu_08692fe.parentNode.parentNode.style.display = \"none\";\n",
       "        }\n",
       "        myVizzu_54df9a1.parentNode.parentNode.style.display = display_54df9a1;\n",
       "        myVizzu_54df9a1.parentNode.insertBefore(myVizzu_08692fe, myVizzu_54df9a1);\n",
       "        if (!document.inhibitScroll && true) {\n",
       "            myVizzu_08692fe.scrollIntoView({behavior: \"auto\", block: \"center\"});\n",
       "        }\n",
       "        return chart.animate(snapshot_546b39b);\n",
       "    });\n",
       "</script>"
      ]
     },
     "metadata": {},
     "output_type": "display_data"
    },
    {
     "data": {
      "text/html": [
       "<script id=\"myVizzu_5afe128\">\n",
       "    let display_5afe128 = myVizzu_5afe128.parentNode.parentNode.style.display;\n",
       "    myVizzu_5afe128.parentNode.parentNode.style.display = \"none\";\n",
       "    chart_08692fe = chart_08692fe.then(chart => {\n",
       "        if (myVizzu_08692fe.parentNode && myVizzu_08692fe.parentNode.parentNode) {\n",
       "            myVizzu_08692fe.parentNode.parentNode.style.display = \"none\";\n",
       "        }\n",
       "        myVizzu_5afe128.parentNode.parentNode.style.display = display_5afe128;\n",
       "        myVizzu_5afe128.parentNode.insertBefore(myVizzu_08692fe, myVizzu_5afe128);\n",
       "        if (!document.inhibitScroll && true) {\n",
       "            myVizzu_08692fe.scrollIntoView({behavior: \"auto\", block: \"center\"});\n",
       "        }\n",
       "        return chart.animate({\"config\": {\"title\": \"Color\"}});\n",
       "    });\n",
       "</script>"
      ]
     },
     "metadata": {},
     "output_type": "display_data"
    },
    {
     "data": {
      "text/html": [
       "<script id=\"myVizzu_8b434d2\">\n",
       "    let display_8b434d2 = myVizzu_8b434d2.parentNode.parentNode.style.display;\n",
       "    myVizzu_8b434d2.parentNode.parentNode.style.display = \"none\";\n",
       "    chart_08692fe = chart_08692fe.then(chart => {\n",
       "        if (myVizzu_08692fe.parentNode && myVizzu_08692fe.parentNode.parentNode) {\n",
       "            myVizzu_08692fe.parentNode.parentNode.style.display = \"none\";\n",
       "        }\n",
       "        myVizzu_8b434d2.parentNode.parentNode.style.display = display_8b434d2;\n",
       "        myVizzu_8b434d2.parentNode.insertBefore(myVizzu_08692fe, myVizzu_8b434d2);\n",
       "        if (!document.inhibitScroll && true) {\n",
       "            myVizzu_08692fe.scrollIntoView({behavior: \"auto\", block: \"center\"});\n",
       "        }\n",
       "        return chart.animate({\"config\": {\"channels\": {\"color\": {\"attach\": \"Genres\"}}, \"legend\": \"color\"}});\n",
       "    });\n",
       "</script>"
      ]
     },
     "metadata": {},
     "output_type": "display_data"
    },
    {
     "data": {
      "text/html": [
       "<script id=\"myVizzu_8786b0f\">\n",
       "    myVizzu_8786b0f.parentNode.parentNode.style.display = \"none\";\n",
       "    let snapshot_8786b0f;\n",
       "    chart_08692fe = chart_08692fe.then(chart => {\n",
       "        snapshot_8786b0f = chart.store();\n",
       "        return chart;\n",
       "    });\n",
       "</script>"
      ]
     },
     "metadata": {},
     "output_type": "display_data"
    }
   ],
   "source": [
    "chart.animate(snapshot2)\n",
    "\n",
    "chart.animate(Config({\"title\": \"Color\"}))\n",
    "\n",
    "chart.animate(Config({\n",
    "    \"channels\": {\n",
    "        \"color\": {\n",
    "            \"attach\": \"Genres\"\n",
    "        }\n",
    "    },\n",
    "    \"legend\": \"color\"\n",
    "}))\n",
    "\n",
    "snapshot3 = chart.store()"
   ]
  },
  {
   "cell_type": "markdown",
   "id": "b8d322e5",
   "metadata": {},
   "source": [
    "The size channel sets the size of the markers if the geometry is circle - where size sets the radius of the circles - or line - where size determines line width. It is ignored when using rectangle or area geometry. This is why we change the geometry to circle in the example."
   ]
  },
  {
   "cell_type": "code",
   "execution_count": 4,
   "id": "4d951e6b",
   "metadata": {},
   "outputs": [
    {
     "data": {
      "text/html": [
       "<script id=\"myVizzu_3626870\">\n",
       "    document.inhibitScroll = false;\n",
       "</script>"
      ]
     },
     "metadata": {},
     "output_type": "display_data"
    },
    {
     "data": {
      "text/html": [
       "<script id=\"myVizzu_7d41c09\">\n",
       "    let display_7d41c09 = myVizzu_7d41c09.parentNode.parentNode.style.display;\n",
       "    myVizzu_7d41c09.parentNode.parentNode.style.display = \"none\";\n",
       "    chart_08692fe = chart_08692fe.then(chart => {\n",
       "        if (myVizzu_08692fe.parentNode && myVizzu_08692fe.parentNode.parentNode) {\n",
       "            myVizzu_08692fe.parentNode.parentNode.style.display = \"none\";\n",
       "        }\n",
       "        myVizzu_7d41c09.parentNode.parentNode.style.display = display_7d41c09;\n",
       "        myVizzu_7d41c09.parentNode.insertBefore(myVizzu_08692fe, myVizzu_7d41c09);\n",
       "        if (!document.inhibitScroll && true) {\n",
       "            myVizzu_08692fe.scrollIntoView({behavior: \"auto\", block: \"center\"});\n",
       "        }\n",
       "        return chart.animate(snapshot_8786b0f);\n",
       "    });\n",
       "</script>"
      ]
     },
     "metadata": {},
     "output_type": "display_data"
    },
    {
     "data": {
      "text/html": [
       "<script id=\"myVizzu_a7e9c4b\">\n",
       "    let display_a7e9c4b = myVizzu_a7e9c4b.parentNode.parentNode.style.display;\n",
       "    myVizzu_a7e9c4b.parentNode.parentNode.style.display = \"none\";\n",
       "    chart_08692fe = chart_08692fe.then(chart => {\n",
       "        if (myVizzu_08692fe.parentNode && myVizzu_08692fe.parentNode.parentNode) {\n",
       "            myVizzu_08692fe.parentNode.parentNode.style.display = \"none\";\n",
       "        }\n",
       "        myVizzu_a7e9c4b.parentNode.parentNode.style.display = display_a7e9c4b;\n",
       "        myVizzu_a7e9c4b.parentNode.insertBefore(myVizzu_08692fe, myVizzu_a7e9c4b);\n",
       "        if (!document.inhibitScroll && true) {\n",
       "            myVizzu_08692fe.scrollIntoView({behavior: \"auto\", block: \"center\"});\n",
       "        }\n",
       "        return chart.animate({\"config\": {\"title\": \"Size - change of geometry required\"}});\n",
       "    });\n",
       "</script>"
      ]
     },
     "metadata": {},
     "output_type": "display_data"
    },
    {
     "data": {
      "text/html": [
       "<script id=\"myVizzu_615e6f9\">\n",
       "    let display_615e6f9 = myVizzu_615e6f9.parentNode.parentNode.style.display;\n",
       "    myVizzu_615e6f9.parentNode.parentNode.style.display = \"none\";\n",
       "    chart_08692fe = chart_08692fe.then(chart => {\n",
       "        if (myVizzu_08692fe.parentNode && myVizzu_08692fe.parentNode.parentNode) {\n",
       "            myVizzu_08692fe.parentNode.parentNode.style.display = \"none\";\n",
       "        }\n",
       "        myVizzu_615e6f9.parentNode.parentNode.style.display = display_615e6f9;\n",
       "        myVizzu_615e6f9.parentNode.insertBefore(myVizzu_08692fe, myVizzu_615e6f9);\n",
       "        if (!document.inhibitScroll && true) {\n",
       "            myVizzu_08692fe.scrollIntoView({behavior: \"auto\", block: \"center\"});\n",
       "        }\n",
       "        return chart.animate({\"config\": {\"channels\": {\"size\": {\"set\": \"Popularity\"}}, \"geometry\": \"circle\"}});\n",
       "    });\n",
       "</script>"
      ]
     },
     "metadata": {},
     "output_type": "display_data"
    }
   ],
   "source": [
    "chart.animate(snapshot3)\n",
    "\n",
    "chart.animate(Config({\"title\": \"Size - change of geometry required\"}))\n",
    "\n",
    "chart.animate(Config({\n",
    "    \"channels\": {\n",
    "        \"size\": {\n",
    "            \"set\": \"Popularity\"\n",
    "        }\n",
    "    },\n",
    "    \"geometry\": \"circle\"\n",
    "}))"
   ]
  }
 ],
 "metadata": {
  "kernelspec": {
   "display_name": ".venv",
   "language": "python",
   "name": ".venv"
  },
  "language_info": {
   "codemirror_mode": {
    "name": "ipython",
    "version": 3
   },
   "file_extension": ".py",
   "mimetype": "text/x-python",
   "name": "python",
   "nbconvert_exporter": "python",
   "pygments_lexer": "ipython3",
   "version": "3.8.10"
  }
 },
 "nbformat": 4,
 "nbformat_minor": 5
}
