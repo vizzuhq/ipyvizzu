{
 "cells": [
  {
   "cell_type": "markdown",
   "id": "e582c95b",
   "metadata": {},
   "source": [
    "## Aggregate/drill-down\n",
    "\n",
    "These features basically mean that you add or remove an additional dimension to/from an axis or another channel. As you can see below, there are some important things to keep in mind when you use them.\n",
    "\n",
    "Let’s stack together the elements by putting the Genres dimension from the x-axis to the y-axis. At the end of this phase, there are chart elements with the same color stacked on top of each other, which is something you would want to avoid."
   ]
  },
  {
   "cell_type": "code",
   "execution_count": 1,
   "id": "6cae8fe1",
   "metadata": {},
   "outputs": [
    {
     "data": {
      "text/html": [
       "<script id=\"myVizzu_0b70017\">\n",
       "    document.inhibitScroll = false;\n",
       "    document.addEventListener('wheel', function (evt) { document.inhibitScroll = true }, true);\n",
       "    document.addEventListener('keydown', function (evt) { document.inhibitScroll = true }, true);\n",
       "    document.addEventListener('touchstart', function (evt) { document.inhibitScroll = true }, true);\n",
       "    let myVizzu_e82f675 = document.createElement(\"div\");\n",
       "    myVizzu_e82f675.style.cssText = \"width: 800px; height: 480px;\";\n",
       "    let chart_e82f675 = import(\"https://cdn.jsdelivr.net/npm/vizzu@~0.4.0/dist/vizzu.min.js\").then(Vizzu => new Vizzu.default(myVizzu_e82f675).initializing);\n",
       "    myVizzu_0b70017.parentNode.insertBefore(myVizzu_e82f675, myVizzu_0b70017);\n",
       "</script>"
      ]
     },
     "metadata": {},
     "output_type": "display_data"
    },
    {
     "data": {
      "text/html": [
       "<script id=\"myVizzu_e19178c\">\n",
       "    let display_e19178c = myVizzu_e19178c.parentNode.parentNode.style.display;\n",
       "    myVizzu_e19178c.parentNode.parentNode.style.display = \"none\";\n",
       "    chart_e82f675 = chart_e82f675.then(chart => {\n",
       "        if (myVizzu_e82f675.parentNode && myVizzu_e82f675.parentNode.parentNode) {\n",
       "            myVizzu_e82f675.parentNode.parentNode.style.display = \"none\";\n",
       "        }\n",
       "        myVizzu_e19178c.parentNode.parentNode.style.display = display_e19178c;\n",
       "        myVizzu_e19178c.parentNode.insertBefore(myVizzu_e82f675, myVizzu_e19178c);\n",
       "        if (!document.inhibitScroll && true) {\n",
       "            myVizzu_e82f675.scrollIntoView({behavior: \"auto\", block: \"center\"});\n",
       "        }\n",
       "        return chart.animate({\"data\": {\"dimensions\": [{\"name\": \"Genres\", \"values\": [\"Pop\", \"Rock\", \"Jazz\", \"Metal\"]}, {\"name\": \"Types\", \"values\": [\"Hard\", \"Smooth\", \"Experimental\"]}], \"measures\": [{\"name\": \"Popularity\", \"values\": [[114, 96, 78, 52], [56, 36, 174, 121], [127, 83, 94, 58]]}]}});\n",
       "    });\n",
       "</script>"
      ]
     },
     "metadata": {},
     "output_type": "display_data"
    },
    {
     "data": {
      "text/html": [
       "<script id=\"myVizzu_d8455d3\">\n",
       "    let display_d8455d3 = myVizzu_d8455d3.parentNode.parentNode.style.display;\n",
       "    myVizzu_d8455d3.parentNode.parentNode.style.display = \"none\";\n",
       "    chart_e82f675 = chart_e82f675.then(chart => {\n",
       "        if (myVizzu_e82f675.parentNode && myVizzu_e82f675.parentNode.parentNode) {\n",
       "            myVizzu_e82f675.parentNode.parentNode.style.display = \"none\";\n",
       "        }\n",
       "        myVizzu_d8455d3.parentNode.parentNode.style.display = display_d8455d3;\n",
       "        myVizzu_d8455d3.parentNode.insertBefore(myVizzu_e82f675, myVizzu_d8455d3);\n",
       "        if (!document.inhibitScroll && true) {\n",
       "            myVizzu_e82f675.scrollIntoView({behavior: \"auto\", block: \"center\"});\n",
       "        }\n",
       "        return chart.animate({\"config\": {\"channels\": {\"y\": {\"set\": [\"Popularity\", \"Types\"]}, \"x\": {\"set\": \"Genres\"}, \"label\": {\"attach\": \"Popularity\"}}, \"color\": {\"attach\": \"Types\"}, \"title\": \"Stack\"}});\n",
       "    });\n",
       "</script>"
      ]
     },
     "metadata": {},
     "output_type": "display_data"
    },
    {
     "data": {
      "text/html": [
       "<script id=\"myVizzu_1863825\">\n",
       "    let display_1863825 = myVizzu_1863825.parentNode.parentNode.style.display;\n",
       "    myVizzu_1863825.parentNode.parentNode.style.display = \"none\";\n",
       "    chart_e82f675 = chart_e82f675.then(chart => {\n",
       "        if (myVizzu_e82f675.parentNode && myVizzu_e82f675.parentNode.parentNode) {\n",
       "            myVizzu_e82f675.parentNode.parentNode.style.display = \"none\";\n",
       "        }\n",
       "        myVizzu_1863825.parentNode.parentNode.style.display = display_1863825;\n",
       "        myVizzu_1863825.parentNode.insertBefore(myVizzu_e82f675, myVizzu_1863825);\n",
       "        if (!document.inhibitScroll && true) {\n",
       "            myVizzu_e82f675.scrollIntoView({behavior: \"auto\", block: \"center\"});\n",
       "        }\n",
       "        return chart.animate({\"config\": {\"channels\": {\"y\": {\"attach\": \"Genres\"}, \"x\": {\"set\": null}}}});\n",
       "    });\n",
       "</script>"
      ]
     },
     "metadata": {},
     "output_type": "display_data"
    },
    {
     "data": {
      "text/html": [
       "<script id=\"myVizzu_969fc9a\">\n",
       "    myVizzu_969fc9a.parentNode.parentNode.style.display = \"none\";\n",
       "    let snapshot_969fc9a;\n",
       "    chart_e82f675 = chart_e82f675.then(chart => {\n",
       "        snapshot_969fc9a = chart.store();\n",
       "        return chart;\n",
       "    });\n",
       "</script>"
      ]
     },
     "metadata": {},
     "output_type": "display_data"
    }
   ],
   "source": [
    "from ipyvizzu import Chart, Data, Config\n",
    "\n",
    "chart = Chart()\n",
    "\n",
    "data = Data.from_json(\"./music_data.json\")\n",
    "\n",
    "chart.animate(data)\n",
    "\n",
    "chart.animate(Config({\n",
    "    \"channels\": {\n",
    "        \"y\": {\n",
    "            \"set\": [\"Popularity\", \"Types\"]\n",
    "        }, \n",
    "        \"x\": {\n",
    "            \"set\": \"Genres\"\n",
    "        },\n",
    "        \"label\": {\n",
    "            \"attach\": \"Popularity\"\n",
    "        }\n",
    "    },\n",
    "    \"color\": {\n",
    "        \"attach\": \"Types\"\n",
    "    },\n",
    "    \"title\": \"Stack\"\n",
    "}))\n",
    "\n",
    "chart.animate(Config({\n",
    "    \"channels\": {\n",
    "        \"y\": {\n",
    "            \"attach\": \"Genres\",\n",
    "        },\n",
    "        \"x\": {\n",
    "            \"set\": None\n",
    "        }\n",
    "    }\n",
    "}))\n",
    "\n",
    "snapshot1 = chart.store()"
   ]
  },
  {
   "cell_type": "markdown",
   "id": "5f11abdd",
   "metadata": {},
   "source": [
    "By taking the Genres off of the y-axis, only one chart element remains for every color, and Vizzu automatically calculates and shows the aggregate value of the elements.\n",
    "\n",
    "Note: Instead of taking the unwanted dimension down from the chart, Genres could have been added to the lightness channel to differentiate the chart elements."
   ]
  },
  {
   "cell_type": "code",
   "execution_count": 2,
   "id": "fca41144",
   "metadata": {},
   "outputs": [
    {
     "data": {
      "text/html": [
       "<script id=\"myVizzu_acdde26\">\n",
       "    document.inhibitScroll = false;\n",
       "</script>"
      ]
     },
     "metadata": {},
     "output_type": "display_data"
    },
    {
     "data": {
      "text/html": [
       "<script id=\"myVizzu_703b8da\">\n",
       "    let display_703b8da = myVizzu_703b8da.parentNode.parentNode.style.display;\n",
       "    myVizzu_703b8da.parentNode.parentNode.style.display = \"none\";\n",
       "    chart_e82f675 = chart_e82f675.then(chart => {\n",
       "        if (myVizzu_e82f675.parentNode && myVizzu_e82f675.parentNode.parentNode) {\n",
       "            myVizzu_e82f675.parentNode.parentNode.style.display = \"none\";\n",
       "        }\n",
       "        myVizzu_703b8da.parentNode.parentNode.style.display = display_703b8da;\n",
       "        myVizzu_703b8da.parentNode.insertBefore(myVizzu_e82f675, myVizzu_703b8da);\n",
       "        if (!document.inhibitScroll && true) {\n",
       "            myVizzu_e82f675.scrollIntoView({behavior: \"auto\", block: \"center\"});\n",
       "        }\n",
       "        return chart.animate(snapshot_969fc9a);\n",
       "    });\n",
       "</script>"
      ]
     },
     "metadata": {},
     "output_type": "display_data"
    },
    {
     "data": {
      "text/html": [
       "<script id=\"myVizzu_53a65e7\">\n",
       "    let display_53a65e7 = myVizzu_53a65e7.parentNode.parentNode.style.display;\n",
       "    myVizzu_53a65e7.parentNode.parentNode.style.display = \"none\";\n",
       "    chart_e82f675 = chart_e82f675.then(chart => {\n",
       "        if (myVizzu_e82f675.parentNode && myVizzu_e82f675.parentNode.parentNode) {\n",
       "            myVizzu_e82f675.parentNode.parentNode.style.display = \"none\";\n",
       "        }\n",
       "        myVizzu_53a65e7.parentNode.parentNode.style.display = display_53a65e7;\n",
       "        myVizzu_53a65e7.parentNode.insertBefore(myVizzu_e82f675, myVizzu_53a65e7);\n",
       "        if (!document.inhibitScroll && true) {\n",
       "            myVizzu_e82f675.scrollIntoView({behavior: \"auto\", block: \"center\"});\n",
       "        }\n",
       "        return chart.animate({\"config\": {\"title\": \"Aggregate element\"}});\n",
       "    });\n",
       "</script>"
      ]
     },
     "metadata": {},
     "output_type": "display_data"
    },
    {
     "data": {
      "text/html": [
       "<script id=\"myVizzu_66a61dd\">\n",
       "    let display_66a61dd = myVizzu_66a61dd.parentNode.parentNode.style.display;\n",
       "    myVizzu_66a61dd.parentNode.parentNode.style.display = \"none\";\n",
       "    chart_e82f675 = chart_e82f675.then(chart => {\n",
       "        if (myVizzu_e82f675.parentNode && myVizzu_e82f675.parentNode.parentNode) {\n",
       "            myVizzu_e82f675.parentNode.parentNode.style.display = \"none\";\n",
       "        }\n",
       "        myVizzu_66a61dd.parentNode.parentNode.style.display = display_66a61dd;\n",
       "        myVizzu_66a61dd.parentNode.insertBefore(myVizzu_e82f675, myVizzu_66a61dd);\n",
       "        if (!document.inhibitScroll && true) {\n",
       "            myVizzu_e82f675.scrollIntoView({behavior: \"auto\", block: \"center\"});\n",
       "        }\n",
       "        return chart.animate({\"config\": {\"channels\": {\"y\": {\"detach\": \"Genres\"}}}});\n",
       "    });\n",
       "</script>"
      ]
     },
     "metadata": {},
     "output_type": "display_data"
    },
    {
     "data": {
      "text/html": [
       "<script id=\"myVizzu_589711f\">\n",
       "    myVizzu_589711f.parentNode.parentNode.style.display = \"none\";\n",
       "    let snapshot_589711f;\n",
       "    chart_e82f675 = chart_e82f675.then(chart => {\n",
       "        snapshot_589711f = chart.store();\n",
       "        return chart;\n",
       "    });\n",
       "</script>"
      ]
     },
     "metadata": {},
     "output_type": "display_data"
    }
   ],
   "source": [
    "chart.animate(snapshot1)\n",
    "\n",
    "chart.animate(Config({\"title\": \"Aggregate element\"}))\n",
    "\n",
    "chart.animate(Config({\n",
    "    \"channels\": {\n",
    "        \"y\": {\n",
    "            \"detach\": \"Genres\",\n",
    "        },\n",
    "    }\n",
    "}))\n",
    "\n",
    "snapshot2 = chart.store()"
   ]
  },
  {
   "cell_type": "markdown",
   "id": "4782dfe9",
   "metadata": {},
   "source": [
    "To drill-down, the same dimension is put back on the y-axis, which results in a state that we suggest you to only use temporarily when in transition."
   ]
  },
  {
   "cell_type": "code",
   "execution_count": 3,
   "id": "e99596c4",
   "metadata": {},
   "outputs": [
    {
     "data": {
      "text/html": [
       "<script id=\"myVizzu_dee2aa1\">\n",
       "    document.inhibitScroll = false;\n",
       "</script>"
      ]
     },
     "metadata": {},
     "output_type": "display_data"
    },
    {
     "data": {
      "text/html": [
       "<script id=\"myVizzu_e77321e\">\n",
       "    let display_e77321e = myVizzu_e77321e.parentNode.parentNode.style.display;\n",
       "    myVizzu_e77321e.parentNode.parentNode.style.display = \"none\";\n",
       "    chart_e82f675 = chart_e82f675.then(chart => {\n",
       "        if (myVizzu_e82f675.parentNode && myVizzu_e82f675.parentNode.parentNode) {\n",
       "            myVizzu_e82f675.parentNode.parentNode.style.display = \"none\";\n",
       "        }\n",
       "        myVizzu_e77321e.parentNode.parentNode.style.display = display_e77321e;\n",
       "        myVizzu_e77321e.parentNode.insertBefore(myVizzu_e82f675, myVizzu_e77321e);\n",
       "        if (!document.inhibitScroll && true) {\n",
       "            myVizzu_e82f675.scrollIntoView({behavior: \"auto\", block: \"center\"});\n",
       "        }\n",
       "        return chart.animate(snapshot_589711f);\n",
       "    });\n",
       "</script>"
      ]
     },
     "metadata": {},
     "output_type": "display_data"
    },
    {
     "data": {
      "text/html": [
       "<script id=\"myVizzu_fe319e0\">\n",
       "    let display_fe319e0 = myVizzu_fe319e0.parentNode.parentNode.style.display;\n",
       "    myVizzu_fe319e0.parentNode.parentNode.style.display = \"none\";\n",
       "    chart_e82f675 = chart_e82f675.then(chart => {\n",
       "        if (myVizzu_e82f675.parentNode && myVizzu_e82f675.parentNode.parentNode) {\n",
       "            myVizzu_e82f675.parentNode.parentNode.style.display = \"none\";\n",
       "        }\n",
       "        myVizzu_fe319e0.parentNode.parentNode.style.display = display_fe319e0;\n",
       "        myVizzu_fe319e0.parentNode.insertBefore(myVizzu_e82f675, myVizzu_fe319e0);\n",
       "        if (!document.inhibitScroll && true) {\n",
       "            myVizzu_e82f675.scrollIntoView({behavior: \"auto\", block: \"center\"});\n",
       "        }\n",
       "        return chart.animate({\"config\": {\"title\": \"Drill-down\"}});\n",
       "    });\n",
       "</script>"
      ]
     },
     "metadata": {},
     "output_type": "display_data"
    },
    {
     "data": {
      "text/html": [
       "<script id=\"myVizzu_92d7745\">\n",
       "    let display_92d7745 = myVizzu_92d7745.parentNode.parentNode.style.display;\n",
       "    myVizzu_92d7745.parentNode.parentNode.style.display = \"none\";\n",
       "    chart_e82f675 = chart_e82f675.then(chart => {\n",
       "        if (myVizzu_e82f675.parentNode && myVizzu_e82f675.parentNode.parentNode) {\n",
       "            myVizzu_e82f675.parentNode.parentNode.style.display = \"none\";\n",
       "        }\n",
       "        myVizzu_92d7745.parentNode.parentNode.style.display = display_92d7745;\n",
       "        myVizzu_92d7745.parentNode.insertBefore(myVizzu_e82f675, myVizzu_92d7745);\n",
       "        if (!document.inhibitScroll && true) {\n",
       "            myVizzu_e82f675.scrollIntoView({behavior: \"auto\", block: \"center\"});\n",
       "        }\n",
       "        return chart.animate({\"config\": {\"channels\": {\"y\": {\"attach\": \"Genres\"}}}});\n",
       "    });\n",
       "</script>"
      ]
     },
     "metadata": {},
     "output_type": "display_data"
    },
    {
     "data": {
      "text/html": [
       "<script id=\"myVizzu_6da6ad0\">\n",
       "    myVizzu_6da6ad0.parentNode.parentNode.style.display = \"none\";\n",
       "    let snapshot_6da6ad0;\n",
       "    chart_e82f675 = chart_e82f675.then(chart => {\n",
       "        snapshot_6da6ad0 = chart.store();\n",
       "        return chart;\n",
       "    });\n",
       "</script>"
      ]
     },
     "metadata": {},
     "output_type": "display_data"
    }
   ],
   "source": [
    "chart.animate(snapshot2)\n",
    "\n",
    "chart.animate(Config({\"title\": \"Drill-down\"}))\n",
    "\n",
    "chart.animate(Config({\n",
    "    \"channels\": {\n",
    "        \"y\": {\n",
    "            \"attach\": \"Genres\",\n",
    "        },\n",
    "    }\n",
    "}))\n",
    "\n",
    "snapshot3 = chart.store()"
   ]
  },
  {
   "cell_type": "markdown",
   "id": "f971cdc5",
   "metadata": {},
   "source": [
    "We group the elements by putting once again the Genres dimension on the x-axis."
   ]
  },
  {
   "cell_type": "code",
   "execution_count": 4,
   "id": "5735f1e9",
   "metadata": {},
   "outputs": [
    {
     "data": {
      "text/html": [
       "<script id=\"myVizzu_3e194ef\">\n",
       "    document.inhibitScroll = false;\n",
       "</script>"
      ]
     },
     "metadata": {},
     "output_type": "display_data"
    },
    {
     "data": {
      "text/html": [
       "<script id=\"myVizzu_847bf55\">\n",
       "    let display_847bf55 = myVizzu_847bf55.parentNode.parentNode.style.display;\n",
       "    myVizzu_847bf55.parentNode.parentNode.style.display = \"none\";\n",
       "    chart_e82f675 = chart_e82f675.then(chart => {\n",
       "        if (myVizzu_e82f675.parentNode && myVizzu_e82f675.parentNode.parentNode) {\n",
       "            myVizzu_e82f675.parentNode.parentNode.style.display = \"none\";\n",
       "        }\n",
       "        myVizzu_847bf55.parentNode.parentNode.style.display = display_847bf55;\n",
       "        myVizzu_847bf55.parentNode.insertBefore(myVizzu_e82f675, myVizzu_847bf55);\n",
       "        if (!document.inhibitScroll && true) {\n",
       "            myVizzu_e82f675.scrollIntoView({behavior: \"auto\", block: \"center\"});\n",
       "        }\n",
       "        return chart.animate(snapshot_6da6ad0);\n",
       "    });\n",
       "</script>"
      ]
     },
     "metadata": {},
     "output_type": "display_data"
    },
    {
     "data": {
      "text/html": [
       "<script id=\"myVizzu_19c5a56\">\n",
       "    let display_19c5a56 = myVizzu_19c5a56.parentNode.parentNode.style.display;\n",
       "    myVizzu_19c5a56.parentNode.parentNode.style.display = \"none\";\n",
       "    chart_e82f675 = chart_e82f675.then(chart => {\n",
       "        if (myVizzu_e82f675.parentNode && myVizzu_e82f675.parentNode.parentNode) {\n",
       "            myVizzu_e82f675.parentNode.parentNode.style.display = \"none\";\n",
       "        }\n",
       "        myVizzu_19c5a56.parentNode.parentNode.style.display = display_19c5a56;\n",
       "        myVizzu_19c5a56.parentNode.insertBefore(myVizzu_e82f675, myVizzu_19c5a56);\n",
       "        if (!document.inhibitScroll && true) {\n",
       "            myVizzu_e82f675.scrollIntoView({behavior: \"auto\", block: \"center\"});\n",
       "        }\n",
       "        return chart.animate({\"config\": {\"title\": \"Group\"}});\n",
       "    });\n",
       "</script>"
      ]
     },
     "metadata": {},
     "output_type": "display_data"
    },
    {
     "data": {
      "text/html": [
       "<script id=\"myVizzu_3ec6dee\">\n",
       "    let display_3ec6dee = myVizzu_3ec6dee.parentNode.parentNode.style.display;\n",
       "    myVizzu_3ec6dee.parentNode.parentNode.style.display = \"none\";\n",
       "    chart_e82f675 = chart_e82f675.then(chart => {\n",
       "        if (myVizzu_e82f675.parentNode && myVizzu_e82f675.parentNode.parentNode) {\n",
       "            myVizzu_e82f675.parentNode.parentNode.style.display = \"none\";\n",
       "        }\n",
       "        myVizzu_3ec6dee.parentNode.parentNode.style.display = display_3ec6dee;\n",
       "        myVizzu_3ec6dee.parentNode.insertBefore(myVizzu_e82f675, myVizzu_3ec6dee);\n",
       "        if (!document.inhibitScroll && true) {\n",
       "            myVizzu_e82f675.scrollIntoView({behavior: \"auto\", block: \"center\"});\n",
       "        }\n",
       "        return chart.animate({\"config\": {\"channels\": {\"y\": {\"detach\": \"Genres\"}, \"x\": {\"set\": \"Genres\"}}}});\n",
       "    });\n",
       "</script>"
      ]
     },
     "metadata": {},
     "output_type": "display_data"
    }
   ],
   "source": [
    "chart.animate(snapshot3)\n",
    "\n",
    "chart.animate(Config({\"title\": \"Group\"}))\n",
    "\n",
    "chart.animate(Config({\n",
    "    \"channels\": {\n",
    "        \"y\": {\n",
    "            \"detach\": \"Genres\",\n",
    "        },\n",
    "        \"x\": {\n",
    "            \"set\": \"Genres\",\n",
    "        }\n",
    "    }\n",
    "}))"
   ]
  }
 ],
 "metadata": {
  "kernelspec": {
   "display_name": ".venv",
   "language": "python",
   "name": ".venv"
  },
  "language_info": {
   "codemirror_mode": {
    "name": "ipython",
    "version": 3
   },
   "file_extension": ".py",
   "mimetype": "text/x-python",
   "name": "python",
   "nbconvert_exporter": "python",
   "pygments_lexer": "ipython3",
   "version": "3.8.10"
  }
 },
 "nbformat": 4,
 "nbformat_minor": 5
}
