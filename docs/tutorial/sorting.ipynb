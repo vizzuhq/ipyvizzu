{
 "cells": [
  {
   "cell_type": "markdown",
   "id": "072921f4",
   "metadata": {},
   "source": [
    "## Sorting\n",
    "\n",
    "Vizzu provides multiple options to sort data. By default, the data is sorted by the order it is added to Vizzu. This is why we suggest to add temporal data such as dates in chronological order - from oldest to newest.\n",
    "\n",
    "You can also sort the elements by value, which will provide you with an ascending order."
   ]
  },
  {
   "cell_type": "code",
   "execution_count": 1,
   "id": "200f66d2",
   "metadata": {},
   "outputs": [
    {
     "data": {
      "text/html": [
       "<script id=\"myVizzu_3310ad9\">\n",
       "    document.inhibitScroll = false;\n",
       "    document.addEventListener('wheel', function (evt) { document.inhibitScroll = true }, true);\n",
       "    document.addEventListener('keydown', function (evt) { document.inhibitScroll = true }, true);\n",
       "    document.addEventListener('touchstart', function (evt) { document.inhibitScroll = true }, true);\n",
       "    let myVizzu_cb5b1cf = document.createElement(\"div\");\n",
       "    myVizzu_cb5b1cf.style.cssText = \"width: 800px; height: 480px;\";\n",
       "    let chart_cb5b1cf = import(\"https://cdn.jsdelivr.net/npm/vizzu@~0.4.0/dist/vizzu.min.js\").then(Vizzu => new Vizzu.default(myVizzu_cb5b1cf).initializing);\n",
       "    myVizzu_3310ad9.parentNode.insertBefore(myVizzu_cb5b1cf, myVizzu_3310ad9);\n",
       "</script>"
      ]
     },
     "metadata": {},
     "output_type": "display_data"
    },
    {
     "data": {
      "text/html": [
       "<script id=\"myVizzu_afe8b87\">\n",
       "    let display_afe8b87 = myVizzu_afe8b87.parentNode.parentNode.style.display;\n",
       "    myVizzu_afe8b87.parentNode.parentNode.style.display = \"none\";\n",
       "    chart_cb5b1cf = chart_cb5b1cf.then(chart => {\n",
       "        if (myVizzu_cb5b1cf.parentNode && myVizzu_cb5b1cf.parentNode.parentNode) {\n",
       "            myVizzu_cb5b1cf.parentNode.parentNode.style.display = \"none\";\n",
       "        }\n",
       "        myVizzu_afe8b87.parentNode.parentNode.style.display = display_afe8b87;\n",
       "        myVizzu_afe8b87.parentNode.insertBefore(myVizzu_cb5b1cf, myVizzu_afe8b87);\n",
       "        if (!document.inhibitScroll && true) {\n",
       "            myVizzu_cb5b1cf.scrollIntoView({behavior: \"auto\", block: \"center\"});\n",
       "        }\n",
       "        return chart.animate({\"data\": {\"dimensions\": [{\"name\": \"Genres\", \"values\": [\"Pop\", \"Rock\", \"Jazz\", \"Metal\"]}, {\"name\": \"Types\", \"values\": [\"Hard\", \"Smooth\", \"Experimental\"]}], \"measures\": [{\"name\": \"Popularity\", \"values\": [[114, 96, 78, 52], [56, 36, 174, 121], [127, 83, 94, 58]]}]}});\n",
       "    });\n",
       "</script>"
      ]
     },
     "metadata": {},
     "output_type": "display_data"
    },
    {
     "data": {
      "text/html": [
       "<script id=\"myVizzu_c45b114\">\n",
       "    let display_c45b114 = myVizzu_c45b114.parentNode.parentNode.style.display;\n",
       "    myVizzu_c45b114.parentNode.parentNode.style.display = \"none\";\n",
       "    chart_cb5b1cf = chart_cb5b1cf.then(chart => {\n",
       "        if (myVizzu_cb5b1cf.parentNode && myVizzu_cb5b1cf.parentNode.parentNode) {\n",
       "            myVizzu_cb5b1cf.parentNode.parentNode.style.display = \"none\";\n",
       "        }\n",
       "        myVizzu_c45b114.parentNode.parentNode.style.display = display_c45b114;\n",
       "        myVizzu_c45b114.parentNode.insertBefore(myVizzu_cb5b1cf, myVizzu_c45b114);\n",
       "        if (!document.inhibitScroll && true) {\n",
       "            myVizzu_cb5b1cf.scrollIntoView({behavior: \"auto\", block: \"center\"});\n",
       "        }\n",
       "        return chart.animate({\"config\": {\"channels\": {\"y\": {\"set\": [\"Popularity\", \"Types\"]}, \"x\": {\"set\": \"Genres\"}, \"label\": {\"attach\": \"Popularity\"}}, \"color\": {\"attach\": \"Types\"}, \"title\": \"Switch to ascending order...\"}});\n",
       "    });\n",
       "</script>"
      ]
     },
     "metadata": {},
     "output_type": "display_data"
    },
    {
     "data": {
      "text/html": [
       "<script id=\"myVizzu_b12dc38\">\n",
       "    let display_b12dc38 = myVizzu_b12dc38.parentNode.parentNode.style.display;\n",
       "    myVizzu_b12dc38.parentNode.parentNode.style.display = \"none\";\n",
       "    chart_cb5b1cf = chart_cb5b1cf.then(chart => {\n",
       "        if (myVizzu_cb5b1cf.parentNode && myVizzu_cb5b1cf.parentNode.parentNode) {\n",
       "            myVizzu_cb5b1cf.parentNode.parentNode.style.display = \"none\";\n",
       "        }\n",
       "        myVizzu_b12dc38.parentNode.parentNode.style.display = display_b12dc38;\n",
       "        myVizzu_b12dc38.parentNode.insertBefore(myVizzu_cb5b1cf, myVizzu_b12dc38);\n",
       "        if (!document.inhibitScroll && true) {\n",
       "            myVizzu_cb5b1cf.scrollIntoView({behavior: \"auto\", block: \"center\"});\n",
       "        }\n",
       "        return chart.animate({\"config\": {\"sort\": \"byValue\"}});\n",
       "    });\n",
       "</script>"
      ]
     },
     "metadata": {},
     "output_type": "display_data"
    },
    {
     "data": {
      "text/html": [
       "<script id=\"myVizzu_3f03484\">\n",
       "    myVizzu_3f03484.parentNode.parentNode.style.display = \"none\";\n",
       "    let snapshot_3f03484;\n",
       "    chart_cb5b1cf = chart_cb5b1cf.then(chart => {\n",
       "        snapshot_3f03484 = chart.store();\n",
       "        return chart;\n",
       "    });\n",
       "</script>"
      ]
     },
     "metadata": {},
     "output_type": "display_data"
    }
   ],
   "source": [
    "from ipyvizzu import Chart, Data, Config\n",
    "\n",
    "chart = Chart()\n",
    "\n",
    "data = Data.from_json(\"./music_data.json\")\n",
    "\n",
    "chart.animate(data)\n",
    "\n",
    "chart.animate(Config({\n",
    "    \"channels\": {\n",
    "        \"y\": {\n",
    "            \"set\": [\"Popularity\", \"Types\"]\n",
    "        }, \n",
    "        \"x\": {\n",
    "            \"set\": \"Genres\"\n",
    "        },\n",
    "        \"label\": {\n",
    "            \"attach\": \"Popularity\"\n",
    "        }\n",
    "    },\n",
    "    \"color\": {\n",
    "        \"attach\": \"Types\"\n",
    "    },\n",
    "    \"title\": \"Switch to ascending order...\"\n",
    "}))\n",
    "\n",
    "chart.animate(Config({\n",
    "    \"sort\": \"byValue\",\n",
    "}))\n",
    "\n",
    "snapshot1 = chart.store()"
   ]
  },
  {
   "cell_type": "markdown",
   "id": "c6736370",
   "metadata": {},
   "source": [
    "If you want descending order instead, you have to set the reverse parameter to true. When used without setting the sorting to byValue, the elements will be in the opposite order than they are in the data set added to Vizzu."
   ]
  },
  {
   "cell_type": "code",
   "execution_count": 2,
   "id": "acf4a7d9",
   "metadata": {},
   "outputs": [
    {
     "data": {
      "text/html": [
       "<script id=\"myVizzu_0454e50\">\n",
       "    document.inhibitScroll = false;\n",
       "</script>"
      ]
     },
     "metadata": {},
     "output_type": "display_data"
    },
    {
     "data": {
      "text/html": [
       "<script id=\"myVizzu_64ffff6\">\n",
       "    let display_64ffff6 = myVizzu_64ffff6.parentNode.parentNode.style.display;\n",
       "    myVizzu_64ffff6.parentNode.parentNode.style.display = \"none\";\n",
       "    chart_cb5b1cf = chart_cb5b1cf.then(chart => {\n",
       "        if (myVizzu_cb5b1cf.parentNode && myVizzu_cb5b1cf.parentNode.parentNode) {\n",
       "            myVizzu_cb5b1cf.parentNode.parentNode.style.display = \"none\";\n",
       "        }\n",
       "        myVizzu_64ffff6.parentNode.parentNode.style.display = display_64ffff6;\n",
       "        myVizzu_64ffff6.parentNode.insertBefore(myVizzu_cb5b1cf, myVizzu_64ffff6);\n",
       "        if (!document.inhibitScroll && true) {\n",
       "            myVizzu_cb5b1cf.scrollIntoView({behavior: \"auto\", block: \"center\"});\n",
       "        }\n",
       "        return chart.animate(snapshot_3f03484);\n",
       "    });\n",
       "</script>"
      ]
     },
     "metadata": {},
     "output_type": "display_data"
    },
    {
     "data": {
      "text/html": [
       "<script id=\"myVizzu_6d75676\">\n",
       "    let display_6d75676 = myVizzu_6d75676.parentNode.parentNode.style.display;\n",
       "    myVizzu_6d75676.parentNode.parentNode.style.display = \"none\";\n",
       "    chart_cb5b1cf = chart_cb5b1cf.then(chart => {\n",
       "        if (myVizzu_cb5b1cf.parentNode && myVizzu_cb5b1cf.parentNode.parentNode) {\n",
       "            myVizzu_cb5b1cf.parentNode.parentNode.style.display = \"none\";\n",
       "        }\n",
       "        myVizzu_6d75676.parentNode.parentNode.style.display = display_6d75676;\n",
       "        myVizzu_6d75676.parentNode.insertBefore(myVizzu_cb5b1cf, myVizzu_6d75676);\n",
       "        if (!document.inhibitScroll && true) {\n",
       "            myVizzu_cb5b1cf.scrollIntoView({behavior: \"auto\", block: \"center\"});\n",
       "        }\n",
       "        return chart.animate({\"config\": {\"title\": \"...or descending order.\"}});\n",
       "    });\n",
       "</script>"
      ]
     },
     "metadata": {},
     "output_type": "display_data"
    },
    {
     "data": {
      "text/html": [
       "<script id=\"myVizzu_f46e16e\">\n",
       "    let display_f46e16e = myVizzu_f46e16e.parentNode.parentNode.style.display;\n",
       "    myVizzu_f46e16e.parentNode.parentNode.style.display = \"none\";\n",
       "    chart_cb5b1cf = chart_cb5b1cf.then(chart => {\n",
       "        if (myVizzu_cb5b1cf.parentNode && myVizzu_cb5b1cf.parentNode.parentNode) {\n",
       "            myVizzu_cb5b1cf.parentNode.parentNode.style.display = \"none\";\n",
       "        }\n",
       "        myVizzu_f46e16e.parentNode.parentNode.style.display = display_f46e16e;\n",
       "        myVizzu_f46e16e.parentNode.insertBefore(myVizzu_cb5b1cf, myVizzu_f46e16e);\n",
       "        if (!document.inhibitScroll && true) {\n",
       "            myVizzu_cb5b1cf.scrollIntoView({behavior: \"auto\", block: \"center\"});\n",
       "        }\n",
       "        return chart.animate({\"config\": {\"reverse\": true}});\n",
       "    });\n",
       "</script>"
      ]
     },
     "metadata": {},
     "output_type": "display_data"
    },
    {
     "data": {
      "text/html": [
       "<script id=\"myVizzu_d0609fe\">\n",
       "    myVizzu_d0609fe.parentNode.parentNode.style.display = \"none\";\n",
       "    let snapshot_d0609fe;\n",
       "    chart_cb5b1cf = chart_cb5b1cf.then(chart => {\n",
       "        snapshot_d0609fe = chart.store();\n",
       "        return chart;\n",
       "    });\n",
       "</script>"
      ]
     },
     "metadata": {},
     "output_type": "display_data"
    }
   ],
   "source": [
    "chart.animate(snapshot1)\n",
    "\n",
    "chart.animate(Config({\"title\": \"...or descending order.\"}))\n",
    "\n",
    "chart.animate(Config({\n",
    "    \"reverse\": True,\n",
    "}))\n",
    "\n",
    "snapshot2 = chart.store()"
   ]
  },
  {
   "cell_type": "markdown",
   "id": "527bc690",
   "metadata": {},
   "source": [
    "This is how to switch back to the default sorting."
   ]
  },
  {
   "cell_type": "code",
   "execution_count": 3,
   "id": "a18b8749",
   "metadata": {},
   "outputs": [
    {
     "data": {
      "text/html": [
       "<script id=\"myVizzu_5657827\">\n",
       "    document.inhibitScroll = false;\n",
       "</script>"
      ]
     },
     "metadata": {},
     "output_type": "display_data"
    },
    {
     "data": {
      "text/html": [
       "<script id=\"myVizzu_8d391cf\">\n",
       "    let display_8d391cf = myVizzu_8d391cf.parentNode.parentNode.style.display;\n",
       "    myVizzu_8d391cf.parentNode.parentNode.style.display = \"none\";\n",
       "    chart_cb5b1cf = chart_cb5b1cf.then(chart => {\n",
       "        if (myVizzu_cb5b1cf.parentNode && myVizzu_cb5b1cf.parentNode.parentNode) {\n",
       "            myVizzu_cb5b1cf.parentNode.parentNode.style.display = \"none\";\n",
       "        }\n",
       "        myVizzu_8d391cf.parentNode.parentNode.style.display = display_8d391cf;\n",
       "        myVizzu_8d391cf.parentNode.insertBefore(myVizzu_cb5b1cf, myVizzu_8d391cf);\n",
       "        if (!document.inhibitScroll && true) {\n",
       "            myVizzu_cb5b1cf.scrollIntoView({behavior: \"auto\", block: \"center\"});\n",
       "        }\n",
       "        return chart.animate(snapshot_d0609fe);\n",
       "    });\n",
       "</script>"
      ]
     },
     "metadata": {},
     "output_type": "display_data"
    },
    {
     "data": {
      "text/html": [
       "<script id=\"myVizzu_3d1b7da\">\n",
       "    let display_3d1b7da = myVizzu_3d1b7da.parentNode.parentNode.style.display;\n",
       "    myVizzu_3d1b7da.parentNode.parentNode.style.display = \"none\";\n",
       "    chart_cb5b1cf = chart_cb5b1cf.then(chart => {\n",
       "        if (myVizzu_cb5b1cf.parentNode && myVizzu_cb5b1cf.parentNode.parentNode) {\n",
       "            myVizzu_cb5b1cf.parentNode.parentNode.style.display = \"none\";\n",
       "        }\n",
       "        myVizzu_3d1b7da.parentNode.parentNode.style.display = display_3d1b7da;\n",
       "        myVizzu_3d1b7da.parentNode.insertBefore(myVizzu_cb5b1cf, myVizzu_3d1b7da);\n",
       "        if (!document.inhibitScroll && true) {\n",
       "            myVizzu_cb5b1cf.scrollIntoView({behavior: \"auto\", block: \"center\"});\n",
       "        }\n",
       "        return chart.animate({\"config\": {\"title\": \"Let's get back to where we were\"}});\n",
       "    });\n",
       "</script>"
      ]
     },
     "metadata": {},
     "output_type": "display_data"
    },
    {
     "data": {
      "text/html": [
       "<script id=\"myVizzu_18b5895\">\n",
       "    let display_18b5895 = myVizzu_18b5895.parentNode.parentNode.style.display;\n",
       "    myVizzu_18b5895.parentNode.parentNode.style.display = \"none\";\n",
       "    chart_cb5b1cf = chart_cb5b1cf.then(chart => {\n",
       "        if (myVizzu_cb5b1cf.parentNode && myVizzu_cb5b1cf.parentNode.parentNode) {\n",
       "            myVizzu_cb5b1cf.parentNode.parentNode.style.display = \"none\";\n",
       "        }\n",
       "        myVizzu_18b5895.parentNode.parentNode.style.display = display_18b5895;\n",
       "        myVizzu_18b5895.parentNode.insertBefore(myVizzu_cb5b1cf, myVizzu_18b5895);\n",
       "        if (!document.inhibitScroll && true) {\n",
       "            myVizzu_cb5b1cf.scrollIntoView({behavior: \"auto\", block: \"center\"});\n",
       "        }\n",
       "        return chart.animate({\"config\": {\"sort\": \"none\", \"reverse\": false}});\n",
       "    });\n",
       "</script>"
      ]
     },
     "metadata": {},
     "output_type": "display_data"
    },
    {
     "data": {
      "text/html": [
       "<script id=\"myVizzu_3a87654\">\n",
       "    myVizzu_3a87654.parentNode.parentNode.style.display = \"none\";\n",
       "    let snapshot_3a87654;\n",
       "    chart_cb5b1cf = chart_cb5b1cf.then(chart => {\n",
       "        snapshot_3a87654 = chart.store();\n",
       "        return chart;\n",
       "    });\n",
       "</script>"
      ]
     },
     "metadata": {},
     "output_type": "display_data"
    }
   ],
   "source": [
    "chart.animate(snapshot2)\n",
    "\n",
    "chart.animate(Config({\"title\": \"Let's get back to where we were\"}))\n",
    "\n",
    "chart.animate(Config({\n",
    "    \"sort\": \"none\",\n",
    "    \"reverse\": False,\n",
    "}))\n",
    "\n",
    "snapshot3 = chart.store()"
   ]
  },
  {
   "cell_type": "markdown",
   "id": "eae56a59",
   "metadata": {},
   "source": [
    "When you have more than one dimension on a channel, their order determines how the elements are grouped."
   ]
  },
  {
   "cell_type": "code",
   "execution_count": 4,
   "id": "8fdbb27b",
   "metadata": {},
   "outputs": [
    {
     "data": {
      "text/html": [
       "<script id=\"myVizzu_28812ce\">\n",
       "    document.inhibitScroll = false;\n",
       "</script>"
      ]
     },
     "metadata": {},
     "output_type": "display_data"
    },
    {
     "data": {
      "text/html": [
       "<script id=\"myVizzu_9a71070\">\n",
       "    let display_9a71070 = myVizzu_9a71070.parentNode.parentNode.style.display;\n",
       "    myVizzu_9a71070.parentNode.parentNode.style.display = \"none\";\n",
       "    chart_cb5b1cf = chart_cb5b1cf.then(chart => {\n",
       "        if (myVizzu_cb5b1cf.parentNode && myVizzu_cb5b1cf.parentNode.parentNode) {\n",
       "            myVizzu_cb5b1cf.parentNode.parentNode.style.display = \"none\";\n",
       "        }\n",
       "        myVizzu_9a71070.parentNode.parentNode.style.display = display_9a71070;\n",
       "        myVizzu_9a71070.parentNode.insertBefore(myVizzu_cb5b1cf, myVizzu_9a71070);\n",
       "        if (!document.inhibitScroll && true) {\n",
       "            myVizzu_cb5b1cf.scrollIntoView({behavior: \"auto\", block: \"center\"});\n",
       "        }\n",
       "        return chart.animate(snapshot_3a87654);\n",
       "    });\n",
       "</script>"
      ]
     },
     "metadata": {},
     "output_type": "display_data"
    },
    {
     "data": {
      "text/html": [
       "<script id=\"myVizzu_697889e\">\n",
       "    let display_697889e = myVizzu_697889e.parentNode.parentNode.style.display;\n",
       "    myVizzu_697889e.parentNode.parentNode.style.display = \"none\";\n",
       "    chart_cb5b1cf = chart_cb5b1cf.then(chart => {\n",
       "        if (myVizzu_cb5b1cf.parentNode && myVizzu_cb5b1cf.parentNode.parentNode) {\n",
       "            myVizzu_cb5b1cf.parentNode.parentNode.style.display = \"none\";\n",
       "        }\n",
       "        myVizzu_697889e.parentNode.parentNode.style.display = display_697889e;\n",
       "        myVizzu_697889e.parentNode.insertBefore(myVizzu_cb5b1cf, myVizzu_697889e);\n",
       "        if (!document.inhibitScroll && true) {\n",
       "            myVizzu_cb5b1cf.scrollIntoView({behavior: \"auto\", block: \"center\"});\n",
       "        }\n",
       "        return chart.animate({\"config\": {\"title\": \"With two discretes on one axis...\"}});\n",
       "    });\n",
       "</script>"
      ]
     },
     "metadata": {},
     "output_type": "display_data"
    },
    {
     "data": {
      "text/html": [
       "<script id=\"myVizzu_6bb475e\">\n",
       "    let display_6bb475e = myVizzu_6bb475e.parentNode.parentNode.style.display;\n",
       "    myVizzu_6bb475e.parentNode.parentNode.style.display = \"none\";\n",
       "    chart_cb5b1cf = chart_cb5b1cf.then(chart => {\n",
       "        if (myVizzu_cb5b1cf.parentNode && myVizzu_cb5b1cf.parentNode.parentNode) {\n",
       "            myVizzu_cb5b1cf.parentNode.parentNode.style.display = \"none\";\n",
       "        }\n",
       "        myVizzu_6bb475e.parentNode.parentNode.style.display = display_6bb475e;\n",
       "        myVizzu_6bb475e.parentNode.insertBefore(myVizzu_cb5b1cf, myVizzu_6bb475e);\n",
       "        if (!document.inhibitScroll && true) {\n",
       "            myVizzu_cb5b1cf.scrollIntoView({behavior: \"auto\", block: \"center\"});\n",
       "        }\n",
       "        return chart.animate({\"config\": {\"channels\": {\"y\": {\"detach\": \"Types\"}, \"x\": {\"set\": [\"Genres\", \"Types\"]}}}});\n",
       "    });\n",
       "</script>"
      ]
     },
     "metadata": {},
     "output_type": "display_data"
    },
    {
     "data": {
      "text/html": [
       "<script id=\"myVizzu_a877bca\">\n",
       "    myVizzu_a877bca.parentNode.parentNode.style.display = \"none\";\n",
       "    let snapshot_a877bca;\n",
       "    chart_cb5b1cf = chart_cb5b1cf.then(chart => {\n",
       "        snapshot_a877bca = chart.store();\n",
       "        return chart;\n",
       "    });\n",
       "</script>"
      ]
     },
     "metadata": {},
     "output_type": "display_data"
    }
   ],
   "source": [
    "chart.animate(snapshot3)\n",
    "\n",
    "chart.animate(Config({\"title\": \"With two discretes on one axis...\"}))\n",
    "\n",
    "chart.animate(Config({\n",
    "    \"channels\": {\n",
    "        \"y\": {\n",
    "            \"detach\": \"Types\"\n",
    "        },\n",
    "        \"x\": {\n",
    "            \"set\": [\"Genres\", \"Types\"]\n",
    "        },\n",
    "    }\n",
    "}))\n",
    "\n",
    "snapshot4 = chart.store()"
   ]
  },
  {
   "cell_type": "markdown",
   "id": "173771d8",
   "metadata": {},
   "source": [
    "When switching the order of dimensions on the x-axis Vizzu will rearrange the elements according to this new logic."
   ]
  },
  {
   "cell_type": "code",
   "execution_count": 5,
   "id": "02100d01",
   "metadata": {},
   "outputs": [
    {
     "data": {
      "text/html": [
       "<script id=\"myVizzu_8205402\">\n",
       "    document.inhibitScroll = false;\n",
       "</script>"
      ]
     },
     "metadata": {},
     "output_type": "display_data"
    },
    {
     "data": {
      "text/html": [
       "<script id=\"myVizzu_3d91f77\">\n",
       "    let display_3d91f77 = myVizzu_3d91f77.parentNode.parentNode.style.display;\n",
       "    myVizzu_3d91f77.parentNode.parentNode.style.display = \"none\";\n",
       "    chart_cb5b1cf = chart_cb5b1cf.then(chart => {\n",
       "        if (myVizzu_cb5b1cf.parentNode && myVizzu_cb5b1cf.parentNode.parentNode) {\n",
       "            myVizzu_cb5b1cf.parentNode.parentNode.style.display = \"none\";\n",
       "        }\n",
       "        myVizzu_3d91f77.parentNode.parentNode.style.display = display_3d91f77;\n",
       "        myVizzu_3d91f77.parentNode.insertBefore(myVizzu_cb5b1cf, myVizzu_3d91f77);\n",
       "        if (!document.inhibitScroll && true) {\n",
       "            myVizzu_cb5b1cf.scrollIntoView({behavior: \"auto\", block: \"center\"});\n",
       "        }\n",
       "        return chart.animate(snapshot_a877bca);\n",
       "    });\n",
       "</script>"
      ]
     },
     "metadata": {},
     "output_type": "display_data"
    },
    {
     "data": {
      "text/html": [
       "<script id=\"myVizzu_65661b6\">\n",
       "    let display_65661b6 = myVizzu_65661b6.parentNode.parentNode.style.display;\n",
       "    myVizzu_65661b6.parentNode.parentNode.style.display = \"none\";\n",
       "    chart_cb5b1cf = chart_cb5b1cf.then(chart => {\n",
       "        if (myVizzu_cb5b1cf.parentNode && myVizzu_cb5b1cf.parentNode.parentNode) {\n",
       "            myVizzu_cb5b1cf.parentNode.parentNode.style.display = \"none\";\n",
       "        }\n",
       "        myVizzu_65661b6.parentNode.parentNode.style.display = display_65661b6;\n",
       "        myVizzu_65661b6.parentNode.insertBefore(myVizzu_cb5b1cf, myVizzu_65661b6);\n",
       "        if (!document.inhibitScroll && true) {\n",
       "            myVizzu_cb5b1cf.scrollIntoView({behavior: \"auto\", block: \"center\"});\n",
       "        }\n",
       "        return chart.animate({\"config\": {\"title\": \"...grouping is determined by their order.\"}});\n",
       "    });\n",
       "</script>"
      ]
     },
     "metadata": {},
     "output_type": "display_data"
    },
    {
     "data": {
      "text/html": [
       "<script id=\"myVizzu_983dfc4\">\n",
       "    let display_983dfc4 = myVizzu_983dfc4.parentNode.parentNode.style.display;\n",
       "    myVizzu_983dfc4.parentNode.parentNode.style.display = \"none\";\n",
       "    chart_cb5b1cf = chart_cb5b1cf.then(chart => {\n",
       "        if (myVizzu_cb5b1cf.parentNode && myVizzu_cb5b1cf.parentNode.parentNode) {\n",
       "            myVizzu_cb5b1cf.parentNode.parentNode.style.display = \"none\";\n",
       "        }\n",
       "        myVizzu_983dfc4.parentNode.parentNode.style.display = display_983dfc4;\n",
       "        myVizzu_983dfc4.parentNode.insertBefore(myVizzu_cb5b1cf, myVizzu_983dfc4);\n",
       "        if (!document.inhibitScroll && true) {\n",
       "            myVizzu_cb5b1cf.scrollIntoView({behavior: \"auto\", block: \"center\"});\n",
       "        }\n",
       "        return chart.animate({\"config\": {\"channels\": {\"x\": {\"set\": [\"Types\", \"Genres\"]}}}});\n",
       "    });\n",
       "</script>"
      ]
     },
     "metadata": {},
     "output_type": "display_data"
    }
   ],
   "source": [
    "chart.animate(snapshot4)\n",
    "\n",
    "chart.animate(Config({\"title\": \"...grouping is determined by their order.\"}))\n",
    "\n",
    "chart.animate(Config({\n",
    "    \"channels\": {\n",
    "        \"x\": {\n",
    "            \"set\": [\"Types\", \"Genres\"]\n",
    "        },\n",
    "    }\n",
    "}))"
   ]
  }
 ],
 "metadata": {
  "kernelspec": {
   "display_name": ".venv",
   "language": "python",
   "name": ".venv"
  },
  "language_info": {
   "codemirror_mode": {
    "name": "ipython",
    "version": 3
   },
   "file_extension": ".py",
   "mimetype": "text/x-python",
   "name": "python",
   "nbconvert_exporter": "python",
   "pygments_lexer": "ipython3",
   "version": "3.8.10"
  }
 },
 "nbformat": 4,
 "nbformat_minor": 5
}
