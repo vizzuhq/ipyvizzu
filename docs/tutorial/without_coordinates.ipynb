{
 "cells": [
  {
   "cell_type": "markdown",
   "id": "59cd2f9b",
   "metadata": {},
   "source": [
    "## Without coordinates & noop channel\n",
    "\n",
    "Certain chart types have neither measures nor dimensions on the axes such as treemaps and bubble charts. This is a case when the noop channel comes in handy for grouping and stacking elements in these kinds of charts.\n",
    "\n",
    "To get to a treemap, we have to detach all dimensions and the measure from the axes and put two of them on the size channel, whereas the other dimension is still on the color channel. Since the same dimensions are used in both cases Vizzu will be able to animate between these states."
   ]
  },
  {
   "cell_type": "code",
   "execution_count": 1,
   "id": "1c575574",
   "metadata": {},
   "outputs": [
    {
     "data": {
      "text/html": [
       "<script id=\"myVizzu_687fe11\">\n",
       "    document.inhibitScroll = false;\n",
       "    document.addEventListener('wheel', function (evt) { document.inhibitScroll = true }, true);\n",
       "    document.addEventListener('keydown', function (evt) { document.inhibitScroll = true }, true);\n",
       "    document.addEventListener('touchstart', function (evt) { document.inhibitScroll = true }, true);\n",
       "    let myVizzu_21cc6e9 = document.createElement(\"div\");\n",
       "    myVizzu_21cc6e9.style.cssText = \"width: 800px; height: 480px;\";\n",
       "    let chart_21cc6e9 = import(\"https://cdn.jsdelivr.net/npm/vizzu@~0.4.0/dist/vizzu.min.js\").then(Vizzu => new Vizzu.default(myVizzu_21cc6e9).initializing);\n",
       "    myVizzu_687fe11.parentNode.insertBefore(myVizzu_21cc6e9, myVizzu_687fe11);\n",
       "</script>"
      ]
     },
     "metadata": {},
     "output_type": "display_data"
    },
    {
     "data": {
      "text/html": [
       "<script id=\"myVizzu_57d917c\">\n",
       "    let display_57d917c = myVizzu_57d917c.parentNode.parentNode.style.display;\n",
       "    myVizzu_57d917c.parentNode.parentNode.style.display = \"none\";\n",
       "    chart_21cc6e9 = chart_21cc6e9.then(chart => {\n",
       "        if (myVizzu_21cc6e9.parentNode && myVizzu_21cc6e9.parentNode.parentNode) {\n",
       "            myVizzu_21cc6e9.parentNode.parentNode.style.display = \"none\";\n",
       "        }\n",
       "        myVizzu_57d917c.parentNode.parentNode.style.display = display_57d917c;\n",
       "        myVizzu_57d917c.parentNode.insertBefore(myVizzu_21cc6e9, myVizzu_57d917c);\n",
       "        if (!document.inhibitScroll && true) {\n",
       "            myVizzu_21cc6e9.scrollIntoView({behavior: \"auto\", block: \"center\"});\n",
       "        }\n",
       "        return chart.animate({\"data\": {\"dimensions\": [{\"name\": \"Genres\", \"values\": [\"Pop\", \"Rock\", \"Jazz\", \"Metal\"]}, {\"name\": \"Types\", \"values\": [\"Hard\", \"Smooth\", \"Experimental\"]}], \"measures\": [{\"name\": \"Popularity\", \"values\": [[114, 96, 78, 52], [56, 36, 174, 121], [127, 83, 94, 58]]}]}});\n",
       "    });\n",
       "</script>"
      ]
     },
     "metadata": {},
     "output_type": "display_data"
    },
    {
     "data": {
      "text/html": [
       "<script id=\"myVizzu_d635201\">\n",
       "    let display_d635201 = myVizzu_d635201.parentNode.parentNode.style.display;\n",
       "    myVizzu_d635201.parentNode.parentNode.style.display = \"none\";\n",
       "    chart_21cc6e9 = chart_21cc6e9.then(chart => {\n",
       "        if (myVizzu_21cc6e9.parentNode && myVizzu_21cc6e9.parentNode.parentNode) {\n",
       "            myVizzu_21cc6e9.parentNode.parentNode.style.display = \"none\";\n",
       "        }\n",
       "        myVizzu_d635201.parentNode.parentNode.style.display = display_d635201;\n",
       "        myVizzu_d635201.parentNode.insertBefore(myVizzu_21cc6e9, myVizzu_d635201);\n",
       "        if (!document.inhibitScroll && true) {\n",
       "            myVizzu_21cc6e9.scrollIntoView({behavior: \"auto\", block: \"center\"});\n",
       "        }\n",
       "        return chart.animate({\"config\": {\"channels\": {\"y\": {\"set\": [\"Types\", \"Popularity\"]}, \"x\": {\"set\": \"Genres\"}, \"label\": {\"attach\": \"Popularity\"}}, \"color\": {\"set\": \"Types\"}, \"title\": \"Treemap\"}});\n",
       "    });\n",
       "</script>"
      ]
     },
     "metadata": {},
     "output_type": "display_data"
    },
    {
     "data": {
      "text/html": [
       "<script id=\"myVizzu_d0a46e4\">\n",
       "    let display_d0a46e4 = myVizzu_d0a46e4.parentNode.parentNode.style.display;\n",
       "    myVizzu_d0a46e4.parentNode.parentNode.style.display = \"none\";\n",
       "    chart_21cc6e9 = chart_21cc6e9.then(chart => {\n",
       "        if (myVizzu_21cc6e9.parentNode && myVizzu_21cc6e9.parentNode.parentNode) {\n",
       "            myVizzu_21cc6e9.parentNode.parentNode.style.display = \"none\";\n",
       "        }\n",
       "        myVizzu_d0a46e4.parentNode.parentNode.style.display = display_d0a46e4;\n",
       "        myVizzu_d0a46e4.parentNode.insertBefore(myVizzu_21cc6e9, myVizzu_d0a46e4);\n",
       "        if (!document.inhibitScroll && true) {\n",
       "            myVizzu_21cc6e9.scrollIntoView({behavior: \"auto\", block: \"center\"});\n",
       "        }\n",
       "        return chart.animate({\"config\": {\"channels\": {\"y\": {\"set\": null}, \"x\": {\"set\": null}, \"size\": {\"attach\": [\"Genres\", \"Popularity\"]}}}});\n",
       "    });\n",
       "</script>"
      ]
     },
     "metadata": {},
     "output_type": "display_data"
    },
    {
     "data": {
      "text/html": [
       "<script id=\"myVizzu_ee76475\">\n",
       "    myVizzu_ee76475.parentNode.parentNode.style.display = \"none\";\n",
       "    let snapshot_ee76475;\n",
       "    chart_21cc6e9 = chart_21cc6e9.then(chart => {\n",
       "        snapshot_ee76475 = chart.store();\n",
       "        return chart;\n",
       "    });\n",
       "</script>"
      ]
     },
     "metadata": {},
     "output_type": "display_data"
    }
   ],
   "source": [
    "from ipyvizzu import Chart, Data, Config\n",
    "\n",
    "chart = Chart()\n",
    "\n",
    "data = Data.from_json(\"./music_data.json\")\n",
    "\n",
    "chart.animate(data)\n",
    "\n",
    "chart.animate(Config({\n",
    "    \"channels\": {\n",
    "        \"y\": {\n",
    "            \"set\": [\"Types\", \"Popularity\"]\n",
    "        },\n",
    "        \"x\": {\n",
    "            \"set\": \"Genres\"\n",
    "        },\n",
    "        \"label\": {\n",
    "            \"attach\": \"Popularity\"\n",
    "        }\n",
    "    },\n",
    "    \"color\": {\n",
    "        \"set\": \"Types\"\n",
    "    },\n",
    "    \"title\": \"Treemap\"\n",
    "}))\n",
    "\n",
    "chart.animate(Config({\n",
    "    \"channels\": {\n",
    "        \"y\": {\n",
    "            \"set\": None,\n",
    "        },\n",
    "        \"x\": {\n",
    "            \"set\": None,\n",
    "        },\n",
    "        \"size\": {\n",
    "            \"attach\": [\"Genres\", \"Popularity\"],\n",
    "        }\n",
    "    }\n",
    "}))\n",
    "\n",
    "snapshot1 = chart.store()"
   ]
  },
  {
   "cell_type": "markdown",
   "id": "e0bdcefc",
   "metadata": {},
   "source": [
    "Getting from a treemap to a bubble chart is simply by changing the geometry to circle. This bubble chart is stacked by the Type dimension that is on the size channel - this is why the bubbles are in separate, small groups."
   ]
  },
  {
   "cell_type": "code",
   "execution_count": 2,
   "id": "3cdf36b5",
   "metadata": {},
   "outputs": [
    {
     "data": {
      "text/html": [
       "<script id=\"myVizzu_7f1d110\">\n",
       "    document.inhibitScroll = false;\n",
       "</script>"
      ]
     },
     "metadata": {},
     "output_type": "display_data"
    },
    {
     "data": {
      "text/html": [
       "<script id=\"myVizzu_be1c78c\">\n",
       "    let display_be1c78c = myVizzu_be1c78c.parentNode.parentNode.style.display;\n",
       "    myVizzu_be1c78c.parentNode.parentNode.style.display = \"none\";\n",
       "    chart_21cc6e9 = chart_21cc6e9.then(chart => {\n",
       "        if (myVizzu_21cc6e9.parentNode && myVizzu_21cc6e9.parentNode.parentNode) {\n",
       "            myVizzu_21cc6e9.parentNode.parentNode.style.display = \"none\";\n",
       "        }\n",
       "        myVizzu_be1c78c.parentNode.parentNode.style.display = display_be1c78c;\n",
       "        myVizzu_be1c78c.parentNode.insertBefore(myVizzu_21cc6e9, myVizzu_be1c78c);\n",
       "        if (!document.inhibitScroll && true) {\n",
       "            myVizzu_21cc6e9.scrollIntoView({behavior: \"auto\", block: \"center\"});\n",
       "        }\n",
       "        return chart.animate(snapshot_ee76475);\n",
       "    });\n",
       "</script>"
      ]
     },
     "metadata": {},
     "output_type": "display_data"
    },
    {
     "data": {
      "text/html": [
       "<script id=\"myVizzu_b5af222\">\n",
       "    let display_b5af222 = myVizzu_b5af222.parentNode.parentNode.style.display;\n",
       "    myVizzu_b5af222.parentNode.parentNode.style.display = \"none\";\n",
       "    chart_21cc6e9 = chart_21cc6e9.then(chart => {\n",
       "        if (myVizzu_21cc6e9.parentNode && myVizzu_21cc6e9.parentNode.parentNode) {\n",
       "            myVizzu_21cc6e9.parentNode.parentNode.style.display = \"none\";\n",
       "        }\n",
       "        myVizzu_b5af222.parentNode.parentNode.style.display = display_b5af222;\n",
       "        myVizzu_b5af222.parentNode.insertBefore(myVizzu_21cc6e9, myVizzu_b5af222);\n",
       "        if (!document.inhibitScroll && true) {\n",
       "            myVizzu_21cc6e9.scrollIntoView({behavior: \"auto\", block: \"center\"});\n",
       "        }\n",
       "        return chart.animate({\"config\": {\"title\": \"Bubble chart - stacked\"}});\n",
       "    });\n",
       "</script>"
      ]
     },
     "metadata": {},
     "output_type": "display_data"
    },
    {
     "data": {
      "text/html": [
       "<script id=\"myVizzu_3363705\">\n",
       "    let display_3363705 = myVizzu_3363705.parentNode.parentNode.style.display;\n",
       "    myVizzu_3363705.parentNode.parentNode.style.display = \"none\";\n",
       "    chart_21cc6e9 = chart_21cc6e9.then(chart => {\n",
       "        if (myVizzu_21cc6e9.parentNode && myVizzu_21cc6e9.parentNode.parentNode) {\n",
       "            myVizzu_21cc6e9.parentNode.parentNode.style.display = \"none\";\n",
       "        }\n",
       "        myVizzu_3363705.parentNode.parentNode.style.display = display_3363705;\n",
       "        myVizzu_3363705.parentNode.insertBefore(myVizzu_21cc6e9, myVizzu_3363705);\n",
       "        if (!document.inhibitScroll && true) {\n",
       "            myVizzu_21cc6e9.scrollIntoView({behavior: \"auto\", block: \"center\"});\n",
       "        }\n",
       "        return chart.animate({\"config\": {\"geometry\": \"circle\"}});\n",
       "    });\n",
       "</script>"
      ]
     },
     "metadata": {},
     "output_type": "display_data"
    },
    {
     "data": {
      "text/html": [
       "<script id=\"myVizzu_7a4d980\">\n",
       "    myVizzu_7a4d980.parentNode.parentNode.style.display = \"none\";\n",
       "    let snapshot_7a4d980;\n",
       "    chart_21cc6e9 = chart_21cc6e9.then(chart => {\n",
       "        snapshot_7a4d980 = chart.store();\n",
       "        return chart;\n",
       "    });\n",
       "</script>"
      ]
     },
     "metadata": {},
     "output_type": "display_data"
    }
   ],
   "source": [
    "chart.animate(snapshot1)\n",
    "\n",
    "chart.animate(Config({\"title\": \"Bubble chart - stacked\"}))\n",
    "\n",
    "chart.animate(Config({\n",
    "    \"geometry\": \"circle\",\n",
    "}))\n",
    "\n",
    "snapshot2 = chart.store()"
   ]
  },
  {
   "cell_type": "markdown",
   "id": "f57e6095",
   "metadata": {},
   "source": [
    "In order to show all bubbles as one group, we use the noop (no operations) channel for the Genres dimension. The noop channel enables us to have a dimension on the chart, that doesn’t affect any parameter of the elements, only their count."
   ]
  },
  {
   "cell_type": "code",
   "execution_count": 3,
   "id": "4fc62e64",
   "metadata": {},
   "outputs": [
    {
     "data": {
      "text/html": [
       "<script id=\"myVizzu_f209241\">\n",
       "    document.inhibitScroll = false;\n",
       "</script>"
      ]
     },
     "metadata": {},
     "output_type": "display_data"
    },
    {
     "data": {
      "text/html": [
       "<script id=\"myVizzu_29dc7c2\">\n",
       "    let display_29dc7c2 = myVizzu_29dc7c2.parentNode.parentNode.style.display;\n",
       "    myVizzu_29dc7c2.parentNode.parentNode.style.display = \"none\";\n",
       "    chart_21cc6e9 = chart_21cc6e9.then(chart => {\n",
       "        if (myVizzu_21cc6e9.parentNode && myVizzu_21cc6e9.parentNode.parentNode) {\n",
       "            myVizzu_21cc6e9.parentNode.parentNode.style.display = \"none\";\n",
       "        }\n",
       "        myVizzu_29dc7c2.parentNode.parentNode.style.display = display_29dc7c2;\n",
       "        myVizzu_29dc7c2.parentNode.insertBefore(myVizzu_21cc6e9, myVizzu_29dc7c2);\n",
       "        if (!document.inhibitScroll && true) {\n",
       "            myVizzu_21cc6e9.scrollIntoView({behavior: \"auto\", block: \"center\"});\n",
       "        }\n",
       "        return chart.animate(snapshot_7a4d980);\n",
       "    });\n",
       "</script>"
      ]
     },
     "metadata": {},
     "output_type": "display_data"
    },
    {
     "data": {
      "text/html": [
       "<script id=\"myVizzu_936aa70\">\n",
       "    let display_936aa70 = myVizzu_936aa70.parentNode.parentNode.style.display;\n",
       "    myVizzu_936aa70.parentNode.parentNode.style.display = \"none\";\n",
       "    chart_21cc6e9 = chart_21cc6e9.then(chart => {\n",
       "        if (myVizzu_21cc6e9.parentNode && myVizzu_21cc6e9.parentNode.parentNode) {\n",
       "            myVizzu_21cc6e9.parentNode.parentNode.style.display = \"none\";\n",
       "        }\n",
       "        myVizzu_936aa70.parentNode.parentNode.style.display = display_936aa70;\n",
       "        myVizzu_936aa70.parentNode.insertBefore(myVizzu_21cc6e9, myVizzu_936aa70);\n",
       "        if (!document.inhibitScroll && true) {\n",
       "            myVizzu_21cc6e9.scrollIntoView({behavior: \"auto\", block: \"center\"});\n",
       "        }\n",
       "        return chart.animate({\"config\": {\"title\": \"Bubble chart - grouped - using the noop channel\"}});\n",
       "    });\n",
       "</script>"
      ]
     },
     "metadata": {},
     "output_type": "display_data"
    },
    {
     "data": {
      "text/html": [
       "<script id=\"myVizzu_3c8df0f\">\n",
       "    let display_3c8df0f = myVizzu_3c8df0f.parentNode.parentNode.style.display;\n",
       "    myVizzu_3c8df0f.parentNode.parentNode.style.display = \"none\";\n",
       "    chart_21cc6e9 = chart_21cc6e9.then(chart => {\n",
       "        if (myVizzu_21cc6e9.parentNode && myVizzu_21cc6e9.parentNode.parentNode) {\n",
       "            myVizzu_21cc6e9.parentNode.parentNode.style.display = \"none\";\n",
       "        }\n",
       "        myVizzu_3c8df0f.parentNode.parentNode.style.display = display_3c8df0f;\n",
       "        myVizzu_3c8df0f.parentNode.insertBefore(myVizzu_21cc6e9, myVizzu_3c8df0f);\n",
       "        if (!document.inhibitScroll && true) {\n",
       "            myVizzu_21cc6e9.scrollIntoView({behavior: \"auto\", block: \"center\"});\n",
       "        }\n",
       "        return chart.animate({\"config\": {\"channels\": {\"size\": {\"detach\": \"Genres\"}, \"noop\": {\"set\": \"Genres\"}}}});\n",
       "    });\n",
       "</script>"
      ]
     },
     "metadata": {},
     "output_type": "display_data"
    }
   ],
   "source": [
    "chart.animate(snapshot2)\n",
    "\n",
    "chart.animate(Config({\"title\": \"Bubble chart - grouped - using the noop channel\"}))\n",
    "\n",
    "chart.animate(Config({\n",
    "    \"channels\": {\n",
    "        \"size\": {\n",
    "            \"detach\": 'Genres'\n",
    "        },\n",
    "        \"noop\": {\n",
    "            \"set\": 'Genres'\n",
    "        }\n",
    "    }\n",
    "}))"
   ]
  }
 ],
 "metadata": {
  "kernelspec": {
   "display_name": ".venv",
   "language": "python",
   "name": ".venv"
  },
  "language_info": {
   "codemirror_mode": {
    "name": "ipython",
    "version": 3
   },
   "file_extension": ".py",
   "mimetype": "text/x-python",
   "name": "python",
   "nbconvert_exporter": "python",
   "pygments_lexer": "ipython3",
   "version": "3.8.10"
  }
 },
 "nbformat": 4,
 "nbformat_minor": 5
}
