{
 "cells": [
  {
   "cell_type": "markdown",
   "id": "8518ab11",
   "metadata": {},
   "source": [
    "## Geometry\n",
    "\n",
    "In Vizzu you can set the geometric elements used to represent your data by the geometry property within the config object.\n",
    "\n",
    "The first step is switching the geometry to area.\n",
    "\n",
    "The second step is drawing a line chart.\n",
    "\n",
    "The third step is switching the geometry to circle. This setting is the most useful when used together with the size channel, as shown in the next chapter of the tutorial.\n",
    "\n",
    "The last step is switching the geometry to rectangle. Rectangle geometry is the default setting in Vizzu, used for most common charts like bar and column charts."
   ]
  },
  {
   "cell_type": "code",
   "execution_count": 1,
   "id": "b0552636",
   "metadata": {},
   "outputs": [
    {
     "data": {
      "text/html": [
       "<script id=\"myVizzu_4e6af9e\">\n",
       "    document.inhibitScroll = false;\n",
       "    document.addEventListener('wheel', function (evt) { document.inhibitScroll = true }, true);\n",
       "    document.addEventListener('keydown', function (evt) { document.inhibitScroll = true }, true);\n",
       "    document.addEventListener('touchstart', function (evt) { document.inhibitScroll = true }, true);\n",
       "    let myVizzu_9b1a9e3 = document.createElement(\"div\");\n",
       "    myVizzu_9b1a9e3.style.cssText = \"width: 800px; height: 480px;\";\n",
       "    let chart_9b1a9e3 = import(\"https://cdn.jsdelivr.net/npm/vizzu@~0.4.0/dist/vizzu.min.js\").then(Vizzu => new Vizzu.default(myVizzu_9b1a9e3).initializing);\n",
       "    myVizzu_4e6af9e.parentNode.insertBefore(myVizzu_9b1a9e3, myVizzu_4e6af9e);\n",
       "</script>"
      ]
     },
     "metadata": {},
     "output_type": "display_data"
    },
    {
     "data": {
      "text/html": [
       "<script id=\"myVizzu_f01af95\">\n",
       "    let display_f01af95 = myVizzu_f01af95.parentNode.parentNode.style.display;\n",
       "    myVizzu_f01af95.parentNode.parentNode.style.display = \"none\";\n",
       "    chart_9b1a9e3 = chart_9b1a9e3.then(chart => {\n",
       "        if (myVizzu_9b1a9e3.parentNode && myVizzu_9b1a9e3.parentNode.parentNode) {\n",
       "            myVizzu_9b1a9e3.parentNode.parentNode.style.display = \"none\";\n",
       "        }\n",
       "        myVizzu_f01af95.parentNode.parentNode.style.display = display_f01af95;\n",
       "        myVizzu_f01af95.parentNode.insertBefore(myVizzu_9b1a9e3, myVizzu_f01af95);\n",
       "        if (!document.inhibitScroll && true) {\n",
       "            myVizzu_9b1a9e3.scrollIntoView({behavior: \"auto\", block: \"center\"});\n",
       "        }\n",
       "        return chart.animate({\"data\": {\"dimensions\": [{\"name\": \"Genres\", \"values\": [\"Pop\", \"Rock\", \"Jazz\", \"Metal\"]}, {\"name\": \"Types\", \"values\": [\"Hard\", \"Smooth\", \"Experimental\"]}], \"measures\": [{\"name\": \"Popularity\", \"values\": [[114, 96, 78, 52], [56, 36, 174, 121], [127, 83, 94, 58]]}]}});\n",
       "    });\n",
       "</script>"
      ]
     },
     "metadata": {},
     "output_type": "display_data"
    },
    {
     "data": {
      "text/html": [
       "<script id=\"myVizzu_b3e60f5\">\n",
       "    let display_b3e60f5 = myVizzu_b3e60f5.parentNode.parentNode.style.display;\n",
       "    myVizzu_b3e60f5.parentNode.parentNode.style.display = \"none\";\n",
       "    chart_9b1a9e3 = chart_9b1a9e3.then(chart => {\n",
       "        if (myVizzu_9b1a9e3.parentNode && myVizzu_9b1a9e3.parentNode.parentNode) {\n",
       "            myVizzu_9b1a9e3.parentNode.parentNode.style.display = \"none\";\n",
       "        }\n",
       "        myVizzu_b3e60f5.parentNode.parentNode.style.display = display_b3e60f5;\n",
       "        myVizzu_b3e60f5.parentNode.insertBefore(myVizzu_9b1a9e3, myVizzu_b3e60f5);\n",
       "        if (!document.inhibitScroll && true) {\n",
       "            myVizzu_9b1a9e3.scrollIntoView({behavior: \"auto\", block: \"center\"});\n",
       "        }\n",
       "        return chart.animate({\"config\": {\"channels\": {\"y\": {\"set\": \"Popularity\"}, \"x\": {\"set\": \"Genres\"}}}});\n",
       "    });\n",
       "</script>"
      ]
     },
     "metadata": {},
     "output_type": "display_data"
    },
    {
     "data": {
      "text/html": [
       "<script id=\"myVizzu_2557665\">\n",
       "    let display_2557665 = myVizzu_2557665.parentNode.parentNode.style.display;\n",
       "    myVizzu_2557665.parentNode.parentNode.style.display = \"none\";\n",
       "    chart_9b1a9e3 = chart_9b1a9e3.then(chart => {\n",
       "        if (myVizzu_9b1a9e3.parentNode && myVizzu_9b1a9e3.parentNode.parentNode) {\n",
       "            myVizzu_9b1a9e3.parentNode.parentNode.style.display = \"none\";\n",
       "        }\n",
       "        myVizzu_2557665.parentNode.parentNode.style.display = display_2557665;\n",
       "        myVizzu_2557665.parentNode.insertBefore(myVizzu_9b1a9e3, myVizzu_2557665);\n",
       "        if (!document.inhibitScroll && true) {\n",
       "            myVizzu_9b1a9e3.scrollIntoView({behavior: \"auto\", block: \"center\"});\n",
       "        }\n",
       "        return chart.animate({\"config\": {\"title\": \"Geometry: area\"}});\n",
       "    });\n",
       "</script>"
      ]
     },
     "metadata": {},
     "output_type": "display_data"
    },
    {
     "data": {
      "text/html": [
       "<script id=\"myVizzu_2c10a18\">\n",
       "    let display_2c10a18 = myVizzu_2c10a18.parentNode.parentNode.style.display;\n",
       "    myVizzu_2c10a18.parentNode.parentNode.style.display = \"none\";\n",
       "    chart_9b1a9e3 = chart_9b1a9e3.then(chart => {\n",
       "        if (myVizzu_9b1a9e3.parentNode && myVizzu_9b1a9e3.parentNode.parentNode) {\n",
       "            myVizzu_9b1a9e3.parentNode.parentNode.style.display = \"none\";\n",
       "        }\n",
       "        myVizzu_2c10a18.parentNode.parentNode.style.display = display_2c10a18;\n",
       "        myVizzu_2c10a18.parentNode.insertBefore(myVizzu_9b1a9e3, myVizzu_2c10a18);\n",
       "        if (!document.inhibitScroll && true) {\n",
       "            myVizzu_9b1a9e3.scrollIntoView({behavior: \"auto\", block: \"center\"});\n",
       "        }\n",
       "        return chart.animate({\"config\": {\"geometry\": \"area\"}});\n",
       "    });\n",
       "</script>"
      ]
     },
     "metadata": {},
     "output_type": "display_data"
    },
    {
     "data": {
      "text/html": [
       "<script id=\"myVizzu_043b24f\">\n",
       "    let display_043b24f = myVizzu_043b24f.parentNode.parentNode.style.display;\n",
       "    myVizzu_043b24f.parentNode.parentNode.style.display = \"none\";\n",
       "    chart_9b1a9e3 = chart_9b1a9e3.then(chart => {\n",
       "        if (myVizzu_9b1a9e3.parentNode && myVizzu_9b1a9e3.parentNode.parentNode) {\n",
       "            myVizzu_9b1a9e3.parentNode.parentNode.style.display = \"none\";\n",
       "        }\n",
       "        myVizzu_043b24f.parentNode.parentNode.style.display = display_043b24f;\n",
       "        myVizzu_043b24f.parentNode.insertBefore(myVizzu_9b1a9e3, myVizzu_043b24f);\n",
       "        if (!document.inhibitScroll && true) {\n",
       "            myVizzu_9b1a9e3.scrollIntoView({behavior: \"auto\", block: \"center\"});\n",
       "        }\n",
       "        return chart.animate({\"config\": {\"title\": \"Geometry: line\"}});\n",
       "    });\n",
       "</script>"
      ]
     },
     "metadata": {},
     "output_type": "display_data"
    },
    {
     "data": {
      "text/html": [
       "<script id=\"myVizzu_d8d0161\">\n",
       "    let display_d8d0161 = myVizzu_d8d0161.parentNode.parentNode.style.display;\n",
       "    myVizzu_d8d0161.parentNode.parentNode.style.display = \"none\";\n",
       "    chart_9b1a9e3 = chart_9b1a9e3.then(chart => {\n",
       "        if (myVizzu_9b1a9e3.parentNode && myVizzu_9b1a9e3.parentNode.parentNode) {\n",
       "            myVizzu_9b1a9e3.parentNode.parentNode.style.display = \"none\";\n",
       "        }\n",
       "        myVizzu_d8d0161.parentNode.parentNode.style.display = display_d8d0161;\n",
       "        myVizzu_d8d0161.parentNode.insertBefore(myVizzu_9b1a9e3, myVizzu_d8d0161);\n",
       "        if (!document.inhibitScroll && true) {\n",
       "            myVizzu_9b1a9e3.scrollIntoView({behavior: \"auto\", block: \"center\"});\n",
       "        }\n",
       "        return chart.animate({\"config\": {\"geometry\": \"line\"}});\n",
       "    });\n",
       "</script>"
      ]
     },
     "metadata": {},
     "output_type": "display_data"
    },
    {
     "data": {
      "text/html": [
       "<script id=\"myVizzu_d5fc456\">\n",
       "    let display_d5fc456 = myVizzu_d5fc456.parentNode.parentNode.style.display;\n",
       "    myVizzu_d5fc456.parentNode.parentNode.style.display = \"none\";\n",
       "    chart_9b1a9e3 = chart_9b1a9e3.then(chart => {\n",
       "        if (myVizzu_9b1a9e3.parentNode && myVizzu_9b1a9e3.parentNode.parentNode) {\n",
       "            myVizzu_9b1a9e3.parentNode.parentNode.style.display = \"none\";\n",
       "        }\n",
       "        myVizzu_d5fc456.parentNode.parentNode.style.display = display_d5fc456;\n",
       "        myVizzu_d5fc456.parentNode.insertBefore(myVizzu_9b1a9e3, myVizzu_d5fc456);\n",
       "        if (!document.inhibitScroll && true) {\n",
       "            myVizzu_9b1a9e3.scrollIntoView({behavior: \"auto\", block: \"center\"});\n",
       "        }\n",
       "        return chart.animate({\"config\": {\"title\": \"Geometry: circle\"}});\n",
       "    });\n",
       "</script>"
      ]
     },
     "metadata": {},
     "output_type": "display_data"
    },
    {
     "data": {
      "text/html": [
       "<script id=\"myVizzu_0fb006f\">\n",
       "    let display_0fb006f = myVizzu_0fb006f.parentNode.parentNode.style.display;\n",
       "    myVizzu_0fb006f.parentNode.parentNode.style.display = \"none\";\n",
       "    chart_9b1a9e3 = chart_9b1a9e3.then(chart => {\n",
       "        if (myVizzu_9b1a9e3.parentNode && myVizzu_9b1a9e3.parentNode.parentNode) {\n",
       "            myVizzu_9b1a9e3.parentNode.parentNode.style.display = \"none\";\n",
       "        }\n",
       "        myVizzu_0fb006f.parentNode.parentNode.style.display = display_0fb006f;\n",
       "        myVizzu_0fb006f.parentNode.insertBefore(myVizzu_9b1a9e3, myVizzu_0fb006f);\n",
       "        if (!document.inhibitScroll && true) {\n",
       "            myVizzu_9b1a9e3.scrollIntoView({behavior: \"auto\", block: \"center\"});\n",
       "        }\n",
       "        return chart.animate({\"config\": {\"geometry\": \"circle\"}});\n",
       "    });\n",
       "</script>"
      ]
     },
     "metadata": {},
     "output_type": "display_data"
    },
    {
     "data": {
      "text/html": [
       "<script id=\"myVizzu_823dc4a\">\n",
       "    let display_823dc4a = myVizzu_823dc4a.parentNode.parentNode.style.display;\n",
       "    myVizzu_823dc4a.parentNode.parentNode.style.display = \"none\";\n",
       "    chart_9b1a9e3 = chart_9b1a9e3.then(chart => {\n",
       "        if (myVizzu_9b1a9e3.parentNode && myVizzu_9b1a9e3.parentNode.parentNode) {\n",
       "            myVizzu_9b1a9e3.parentNode.parentNode.style.display = \"none\";\n",
       "        }\n",
       "        myVizzu_823dc4a.parentNode.parentNode.style.display = display_823dc4a;\n",
       "        myVizzu_823dc4a.parentNode.insertBefore(myVizzu_9b1a9e3, myVizzu_823dc4a);\n",
       "        if (!document.inhibitScroll && true) {\n",
       "            myVizzu_9b1a9e3.scrollIntoView({behavior: \"auto\", block: \"center\"});\n",
       "        }\n",
       "        return chart.animate({\"config\": {\"title\": \"Geometry: rectangle - default\"}});\n",
       "    });\n",
       "</script>"
      ]
     },
     "metadata": {},
     "output_type": "display_data"
    },
    {
     "data": {
      "text/html": [
       "<script id=\"myVizzu_f833039\">\n",
       "    let display_f833039 = myVizzu_f833039.parentNode.parentNode.style.display;\n",
       "    myVizzu_f833039.parentNode.parentNode.style.display = \"none\";\n",
       "    chart_9b1a9e3 = chart_9b1a9e3.then(chart => {\n",
       "        if (myVizzu_9b1a9e3.parentNode && myVizzu_9b1a9e3.parentNode.parentNode) {\n",
       "            myVizzu_9b1a9e3.parentNode.parentNode.style.display = \"none\";\n",
       "        }\n",
       "        myVizzu_f833039.parentNode.parentNode.style.display = display_f833039;\n",
       "        myVizzu_f833039.parentNode.insertBefore(myVizzu_9b1a9e3, myVizzu_f833039);\n",
       "        if (!document.inhibitScroll && true) {\n",
       "            myVizzu_9b1a9e3.scrollIntoView({behavior: \"auto\", block: \"center\"});\n",
       "        }\n",
       "        return chart.animate({\"config\": {\"geometry\": \"rectangle\"}});\n",
       "    });\n",
       "</script>"
      ]
     },
     "metadata": {},
     "output_type": "display_data"
    }
   ],
   "source": [
    "from ipyvizzu import Chart, Data, Config\n",
    "\n",
    "chart = Chart()\n",
    "\n",
    "data = Data.from_json(\"./music_data.json\")\n",
    "\n",
    "chart.animate(data)\n",
    "\n",
    "chart.animate(Config({\n",
    "    \"channels\": {\n",
    "        \"y\": {\n",
    "            \"set\": \"Popularity\"\n",
    "        }, \n",
    "        \"x\": {\n",
    "            \"set\": \"Genres\"\n",
    "        }\n",
    "    }\n",
    "}))\n",
    "\n",
    "chart.animate(Config({\n",
    "    \"title\": \"Geometry: area\"\n",
    "}))\n",
    "\n",
    "chart.animate(Config({\n",
    "    \"geometry\": \"area\"\n",
    "}))\n",
    "\n",
    "chart.animate(Config({\n",
    "    \"title\": \"Geometry: line\"\n",
    "}))\n",
    "\n",
    "chart.animate(Config({\n",
    "    \"geometry\": \"line\"\n",
    "}))\n",
    "\n",
    "chart.animate(Config({\n",
    "    \"title\": \"Geometry: circle\"\n",
    "}))\n",
    "\n",
    "chart.animate(Config({\n",
    "    \"geometry\": \"circle\"\n",
    "}))\n",
    "\n",
    "chart.animate(Config({\n",
    "    \"title\": \"Geometry: rectangle - default\"\n",
    "}))\n",
    "\n",
    "chart.animate(Config({\n",
    "    \"geometry\": \"rectangle\"\n",
    "}))"
   ]
  }
 ],
 "metadata": {
  "kernelspec": {
   "display_name": ".venv",
   "language": "python",
   "name": ".venv"
  },
  "language_info": {
   "codemirror_mode": {
    "name": "ipython",
    "version": 3
   },
   "file_extension": ".py",
   "mimetype": "text/x-python",
   "name": "python",
   "nbconvert_exporter": "python",
   "pygments_lexer": "ipython3",
   "version": "3.8.10"
  }
 },
 "nbformat": 4,
 "nbformat_minor": 5
}
