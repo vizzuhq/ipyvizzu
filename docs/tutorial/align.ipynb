{
 "cells": [
  {
   "cell_type": "markdown",
   "id": "454600ae",
   "metadata": {},
   "source": [
    "## Align & range\n",
    "\n",
    "Vizzu offers different options to align your chart elements and to set the range of values shown on the axes. Alignment can be used to create charts like a stream chart where the elements are vertically centered. A good example for using range is when you fix the y-axis so that it would not adapt to the data being shown.\n",
    "\n",
    "Centered alignment. The effect of this parameter depends on the orientation of the chart. For example, on a column chart, elements will be vertically centered, whereas on a bar chart, horizontally."
   ]
  },
  {
   "cell_type": "code",
   "execution_count": 1,
   "id": "5a6a5806",
   "metadata": {},
   "outputs": [
    {
     "data": {
      "text/html": [
       "<script id=\"myVizzu_7101514\">\n",
       "    document.inhibitScroll = false;\n",
       "    document.addEventListener('wheel', function (evt) { document.inhibitScroll = true }, true);\n",
       "    document.addEventListener('keydown', function (evt) { document.inhibitScroll = true }, true);\n",
       "    document.addEventListener('touchstart', function (evt) { document.inhibitScroll = true }, true);\n",
       "    let myVizzu_08907ce = document.createElement(\"div\");\n",
       "    myVizzu_08907ce.style.cssText = \"width: 800px; height: 480px;\";\n",
       "    let chart_08907ce = import(\"https://cdn.jsdelivr.net/npm/vizzu@~0.4.0/dist/vizzu.min.js\").then(Vizzu => new Vizzu.default(myVizzu_08907ce).initializing);\n",
       "    myVizzu_7101514.parentNode.insertBefore(myVizzu_08907ce, myVizzu_7101514);\n",
       "</script>"
      ]
     },
     "metadata": {},
     "output_type": "display_data"
    },
    {
     "data": {
      "text/html": [
       "<script id=\"myVizzu_1124bb0\">\n",
       "    let display_1124bb0 = myVizzu_1124bb0.parentNode.parentNode.style.display;\n",
       "    myVizzu_1124bb0.parentNode.parentNode.style.display = \"none\";\n",
       "    chart_08907ce = chart_08907ce.then(chart => {\n",
       "        if (myVizzu_08907ce.parentNode && myVizzu_08907ce.parentNode.parentNode) {\n",
       "            myVizzu_08907ce.parentNode.parentNode.style.display = \"none\";\n",
       "        }\n",
       "        myVizzu_1124bb0.parentNode.parentNode.style.display = display_1124bb0;\n",
       "        myVizzu_1124bb0.parentNode.insertBefore(myVizzu_08907ce, myVizzu_1124bb0);\n",
       "        if (!document.inhibitScroll && true) {\n",
       "            myVizzu_08907ce.scrollIntoView({behavior: \"auto\", block: \"center\"});\n",
       "        }\n",
       "        return chart.animate({\"data\": {\"dimensions\": [{\"name\": \"Genres\", \"values\": [\"Pop\", \"Rock\", \"Jazz\", \"Metal\"]}, {\"name\": \"Types\", \"values\": [\"Hard\", \"Smooth\", \"Experimental\"]}], \"measures\": [{\"name\": \"Popularity\", \"values\": [[114, 96, 78, 52], [56, 36, 174, 121], [127, 83, 94, 58]]}]}});\n",
       "    });\n",
       "</script>"
      ]
     },
     "metadata": {},
     "output_type": "display_data"
    },
    {
     "data": {
      "text/html": [
       "<script id=\"myVizzu_0fe0b4f\">\n",
       "    let display_0fe0b4f = myVizzu_0fe0b4f.parentNode.parentNode.style.display;\n",
       "    myVizzu_0fe0b4f.parentNode.parentNode.style.display = \"none\";\n",
       "    chart_08907ce = chart_08907ce.then(chart => {\n",
       "        if (myVizzu_08907ce.parentNode && myVizzu_08907ce.parentNode.parentNode) {\n",
       "            myVizzu_08907ce.parentNode.parentNode.style.display = \"none\";\n",
       "        }\n",
       "        myVizzu_0fe0b4f.parentNode.parentNode.style.display = display_0fe0b4f;\n",
       "        myVizzu_0fe0b4f.parentNode.insertBefore(myVizzu_08907ce, myVizzu_0fe0b4f);\n",
       "        if (!document.inhibitScroll && true) {\n",
       "            myVizzu_08907ce.scrollIntoView({behavior: \"auto\", block: \"center\"});\n",
       "        }\n",
       "        return chart.animate({\"config\": {\"channels\": {\"y\": {\"set\": [\"Popularity\", \"Types\"]}, \"x\": {\"set\": \"Genres\"}, \"label\": {\"attach\": \"Popularity\"}}, \"color\": {\"attach\": \"Types\"}, \"title\": \"Align: center\"}});\n",
       "    });\n",
       "</script>"
      ]
     },
     "metadata": {},
     "output_type": "display_data"
    },
    {
     "data": {
      "text/html": [
       "<script id=\"myVizzu_de0d56c\">\n",
       "    let display_de0d56c = myVizzu_de0d56c.parentNode.parentNode.style.display;\n",
       "    myVizzu_de0d56c.parentNode.parentNode.style.display = \"none\";\n",
       "    chart_08907ce = chart_08907ce.then(chart => {\n",
       "        if (myVizzu_08907ce.parentNode && myVizzu_08907ce.parentNode.parentNode) {\n",
       "            myVizzu_08907ce.parentNode.parentNode.style.display = \"none\";\n",
       "        }\n",
       "        myVizzu_de0d56c.parentNode.parentNode.style.display = display_de0d56c;\n",
       "        myVizzu_de0d56c.parentNode.insertBefore(myVizzu_08907ce, myVizzu_de0d56c);\n",
       "        if (!document.inhibitScroll && true) {\n",
       "            myVizzu_08907ce.scrollIntoView({behavior: \"auto\", block: \"center\"});\n",
       "        }\n",
       "        return chart.animate({\"config\": {\"align\": \"center\"}});\n",
       "    });\n",
       "</script>"
      ]
     },
     "metadata": {},
     "output_type": "display_data"
    },
    {
     "data": {
      "text/html": [
       "<script id=\"myVizzu_d0447ea\">\n",
       "    myVizzu_d0447ea.parentNode.parentNode.style.display = \"none\";\n",
       "    let snapshot_d0447ea;\n",
       "    chart_08907ce = chart_08907ce.then(chart => {\n",
       "        snapshot_d0447ea = chart.store();\n",
       "        return chart;\n",
       "    });\n",
       "</script>"
      ]
     },
     "metadata": {},
     "output_type": "display_data"
    }
   ],
   "source": [
    "from ipyvizzu import Chart, Data, Config\n",
    "\n",
    "chart = Chart()\n",
    "\n",
    "data = Data.from_json(\"./music_data.json\")\n",
    "\n",
    "chart.animate(data)\n",
    "\n",
    "chart.animate(Config({\n",
    "    \"channels\": {\n",
    "        \"y\": {\n",
    "            \"set\": [\"Popularity\", \"Types\"]\n",
    "        }, \n",
    "        \"x\": {\n",
    "            \"set\": \"Genres\"\n",
    "        },\n",
    "        \"label\": {\n",
    "            \"attach\": \"Popularity\"\n",
    "        }\n",
    "    },\n",
    "    \"color\": {\n",
    "        \"attach\": \"Types\"\n",
    "    },\n",
    "    \"title\": \"Align: center\"\n",
    "}))\n",
    "\n",
    "chart.animate(Config({\n",
    "    \"align\": \"center\"\n",
    "}))\n",
    "\n",
    "snapshot1 = chart.store()"
   ]
  },
  {
   "cell_type": "markdown",
   "id": "de236c9d",
   "metadata": {},
   "source": [
    "Stretched alignment. This way the elements will proportionally fill the entire plot area, effectively showing proportions in stacked charts. This is why the scale will also switch from values to percentages when used."
   ]
  },
  {
   "cell_type": "code",
   "execution_count": 2,
   "id": "2570dfc5",
   "metadata": {},
   "outputs": [
    {
     "data": {
      "text/html": [
       "<script id=\"myVizzu_2ec62cc\">\n",
       "    document.inhibitScroll = false;\n",
       "</script>"
      ]
     },
     "metadata": {},
     "output_type": "display_data"
    },
    {
     "data": {
      "text/html": [
       "<script id=\"myVizzu_e67d338\">\n",
       "    let display_e67d338 = myVizzu_e67d338.parentNode.parentNode.style.display;\n",
       "    myVizzu_e67d338.parentNode.parentNode.style.display = \"none\";\n",
       "    chart_08907ce = chart_08907ce.then(chart => {\n",
       "        if (myVizzu_08907ce.parentNode && myVizzu_08907ce.parentNode.parentNode) {\n",
       "            myVizzu_08907ce.parentNode.parentNode.style.display = \"none\";\n",
       "        }\n",
       "        myVizzu_e67d338.parentNode.parentNode.style.display = display_e67d338;\n",
       "        myVizzu_e67d338.parentNode.insertBefore(myVizzu_08907ce, myVizzu_e67d338);\n",
       "        if (!document.inhibitScroll && true) {\n",
       "            myVizzu_08907ce.scrollIntoView({behavior: \"auto\", block: \"center\"});\n",
       "        }\n",
       "        return chart.animate(snapshot_d0447ea);\n",
       "    });\n",
       "</script>"
      ]
     },
     "metadata": {},
     "output_type": "display_data"
    },
    {
     "data": {
      "text/html": [
       "<script id=\"myVizzu_2d6b3f4\">\n",
       "    let display_2d6b3f4 = myVizzu_2d6b3f4.parentNode.parentNode.style.display;\n",
       "    myVizzu_2d6b3f4.parentNode.parentNode.style.display = \"none\";\n",
       "    chart_08907ce = chart_08907ce.then(chart => {\n",
       "        if (myVizzu_08907ce.parentNode && myVizzu_08907ce.parentNode.parentNode) {\n",
       "            myVizzu_08907ce.parentNode.parentNode.style.display = \"none\";\n",
       "        }\n",
       "        myVizzu_2d6b3f4.parentNode.parentNode.style.display = display_2d6b3f4;\n",
       "        myVizzu_2d6b3f4.parentNode.insertBefore(myVizzu_08907ce, myVizzu_2d6b3f4);\n",
       "        if (!document.inhibitScroll && true) {\n",
       "            myVizzu_08907ce.scrollIntoView({behavior: \"auto\", block: \"center\"});\n",
       "        }\n",
       "        return chart.animate({\"config\": {\"title\": \"Align: stretch = % view\"}});\n",
       "    });\n",
       "</script>"
      ]
     },
     "metadata": {},
     "output_type": "display_data"
    },
    {
     "data": {
      "text/html": [
       "<script id=\"myVizzu_b864ce5\">\n",
       "    let display_b864ce5 = myVizzu_b864ce5.parentNode.parentNode.style.display;\n",
       "    myVizzu_b864ce5.parentNode.parentNode.style.display = \"none\";\n",
       "    chart_08907ce = chart_08907ce.then(chart => {\n",
       "        if (myVizzu_08907ce.parentNode && myVizzu_08907ce.parentNode.parentNode) {\n",
       "            myVizzu_08907ce.parentNode.parentNode.style.display = \"none\";\n",
       "        }\n",
       "        myVizzu_b864ce5.parentNode.parentNode.style.display = display_b864ce5;\n",
       "        myVizzu_b864ce5.parentNode.insertBefore(myVizzu_08907ce, myVizzu_b864ce5);\n",
       "        if (!document.inhibitScroll && true) {\n",
       "            myVizzu_08907ce.scrollIntoView({behavior: \"auto\", block: \"center\"});\n",
       "        }\n",
       "        return chart.animate({\"config\": {\"align\": \"stretch\"}});\n",
       "    });\n",
       "</script>"
      ]
     },
     "metadata": {},
     "output_type": "display_data"
    },
    {
     "data": {
      "text/html": [
       "<script id=\"myVizzu_d460352\">\n",
       "    myVizzu_d460352.parentNode.parentNode.style.display = \"none\";\n",
       "    let snapshot_d460352;\n",
       "    chart_08907ce = chart_08907ce.then(chart => {\n",
       "        snapshot_d460352 = chart.store();\n",
       "        return chart;\n",
       "    });\n",
       "</script>"
      ]
     },
     "metadata": {},
     "output_type": "display_data"
    }
   ],
   "source": [
    "chart.animate(snapshot1)\n",
    "\n",
    "chart.animate(Config({\"title\": \"Align: stretch = % view\"}))\n",
    "\n",
    "chart.animate(Config({\n",
    "    \"align\": \"stretch\"\n",
    "}))\n",
    "\n",
    "snapshot2 = chart.store()"
   ]
  },
  {
   "cell_type": "markdown",
   "id": "2fe74668",
   "metadata": {},
   "source": [
    "Getting back to the default alignment."
   ]
  },
  {
   "cell_type": "code",
   "execution_count": 3,
   "id": "968c95e7",
   "metadata": {},
   "outputs": [
    {
     "data": {
      "text/html": [
       "<script id=\"myVizzu_d7b6879\">\n",
       "    document.inhibitScroll = false;\n",
       "</script>"
      ]
     },
     "metadata": {},
     "output_type": "display_data"
    },
    {
     "data": {
      "text/html": [
       "<script id=\"myVizzu_be9cd45\">\n",
       "    let display_be9cd45 = myVizzu_be9cd45.parentNode.parentNode.style.display;\n",
       "    myVizzu_be9cd45.parentNode.parentNode.style.display = \"none\";\n",
       "    chart_08907ce = chart_08907ce.then(chart => {\n",
       "        if (myVizzu_08907ce.parentNode && myVizzu_08907ce.parentNode.parentNode) {\n",
       "            myVizzu_08907ce.parentNode.parentNode.style.display = \"none\";\n",
       "        }\n",
       "        myVizzu_be9cd45.parentNode.parentNode.style.display = display_be9cd45;\n",
       "        myVizzu_be9cd45.parentNode.insertBefore(myVizzu_08907ce, myVizzu_be9cd45);\n",
       "        if (!document.inhibitScroll && true) {\n",
       "            myVizzu_08907ce.scrollIntoView({behavior: \"auto\", block: \"center\"});\n",
       "        }\n",
       "        return chart.animate(snapshot_d460352);\n",
       "    });\n",
       "</script>"
      ]
     },
     "metadata": {},
     "output_type": "display_data"
    },
    {
     "data": {
      "text/html": [
       "<script id=\"myVizzu_722c888\">\n",
       "    let display_722c888 = myVizzu_722c888.parentNode.parentNode.style.display;\n",
       "    myVizzu_722c888.parentNode.parentNode.style.display = \"none\";\n",
       "    chart_08907ce = chart_08907ce.then(chart => {\n",
       "        if (myVizzu_08907ce.parentNode && myVizzu_08907ce.parentNode.parentNode) {\n",
       "            myVizzu_08907ce.parentNode.parentNode.style.display = \"none\";\n",
       "        }\n",
       "        myVizzu_722c888.parentNode.parentNode.style.display = display_722c888;\n",
       "        myVizzu_722c888.parentNode.insertBefore(myVizzu_08907ce, myVizzu_722c888);\n",
       "        if (!document.inhibitScroll && true) {\n",
       "            myVizzu_08907ce.scrollIntoView({behavior: \"auto\", block: \"center\"});\n",
       "        }\n",
       "        return chart.animate({\"config\": {\"title\": \"Align: none - default\"}});\n",
       "    });\n",
       "</script>"
      ]
     },
     "metadata": {},
     "output_type": "display_data"
    },
    {
     "data": {
      "text/html": [
       "<script id=\"myVizzu_1457d5e\">\n",
       "    let display_1457d5e = myVizzu_1457d5e.parentNode.parentNode.style.display;\n",
       "    myVizzu_1457d5e.parentNode.parentNode.style.display = \"none\";\n",
       "    chart_08907ce = chart_08907ce.then(chart => {\n",
       "        if (myVizzu_08907ce.parentNode && myVizzu_08907ce.parentNode.parentNode) {\n",
       "            myVizzu_08907ce.parentNode.parentNode.style.display = \"none\";\n",
       "        }\n",
       "        myVizzu_1457d5e.parentNode.parentNode.style.display = display_1457d5e;\n",
       "        myVizzu_1457d5e.parentNode.insertBefore(myVizzu_08907ce, myVizzu_1457d5e);\n",
       "        if (!document.inhibitScroll && true) {\n",
       "            myVizzu_08907ce.scrollIntoView({behavior: \"auto\", block: \"center\"});\n",
       "        }\n",
       "        return chart.animate({\"config\": {\"align\": \"none\"}});\n",
       "    });\n",
       "</script>"
      ]
     },
     "metadata": {},
     "output_type": "display_data"
    },
    {
     "data": {
      "text/html": [
       "<script id=\"myVizzu_f5e91da\">\n",
       "    myVizzu_f5e91da.parentNode.parentNode.style.display = \"none\";\n",
       "    let snapshot_f5e91da;\n",
       "    chart_08907ce = chart_08907ce.then(chart => {\n",
       "        snapshot_f5e91da = chart.store();\n",
       "        return chart;\n",
       "    });\n",
       "</script>"
      ]
     },
     "metadata": {},
     "output_type": "display_data"
    }
   ],
   "source": [
    "chart.animate(snapshot2)\n",
    "\n",
    "chart.animate(Config({\"title\": \"Align: none - default\"}))\n",
    "\n",
    "chart.animate(Config({\n",
    "    \"align\": \"none\"\n",
    "}))\n",
    "\n",
    "snapshot3 = chart.store()"
   ]
  },
  {
   "cell_type": "markdown",
   "id": "000773c1",
   "metadata": {},
   "source": [
    "You can set the range of an axis by setting the minimum and maximum values of it. Both parameters are optional so that you can set only one of those, and you either set specific values or a relative value by adding the % sign. In this example, we set the range of the y-axis in a way that the max value is 150% of the biggest element’s value."
   ]
  },
  {
   "cell_type": "code",
   "execution_count": 4,
   "id": "7aeb7745",
   "metadata": {},
   "outputs": [
    {
     "data": {
      "text/html": [
       "<script id=\"myVizzu_b6034d6\">\n",
       "    document.inhibitScroll = false;\n",
       "</script>"
      ]
     },
     "metadata": {},
     "output_type": "display_data"
    },
    {
     "data": {
      "text/html": [
       "<script id=\"myVizzu_bba4a0e\">\n",
       "    let display_bba4a0e = myVizzu_bba4a0e.parentNode.parentNode.style.display;\n",
       "    myVizzu_bba4a0e.parentNode.parentNode.style.display = \"none\";\n",
       "    chart_08907ce = chart_08907ce.then(chart => {\n",
       "        if (myVizzu_08907ce.parentNode && myVizzu_08907ce.parentNode.parentNode) {\n",
       "            myVizzu_08907ce.parentNode.parentNode.style.display = \"none\";\n",
       "        }\n",
       "        myVizzu_bba4a0e.parentNode.parentNode.style.display = display_bba4a0e;\n",
       "        myVizzu_bba4a0e.parentNode.insertBefore(myVizzu_08907ce, myVizzu_bba4a0e);\n",
       "        if (!document.inhibitScroll && true) {\n",
       "            myVizzu_08907ce.scrollIntoView({behavior: \"auto\", block: \"center\"});\n",
       "        }\n",
       "        return chart.animate(snapshot_f5e91da);\n",
       "    });\n",
       "</script>"
      ]
     },
     "metadata": {},
     "output_type": "display_data"
    },
    {
     "data": {
      "text/html": [
       "<script id=\"myVizzu_93be391\">\n",
       "    let display_93be391 = myVizzu_93be391.parentNode.parentNode.style.display;\n",
       "    myVizzu_93be391.parentNode.parentNode.style.display = \"none\";\n",
       "    chart_08907ce = chart_08907ce.then(chart => {\n",
       "        if (myVizzu_08907ce.parentNode && myVizzu_08907ce.parentNode.parentNode) {\n",
       "            myVizzu_08907ce.parentNode.parentNode.style.display = \"none\";\n",
       "        }\n",
       "        myVizzu_93be391.parentNode.parentNode.style.display = display_93be391;\n",
       "        myVizzu_93be391.parentNode.insertBefore(myVizzu_08907ce, myVizzu_93be391);\n",
       "        if (!document.inhibitScroll && true) {\n",
       "            myVizzu_08907ce.scrollIntoView({behavior: \"auto\", block: \"center\"});\n",
       "        }\n",
       "        return chart.animate({\"config\": {\"title\": \"Axis range set proportionally to shown values\"}});\n",
       "    });\n",
       "</script>"
      ]
     },
     "metadata": {},
     "output_type": "display_data"
    },
    {
     "data": {
      "text/html": [
       "<script id=\"myVizzu_ce5f968\">\n",
       "    let display_ce5f968 = myVizzu_ce5f968.parentNode.parentNode.style.display;\n",
       "    myVizzu_ce5f968.parentNode.parentNode.style.display = \"none\";\n",
       "    chart_08907ce = chart_08907ce.then(chart => {\n",
       "        if (myVizzu_08907ce.parentNode && myVizzu_08907ce.parentNode.parentNode) {\n",
       "            myVizzu_08907ce.parentNode.parentNode.style.display = \"none\";\n",
       "        }\n",
       "        myVizzu_ce5f968.parentNode.parentNode.style.display = display_ce5f968;\n",
       "        myVizzu_ce5f968.parentNode.insertBefore(myVizzu_08907ce, myVizzu_ce5f968);\n",
       "        if (!document.inhibitScroll && true) {\n",
       "            myVizzu_08907ce.scrollIntoView({behavior: \"auto\", block: \"center\"});\n",
       "        }\n",
       "        return chart.animate({\"config\": {\"channels\": {\"y\": {\"range\": {\"max\": \"150%\"}}}}});\n",
       "    });\n",
       "</script>"
      ]
     },
     "metadata": {},
     "output_type": "display_data"
    },
    {
     "data": {
      "text/html": [
       "<script id=\"myVizzu_56e65f5\">\n",
       "    myVizzu_56e65f5.parentNode.parentNode.style.display = \"none\";\n",
       "    let snapshot_56e65f5;\n",
       "    chart_08907ce = chart_08907ce.then(chart => {\n",
       "        snapshot_56e65f5 = chart.store();\n",
       "        return chart;\n",
       "    });\n",
       "</script>"
      ]
     },
     "metadata": {},
     "output_type": "display_data"
    }
   ],
   "source": [
    "chart.animate(snapshot3)\n",
    "\n",
    "chart.animate(Config({\"title\": \"Axis range set proportionally to shown values\"}))\n",
    "\n",
    "chart.animate(Config({\n",
    "    \"channels\": {\n",
    "        \"y\": {\n",
    "            \"range\": {\n",
    "                \"max\": \"150%\"\n",
    "            }\n",
    "        }\n",
    "    }\n",
    "}))\n",
    "\n",
    "snapshot4 = chart.store()"
   ]
  },
  {
   "cell_type": "markdown",
   "id": "119ea887",
   "metadata": {},
   "source": [
    "You can also set the range for an axis with a dimension on it. You can even use this feature to filter certain elements, just like in the following example."
   ]
  },
  {
   "cell_type": "code",
   "execution_count": 5,
   "id": "aeeeb6a4",
   "metadata": {},
   "outputs": [
    {
     "data": {
      "text/html": [
       "<script id=\"myVizzu_8882c31\">\n",
       "    document.inhibitScroll = false;\n",
       "</script>"
      ]
     },
     "metadata": {},
     "output_type": "display_data"
    },
    {
     "data": {
      "text/html": [
       "<script id=\"myVizzu_9c13939\">\n",
       "    let display_9c13939 = myVizzu_9c13939.parentNode.parentNode.style.display;\n",
       "    myVizzu_9c13939.parentNode.parentNode.style.display = \"none\";\n",
       "    chart_08907ce = chart_08907ce.then(chart => {\n",
       "        if (myVizzu_08907ce.parentNode && myVizzu_08907ce.parentNode.parentNode) {\n",
       "            myVizzu_08907ce.parentNode.parentNode.style.display = \"none\";\n",
       "        }\n",
       "        myVizzu_9c13939.parentNode.parentNode.style.display = display_9c13939;\n",
       "        myVizzu_9c13939.parentNode.insertBefore(myVizzu_08907ce, myVizzu_9c13939);\n",
       "        if (!document.inhibitScroll && true) {\n",
       "            myVizzu_08907ce.scrollIntoView({behavior: \"auto\", block: \"center\"});\n",
       "        }\n",
       "        return chart.animate(snapshot_56e65f5);\n",
       "    });\n",
       "</script>"
      ]
     },
     "metadata": {},
     "output_type": "display_data"
    },
    {
     "data": {
      "text/html": [
       "<script id=\"myVizzu_28bd09c\">\n",
       "    let display_28bd09c = myVizzu_28bd09c.parentNode.parentNode.style.display;\n",
       "    myVizzu_28bd09c.parentNode.parentNode.style.display = \"none\";\n",
       "    chart_08907ce = chart_08907ce.then(chart => {\n",
       "        if (myVizzu_08907ce.parentNode && myVizzu_08907ce.parentNode.parentNode) {\n",
       "            myVizzu_08907ce.parentNode.parentNode.style.display = \"none\";\n",
       "        }\n",
       "        myVizzu_28bd09c.parentNode.parentNode.style.display = display_28bd09c;\n",
       "        myVizzu_28bd09c.parentNode.insertBefore(myVizzu_08907ce, myVizzu_28bd09c);\n",
       "        if (!document.inhibitScroll && true) {\n",
       "            myVizzu_08907ce.scrollIntoView({behavior: \"auto\", block: \"center\"});\n",
       "        }\n",
       "        return chart.animate({\"config\": {\"title\": \"Axis range set explicitly on an axis with discrete series\"}});\n",
       "    });\n",
       "</script>"
      ]
     },
     "metadata": {},
     "output_type": "display_data"
    },
    {
     "data": {
      "text/html": [
       "<script id=\"myVizzu_1f050d9\">\n",
       "    let display_1f050d9 = myVizzu_1f050d9.parentNode.parentNode.style.display;\n",
       "    myVizzu_1f050d9.parentNode.parentNode.style.display = \"none\";\n",
       "    chart_08907ce = chart_08907ce.then(chart => {\n",
       "        if (myVizzu_08907ce.parentNode && myVizzu_08907ce.parentNode.parentNode) {\n",
       "            myVizzu_08907ce.parentNode.parentNode.style.display = \"none\";\n",
       "        }\n",
       "        myVizzu_1f050d9.parentNode.parentNode.style.display = display_1f050d9;\n",
       "        myVizzu_1f050d9.parentNode.insertBefore(myVizzu_08907ce, myVizzu_1f050d9);\n",
       "        if (!document.inhibitScroll && true) {\n",
       "            myVizzu_08907ce.scrollIntoView({behavior: \"auto\", block: \"center\"});\n",
       "        }\n",
       "        return chart.animate({\"config\": {\"channels\": {\"x\": {\"range\": {\"min\": -2, \"max\": 3}}}}});\n",
       "    });\n",
       "</script>"
      ]
     },
     "metadata": {},
     "output_type": "display_data"
    },
    {
     "data": {
      "text/html": [
       "<script id=\"myVizzu_7230664\">\n",
       "    myVizzu_7230664.parentNode.parentNode.style.display = \"none\";\n",
       "    let snapshot_7230664;\n",
       "    chart_08907ce = chart_08907ce.then(chart => {\n",
       "        snapshot_7230664 = chart.store();\n",
       "        return chart;\n",
       "    });\n",
       "</script>"
      ]
     },
     "metadata": {},
     "output_type": "display_data"
    }
   ],
   "source": [
    "chart.animate(snapshot4)\n",
    "\n",
    "chart.animate(Config({\"title\": \"Axis range set explicitly on an axis with discrete series\"}))\n",
    "\n",
    "chart.animate(Config({\n",
    "    \"channels\": {\n",
    "        \"x\": {\n",
    "            \"range\": {\n",
    "                \"min\": -2,\n",
    "                \"max\": 3,\n",
    "            }\n",
    "        }\n",
    "    }\n",
    "}))\n",
    "\n",
    "snapshot5 = chart.store()"
   ]
  },
  {
   "cell_type": "markdown",
   "id": "8d504699",
   "metadata": {},
   "source": [
    "Ranges have certain defaults depending on the chart's configuration, based on common data viz guidelines because we wanted to make it easy for you to create sleek charts. For example, in the cartesian coordinate system, the range will be automatically set to the max:110% for an axis with a measure on it. Polar coordinates work differently, as you can see for yourself in the Orientation, split & polar chapter.\n",
    "\n",
    "Whenever you want to set your ranges back to the default value, just set them to ‘auto’."
   ]
  },
  {
   "cell_type": "code",
   "execution_count": 6,
   "id": "db518966",
   "metadata": {},
   "outputs": [
    {
     "data": {
      "text/html": [
       "<script id=\"myVizzu_6d3ecf1\">\n",
       "    document.inhibitScroll = false;\n",
       "</script>"
      ]
     },
     "metadata": {},
     "output_type": "display_data"
    },
    {
     "data": {
      "text/html": [
       "<script id=\"myVizzu_e2c313e\">\n",
       "    let display_e2c313e = myVizzu_e2c313e.parentNode.parentNode.style.display;\n",
       "    myVizzu_e2c313e.parentNode.parentNode.style.display = \"none\";\n",
       "    chart_08907ce = chart_08907ce.then(chart => {\n",
       "        if (myVizzu_08907ce.parentNode && myVizzu_08907ce.parentNode.parentNode) {\n",
       "            myVizzu_08907ce.parentNode.parentNode.style.display = \"none\";\n",
       "        }\n",
       "        myVizzu_e2c313e.parentNode.parentNode.style.display = display_e2c313e;\n",
       "        myVizzu_e2c313e.parentNode.insertBefore(myVizzu_08907ce, myVizzu_e2c313e);\n",
       "        if (!document.inhibitScroll && true) {\n",
       "            myVizzu_08907ce.scrollIntoView({behavior: \"auto\", block: \"center\"});\n",
       "        }\n",
       "        return chart.animate(snapshot_7230664);\n",
       "    });\n",
       "</script>"
      ]
     },
     "metadata": {},
     "output_type": "display_data"
    },
    {
     "data": {
      "text/html": [
       "<script id=\"myVizzu_cd8ec70\">\n",
       "    let display_cd8ec70 = myVizzu_cd8ec70.parentNode.parentNode.style.display;\n",
       "    myVizzu_cd8ec70.parentNode.parentNode.style.display = \"none\";\n",
       "    chart_08907ce = chart_08907ce.then(chart => {\n",
       "        if (myVizzu_08907ce.parentNode && myVizzu_08907ce.parentNode.parentNode) {\n",
       "            myVizzu_08907ce.parentNode.parentNode.style.display = \"none\";\n",
       "        }\n",
       "        myVizzu_cd8ec70.parentNode.parentNode.style.display = display_cd8ec70;\n",
       "        myVizzu_cd8ec70.parentNode.insertBefore(myVizzu_08907ce, myVizzu_cd8ec70);\n",
       "        if (!document.inhibitScroll && true) {\n",
       "            myVizzu_08907ce.scrollIntoView({behavior: \"auto\", block: \"center\"});\n",
       "        }\n",
       "        return chart.animate({\"config\": {\"title\": \"Back to the default ranges\"}});\n",
       "    });\n",
       "</script>"
      ]
     },
     "metadata": {},
     "output_type": "display_data"
    },
    {
     "data": {
      "text/html": [
       "<script id=\"myVizzu_c17fd2e\">\n",
       "    let display_c17fd2e = myVizzu_c17fd2e.parentNode.parentNode.style.display;\n",
       "    myVizzu_c17fd2e.parentNode.parentNode.style.display = \"none\";\n",
       "    chart_08907ce = chart_08907ce.then(chart => {\n",
       "        if (myVizzu_08907ce.parentNode && myVizzu_08907ce.parentNode.parentNode) {\n",
       "            myVizzu_08907ce.parentNode.parentNode.style.display = \"none\";\n",
       "        }\n",
       "        myVizzu_c17fd2e.parentNode.parentNode.style.display = display_c17fd2e;\n",
       "        myVizzu_c17fd2e.parentNode.insertBefore(myVizzu_08907ce, myVizzu_c17fd2e);\n",
       "        if (!document.inhibitScroll && true) {\n",
       "            myVizzu_08907ce.scrollIntoView({behavior: \"auto\", block: \"center\"});\n",
       "        }\n",
       "        return chart.animate({\"config\": {\"channels\": {\"y\": {\"range\": {\"max\": \"auto\"}}, \"x\": {\"range\": {\"min\": \"auto\", \"max\": \"auto\"}}}}});\n",
       "    });\n",
       "</script>"
      ]
     },
     "metadata": {},
     "output_type": "display_data"
    }
   ],
   "source": [
    "chart.animate(snapshot5)\n",
    "\n",
    "chart.animate(Config({\"title\": \"Back to the default ranges\"}))\n",
    "\n",
    "chart.animate(Config({\n",
    "    \"channels\": {\n",
    "        \"y\": {\n",
    "            \"range\": {\n",
    "                \"max\": \"auto\"\n",
    "            }\n",
    "        },\n",
    "        \"x\": {\n",
    "            \"range\": {\n",
    "                \"min\": \"auto\",\n",
    "                \"max\": \"auto\",\n",
    "            }\n",
    "        }\n",
    "    }\n",
    "}))"
   ]
  }
 ],
 "metadata": {
  "kernelspec": {
   "display_name": ".venv",
   "language": "python",
   "name": ".venv"
  },
  "language_info": {
   "codemirror_mode": {
    "name": "ipython",
    "version": 3
   },
   "file_extension": ".py",
   "mimetype": "text/x-python",
   "name": "python",
   "nbconvert_exporter": "python",
   "pygments_lexer": "ipython3",
   "version": "3.8.10"
  }
 },
 "nbformat": 4,
 "nbformat_minor": 5
}
