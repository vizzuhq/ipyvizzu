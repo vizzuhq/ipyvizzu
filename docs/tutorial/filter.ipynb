{
 "cells": [
  {
   "cell_type": "markdown",
   "id": "6dbc8df4",
   "metadata": {},
   "source": [
    "## Filtering & adding new records\n",
    "\n",
    "Filtering enables you to zoom in or out within a chart, allowing the viewer to focus on certain selected elements, or get more context. You can also add new records to the data on the chart which makes it easy to work with real-time sources.\n",
    "\n",
    "**Note:** Currently `Data.filter()` and `Data().set_filter()` only accept JavaScript expression as string. Data fields can be accessed via `record` object, see the examples below.\n",
    "\n",
    "We add two items from the Genres dimension - using the || operator - to the filter, so the chart elements that belong to the other two items will vanish from the chart."
   ]
  },
  {
   "cell_type": "code",
   "execution_count": 1,
   "id": "d5da6794",
   "metadata": {},
   "outputs": [
    {
     "data": {
      "text/html": [
       "<script id=\"myVizzu_59cb6b0\">\n",
       "    document.inhibitScroll = false;\n",
       "    document.addEventListener('wheel', function (evt) { document.inhibitScroll = true }, true);\n",
       "    document.addEventListener('keydown', function (evt) { document.inhibitScroll = true }, true);\n",
       "    document.addEventListener('touchstart', function (evt) { document.inhibitScroll = true }, true);\n",
       "    let myVizzu_0603253 = document.createElement(\"div\");\n",
       "    myVizzu_0603253.style.cssText = \"width: 800px; height: 480px;\";\n",
       "    let chart_0603253 = import(\"https://cdn.jsdelivr.net/npm/vizzu@~0.4.0/dist/vizzu.min.js\").then(Vizzu => new Vizzu.default(myVizzu_0603253).initializing);\n",
       "    myVizzu_59cb6b0.parentNode.insertBefore(myVizzu_0603253, myVizzu_59cb6b0);\n",
       "</script>"
      ]
     },
     "metadata": {},
     "output_type": "display_data"
    },
    {
     "data": {
      "text/html": [
       "<script id=\"myVizzu_8be0642\">\n",
       "    let display_8be0642 = myVizzu_8be0642.parentNode.parentNode.style.display;\n",
       "    myVizzu_8be0642.parentNode.parentNode.style.display = \"none\";\n",
       "    chart_0603253 = chart_0603253.then(chart => {\n",
       "        if (myVizzu_0603253.parentNode && myVizzu_0603253.parentNode.parentNode) {\n",
       "            myVizzu_0603253.parentNode.parentNode.style.display = \"none\";\n",
       "        }\n",
       "        myVizzu_8be0642.parentNode.parentNode.style.display = display_8be0642;\n",
       "        myVizzu_8be0642.parentNode.insertBefore(myVizzu_0603253, myVizzu_8be0642);\n",
       "        if (!document.inhibitScroll && true) {\n",
       "            myVizzu_0603253.scrollIntoView({behavior: \"auto\", block: \"center\"});\n",
       "        }\n",
       "        return chart.animate({\"data\": {\"dimensions\": [{\"name\": \"Genres\", \"values\": [\"Pop\", \"Rock\", \"Jazz\", \"Metal\"]}, {\"name\": \"Types\", \"values\": [\"Hard\", \"Smooth\", \"Experimental\"]}], \"measures\": [{\"name\": \"Popularity\", \"values\": [[114, 96, 78, 52], [56, 36, 174, 121], [127, 83, 94, 58]]}]}});\n",
       "    });\n",
       "</script>"
      ]
     },
     "metadata": {},
     "output_type": "display_data"
    },
    {
     "data": {
      "text/html": [
       "<script id=\"myVizzu_ea7c4f7\">\n",
       "    let display_ea7c4f7 = myVizzu_ea7c4f7.parentNode.parentNode.style.display;\n",
       "    myVizzu_ea7c4f7.parentNode.parentNode.style.display = \"none\";\n",
       "    chart_0603253 = chart_0603253.then(chart => {\n",
       "        if (myVizzu_0603253.parentNode && myVizzu_0603253.parentNode.parentNode) {\n",
       "            myVizzu_0603253.parentNode.parentNode.style.display = \"none\";\n",
       "        }\n",
       "        myVizzu_ea7c4f7.parentNode.parentNode.style.display = display_ea7c4f7;\n",
       "        myVizzu_ea7c4f7.parentNode.insertBefore(myVizzu_0603253, myVizzu_ea7c4f7);\n",
       "        if (!document.inhibitScroll && true) {\n",
       "            myVizzu_0603253.scrollIntoView({behavior: \"auto\", block: \"center\"});\n",
       "        }\n",
       "        return chart.animate({\"config\": {\"channels\": {\"y\": {\"set\": [\"Popularity\", \"Types\"]}, \"x\": {\"set\": \"Genres\"}, \"label\": {\"attach\": \"Popularity\"}}, \"color\": {\"attach\": \"Types\"}, \"title\": \"Filter by one dimension\"}});\n",
       "    });\n",
       "</script>"
      ]
     },
     "metadata": {},
     "output_type": "display_data"
    },
    {
     "data": {
      "text/html": [
       "<script id=\"myVizzu_644f4d6\">\n",
       "    let display_644f4d6 = myVizzu_644f4d6.parentNode.parentNode.style.display;\n",
       "    myVizzu_644f4d6.parentNode.parentNode.style.display = \"none\";\n",
       "    chart_0603253 = chart_0603253.then(chart => {\n",
       "        if (myVizzu_0603253.parentNode && myVizzu_0603253.parentNode.parentNode) {\n",
       "            myVizzu_0603253.parentNode.parentNode.style.display = \"none\";\n",
       "        }\n",
       "        myVizzu_644f4d6.parentNode.parentNode.style.display = display_644f4d6;\n",
       "        myVizzu_644f4d6.parentNode.insertBefore(myVizzu_0603253, myVizzu_644f4d6);\n",
       "        if (!document.inhibitScroll && true) {\n",
       "            myVizzu_0603253.scrollIntoView({behavior: \"auto\", block: \"center\"});\n",
       "        }\n",
       "        return chart.animate({\"data\": {\"filter\": record => { return (record['Genres'] == 'Pop' || record['Genres'] == 'Metal') }}});\n",
       "    });\n",
       "</script>"
      ]
     },
     "metadata": {},
     "output_type": "display_data"
    },
    {
     "data": {
      "text/html": [
       "<script id=\"myVizzu_94a484f\">\n",
       "    myVizzu_94a484f.parentNode.parentNode.style.display = \"none\";\n",
       "    let snapshot_94a484f;\n",
       "    chart_0603253 = chart_0603253.then(chart => {\n",
       "        snapshot_94a484f = chart.store();\n",
       "        return chart;\n",
       "    });\n",
       "</script>"
      ]
     },
     "metadata": {},
     "output_type": "display_data"
    }
   ],
   "source": [
    "from ipyvizzu import Chart, Data, Config\n",
    "\n",
    "chart = Chart()\n",
    "\n",
    "data = Data()\n",
    "data.add_dimension('Genres', [ 'Pop', 'Rock', 'Jazz', 'Metal'])\n",
    "data.add_dimension('Types', [ 'Hard', 'Smooth', 'Experimental' ])\n",
    "data.add_measure(\n",
    "    'Popularity',\n",
    "    [\n",
    "        [114, 96, 78, 52],\n",
    "        [56, 36, 174, 121],\n",
    "        [127, 83, 94, 58],\n",
    "    ]\n",
    ")\n",
    "chart.animate(data)\n",
    "\n",
    "chart.animate(Config({\n",
    "    \"channels\": {\n",
    "        \"y\": {\n",
    "            \"set\": [\"Popularity\", \"Types\"]\n",
    "        }, \n",
    "        \"x\": {\n",
    "            \"set\": \"Genres\"\n",
    "        },\n",
    "        \"label\": {\n",
    "            \"attach\": \"Popularity\"\n",
    "        }\n",
    "    },\n",
    "    \"color\": {\n",
    "        \"attach\": \"Types\"\n",
    "    },\n",
    "    \"title\": \"Filter by one dimension\"\n",
    "}))\n",
    "\n",
    "filter1 = Data.filter(\"record['Genres'] == 'Pop' || record['Genres'] == 'Metal'\")\n",
    "\n",
    "chart.animate(filter1)\n",
    "\n",
    "snapshot1 = chart.store()"
   ]
  },
  {
   "cell_type": "markdown",
   "id": "33d0a09d",
   "metadata": {},
   "source": [
    "Now we add a cross-filter that includes items from both the Genres and the Types dimensions. This way we override the filter from the previous state. If we weren't update the filter, Vizzu would use it in subsequent states."
   ]
  },
  {
   "cell_type": "code",
   "execution_count": 2,
   "id": "4807db16",
   "metadata": {},
   "outputs": [
    {
     "data": {
      "text/html": [
       "<script id=\"myVizzu_c653336\">\n",
       "    document.inhibitScroll = false;\n",
       "</script>"
      ]
     },
     "metadata": {},
     "output_type": "display_data"
    },
    {
     "data": {
      "text/html": [
       "<script id=\"myVizzu_1dbbc49\">\n",
       "    let display_1dbbc49 = myVizzu_1dbbc49.parentNode.parentNode.style.display;\n",
       "    myVizzu_1dbbc49.parentNode.parentNode.style.display = \"none\";\n",
       "    chart_0603253 = chart_0603253.then(chart => {\n",
       "        if (myVizzu_0603253.parentNode && myVizzu_0603253.parentNode.parentNode) {\n",
       "            myVizzu_0603253.parentNode.parentNode.style.display = \"none\";\n",
       "        }\n",
       "        myVizzu_1dbbc49.parentNode.parentNode.style.display = display_1dbbc49;\n",
       "        myVizzu_1dbbc49.parentNode.insertBefore(myVizzu_0603253, myVizzu_1dbbc49);\n",
       "        if (!document.inhibitScroll && true) {\n",
       "            myVizzu_0603253.scrollIntoView({behavior: \"auto\", block: \"center\"});\n",
       "        }\n",
       "        return chart.animate(snapshot_94a484f);\n",
       "    });\n",
       "</script>"
      ]
     },
     "metadata": {},
     "output_type": "display_data"
    },
    {
     "data": {
      "text/html": [
       "<script id=\"myVizzu_d55ac53\">\n",
       "    let display_d55ac53 = myVizzu_d55ac53.parentNode.parentNode.style.display;\n",
       "    myVizzu_d55ac53.parentNode.parentNode.style.display = \"none\";\n",
       "    chart_0603253 = chart_0603253.then(chart => {\n",
       "        if (myVizzu_0603253.parentNode && myVizzu_0603253.parentNode.parentNode) {\n",
       "            myVizzu_0603253.parentNode.parentNode.style.display = \"none\";\n",
       "        }\n",
       "        myVizzu_d55ac53.parentNode.parentNode.style.display = display_d55ac53;\n",
       "        myVizzu_d55ac53.parentNode.insertBefore(myVizzu_0603253, myVizzu_d55ac53);\n",
       "        if (!document.inhibitScroll && true) {\n",
       "            myVizzu_0603253.scrollIntoView({behavior: \"auto\", block: \"center\"});\n",
       "        }\n",
       "        return chart.animate({\"config\": {\"title\": \"Filter by two dimensions\"}});\n",
       "    });\n",
       "</script>"
      ]
     },
     "metadata": {},
     "output_type": "display_data"
    },
    {
     "data": {
      "text/html": [
       "<script id=\"myVizzu_9d57637\">\n",
       "    let display_9d57637 = myVizzu_9d57637.parentNode.parentNode.style.display;\n",
       "    myVizzu_9d57637.parentNode.parentNode.style.display = \"none\";\n",
       "    chart_0603253 = chart_0603253.then(chart => {\n",
       "        if (myVizzu_0603253.parentNode && myVizzu_0603253.parentNode.parentNode) {\n",
       "            myVizzu_0603253.parentNode.parentNode.style.display = \"none\";\n",
       "        }\n",
       "        myVizzu_9d57637.parentNode.parentNode.style.display = display_9d57637;\n",
       "        myVizzu_9d57637.parentNode.insertBefore(myVizzu_0603253, myVizzu_9d57637);\n",
       "        if (!document.inhibitScroll && true) {\n",
       "            myVizzu_0603253.scrollIntoView({behavior: \"auto\", block: \"center\"});\n",
       "        }\n",
       "        return chart.animate({\"data\": {\"filter\": record => { return ((record['Genres'] == 'Pop' || record['Genres'] == 'Metal') && record['Types'] == 'Smooth') }}});\n",
       "    });\n",
       "</script>"
      ]
     },
     "metadata": {},
     "output_type": "display_data"
    },
    {
     "data": {
      "text/html": [
       "<script id=\"myVizzu_6e749d1\">\n",
       "    myVizzu_6e749d1.parentNode.parentNode.style.display = \"none\";\n",
       "    let snapshot_6e749d1;\n",
       "    chart_0603253 = chart_0603253.then(chart => {\n",
       "        snapshot_6e749d1 = chart.store();\n",
       "        return chart;\n",
       "    });\n",
       "</script>"
      ]
     },
     "metadata": {},
     "output_type": "display_data"
    }
   ],
   "source": [
    "chart.animate(snapshot1)\n",
    "\n",
    "chart.animate(Config({\"title\": \"Filter by two dimensions\"}))\n",
    "\n",
    "filter2 = Data.filter(\"(record['Genres'] == 'Pop' || record['Genres'] == 'Metal') && record['Types'] == 'Smooth'\")\n",
    "\n",
    "chart.animate(filter2)\n",
    "\n",
    "snapshot2 = chart.store()"
   ]
  },
  {
   "cell_type": "markdown",
   "id": "b782890b",
   "metadata": {},
   "source": [
    "Switching the filter off to get back to the original view."
   ]
  },
  {
   "cell_type": "code",
   "execution_count": 3,
   "id": "6e231d21",
   "metadata": {},
   "outputs": [
    {
     "data": {
      "text/html": [
       "<script id=\"myVizzu_2204ad0\">\n",
       "    document.inhibitScroll = false;\n",
       "</script>"
      ]
     },
     "metadata": {},
     "output_type": "display_data"
    },
    {
     "data": {
      "text/html": [
       "<script id=\"myVizzu_b8163d7\">\n",
       "    let display_b8163d7 = myVizzu_b8163d7.parentNode.parentNode.style.display;\n",
       "    myVizzu_b8163d7.parentNode.parentNode.style.display = \"none\";\n",
       "    chart_0603253 = chart_0603253.then(chart => {\n",
       "        if (myVizzu_0603253.parentNode && myVizzu_0603253.parentNode.parentNode) {\n",
       "            myVizzu_0603253.parentNode.parentNode.style.display = \"none\";\n",
       "        }\n",
       "        myVizzu_b8163d7.parentNode.parentNode.style.display = display_b8163d7;\n",
       "        myVizzu_b8163d7.parentNode.insertBefore(myVizzu_0603253, myVizzu_b8163d7);\n",
       "        if (!document.inhibitScroll && true) {\n",
       "            myVizzu_0603253.scrollIntoView({behavior: \"auto\", block: \"center\"});\n",
       "        }\n",
       "        return chart.animate(snapshot_6e749d1);\n",
       "    });\n",
       "</script>"
      ]
     },
     "metadata": {},
     "output_type": "display_data"
    },
    {
     "data": {
      "text/html": [
       "<script id=\"myVizzu_e98868b\">\n",
       "    let display_e98868b = myVizzu_e98868b.parentNode.parentNode.style.display;\n",
       "    myVizzu_e98868b.parentNode.parentNode.style.display = \"none\";\n",
       "    chart_0603253 = chart_0603253.then(chart => {\n",
       "        if (myVizzu_0603253.parentNode && myVizzu_0603253.parentNode.parentNode) {\n",
       "            myVizzu_0603253.parentNode.parentNode.style.display = \"none\";\n",
       "        }\n",
       "        myVizzu_e98868b.parentNode.parentNode.style.display = display_e98868b;\n",
       "        myVizzu_e98868b.parentNode.insertBefore(myVizzu_0603253, myVizzu_e98868b);\n",
       "        if (!document.inhibitScroll && true) {\n",
       "            myVizzu_0603253.scrollIntoView({behavior: \"auto\", block: \"center\"});\n",
       "        }\n",
       "        return chart.animate({\"config\": {\"title\": \"Filter off\"}});\n",
       "    });\n",
       "</script>"
      ]
     },
     "metadata": {},
     "output_type": "display_data"
    },
    {
     "data": {
      "text/html": [
       "<script id=\"myVizzu_c7451fa\">\n",
       "    let display_c7451fa = myVizzu_c7451fa.parentNode.parentNode.style.display;\n",
       "    myVizzu_c7451fa.parentNode.parentNode.style.display = \"none\";\n",
       "    chart_0603253 = chart_0603253.then(chart => {\n",
       "        if (myVizzu_0603253.parentNode && myVizzu_0603253.parentNode.parentNode) {\n",
       "            myVizzu_0603253.parentNode.parentNode.style.display = \"none\";\n",
       "        }\n",
       "        myVizzu_c7451fa.parentNode.parentNode.style.display = display_c7451fa;\n",
       "        myVizzu_c7451fa.parentNode.insertBefore(myVizzu_0603253, myVizzu_c7451fa);\n",
       "        if (!document.inhibitScroll && true) {\n",
       "            myVizzu_0603253.scrollIntoView({behavior: \"auto\", block: \"center\"});\n",
       "        }\n",
       "        return chart.animate({\"data\": {\"filter\": null}});\n",
       "    });\n",
       "</script>"
      ]
     },
     "metadata": {},
     "output_type": "display_data"
    },
    {
     "data": {
      "text/html": [
       "<script id=\"myVizzu_fe914e0\">\n",
       "    myVizzu_fe914e0.parentNode.parentNode.style.display = \"none\";\n",
       "    let snapshot_fe914e0;\n",
       "    chart_0603253 = chart_0603253.then(chart => {\n",
       "        snapshot_fe914e0 = chart.store();\n",
       "        return chart;\n",
       "    });\n",
       "</script>"
      ]
     },
     "metadata": {},
     "output_type": "display_data"
    }
   ],
   "source": [
    "chart.animate(snapshot2)\n",
    "\n",
    "chart.animate(Config({\"title\": \"Filter off\"}))\n",
    "\n",
    "chart.animate(Data.filter(None))\n",
    "\n",
    "snapshot3 = chart.store()"
   ]
  },
  {
   "cell_type": "markdown",
   "id": "88243fd6",
   "metadata": {},
   "source": [
    "Here we add another record to the data set and update the chart accordingly."
   ]
  },
  {
   "cell_type": "code",
   "execution_count": 4,
   "id": "384d20b1",
   "metadata": {},
   "outputs": [
    {
     "data": {
      "text/html": [
       "<script id=\"myVizzu_c7ee732\">\n",
       "    document.inhibitScroll = false;\n",
       "</script>"
      ]
     },
     "metadata": {},
     "output_type": "display_data"
    },
    {
     "data": {
      "text/html": [
       "<script id=\"myVizzu_50121c7\">\n",
       "    let display_50121c7 = myVizzu_50121c7.parentNode.parentNode.style.display;\n",
       "    myVizzu_50121c7.parentNode.parentNode.style.display = \"none\";\n",
       "    chart_0603253 = chart_0603253.then(chart => {\n",
       "        if (myVizzu_0603253.parentNode && myVizzu_0603253.parentNode.parentNode) {\n",
       "            myVizzu_0603253.parentNode.parentNode.style.display = \"none\";\n",
       "        }\n",
       "        myVizzu_50121c7.parentNode.parentNode.style.display = display_50121c7;\n",
       "        myVizzu_50121c7.parentNode.insertBefore(myVizzu_0603253, myVizzu_50121c7);\n",
       "        if (!document.inhibitScroll && true) {\n",
       "            myVizzu_0603253.scrollIntoView({behavior: \"auto\", block: \"center\"});\n",
       "        }\n",
       "        return chart.animate(snapshot_fe914e0);\n",
       "    });\n",
       "</script>"
      ]
     },
     "metadata": {},
     "output_type": "display_data"
    },
    {
     "data": {
      "text/html": [
       "<script id=\"myVizzu_1125084\">\n",
       "    let display_1125084 = myVizzu_1125084.parentNode.parentNode.style.display;\n",
       "    myVizzu_1125084.parentNode.parentNode.style.display = \"none\";\n",
       "    chart_0603253 = chart_0603253.then(chart => {\n",
       "        if (myVizzu_0603253.parentNode && myVizzu_0603253.parentNode.parentNode) {\n",
       "            myVizzu_0603253.parentNode.parentNode.style.display = \"none\";\n",
       "        }\n",
       "        myVizzu_1125084.parentNode.parentNode.style.display = display_1125084;\n",
       "        myVizzu_1125084.parentNode.insertBefore(myVizzu_0603253, myVizzu_1125084);\n",
       "        if (!document.inhibitScroll && true) {\n",
       "            myVizzu_0603253.scrollIntoView({behavior: \"auto\", block: \"center\"});\n",
       "        }\n",
       "        return chart.animate({\"config\": {\"title\": \"Adding new records\"}});\n",
       "    });\n",
       "</script>"
      ]
     },
     "metadata": {},
     "output_type": "display_data"
    },
    {
     "data": {
      "text/html": [
       "<script id=\"myVizzu_8fd29ce\">\n",
       "    let display_8fd29ce = myVizzu_8fd29ce.parentNode.parentNode.style.display;\n",
       "    myVizzu_8fd29ce.parentNode.parentNode.style.display = \"none\";\n",
       "    chart_0603253 = chart_0603253.then(chart => {\n",
       "        if (myVizzu_0603253.parentNode && myVizzu_0603253.parentNode.parentNode) {\n",
       "            myVizzu_0603253.parentNode.parentNode.style.display = \"none\";\n",
       "        }\n",
       "        myVizzu_8fd29ce.parentNode.parentNode.style.display = display_8fd29ce;\n",
       "        myVizzu_8fd29ce.parentNode.insertBefore(myVizzu_0603253, myVizzu_8fd29ce);\n",
       "        if (!document.inhibitScroll && true) {\n",
       "            myVizzu_0603253.scrollIntoView({behavior: \"auto\", block: \"center\"});\n",
       "        }\n",
       "        return chart.animate({\"data\": {\"records\": [[\"Soul\", \"Hard\", 91], [\"Soul\", \"Smooth\", 57], [\"Soul\", \"Experimental\", 115]]}});\n",
       "    });\n",
       "</script>"
      ]
     },
     "metadata": {},
     "output_type": "display_data"
    }
   ],
   "source": [
    "chart.animate(snapshot3)\n",
    "\n",
    "chart.animate(Config({\"title\": \"Adding new records\"}))\n",
    "\n",
    "data2 = Data()\n",
    "records = [\n",
    "    ['Soul', 'Hard', 91],\n",
    "    ['Soul', 'Smooth', 57],\n",
    "    ['Soul', 'Experimental', 115]\n",
    "]\n",
    "data2.add_records(records)\n",
    "\n",
    "chart.animate(data2)"
   ]
  },
  {
   "cell_type": "markdown",
   "id": "c87444f7",
   "metadata": {},
   "source": [
    "Note: combining this option with the store function makes it easy to update previously configured states with fresh data since this function saves the config and style parameters of the chart into a variable but not the data."
   ]
  }
 ],
 "metadata": {
  "kernelspec": {
   "display_name": ".venv",
   "language": "python",
   "name": ".venv"
  },
  "language_info": {
   "codemirror_mode": {
    "name": "ipython",
    "version": 3
   },
   "file_extension": ".py",
   "mimetype": "text/x-python",
   "name": "python",
   "nbconvert_exporter": "python",
   "pygments_lexer": "ipython3",
   "version": "3.8.10"
  }
 },
 "nbformat": 4,
 "nbformat_minor": 5
}
