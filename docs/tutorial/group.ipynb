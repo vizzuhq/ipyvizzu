{
 "cells": [
  {
   "cell_type": "markdown",
   "id": "6a4ffcba",
   "metadata": {},
   "source": [
    "## Group/stack\n",
    "\n",
    "When you add dimensions to the channels, there is a simple rule to keep in mind in the current beta phase of Vizzu. The following example also shows how to group and stack elements of a bar chart.\n",
    "\n",
    "The rule: When you add a dimension (Type) to a channel (x-axis) with only dimensions on it, Vizzu will fade between the states, as shown here. Thus, you get a grouped bar chart, but the connection between the original state and this one will be unclear for the viewer because of the fading."
   ]
  },
  {
   "cell_type": "code",
   "execution_count": 1,
   "id": "15e0586a",
   "metadata": {},
   "outputs": [
    {
     "data": {
      "text/html": [
       "<script id=\"myVizzu_e8b0df5\">\n",
       "    document.inhibitScroll = false;\n",
       "    document.addEventListener('wheel', function (evt) { document.inhibitScroll = true }, true);\n",
       "    document.addEventListener('keydown', function (evt) { document.inhibitScroll = true }, true);\n",
       "    document.addEventListener('touchstart', function (evt) { document.inhibitScroll = true }, true);\n",
       "    let myVizzu_dc51bd6 = document.createElement(\"div\");\n",
       "    myVizzu_dc51bd6.style.cssText = \"width: 800px; height: 480px;\";\n",
       "    let chart_dc51bd6 = import(\"https://cdn.jsdelivr.net/npm/vizzu@~0.4.0/dist/vizzu.min.js\").then(Vizzu => new Vizzu.default(myVizzu_dc51bd6).initializing);\n",
       "    myVizzu_e8b0df5.parentNode.insertBefore(myVizzu_dc51bd6, myVizzu_e8b0df5);\n",
       "</script>"
      ]
     },
     "metadata": {},
     "output_type": "display_data"
    },
    {
     "data": {
      "text/html": [
       "<script id=\"myVizzu_6fce6fe\">\n",
       "    let display_6fce6fe = myVizzu_6fce6fe.parentNode.parentNode.style.display;\n",
       "    myVizzu_6fce6fe.parentNode.parentNode.style.display = \"none\";\n",
       "    chart_dc51bd6 = chart_dc51bd6.then(chart => {\n",
       "        if (myVizzu_dc51bd6.parentNode && myVizzu_dc51bd6.parentNode.parentNode) {\n",
       "            myVizzu_dc51bd6.parentNode.parentNode.style.display = \"none\";\n",
       "        }\n",
       "        myVizzu_6fce6fe.parentNode.parentNode.style.display = display_6fce6fe;\n",
       "        myVizzu_6fce6fe.parentNode.insertBefore(myVizzu_dc51bd6, myVizzu_6fce6fe);\n",
       "        if (!document.inhibitScroll && true) {\n",
       "            myVizzu_dc51bd6.scrollIntoView({behavior: \"auto\", block: \"center\"});\n",
       "        }\n",
       "        return chart.animate({\"data\": {\"dimensions\": [{\"name\": \"Genres\", \"values\": [\"Pop\", \"Rock\", \"Jazz\", \"Metal\"]}, {\"name\": \"Types\", \"values\": [\"Hard\", \"Smooth\", \"Experimental\"]}], \"measures\": [{\"name\": \"Popularity\", \"values\": [[114, 96, 78, 52], [56, 36, 174, 121], [127, 83, 94, 58]]}]}});\n",
       "    });\n",
       "</script>"
      ]
     },
     "metadata": {},
     "output_type": "display_data"
    },
    {
     "data": {
      "text/html": [
       "<script id=\"myVizzu_e787438\">\n",
       "    let display_e787438 = myVizzu_e787438.parentNode.parentNode.style.display;\n",
       "    myVizzu_e787438.parentNode.parentNode.style.display = \"none\";\n",
       "    chart_dc51bd6 = chart_dc51bd6.then(chart => {\n",
       "        if (myVizzu_dc51bd6.parentNode && myVizzu_dc51bd6.parentNode.parentNode) {\n",
       "            myVizzu_dc51bd6.parentNode.parentNode.style.display = \"none\";\n",
       "        }\n",
       "        myVizzu_e787438.parentNode.parentNode.style.display = display_e787438;\n",
       "        myVizzu_e787438.parentNode.insertBefore(myVizzu_dc51bd6, myVizzu_e787438);\n",
       "        if (!document.inhibitScroll && true) {\n",
       "            myVizzu_dc51bd6.scrollIntoView({behavior: \"auto\", block: \"center\"});\n",
       "        }\n",
       "        return chart.animate({\"config\": {\"channels\": {\"y\": {\"set\": \"Popularity\"}, \"x\": {\"set\": \"Genres\"}}, \"title\": \"The wrong way means no animation\"}});\n",
       "    });\n",
       "</script>"
      ]
     },
     "metadata": {},
     "output_type": "display_data"
    },
    {
     "data": {
      "text/html": [
       "<script id=\"myVizzu_24bf4d9\">\n",
       "    let display_24bf4d9 = myVizzu_24bf4d9.parentNode.parentNode.style.display;\n",
       "    myVizzu_24bf4d9.parentNode.parentNode.style.display = \"none\";\n",
       "    chart_dc51bd6 = chart_dc51bd6.then(chart => {\n",
       "        if (myVizzu_dc51bd6.parentNode && myVizzu_dc51bd6.parentNode.parentNode) {\n",
       "            myVizzu_dc51bd6.parentNode.parentNode.style.display = \"none\";\n",
       "        }\n",
       "        myVizzu_24bf4d9.parentNode.parentNode.style.display = display_24bf4d9;\n",
       "        myVizzu_24bf4d9.parentNode.insertBefore(myVizzu_dc51bd6, myVizzu_24bf4d9);\n",
       "        if (!document.inhibitScroll && true) {\n",
       "            myVizzu_dc51bd6.scrollIntoView({behavior: \"auto\", block: \"center\"});\n",
       "        }\n",
       "        return chart.animate({\"config\": {\"channels\": {\"x\": {\"set\": [\"Genres\", \"Types\"]}, \"color\": {\"attach\": \"Types\"}}}});\n",
       "    });\n",
       "</script>"
      ]
     },
     "metadata": {},
     "output_type": "display_data"
    },
    {
     "data": {
      "text/html": [
       "<script id=\"myVizzu_5aa5d07\">\n",
       "    myVizzu_5aa5d07.parentNode.parentNode.style.display = \"none\";\n",
       "    let snapshot_5aa5d07;\n",
       "    chart_dc51bd6 = chart_dc51bd6.then(chart => {\n",
       "        snapshot_5aa5d07 = chart.store();\n",
       "        return chart;\n",
       "    });\n",
       "</script>"
      ]
     },
     "metadata": {},
     "output_type": "display_data"
    }
   ],
   "source": [
    "from ipyvizzu import Chart, Data, Config\n",
    "\n",
    "chart = Chart()\n",
    "\n",
    "data = Data.from_json(\"./music_data.json\")\n",
    "\n",
    "chart.animate(data)\n",
    "\n",
    "chart.animate(Config({\n",
    "    \"channels\": {\n",
    "        \"y\": {\n",
    "            \"set\": \"Popularity\"\n",
    "        },\n",
    "        \"x\": {\n",
    "            \"set\": \"Genres\"\n",
    "        }\n",
    "    },\n",
    "    \"title\": \"The wrong way means no animation\"\n",
    "}))\n",
    "\n",
    "chart.animate(Config({\n",
    "    \"channels\": {\n",
    "        \"x\": {\n",
    "            \"set\": [\"Genres\", \"Types\"]\n",
    "        },\n",
    "        \"color\": {\n",
    "            \"attach\": \"Types\"\n",
    "        },\n",
    "    },\n",
    "}))\n",
    "\n",
    "snapshot1 = chart.store()"
   ]
  },
  {
   "cell_type": "markdown",
   "id": "87e38239",
   "metadata": {},
   "source": [
    "Let’s get back to the original state by removing the extra dimension - Vizzu will also simply fade between these states."
   ]
  },
  {
   "cell_type": "code",
   "execution_count": 2,
   "id": "4840001d",
   "metadata": {},
   "outputs": [
    {
     "data": {
      "text/html": [
       "<script id=\"myVizzu_65df2d7\">\n",
       "    document.inhibitScroll = false;\n",
       "</script>"
      ]
     },
     "metadata": {},
     "output_type": "display_data"
    },
    {
     "data": {
      "text/html": [
       "<script id=\"myVizzu_d6b04c2\">\n",
       "    let display_d6b04c2 = myVizzu_d6b04c2.parentNode.parentNode.style.display;\n",
       "    myVizzu_d6b04c2.parentNode.parentNode.style.display = \"none\";\n",
       "    chart_dc51bd6 = chart_dc51bd6.then(chart => {\n",
       "        if (myVizzu_dc51bd6.parentNode && myVizzu_dc51bd6.parentNode.parentNode) {\n",
       "            myVizzu_dc51bd6.parentNode.parentNode.style.display = \"none\";\n",
       "        }\n",
       "        myVizzu_d6b04c2.parentNode.parentNode.style.display = display_d6b04c2;\n",
       "        myVizzu_d6b04c2.parentNode.insertBefore(myVizzu_dc51bd6, myVizzu_d6b04c2);\n",
       "        if (!document.inhibitScroll && true) {\n",
       "            myVizzu_dc51bd6.scrollIntoView({behavior: \"auto\", block: \"center\"});\n",
       "        }\n",
       "        return chart.animate(snapshot_5aa5d07);\n",
       "    });\n",
       "</script>"
      ]
     },
     "metadata": {},
     "output_type": "display_data"
    },
    {
     "data": {
      "text/html": [
       "<script id=\"myVizzu_8d093d1\">\n",
       "    let display_8d093d1 = myVizzu_8d093d1.parentNode.parentNode.style.display;\n",
       "    myVizzu_8d093d1.parentNode.parentNode.style.display = \"none\";\n",
       "    chart_dc51bd6 = chart_dc51bd6.then(chart => {\n",
       "        if (myVizzu_dc51bd6.parentNode && myVizzu_dc51bd6.parentNode.parentNode) {\n",
       "            myVizzu_dc51bd6.parentNode.parentNode.style.display = \"none\";\n",
       "        }\n",
       "        myVizzu_8d093d1.parentNode.parentNode.style.display = display_8d093d1;\n",
       "        myVizzu_8d093d1.parentNode.insertBefore(myVizzu_dc51bd6, myVizzu_8d093d1);\n",
       "        if (!document.inhibitScroll && true) {\n",
       "            myVizzu_dc51bd6.scrollIntoView({behavior: \"auto\", block: \"center\"});\n",
       "        }\n",
       "        return chart.animate({\"config\": {\"title\": \"Let's get back to where we were\"}});\n",
       "    });\n",
       "</script>"
      ]
     },
     "metadata": {},
     "output_type": "display_data"
    },
    {
     "data": {
      "text/html": [
       "<script id=\"myVizzu_91b0e01\">\n",
       "    let display_91b0e01 = myVizzu_91b0e01.parentNode.parentNode.style.display;\n",
       "    myVizzu_91b0e01.parentNode.parentNode.style.display = \"none\";\n",
       "    chart_dc51bd6 = chart_dc51bd6.then(chart => {\n",
       "        if (myVizzu_dc51bd6.parentNode && myVizzu_dc51bd6.parentNode.parentNode) {\n",
       "            myVizzu_dc51bd6.parentNode.parentNode.style.display = \"none\";\n",
       "        }\n",
       "        myVizzu_91b0e01.parentNode.parentNode.style.display = display_91b0e01;\n",
       "        myVizzu_91b0e01.parentNode.insertBefore(myVizzu_dc51bd6, myVizzu_91b0e01);\n",
       "        if (!document.inhibitScroll && true) {\n",
       "            myVizzu_dc51bd6.scrollIntoView({behavior: \"auto\", block: \"center\"});\n",
       "        }\n",
       "        return chart.animate({\"config\": {\"channels\": {\"x\": {\"detach\": \"Types\"}, \"color\": {\"set\": null}}}});\n",
       "    });\n",
       "</script>"
      ]
     },
     "metadata": {},
     "output_type": "display_data"
    },
    {
     "data": {
      "text/html": [
       "<script id=\"myVizzu_de22c43\">\n",
       "    myVizzu_de22c43.parentNode.parentNode.style.display = \"none\";\n",
       "    let snapshot_de22c43;\n",
       "    chart_dc51bd6 = chart_dc51bd6.then(chart => {\n",
       "        snapshot_de22c43 = chart.store();\n",
       "        return chart;\n",
       "    });\n",
       "</script>"
      ]
     },
     "metadata": {},
     "output_type": "display_data"
    }
   ],
   "source": [
    "chart.animate(snapshot1)\n",
    "\n",
    "chart.animate(Config({\"title\": \"Let's get back to where we were\"}))\n",
    "\n",
    "chart.animate(Config({\n",
    "    \"channels\": {\n",
    "        \"x\": {\n",
    "            \"detach\": \"Types\"\n",
    "        },\n",
    "        \"color\": {\n",
    "            \"set\": None\n",
    "        },\n",
    "    }\n",
    "}))\n",
    "\n",
    "snapshot2 = chart.store()"
   ]
  },
  {
   "cell_type": "markdown",
   "id": "c28f9825",
   "metadata": {},
   "source": [
    "The right way is to add the new dimension to the same channel where the measure is: the y-axis. However, since doing only this would result in multiple column chart elements with the same color stacked on top of each other, we also add the same dimension (Type) to the color channel."
   ]
  },
  {
   "cell_type": "code",
   "execution_count": 3,
   "id": "c9f206b4",
   "metadata": {},
   "outputs": [
    {
     "data": {
      "text/html": [
       "<script id=\"myVizzu_8a5474a\">\n",
       "    document.inhibitScroll = false;\n",
       "</script>"
      ]
     },
     "metadata": {},
     "output_type": "display_data"
    },
    {
     "data": {
      "text/html": [
       "<script id=\"myVizzu_8d729bc\">\n",
       "    let display_8d729bc = myVizzu_8d729bc.parentNode.parentNode.style.display;\n",
       "    myVizzu_8d729bc.parentNode.parentNode.style.display = \"none\";\n",
       "    chart_dc51bd6 = chart_dc51bd6.then(chart => {\n",
       "        if (myVizzu_dc51bd6.parentNode && myVizzu_dc51bd6.parentNode.parentNode) {\n",
       "            myVizzu_dc51bd6.parentNode.parentNode.style.display = \"none\";\n",
       "        }\n",
       "        myVizzu_8d729bc.parentNode.parentNode.style.display = display_8d729bc;\n",
       "        myVizzu_8d729bc.parentNode.insertBefore(myVizzu_dc51bd6, myVizzu_8d729bc);\n",
       "        if (!document.inhibitScroll && true) {\n",
       "            myVizzu_dc51bd6.scrollIntoView({behavior: \"auto\", block: \"center\"});\n",
       "        }\n",
       "        return chart.animate(snapshot_de22c43);\n",
       "    });\n",
       "</script>"
      ]
     },
     "metadata": {},
     "output_type": "display_data"
    },
    {
     "data": {
      "text/html": [
       "<script id=\"myVizzu_3466458\">\n",
       "    let display_3466458 = myVizzu_3466458.parentNode.parentNode.style.display;\n",
       "    myVizzu_3466458.parentNode.parentNode.style.display = \"none\";\n",
       "    chart_dc51bd6 = chart_dc51bd6.then(chart => {\n",
       "        if (myVizzu_dc51bd6.parentNode && myVizzu_dc51bd6.parentNode.parentNode) {\n",
       "            myVizzu_dc51bd6.parentNode.parentNode.style.display = \"none\";\n",
       "        }\n",
       "        myVizzu_3466458.parentNode.parentNode.style.display = display_3466458;\n",
       "        myVizzu_3466458.parentNode.insertBefore(myVizzu_dc51bd6, myVizzu_3466458);\n",
       "        if (!document.inhibitScroll && true) {\n",
       "            myVizzu_dc51bd6.scrollIntoView({behavior: \"auto\", block: \"center\"});\n",
       "        }\n",
       "        return chart.animate({\"config\": {\"title\": \"The right way: add to the same channel where the measure is\"}});\n",
       "    });\n",
       "</script>"
      ]
     },
     "metadata": {},
     "output_type": "display_data"
    },
    {
     "data": {
      "text/html": [
       "<script id=\"myVizzu_0b42d7a\">\n",
       "    let display_0b42d7a = myVizzu_0b42d7a.parentNode.parentNode.style.display;\n",
       "    myVizzu_0b42d7a.parentNode.parentNode.style.display = \"none\";\n",
       "    chart_dc51bd6 = chart_dc51bd6.then(chart => {\n",
       "        if (myVizzu_dc51bd6.parentNode && myVizzu_dc51bd6.parentNode.parentNode) {\n",
       "            myVizzu_dc51bd6.parentNode.parentNode.style.display = \"none\";\n",
       "        }\n",
       "        myVizzu_0b42d7a.parentNode.parentNode.style.display = display_0b42d7a;\n",
       "        myVizzu_0b42d7a.parentNode.insertBefore(myVizzu_dc51bd6, myVizzu_0b42d7a);\n",
       "        if (!document.inhibitScroll && true) {\n",
       "            myVizzu_dc51bd6.scrollIntoView({behavior: \"auto\", block: \"center\"});\n",
       "        }\n",
       "        return chart.animate({\"config\": {\"channels\": {\"y\": {\"attach\": \"Types\"}, \"color\": {\"attach\": \"Types\"}}}});\n",
       "    });\n",
       "</script>"
      ]
     },
     "metadata": {},
     "output_type": "display_data"
    },
    {
     "data": {
      "text/html": [
       "<script id=\"myVizzu_87c64d8\">\n",
       "    myVizzu_87c64d8.parentNode.parentNode.style.display = \"none\";\n",
       "    let snapshot_87c64d8;\n",
       "    chart_dc51bd6 = chart_dc51bd6.then(chart => {\n",
       "        snapshot_87c64d8 = chart.store();\n",
       "        return chart;\n",
       "    });\n",
       "</script>"
      ]
     },
     "metadata": {},
     "output_type": "display_data"
    }
   ],
   "source": [
    "chart.animate(snapshot2)\n",
    "\n",
    "chart.animate(Config({\"title\": \"The right way: add to the same channel where the measure is\"}))\n",
    "\n",
    "chart.animate(Config({\n",
    "    \"channels\": {\n",
    "        \"y\": {\n",
    "            \"attach\": \"Types\"\n",
    "        },\n",
    "        \"color\": {\n",
    "            \"attach\": \"Types\"\n",
    "        },\n",
    "    }\n",
    "}))\n",
    "\n",
    "snapshot3 = chart.store()"
   ]
  },
  {
   "cell_type": "markdown",
   "id": "a7b863e0",
   "metadata": {},
   "source": [
    "By detaching this newly added dimension from the y-axis and attaching it to the x-axis, you get to the same grouped bar chart as in the first step but in a way that is easy to follow for the viewer."
   ]
  },
  {
   "cell_type": "code",
   "execution_count": 4,
   "id": "d8a3b336",
   "metadata": {},
   "outputs": [
    {
     "data": {
      "text/html": [
       "<script id=\"myVizzu_e0885df\">\n",
       "    document.inhibitScroll = false;\n",
       "</script>"
      ]
     },
     "metadata": {},
     "output_type": "display_data"
    },
    {
     "data": {
      "text/html": [
       "<script id=\"myVizzu_224938b\">\n",
       "    let display_224938b = myVizzu_224938b.parentNode.parentNode.style.display;\n",
       "    myVizzu_224938b.parentNode.parentNode.style.display = \"none\";\n",
       "    chart_dc51bd6 = chart_dc51bd6.then(chart => {\n",
       "        if (myVizzu_dc51bd6.parentNode && myVizzu_dc51bd6.parentNode.parentNode) {\n",
       "            myVizzu_dc51bd6.parentNode.parentNode.style.display = \"none\";\n",
       "        }\n",
       "        myVizzu_224938b.parentNode.parentNode.style.display = display_224938b;\n",
       "        myVizzu_224938b.parentNode.insertBefore(myVizzu_dc51bd6, myVizzu_224938b);\n",
       "        if (!document.inhibitScroll && true) {\n",
       "            myVizzu_dc51bd6.scrollIntoView({behavior: \"auto\", block: \"center\"});\n",
       "        }\n",
       "        return chart.animate(snapshot_87c64d8);\n",
       "    });\n",
       "</script>"
      ]
     },
     "metadata": {},
     "output_type": "display_data"
    },
    {
     "data": {
      "text/html": [
       "<script id=\"myVizzu_0446cd9\">\n",
       "    let display_0446cd9 = myVizzu_0446cd9.parentNode.parentNode.style.display;\n",
       "    myVizzu_0446cd9.parentNode.parentNode.style.display = \"none\";\n",
       "    chart_dc51bd6 = chart_dc51bd6.then(chart => {\n",
       "        if (myVizzu_dc51bd6.parentNode && myVizzu_dc51bd6.parentNode.parentNode) {\n",
       "            myVizzu_dc51bd6.parentNode.parentNode.style.display = \"none\";\n",
       "        }\n",
       "        myVizzu_0446cd9.parentNode.parentNode.style.display = display_0446cd9;\n",
       "        myVizzu_0446cd9.parentNode.insertBefore(myVizzu_dc51bd6, myVizzu_0446cd9);\n",
       "        if (!document.inhibitScroll && true) {\n",
       "            myVizzu_dc51bd6.scrollIntoView({behavior: \"auto\", block: \"center\"});\n",
       "        }\n",
       "        return chart.animate({\"config\": {\"title\": \"...then you can add it to another channel = group elements...\"}});\n",
       "    });\n",
       "</script>"
      ]
     },
     "metadata": {},
     "output_type": "display_data"
    },
    {
     "data": {
      "text/html": [
       "<script id=\"myVizzu_d00f6c0\">\n",
       "    let display_d00f6c0 = myVizzu_d00f6c0.parentNode.parentNode.style.display;\n",
       "    myVizzu_d00f6c0.parentNode.parentNode.style.display = \"none\";\n",
       "    chart_dc51bd6 = chart_dc51bd6.then(chart => {\n",
       "        if (myVizzu_dc51bd6.parentNode && myVizzu_dc51bd6.parentNode.parentNode) {\n",
       "            myVizzu_dc51bd6.parentNode.parentNode.style.display = \"none\";\n",
       "        }\n",
       "        myVizzu_d00f6c0.parentNode.parentNode.style.display = display_d00f6c0;\n",
       "        myVizzu_d00f6c0.parentNode.insertBefore(myVizzu_dc51bd6, myVizzu_d00f6c0);\n",
       "        if (!document.inhibitScroll && true) {\n",
       "            myVizzu_dc51bd6.scrollIntoView({behavior: \"auto\", block: \"center\"});\n",
       "        }\n",
       "        return chart.animate({\"config\": {\"channels\": {\"y\": {\"detach\": \"Types\"}, \"x\": {\"attach\": \"Types\"}}}});\n",
       "    });\n",
       "</script>"
      ]
     },
     "metadata": {},
     "output_type": "display_data"
    },
    {
     "data": {
      "text/html": [
       "<script id=\"myVizzu_797b1d8\">\n",
       "    myVizzu_797b1d8.parentNode.parentNode.style.display = \"none\";\n",
       "    let snapshot_797b1d8;\n",
       "    chart_dc51bd6 = chart_dc51bd6.then(chart => {\n",
       "        snapshot_797b1d8 = chart.store();\n",
       "        return chart;\n",
       "    });\n",
       "</script>"
      ]
     },
     "metadata": {},
     "output_type": "display_data"
    }
   ],
   "source": [
    "chart.animate(snapshot3)\n",
    "\n",
    "chart.animate(Config({\"title\": \"...then you can add it to another channel = group elements...\"}))\n",
    "\n",
    "chart.animate(Config({\n",
    "    \"channels\": {\n",
    "        \"y\": {\n",
    "            \"detach\": \"Types\"\n",
    "        },\n",
    "        \"x\": {\n",
    "            \"attach\": \"Types\"\n",
    "        },\n",
    "    }\n",
    "}))\n",
    "\n",
    "snapshot4 = chart.store()"
   ]
  },
  {
   "cell_type": "markdown",
   "id": "46cb4d25",
   "metadata": {},
   "source": [
    "To stack a grouped chart, you just have to do the same thing the other way around: detach the dimension from the x-axis and attach it to the y-axis."
   ]
  },
  {
   "cell_type": "code",
   "execution_count": 5,
   "id": "075bb4c9",
   "metadata": {},
   "outputs": [
    {
     "data": {
      "text/html": [
       "<script id=\"myVizzu_dfc3d3f\">\n",
       "    document.inhibitScroll = false;\n",
       "</script>"
      ]
     },
     "metadata": {},
     "output_type": "display_data"
    },
    {
     "data": {
      "text/html": [
       "<script id=\"myVizzu_6194a59\">\n",
       "    let display_6194a59 = myVizzu_6194a59.parentNode.parentNode.style.display;\n",
       "    myVizzu_6194a59.parentNode.parentNode.style.display = \"none\";\n",
       "    chart_dc51bd6 = chart_dc51bd6.then(chart => {\n",
       "        if (myVizzu_dc51bd6.parentNode && myVizzu_dc51bd6.parentNode.parentNode) {\n",
       "            myVizzu_dc51bd6.parentNode.parentNode.style.display = \"none\";\n",
       "        }\n",
       "        myVizzu_6194a59.parentNode.parentNode.style.display = display_6194a59;\n",
       "        myVizzu_6194a59.parentNode.insertBefore(myVizzu_dc51bd6, myVizzu_6194a59);\n",
       "        if (!document.inhibitScroll && true) {\n",
       "            myVizzu_dc51bd6.scrollIntoView({behavior: \"auto\", block: \"center\"});\n",
       "        }\n",
       "        return chart.animate(snapshot_797b1d8);\n",
       "    });\n",
       "</script>"
      ]
     },
     "metadata": {},
     "output_type": "display_data"
    },
    {
     "data": {
      "text/html": [
       "<script id=\"myVizzu_adc10eb\">\n",
       "    let display_adc10eb = myVizzu_adc10eb.parentNode.parentNode.style.display;\n",
       "    myVizzu_adc10eb.parentNode.parentNode.style.display = \"none\";\n",
       "    chart_dc51bd6 = chart_dc51bd6.then(chart => {\n",
       "        if (myVizzu_dc51bd6.parentNode && myVizzu_dc51bd6.parentNode.parentNode) {\n",
       "            myVizzu_dc51bd6.parentNode.parentNode.style.display = \"none\";\n",
       "        }\n",
       "        myVizzu_adc10eb.parentNode.parentNode.style.display = display_adc10eb;\n",
       "        myVizzu_adc10eb.parentNode.insertBefore(myVizzu_dc51bd6, myVizzu_adc10eb);\n",
       "        if (!document.inhibitScroll && true) {\n",
       "            myVizzu_dc51bd6.scrollIntoView({behavior: \"auto\", block: \"center\"});\n",
       "        }\n",
       "        return chart.animate({\"config\": {\"title\": \"...doing it the other way is how you stack your chart\"}});\n",
       "    });\n",
       "</script>"
      ]
     },
     "metadata": {},
     "output_type": "display_data"
    },
    {
     "data": {
      "text/html": [
       "<script id=\"myVizzu_ba6fd05\">\n",
       "    let display_ba6fd05 = myVizzu_ba6fd05.parentNode.parentNode.style.display;\n",
       "    myVizzu_ba6fd05.parentNode.parentNode.style.display = \"none\";\n",
       "    chart_dc51bd6 = chart_dc51bd6.then(chart => {\n",
       "        if (myVizzu_dc51bd6.parentNode && myVizzu_dc51bd6.parentNode.parentNode) {\n",
       "            myVizzu_dc51bd6.parentNode.parentNode.style.display = \"none\";\n",
       "        }\n",
       "        myVizzu_ba6fd05.parentNode.parentNode.style.display = display_ba6fd05;\n",
       "        myVizzu_ba6fd05.parentNode.insertBefore(myVizzu_dc51bd6, myVizzu_ba6fd05);\n",
       "        if (!document.inhibitScroll && true) {\n",
       "            myVizzu_dc51bd6.scrollIntoView({behavior: \"auto\", block: \"center\"});\n",
       "        }\n",
       "        return chart.animate({\"config\": {\"channels\": {\"y\": {\"attach\": \"Types\"}, \"x\": {\"detach\": \"Types\"}}}});\n",
       "    });\n",
       "</script>"
      ]
     },
     "metadata": {},
     "output_type": "display_data"
    }
   ],
   "source": [
    "chart.animate(snapshot4)\n",
    "\n",
    "chart.animate(Config({\"title\": \"...doing it the other way is how you stack your chart\"}))\n",
    "\n",
    "chart.animate(Config({\n",
    "    \"channels\": {\n",
    "        \"y\": {\n",
    "            \"attach\": \"Types\"\n",
    "        },\n",
    "        \"x\": {\n",
    "            \"detach\": \"Types\"\n",
    "        },\n",
    "    }\n",
    "}))"
   ]
  }
 ],
 "metadata": {
  "kernelspec": {
   "display_name": ".venv",
   "language": "python",
   "name": ".venv"
  },
  "language_info": {
   "codemirror_mode": {
    "name": "ipython",
    "version": 3
   },
   "file_extension": ".py",
   "mimetype": "text/x-python",
   "name": "python",
   "nbconvert_exporter": "python",
   "pygments_lexer": "ipython3",
   "version": "3.8.10"
  }
 },
 "nbformat": 4,
 "nbformat_minor": 5
}
