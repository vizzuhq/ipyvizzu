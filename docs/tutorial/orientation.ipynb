{
 "cells": [
  {
   "cell_type": "markdown",
   "id": "6dbc8df4",
   "metadata": {},
   "source": [
    "## Orientation, split & polar\n",
    "\n",
    "Now that you are familiar with the basic logic and operation of Vizzu, let's dive in with some more advanced features that you can use to create animated data stories and show the data from different perspectives.\n",
    "\n",
    "Switching orientation means that you put a measure from one axis to the other to see the data from a different perspective. This is once again a state you should only use temporarily."
   ]
  },
  {
   "cell_type": "code",
   "execution_count": 1,
   "id": "d5da6794",
   "metadata": {},
   "outputs": [
    {
     "data": {
      "text/html": [
       "<script id=\"myVizzu_a539bde\">\n",
       "    document.inhibitScroll = false;\n",
       "    document.addEventListener('wheel', function (evt) { document.inhibitScroll = true }, true);\n",
       "    document.addEventListener('keydown', function (evt) { document.inhibitScroll = true }, true);\n",
       "    document.addEventListener('touchstart', function (evt) { document.inhibitScroll = true }, true);\n",
       "    let myVizzu_95434a8 = document.createElement(\"div\");\n",
       "    myVizzu_95434a8.style.cssText = \"width: 800px; height: 480px;\";\n",
       "    let chart_95434a8 = import(\"https://cdn.jsdelivr.net/npm/vizzu@~0.4.0/dist/vizzu.min.js\").then(Vizzu => new Vizzu.default(myVizzu_95434a8).initializing);\n",
       "    myVizzu_a539bde.parentNode.insertBefore(myVizzu_95434a8, myVizzu_a539bde);\n",
       "</script>"
      ]
     },
     "metadata": {},
     "output_type": "display_data"
    },
    {
     "data": {
      "text/html": [
       "<script id=\"myVizzu_85079bf\">\n",
       "    let display_85079bf = myVizzu_85079bf.parentNode.parentNode.style.display;\n",
       "    myVizzu_85079bf.parentNode.parentNode.style.display = \"none\";\n",
       "    chart_95434a8 = chart_95434a8.then(chart => {\n",
       "        if (myVizzu_95434a8.parentNode && myVizzu_95434a8.parentNode.parentNode) {\n",
       "            myVizzu_95434a8.parentNode.parentNode.style.display = \"none\";\n",
       "        }\n",
       "        myVizzu_85079bf.parentNode.parentNode.style.display = display_85079bf;\n",
       "        myVizzu_85079bf.parentNode.insertBefore(myVizzu_95434a8, myVizzu_85079bf);\n",
       "        if (!document.inhibitScroll && true) {\n",
       "            myVizzu_95434a8.scrollIntoView({behavior: \"auto\", block: \"center\"});\n",
       "        }\n",
       "        return chart.animate({\"data\": {\"dimensions\": [{\"name\": \"Genres\", \"values\": [\"Pop\", \"Rock\", \"Jazz\", \"Metal\"]}, {\"name\": \"Types\", \"values\": [\"Hard\", \"Smooth\", \"Experimental\"]}], \"measures\": [{\"name\": \"Popularity\", \"values\": [[114, 96, 78, 52], [56, 36, 174, 121], [127, 83, 94, 58]]}]}});\n",
       "    });\n",
       "</script>"
      ]
     },
     "metadata": {},
     "output_type": "display_data"
    },
    {
     "data": {
      "text/html": [
       "<script id=\"myVizzu_246687a\">\n",
       "    let display_246687a = myVizzu_246687a.parentNode.parentNode.style.display;\n",
       "    myVizzu_246687a.parentNode.parentNode.style.display = \"none\";\n",
       "    chart_95434a8 = chart_95434a8.then(chart => {\n",
       "        if (myVizzu_95434a8.parentNode && myVizzu_95434a8.parentNode.parentNode) {\n",
       "            myVizzu_95434a8.parentNode.parentNode.style.display = \"none\";\n",
       "        }\n",
       "        myVizzu_246687a.parentNode.parentNode.style.display = display_246687a;\n",
       "        myVizzu_246687a.parentNode.insertBefore(myVizzu_95434a8, myVizzu_246687a);\n",
       "        if (!document.inhibitScroll && true) {\n",
       "            myVizzu_95434a8.scrollIntoView({behavior: \"auto\", block: \"center\"});\n",
       "        }\n",
       "        return chart.animate({\"config\": {\"channels\": {\"y\": {\"set\": [\"Popularity\", \"Types\"]}, \"x\": {\"set\": \"Genres\"}, \"label\": {\"attach\": \"Popularity\"}}, \"color\": {\"attach\": \"Types\"}, \"title\": \"Switch the orientation = arrange by other axis\"}});\n",
       "    });\n",
       "</script>"
      ]
     },
     "metadata": {},
     "output_type": "display_data"
    },
    {
     "data": {
      "text/html": [
       "<script id=\"myVizzu_8cae662\">\n",
       "    let display_8cae662 = myVizzu_8cae662.parentNode.parentNode.style.display;\n",
       "    myVizzu_8cae662.parentNode.parentNode.style.display = \"none\";\n",
       "    chart_95434a8 = chart_95434a8.then(chart => {\n",
       "        if (myVizzu_95434a8.parentNode && myVizzu_95434a8.parentNode.parentNode) {\n",
       "            myVizzu_95434a8.parentNode.parentNode.style.display = \"none\";\n",
       "        }\n",
       "        myVizzu_8cae662.parentNode.parentNode.style.display = display_8cae662;\n",
       "        myVizzu_8cae662.parentNode.insertBefore(myVizzu_95434a8, myVizzu_8cae662);\n",
       "        if (!document.inhibitScroll && true) {\n",
       "            myVizzu_95434a8.scrollIntoView({behavior: \"auto\", block: \"center\"});\n",
       "        }\n",
       "        return chart.animate({\"config\": {\"channels\": {\"y\": {\"detach\": \"Popularity\"}, \"x\": {\"attach\": \"Popularity\"}}}});\n",
       "    });\n",
       "</script>"
      ]
     },
     "metadata": {},
     "output_type": "display_data"
    },
    {
     "data": {
      "text/html": [
       "<script id=\"myVizzu_6d9e756\">\n",
       "    myVizzu_6d9e756.parentNode.parentNode.style.display = \"none\";\n",
       "    let snapshot_6d9e756;\n",
       "    chart_95434a8 = chart_95434a8.then(chart => {\n",
       "        snapshot_6d9e756 = chart.store();\n",
       "        return chart;\n",
       "    });\n",
       "</script>"
      ]
     },
     "metadata": {},
     "output_type": "display_data"
    }
   ],
   "source": [
    "from ipyvizzu import Chart, Data, Config\n",
    "\n",
    "chart = Chart()\n",
    "\n",
    "data = Data.from_json(\"./music_data.json\")\n",
    "\n",
    "chart.animate(data)\n",
    "\n",
    "chart.animate(Config({\n",
    "    \"channels\": {\n",
    "        \"y\": {\n",
    "            \"set\": [\"Popularity\", \"Types\"]\n",
    "        }, \n",
    "        \"x\": {\n",
    "            \"set\": \"Genres\"\n",
    "        },\n",
    "        \"label\": {\n",
    "            \"attach\": \"Popularity\"\n",
    "        }\n",
    "    },\n",
    "    \"color\": {\n",
    "        \"attach\": \"Types\"\n",
    "    },\n",
    "    \"title\": \"Switch the orientation = arrange by other axis\"\n",
    "}))\n",
    "\n",
    "chart.animate(Config({\n",
    "    \"channels\": {\n",
    "        \"y\": {\n",
    "            \"detach\": \"Popularity\",\n",
    "        },\n",
    "        \"x\": {\n",
    "            \"attach\": \"Popularity\",\n",
    "        }\n",
    "    }\n",
    "}))\n",
    "\n",
    "snapshot1 = chart.store()"
   ]
  },
  {
   "cell_type": "markdown",
   "id": "64a0effc",
   "metadata": {},
   "source": [
    "By turning the split parameter on, you can see stacked elements side-by-side, which enables the comparison of the components."
   ]
  },
  {
   "cell_type": "code",
   "execution_count": 2,
   "id": "f977713f",
   "metadata": {},
   "outputs": [
    {
     "data": {
      "text/html": [
       "<script id=\"myVizzu_431f26e\">\n",
       "    document.inhibitScroll = false;\n",
       "</script>"
      ]
     },
     "metadata": {},
     "output_type": "display_data"
    },
    {
     "data": {
      "text/html": [
       "<script id=\"myVizzu_f85423f\">\n",
       "    let display_f85423f = myVizzu_f85423f.parentNode.parentNode.style.display;\n",
       "    myVizzu_f85423f.parentNode.parentNode.style.display = \"none\";\n",
       "    chart_95434a8 = chart_95434a8.then(chart => {\n",
       "        if (myVizzu_95434a8.parentNode && myVizzu_95434a8.parentNode.parentNode) {\n",
       "            myVizzu_95434a8.parentNode.parentNode.style.display = \"none\";\n",
       "        }\n",
       "        myVizzu_f85423f.parentNode.parentNode.style.display = display_f85423f;\n",
       "        myVizzu_f85423f.parentNode.insertBefore(myVizzu_95434a8, myVizzu_f85423f);\n",
       "        if (!document.inhibitScroll && true) {\n",
       "            myVizzu_95434a8.scrollIntoView({behavior: \"auto\", block: \"center\"});\n",
       "        }\n",
       "        return chart.animate(snapshot_6d9e756);\n",
       "    });\n",
       "</script>"
      ]
     },
     "metadata": {},
     "output_type": "display_data"
    },
    {
     "data": {
      "text/html": [
       "<script id=\"myVizzu_98efa32\">\n",
       "    let display_98efa32 = myVizzu_98efa32.parentNode.parentNode.style.display;\n",
       "    myVizzu_98efa32.parentNode.parentNode.style.display = \"none\";\n",
       "    chart_95434a8 = chart_95434a8.then(chart => {\n",
       "        if (myVizzu_95434a8.parentNode && myVizzu_95434a8.parentNode.parentNode) {\n",
       "            myVizzu_95434a8.parentNode.parentNode.style.display = \"none\";\n",
       "        }\n",
       "        myVizzu_98efa32.parentNode.parentNode.style.display = display_98efa32;\n",
       "        myVizzu_98efa32.parentNode.insertBefore(myVizzu_95434a8, myVizzu_98efa32);\n",
       "        if (!document.inhibitScroll && true) {\n",
       "            myVizzu_95434a8.scrollIntoView({behavior: \"auto\", block: \"center\"});\n",
       "        }\n",
       "        return chart.animate({\"config\": {\"title\": \"Split stacked values = show side-by-side\"}});\n",
       "    });\n",
       "</script>"
      ]
     },
     "metadata": {},
     "output_type": "display_data"
    },
    {
     "data": {
      "text/html": [
       "<script id=\"myVizzu_98c6859\">\n",
       "    let display_98c6859 = myVizzu_98c6859.parentNode.parentNode.style.display;\n",
       "    myVizzu_98c6859.parentNode.parentNode.style.display = \"none\";\n",
       "    chart_95434a8 = chart_95434a8.then(chart => {\n",
       "        if (myVizzu_95434a8.parentNode && myVizzu_95434a8.parentNode.parentNode) {\n",
       "            myVizzu_95434a8.parentNode.parentNode.style.display = \"none\";\n",
       "        }\n",
       "        myVizzu_98c6859.parentNode.parentNode.style.display = display_98c6859;\n",
       "        myVizzu_98c6859.parentNode.insertBefore(myVizzu_95434a8, myVizzu_98c6859);\n",
       "        if (!document.inhibitScroll && true) {\n",
       "            myVizzu_95434a8.scrollIntoView({behavior: \"auto\", block: \"center\"});\n",
       "        }\n",
       "        return chart.animate({\"config\": {\"split\": true}});\n",
       "    });\n",
       "</script>"
      ]
     },
     "metadata": {},
     "output_type": "display_data"
    },
    {
     "data": {
      "text/html": [
       "<script id=\"myVizzu_dd14c91\">\n",
       "    myVizzu_dd14c91.parentNode.parentNode.style.display = \"none\";\n",
       "    let snapshot_dd14c91;\n",
       "    chart_95434a8 = chart_95434a8.then(chart => {\n",
       "        snapshot_dd14c91 = chart.store();\n",
       "        return chart;\n",
       "    });\n",
       "</script>"
      ]
     },
     "metadata": {},
     "output_type": "display_data"
    }
   ],
   "source": [
    "chart.animate(snapshot1)\n",
    "\n",
    "chart.animate(Config({\"title\": \"Split stacked values = show side-by-side\"}))\n",
    "\n",
    "chart.animate(Config({\n",
    "    \"split\": True\n",
    "}))\n",
    "\n",
    "snapshot2 = chart.store()"
   ]
  },
  {
   "cell_type": "markdown",
   "id": "0d54187c",
   "metadata": {},
   "source": [
    "Merging the components by turning the split parameter off."
   ]
  },
  {
   "cell_type": "code",
   "execution_count": 3,
   "id": "acfa599d",
   "metadata": {},
   "outputs": [
    {
     "data": {
      "text/html": [
       "<script id=\"myVizzu_238f083\">\n",
       "    document.inhibitScroll = false;\n",
       "</script>"
      ]
     },
     "metadata": {},
     "output_type": "display_data"
    },
    {
     "data": {
      "text/html": [
       "<script id=\"myVizzu_e635a60\">\n",
       "    let display_e635a60 = myVizzu_e635a60.parentNode.parentNode.style.display;\n",
       "    myVizzu_e635a60.parentNode.parentNode.style.display = \"none\";\n",
       "    chart_95434a8 = chart_95434a8.then(chart => {\n",
       "        if (myVizzu_95434a8.parentNode && myVizzu_95434a8.parentNode.parentNode) {\n",
       "            myVizzu_95434a8.parentNode.parentNode.style.display = \"none\";\n",
       "        }\n",
       "        myVizzu_e635a60.parentNode.parentNode.style.display = display_e635a60;\n",
       "        myVizzu_e635a60.parentNode.insertBefore(myVizzu_95434a8, myVizzu_e635a60);\n",
       "        if (!document.inhibitScroll && true) {\n",
       "            myVizzu_95434a8.scrollIntoView({behavior: \"auto\", block: \"center\"});\n",
       "        }\n",
       "        return chart.animate(snapshot_dd14c91);\n",
       "    });\n",
       "</script>"
      ]
     },
     "metadata": {},
     "output_type": "display_data"
    },
    {
     "data": {
      "text/html": [
       "<script id=\"myVizzu_0c35a3c\">\n",
       "    let display_0c35a3c = myVizzu_0c35a3c.parentNode.parentNode.style.display;\n",
       "    myVizzu_0c35a3c.parentNode.parentNode.style.display = \"none\";\n",
       "    chart_95434a8 = chart_95434a8.then(chart => {\n",
       "        if (myVizzu_95434a8.parentNode && myVizzu_95434a8.parentNode.parentNode) {\n",
       "            myVizzu_95434a8.parentNode.parentNode.style.display = \"none\";\n",
       "        }\n",
       "        myVizzu_0c35a3c.parentNode.parentNode.style.display = display_0c35a3c;\n",
       "        myVizzu_0c35a3c.parentNode.insertBefore(myVizzu_95434a8, myVizzu_0c35a3c);\n",
       "        if (!document.inhibitScroll && true) {\n",
       "            myVizzu_95434a8.scrollIntoView({behavior: \"auto\", block: \"center\"});\n",
       "        }\n",
       "        return chart.animate({\"config\": {\"title\": \"Merge\"}});\n",
       "    });\n",
       "</script>"
      ]
     },
     "metadata": {},
     "output_type": "display_data"
    },
    {
     "data": {
      "text/html": [
       "<script id=\"myVizzu_b8942c3\">\n",
       "    let display_b8942c3 = myVizzu_b8942c3.parentNode.parentNode.style.display;\n",
       "    myVizzu_b8942c3.parentNode.parentNode.style.display = \"none\";\n",
       "    chart_95434a8 = chart_95434a8.then(chart => {\n",
       "        if (myVizzu_95434a8.parentNode && myVizzu_95434a8.parentNode.parentNode) {\n",
       "            myVizzu_95434a8.parentNode.parentNode.style.display = \"none\";\n",
       "        }\n",
       "        myVizzu_b8942c3.parentNode.parentNode.style.display = display_b8942c3;\n",
       "        myVizzu_b8942c3.parentNode.insertBefore(myVizzu_95434a8, myVizzu_b8942c3);\n",
       "        if (!document.inhibitScroll && true) {\n",
       "            myVizzu_95434a8.scrollIntoView({behavior: \"auto\", block: \"center\"});\n",
       "        }\n",
       "        return chart.animate({\"config\": {\"split\": false}});\n",
       "    });\n",
       "</script>"
      ]
     },
     "metadata": {},
     "output_type": "display_data"
    },
    {
     "data": {
      "text/html": [
       "<script id=\"myVizzu_b565f76\">\n",
       "    myVizzu_b565f76.parentNode.parentNode.style.display = \"none\";\n",
       "    let snapshot_b565f76;\n",
       "    chart_95434a8 = chart_95434a8.then(chart => {\n",
       "        snapshot_b565f76 = chart.store();\n",
       "        return chart;\n",
       "    });\n",
       "</script>"
      ]
     },
     "metadata": {},
     "output_type": "display_data"
    }
   ],
   "source": [
    "chart.animate(snapshot2)\n",
    "\n",
    "chart.animate(Config({\"title\": \"Merge\"}))\n",
    "\n",
    "chart.animate(Config({\n",
    "    \"split\": False\n",
    "}))\n",
    "\n",
    "snapshot3 = chart.store()"
   ]
  },
  {
   "cell_type": "markdown",
   "id": "8bdea4dc",
   "metadata": {},
   "source": [
    "We aggregate the data by removing the Genres dimension from the x-axis."
   ]
  },
  {
   "cell_type": "code",
   "execution_count": 4,
   "id": "cd6f4efb",
   "metadata": {},
   "outputs": [
    {
     "data": {
      "text/html": [
       "<script id=\"myVizzu_7c3cdcf\">\n",
       "    document.inhibitScroll = false;\n",
       "</script>"
      ]
     },
     "metadata": {},
     "output_type": "display_data"
    },
    {
     "data": {
      "text/html": [
       "<script id=\"myVizzu_eb06e0f\">\n",
       "    let display_eb06e0f = myVizzu_eb06e0f.parentNode.parentNode.style.display;\n",
       "    myVizzu_eb06e0f.parentNode.parentNode.style.display = \"none\";\n",
       "    chart_95434a8 = chart_95434a8.then(chart => {\n",
       "        if (myVizzu_95434a8.parentNode && myVizzu_95434a8.parentNode.parentNode) {\n",
       "            myVizzu_95434a8.parentNode.parentNode.style.display = \"none\";\n",
       "        }\n",
       "        myVizzu_eb06e0f.parentNode.parentNode.style.display = display_eb06e0f;\n",
       "        myVizzu_eb06e0f.parentNode.insertBefore(myVizzu_95434a8, myVizzu_eb06e0f);\n",
       "        if (!document.inhibitScroll && true) {\n",
       "            myVizzu_95434a8.scrollIntoView({behavior: \"auto\", block: \"center\"});\n",
       "        }\n",
       "        return chart.animate(snapshot_b565f76);\n",
       "    });\n",
       "</script>"
      ]
     },
     "metadata": {},
     "output_type": "display_data"
    },
    {
     "data": {
      "text/html": [
       "<script id=\"myVizzu_60bb5ba\">\n",
       "    let display_60bb5ba = myVizzu_60bb5ba.parentNode.parentNode.style.display;\n",
       "    myVizzu_60bb5ba.parentNode.parentNode.style.display = \"none\";\n",
       "    chart_95434a8 = chart_95434a8.then(chart => {\n",
       "        if (myVizzu_95434a8.parentNode && myVizzu_95434a8.parentNode.parentNode) {\n",
       "            myVizzu_95434a8.parentNode.parentNode.style.display = \"none\";\n",
       "        }\n",
       "        myVizzu_60bb5ba.parentNode.parentNode.style.display = display_60bb5ba;\n",
       "        myVizzu_60bb5ba.parentNode.insertBefore(myVizzu_95434a8, myVizzu_60bb5ba);\n",
       "        if (!document.inhibitScroll && true) {\n",
       "            myVizzu_95434a8.scrollIntoView({behavior: \"auto\", block: \"center\"});\n",
       "        }\n",
       "        return chart.animate({\"config\": {\"title\": \"Aggregate\"}});\n",
       "    });\n",
       "</script>"
      ]
     },
     "metadata": {},
     "output_type": "display_data"
    },
    {
     "data": {
      "text/html": [
       "<script id=\"myVizzu_b305b73\">\n",
       "    let display_b305b73 = myVizzu_b305b73.parentNode.parentNode.style.display;\n",
       "    myVizzu_b305b73.parentNode.parentNode.style.display = \"none\";\n",
       "    chart_95434a8 = chart_95434a8.then(chart => {\n",
       "        if (myVizzu_95434a8.parentNode && myVizzu_95434a8.parentNode.parentNode) {\n",
       "            myVizzu_95434a8.parentNode.parentNode.style.display = \"none\";\n",
       "        }\n",
       "        myVizzu_b305b73.parentNode.parentNode.style.display = display_b305b73;\n",
       "        myVizzu_b305b73.parentNode.insertBefore(myVizzu_95434a8, myVizzu_b305b73);\n",
       "        if (!document.inhibitScroll && true) {\n",
       "            myVizzu_95434a8.scrollIntoView({behavior: \"auto\", block: \"center\"});\n",
       "        }\n",
       "        return chart.animate({\"config\": {\"channels\": {\"x\": {\"detach\": \"Genres\"}}}});\n",
       "    });\n",
       "</script>"
      ]
     },
     "metadata": {},
     "output_type": "display_data"
    },
    {
     "data": {
      "text/html": [
       "<script id=\"myVizzu_2771786\">\n",
       "    myVizzu_2771786.parentNode.parentNode.style.display = \"none\";\n",
       "    let snapshot_2771786;\n",
       "    chart_95434a8 = chart_95434a8.then(chart => {\n",
       "        snapshot_2771786 = chart.store();\n",
       "        return chart;\n",
       "    });\n",
       "</script>"
      ]
     },
     "metadata": {},
     "output_type": "display_data"
    }
   ],
   "source": [
    "chart.animate(snapshot3)\n",
    "\n",
    "chart.animate(Config({\"title\": \"Aggregate\"}))\n",
    "\n",
    "chart.animate(Config({\n",
    "    \"channels\": {\n",
    "        \"x\": {\n",
    "            \"detach\": \"Genres\",\n",
    "        }\n",
    "    }\n",
    "}))\n",
    "\n",
    "snapshot4 = chart.store()"
   ]
  },
  {
   "cell_type": "markdown",
   "id": "57f51f7b",
   "metadata": {},
   "source": [
    "Switching from cartesian coordinates to polar. When doing so, it is worth setting the axis range on the axis with the dimension so that the viewers can easily compare the values shown. If you want to return to the default cartesian coordinates, just set the coordSystem parameter to ‘cartesian’.\n",
    "\n",
    "Note: The range of the x-axis is automatically set to max:133% as this is the standard way to show radial charts."
   ]
  },
  {
   "cell_type": "code",
   "execution_count": 5,
   "id": "dc6866f3",
   "metadata": {},
   "outputs": [
    {
     "data": {
      "text/html": [
       "<script id=\"myVizzu_2113d62\">\n",
       "    document.inhibitScroll = false;\n",
       "</script>"
      ]
     },
     "metadata": {},
     "output_type": "display_data"
    },
    {
     "data": {
      "text/html": [
       "<script id=\"myVizzu_64b1c52\">\n",
       "    let display_64b1c52 = myVizzu_64b1c52.parentNode.parentNode.style.display;\n",
       "    myVizzu_64b1c52.parentNode.parentNode.style.display = \"none\";\n",
       "    chart_95434a8 = chart_95434a8.then(chart => {\n",
       "        if (myVizzu_95434a8.parentNode && myVizzu_95434a8.parentNode.parentNode) {\n",
       "            myVizzu_95434a8.parentNode.parentNode.style.display = \"none\";\n",
       "        }\n",
       "        myVizzu_64b1c52.parentNode.parentNode.style.display = display_64b1c52;\n",
       "        myVizzu_64b1c52.parentNode.insertBefore(myVizzu_95434a8, myVizzu_64b1c52);\n",
       "        if (!document.inhibitScroll && true) {\n",
       "            myVizzu_95434a8.scrollIntoView({behavior: \"auto\", block: \"center\"});\n",
       "        }\n",
       "        return chart.animate(snapshot_2771786);\n",
       "    });\n",
       "</script>"
      ]
     },
     "metadata": {},
     "output_type": "display_data"
    },
    {
     "data": {
      "text/html": [
       "<script id=\"myVizzu_a487a62\">\n",
       "    let display_a487a62 = myVizzu_a487a62.parentNode.parentNode.style.display;\n",
       "    myVizzu_a487a62.parentNode.parentNode.style.display = \"none\";\n",
       "    chart_95434a8 = chart_95434a8.then(chart => {\n",
       "        if (myVizzu_95434a8.parentNode && myVizzu_95434a8.parentNode.parentNode) {\n",
       "            myVizzu_95434a8.parentNode.parentNode.style.display = \"none\";\n",
       "        }\n",
       "        myVizzu_a487a62.parentNode.parentNode.style.display = display_a487a62;\n",
       "        myVizzu_a487a62.parentNode.insertBefore(myVizzu_95434a8, myVizzu_a487a62);\n",
       "        if (!document.inhibitScroll && true) {\n",
       "            myVizzu_95434a8.scrollIntoView({behavior: \"auto\", block: \"center\"});\n",
       "        }\n",
       "        return chart.animate({\"config\": {\"title\": \"Polar coordinates\"}});\n",
       "    });\n",
       "</script>"
      ]
     },
     "metadata": {},
     "output_type": "display_data"
    },
    {
     "data": {
      "text/html": [
       "<script id=\"myVizzu_63b9b26\">\n",
       "    let display_63b9b26 = myVizzu_63b9b26.parentNode.parentNode.style.display;\n",
       "    myVizzu_63b9b26.parentNode.parentNode.style.display = \"none\";\n",
       "    chart_95434a8 = chart_95434a8.then(chart => {\n",
       "        if (myVizzu_95434a8.parentNode && myVizzu_95434a8.parentNode.parentNode) {\n",
       "            myVizzu_95434a8.parentNode.parentNode.style.display = \"none\";\n",
       "        }\n",
       "        myVizzu_63b9b26.parentNode.parentNode.style.display = display_63b9b26;\n",
       "        myVizzu_63b9b26.parentNode.insertBefore(myVizzu_95434a8, myVizzu_63b9b26);\n",
       "        if (!document.inhibitScroll && true) {\n",
       "            myVizzu_95434a8.scrollIntoView({behavior: \"auto\", block: \"center\"});\n",
       "        }\n",
       "        return chart.animate({\"config\": {\"channels\": {\"y\": {\"range\": {\"min\": \"-30%\"}}}, \"coordSystem\": \"polar\"}});\n",
       "    });\n",
       "</script>"
      ]
     },
     "metadata": {},
     "output_type": "display_data"
    }
   ],
   "source": [
    "chart.animate(snapshot4)\n",
    "\n",
    "chart.animate(Config({\"title\": \"Polar coordinates\"}))\n",
    "\n",
    "chart.animate(Config({\n",
    "    \"channels\": {\n",
    "        \"y\": {\n",
    "            \"range\": {\n",
    "                \"min\": \"-30%\",\n",
    "            },\n",
    "        },\n",
    "    },\n",
    "    \"coordSystem\": \"polar\"\n",
    "}))"
   ]
  }
 ],
 "metadata": {
  "kernelspec": {
   "display_name": ".venv",
   "language": "python",
   "name": ".venv"
  },
  "language_info": {
   "codemirror_mode": {
    "name": "ipython",
    "version": 3
   },
   "file_extension": ".py",
   "mimetype": "text/x-python",
   "name": "python",
   "nbconvert_exporter": "python",
   "pygments_lexer": "ipython3",
   "version": "3.8.10"
  }
 },
 "nbformat": 4,
 "nbformat_minor": 5
}
