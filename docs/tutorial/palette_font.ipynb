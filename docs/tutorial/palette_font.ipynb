{
 "cells": [
  {
   "cell_type": "markdown",
   "id": "8518ab11",
   "metadata": {},
   "source": [
    "## Color palette & fonts\n",
    "\n",
    "This and the next chapter provide a quick intro to the styling of the charts. You can either use the style property like in the following examples or use CSS. By using CSS, it's easier to set the same style for multiple charts on one page or re-use style settings.\n",
    "\n",
    "If you use CSS, don't change the set parameters later on via the style property.\n",
    "\n",
    "The font sizes automatically adjust to the chart size to help readability, and can also be set separately or for specific groups.\n",
    "\n",
    "The color palette is changed to the colors we add here. The order of the dimension’s items in the data set determine which color belongs to which item as the colors are added one-by-one. If you want to use the same setting via CSS, you should add --vizzu-plot-marker-colorPalette: #9355e8FF #123456FF #BDAF10FF;"
   ]
  },
  {
   "cell_type": "code",
   "execution_count": 1,
   "id": "b0552636",
   "metadata": {},
   "outputs": [
    {
     "data": {
      "text/html": [
       "<script id=\"myVizzu_b9daf47\">\n",
       "    document.inhibitScroll = false;\n",
       "    document.addEventListener('wheel', function (evt) { document.inhibitScroll = true }, true);\n",
       "    document.addEventListener('keydown', function (evt) { document.inhibitScroll = true }, true);\n",
       "    document.addEventListener('touchstart', function (evt) { document.inhibitScroll = true }, true);\n",
       "    let myVizzu_8e87127 = document.createElement(\"div\");\n",
       "    myVizzu_8e87127.style.cssText = \"width: 800px; height: 480px;\";\n",
       "    let chart_8e87127 = import(\"https://cdn.jsdelivr.net/npm/vizzu@~0.4.0/dist/vizzu.min.js\").then(Vizzu => new Vizzu.default(myVizzu_8e87127).initializing);\n",
       "    myVizzu_b9daf47.parentNode.insertBefore(myVizzu_8e87127, myVizzu_b9daf47);\n",
       "</script>"
      ]
     },
     "metadata": {},
     "output_type": "display_data"
    },
    {
     "data": {
      "text/html": [
       "<script id=\"myVizzu_104a360\">\n",
       "    let display_104a360 = myVizzu_104a360.parentNode.parentNode.style.display;\n",
       "    myVizzu_104a360.parentNode.parentNode.style.display = \"none\";\n",
       "    chart_8e87127 = chart_8e87127.then(chart => {\n",
       "        if (myVizzu_8e87127.parentNode && myVizzu_8e87127.parentNode.parentNode) {\n",
       "            myVizzu_8e87127.parentNode.parentNode.style.display = \"none\";\n",
       "        }\n",
       "        myVizzu_104a360.parentNode.parentNode.style.display = display_104a360;\n",
       "        myVizzu_104a360.parentNode.insertBefore(myVizzu_8e87127, myVizzu_104a360);\n",
       "        if (!document.inhibitScroll && true) {\n",
       "            myVizzu_8e87127.scrollIntoView({behavior: \"auto\", block: \"center\"});\n",
       "        }\n",
       "        return chart.animate({\"data\": {\"dimensions\": [{\"name\": \"Genres\", \"values\": [\"Pop\", \"Rock\", \"Jazz\", \"Metal\"]}, {\"name\": \"Types\", \"values\": [\"Hard\", \"Smooth\", \"Experimental\"]}], \"measures\": [{\"name\": \"Popularity\", \"values\": [[114, 96, 78, 52], [56, 36, 174, 121], [127, 83, 94, 58]]}]}});\n",
       "    });\n",
       "</script>"
      ]
     },
     "metadata": {},
     "output_type": "display_data"
    },
    {
     "data": {
      "text/html": [
       "<script id=\"myVizzu_919473c\">\n",
       "    let display_919473c = myVizzu_919473c.parentNode.parentNode.style.display;\n",
       "    myVizzu_919473c.parentNode.parentNode.style.display = \"none\";\n",
       "    chart_8e87127 = chart_8e87127.then(chart => {\n",
       "        if (myVizzu_8e87127.parentNode && myVizzu_8e87127.parentNode.parentNode) {\n",
       "            myVizzu_8e87127.parentNode.parentNode.style.display = \"none\";\n",
       "        }\n",
       "        myVizzu_919473c.parentNode.parentNode.style.display = display_919473c;\n",
       "        myVizzu_919473c.parentNode.insertBefore(myVizzu_8e87127, myVizzu_919473c);\n",
       "        if (!document.inhibitScroll && true) {\n",
       "            myVizzu_8e87127.scrollIntoView({behavior: \"auto\", block: \"center\"});\n",
       "        }\n",
       "        return chart.animate({\"config\": {\"channels\": {\"y\": {\"set\": [\"Popularity\", \"Types\"]}, \"x\": {\"set\": \"Genres\"}}, \"label\": {\"attach\": \"Popularity\"}, \"color\": {\"set\": \"Types\"}, \"title\": \"Color palette\"}});\n",
       "    });\n",
       "</script>"
      ]
     },
     "metadata": {},
     "output_type": "display_data"
    },
    {
     "data": {
      "text/html": [
       "<script id=\"myVizzu_fcbe329\">\n",
       "    let display_fcbe329 = myVizzu_fcbe329.parentNode.parentNode.style.display;\n",
       "    myVizzu_fcbe329.parentNode.parentNode.style.display = \"none\";\n",
       "    chart_8e87127 = chart_8e87127.then(chart => {\n",
       "        if (myVizzu_8e87127.parentNode && myVizzu_8e87127.parentNode.parentNode) {\n",
       "            myVizzu_8e87127.parentNode.parentNode.style.display = \"none\";\n",
       "        }\n",
       "        myVizzu_fcbe329.parentNode.parentNode.style.display = display_fcbe329;\n",
       "        myVizzu_fcbe329.parentNode.insertBefore(myVizzu_8e87127, myVizzu_fcbe329);\n",
       "        if (!document.inhibitScroll && true) {\n",
       "            myVizzu_8e87127.scrollIntoView({behavior: \"auto\", block: \"center\"});\n",
       "        }\n",
       "        return chart.animate({\"style\": {\"plot\": {\"marker\": {\"colorPalette\": \"#9355e8FF #123456FF #BDAF10FF\"}}}});\n",
       "    });\n",
       "</script>"
      ]
     },
     "metadata": {},
     "output_type": "display_data"
    },
    {
     "data": {
      "text/html": [
       "<script id=\"myVizzu_b2b81e1\">\n",
       "    myVizzu_b2b81e1.parentNode.parentNode.style.display = \"none\";\n",
       "    let snapshot_b2b81e1;\n",
       "    chart_8e87127 = chart_8e87127.then(chart => {\n",
       "        snapshot_b2b81e1 = chart.store();\n",
       "        return chart;\n",
       "    });\n",
       "</script>"
      ]
     },
     "metadata": {},
     "output_type": "display_data"
    }
   ],
   "source": [
    "from ipyvizzu import Chart, Data, Config, Style\n",
    "\n",
    "chart = Chart()\n",
    "\n",
    "data = Data.from_json(\"./music_data.json\")\n",
    "\n",
    "chart.animate(data)\n",
    "\n",
    "chart.animate(Config({\n",
    "    \"channels\": {\n",
    "        \"y\": {\n",
    "            \"set\": [\"Popularity\", \"Types\"]\n",
    "        }, \n",
    "        \"x\": {\n",
    "            \"set\": \"Genres\"\n",
    "        }\n",
    "    }, \n",
    "    \"label\": {\n",
    "        \"attach\": \"Popularity\"\n",
    "    },\n",
    "    \"color\": {\n",
    "        \"set\": \"Types\"\n",
    "    },\n",
    "    \"title\": \"Color palette\"\n",
    "}))\n",
    "\n",
    "chart.animate(Style({\n",
    "    \"plot\": {\n",
    "        \"marker\": {\n",
    "            \"colorPalette\": \"#9355e8FF #123456FF #BDAF10FF\"\n",
    "        }\n",
    "    }\n",
    "}))\n",
    "\n",
    "snapshot1 = chart.store()"
   ]
  },
  {
   "cell_type": "markdown",
   "id": "00bf9cba",
   "metadata": {},
   "source": [
    "Changing the title font size will only affect the title; all other font sizes remain the same. CSS version: --vizzu-title-fontSize: 50;"
   ]
  },
  {
   "cell_type": "code",
   "execution_count": 2,
   "id": "9a7fe9b8",
   "metadata": {},
   "outputs": [
    {
     "data": {
      "text/html": [
       "<script id=\"myVizzu_df32ade\">\n",
       "    document.inhibitScroll = false;\n",
       "</script>"
      ]
     },
     "metadata": {},
     "output_type": "display_data"
    },
    {
     "data": {
      "text/html": [
       "<script id=\"myVizzu_7af29f2\">\n",
       "    let display_7af29f2 = myVizzu_7af29f2.parentNode.parentNode.style.display;\n",
       "    myVizzu_7af29f2.parentNode.parentNode.style.display = \"none\";\n",
       "    chart_8e87127 = chart_8e87127.then(chart => {\n",
       "        if (myVizzu_8e87127.parentNode && myVizzu_8e87127.parentNode.parentNode) {\n",
       "            myVizzu_8e87127.parentNode.parentNode.style.display = \"none\";\n",
       "        }\n",
       "        myVizzu_7af29f2.parentNode.parentNode.style.display = display_7af29f2;\n",
       "        myVizzu_7af29f2.parentNode.insertBefore(myVizzu_8e87127, myVizzu_7af29f2);\n",
       "        if (!document.inhibitScroll && true) {\n",
       "            myVizzu_8e87127.scrollIntoView({behavior: \"auto\", block: \"center\"});\n",
       "        }\n",
       "        return chart.animate(snapshot_b2b81e1);\n",
       "    });\n",
       "</script>"
      ]
     },
     "metadata": {},
     "output_type": "display_data"
    },
    {
     "data": {
      "text/html": [
       "<script id=\"myVizzu_1d7125e\">\n",
       "    let display_1d7125e = myVizzu_1d7125e.parentNode.parentNode.style.display;\n",
       "    myVizzu_1d7125e.parentNode.parentNode.style.display = \"none\";\n",
       "    chart_8e87127 = chart_8e87127.then(chart => {\n",
       "        if (myVizzu_8e87127.parentNode && myVizzu_8e87127.parentNode.parentNode) {\n",
       "            myVizzu_8e87127.parentNode.parentNode.style.display = \"none\";\n",
       "        }\n",
       "        myVizzu_1d7125e.parentNode.parentNode.style.display = display_1d7125e;\n",
       "        myVizzu_1d7125e.parentNode.insertBefore(myVizzu_8e87127, myVizzu_1d7125e);\n",
       "        if (!document.inhibitScroll && true) {\n",
       "            myVizzu_8e87127.scrollIntoView({behavior: \"auto\", block: \"center\"});\n",
       "        }\n",
       "        return chart.animate({\"config\": {\"title\": \"Title font size\"}});\n",
       "    });\n",
       "</script>"
      ]
     },
     "metadata": {},
     "output_type": "display_data"
    },
    {
     "data": {
      "text/html": [
       "<script id=\"myVizzu_0a2bf67\">\n",
       "    let display_0a2bf67 = myVizzu_0a2bf67.parentNode.parentNode.style.display;\n",
       "    myVizzu_0a2bf67.parentNode.parentNode.style.display = \"none\";\n",
       "    chart_8e87127 = chart_8e87127.then(chart => {\n",
       "        if (myVizzu_8e87127.parentNode && myVizzu_8e87127.parentNode.parentNode) {\n",
       "            myVizzu_8e87127.parentNode.parentNode.style.display = \"none\";\n",
       "        }\n",
       "        myVizzu_0a2bf67.parentNode.parentNode.style.display = display_0a2bf67;\n",
       "        myVizzu_0a2bf67.parentNode.insertBefore(myVizzu_8e87127, myVizzu_0a2bf67);\n",
       "        if (!document.inhibitScroll && true) {\n",
       "            myVizzu_8e87127.scrollIntoView({behavior: \"auto\", block: \"center\"});\n",
       "        }\n",
       "        return chart.animate({\"style\": {\"title\": {\"fontSize\": 50}}});\n",
       "    });\n",
       "</script>"
      ]
     },
     "metadata": {},
     "output_type": "display_data"
    },
    {
     "data": {
      "text/html": [
       "<script id=\"myVizzu_8e17bda\">\n",
       "    myVizzu_8e17bda.parentNode.parentNode.style.display = \"none\";\n",
       "    let snapshot_8e17bda;\n",
       "    chart_8e87127 = chart_8e87127.then(chart => {\n",
       "        snapshot_8e17bda = chart.store();\n",
       "        return chart;\n",
       "    });\n",
       "</script>"
      ]
     },
     "metadata": {},
     "output_type": "display_data"
    }
   ],
   "source": [
    "chart.animate(snapshot1)\n",
    "\n",
    "chart.animate(Config({\"title\": \"Title font size\"}))\n",
    "\n",
    "chart.animate(Style({\n",
    "    \"title\": {\n",
    "        \"fontSize\": 50\n",
    "    }\n",
    "}))\n",
    "\n",
    "snapshot2 = chart.store()"
   ]
  },
  {
   "cell_type": "markdown",
   "id": "fa329122",
   "metadata": {},
   "source": [
    "This is how to set the font size back to its default value."
   ]
  },
  {
   "cell_type": "code",
   "execution_count": 3,
   "id": "88fa24a8",
   "metadata": {},
   "outputs": [
    {
     "data": {
      "text/html": [
       "<script id=\"myVizzu_35663f1\">\n",
       "    document.inhibitScroll = false;\n",
       "</script>"
      ]
     },
     "metadata": {},
     "output_type": "display_data"
    },
    {
     "data": {
      "text/html": [
       "<script id=\"myVizzu_8915cc0\">\n",
       "    let display_8915cc0 = myVizzu_8915cc0.parentNode.parentNode.style.display;\n",
       "    myVizzu_8915cc0.parentNode.parentNode.style.display = \"none\";\n",
       "    chart_8e87127 = chart_8e87127.then(chart => {\n",
       "        if (myVizzu_8e87127.parentNode && myVizzu_8e87127.parentNode.parentNode) {\n",
       "            myVizzu_8e87127.parentNode.parentNode.style.display = \"none\";\n",
       "        }\n",
       "        myVizzu_8915cc0.parentNode.parentNode.style.display = display_8915cc0;\n",
       "        myVizzu_8915cc0.parentNode.insertBefore(myVizzu_8e87127, myVizzu_8915cc0);\n",
       "        if (!document.inhibitScroll && true) {\n",
       "            myVizzu_8e87127.scrollIntoView({behavior: \"auto\", block: \"center\"});\n",
       "        }\n",
       "        return chart.animate(snapshot_8e17bda);\n",
       "    });\n",
       "</script>"
      ]
     },
     "metadata": {},
     "output_type": "display_data"
    },
    {
     "data": {
      "text/html": [
       "<script id=\"myVizzu_6bbbd17\">\n",
       "    let display_6bbbd17 = myVizzu_6bbbd17.parentNode.parentNode.style.display;\n",
       "    myVizzu_6bbbd17.parentNode.parentNode.style.display = \"none\";\n",
       "    chart_8e87127 = chart_8e87127.then(chart => {\n",
       "        if (myVizzu_8e87127.parentNode && myVizzu_8e87127.parentNode.parentNode) {\n",
       "            myVizzu_8e87127.parentNode.parentNode.style.display = \"none\";\n",
       "        }\n",
       "        myVizzu_6bbbd17.parentNode.parentNode.style.display = display_6bbbd17;\n",
       "        myVizzu_6bbbd17.parentNode.insertBefore(myVizzu_8e87127, myVizzu_6bbbd17);\n",
       "        if (!document.inhibitScroll && true) {\n",
       "            myVizzu_8e87127.scrollIntoView({behavior: \"auto\", block: \"center\"});\n",
       "        }\n",
       "        return chart.animate({\"config\": {\"title\": \"Title font size - back to default\"}});\n",
       "    });\n",
       "</script>"
      ]
     },
     "metadata": {},
     "output_type": "display_data"
    },
    {
     "data": {
      "text/html": [
       "<script id=\"myVizzu_916d340\">\n",
       "    let display_916d340 = myVizzu_916d340.parentNode.parentNode.style.display;\n",
       "    myVizzu_916d340.parentNode.parentNode.style.display = \"none\";\n",
       "    chart_8e87127 = chart_8e87127.then(chart => {\n",
       "        if (myVizzu_8e87127.parentNode && myVizzu_8e87127.parentNode.parentNode) {\n",
       "            myVizzu_8e87127.parentNode.parentNode.style.display = \"none\";\n",
       "        }\n",
       "        myVizzu_916d340.parentNode.parentNode.style.display = display_916d340;\n",
       "        myVizzu_916d340.parentNode.insertBefore(myVizzu_8e87127, myVizzu_916d340);\n",
       "        if (!document.inhibitScroll && true) {\n",
       "            myVizzu_8e87127.scrollIntoView({behavior: \"auto\", block: \"center\"});\n",
       "        }\n",
       "        return chart.animate({\"style\": {\"title\": {\"fontSize\": null}}});\n",
       "    });\n",
       "</script>"
      ]
     },
     "metadata": {},
     "output_type": "display_data"
    },
    {
     "data": {
      "text/html": [
       "<script id=\"myVizzu_1b9b5d3\">\n",
       "    myVizzu_1b9b5d3.parentNode.parentNode.style.display = \"none\";\n",
       "    let snapshot_1b9b5d3;\n",
       "    chart_8e87127 = chart_8e87127.then(chart => {\n",
       "        snapshot_1b9b5d3 = chart.store();\n",
       "        return chart;\n",
       "    });\n",
       "</script>"
      ]
     },
     "metadata": {},
     "output_type": "display_data"
    }
   ],
   "source": [
    "chart.animate(snapshot2)\n",
    "\n",
    "chart.animate(Config({\"title\": \"Title font size - back to default\"}))\n",
    "\n",
    "chart.animate(Style({\n",
    "    \"title\": {\n",
    "        \"fontSize\": None\n",
    "    }\n",
    "}))\n",
    "\n",
    "snapshot3 = chart.store()"
   ]
  },
  {
   "cell_type": "markdown",
   "id": "3d68c376",
   "metadata": {},
   "source": [
    "In case you change the font size of the whole chart with the top-level fontSize parameter then every font on the chart will grow/shrink proportionally. The size refers to the font size of the axis labels by default."
   ]
  },
  {
   "cell_type": "code",
   "execution_count": 4,
   "id": "c7e60196",
   "metadata": {},
   "outputs": [
    {
     "data": {
      "text/html": [
       "<script id=\"myVizzu_143a334\">\n",
       "    document.inhibitScroll = false;\n",
       "</script>"
      ]
     },
     "metadata": {},
     "output_type": "display_data"
    },
    {
     "data": {
      "text/html": [
       "<script id=\"myVizzu_f319ff4\">\n",
       "    let display_f319ff4 = myVizzu_f319ff4.parentNode.parentNode.style.display;\n",
       "    myVizzu_f319ff4.parentNode.parentNode.style.display = \"none\";\n",
       "    chart_8e87127 = chart_8e87127.then(chart => {\n",
       "        if (myVizzu_8e87127.parentNode && myVizzu_8e87127.parentNode.parentNode) {\n",
       "            myVizzu_8e87127.parentNode.parentNode.style.display = \"none\";\n",
       "        }\n",
       "        myVizzu_f319ff4.parentNode.parentNode.style.display = display_f319ff4;\n",
       "        myVizzu_f319ff4.parentNode.insertBefore(myVizzu_8e87127, myVizzu_f319ff4);\n",
       "        if (!document.inhibitScroll && true) {\n",
       "            myVizzu_8e87127.scrollIntoView({behavior: \"auto\", block: \"center\"});\n",
       "        }\n",
       "        return chart.animate(snapshot_1b9b5d3);\n",
       "    });\n",
       "</script>"
      ]
     },
     "metadata": {},
     "output_type": "display_data"
    },
    {
     "data": {
      "text/html": [
       "<script id=\"myVizzu_252b581\">\n",
       "    let display_252b581 = myVizzu_252b581.parentNode.parentNode.style.display;\n",
       "    myVizzu_252b581.parentNode.parentNode.style.display = \"none\";\n",
       "    chart_8e87127 = chart_8e87127.then(chart => {\n",
       "        if (myVizzu_8e87127.parentNode && myVizzu_8e87127.parentNode.parentNode) {\n",
       "            myVizzu_8e87127.parentNode.parentNode.style.display = \"none\";\n",
       "        }\n",
       "        myVizzu_252b581.parentNode.parentNode.style.display = display_252b581;\n",
       "        myVizzu_252b581.parentNode.insertBefore(myVizzu_8e87127, myVizzu_252b581);\n",
       "        if (!document.inhibitScroll && true) {\n",
       "            myVizzu_8e87127.scrollIntoView({behavior: \"auto\", block: \"center\"});\n",
       "        }\n",
       "        return chart.animate({\"config\": {\"title\": \"Setting all font sizes in one step\"}});\n",
       "    });\n",
       "</script>"
      ]
     },
     "metadata": {},
     "output_type": "display_data"
    },
    {
     "data": {
      "text/html": [
       "<script id=\"myVizzu_af2667e\">\n",
       "    let display_af2667e = myVizzu_af2667e.parentNode.parentNode.style.display;\n",
       "    myVizzu_af2667e.parentNode.parentNode.style.display = \"none\";\n",
       "    chart_8e87127 = chart_8e87127.then(chart => {\n",
       "        if (myVizzu_8e87127.parentNode && myVizzu_8e87127.parentNode.parentNode) {\n",
       "            myVizzu_8e87127.parentNode.parentNode.style.display = \"none\";\n",
       "        }\n",
       "        myVizzu_af2667e.parentNode.parentNode.style.display = display_af2667e;\n",
       "        myVizzu_af2667e.parentNode.insertBefore(myVizzu_8e87127, myVizzu_af2667e);\n",
       "        if (!document.inhibitScroll && true) {\n",
       "            myVizzu_8e87127.scrollIntoView({behavior: \"auto\", block: \"center\"});\n",
       "        }\n",
       "        return chart.animate({\"style\": {\"fontSize\": 20}});\n",
       "    });\n",
       "</script>"
      ]
     },
     "metadata": {},
     "output_type": "display_data"
    },
    {
     "data": {
      "text/html": [
       "<script id=\"myVizzu_17ae16e\">\n",
       "    myVizzu_17ae16e.parentNode.parentNode.style.display = \"none\";\n",
       "    let snapshot_17ae16e;\n",
       "    chart_8e87127 = chart_8e87127.then(chart => {\n",
       "        snapshot_17ae16e = chart.store();\n",
       "        return chart;\n",
       "    });\n",
       "</script>"
      ]
     },
     "metadata": {},
     "output_type": "display_data"
    }
   ],
   "source": [
    "chart.animate(snapshot3)\n",
    "\n",
    "chart.animate(Config({\"title\": \"Setting all font sizes in one step\"}))\n",
    "\n",
    "chart.animate(Style({\n",
    "    \"fontSize\": 20\n",
    "}))\n",
    "\n",
    "snapshot4 = chart.store()"
   ]
  },
  {
   "cell_type": "markdown",
   "id": "b45e96b6",
   "metadata": {},
   "source": [
    "You can reset styles to default on any levels by setting them to null."
   ]
  },
  {
   "cell_type": "code",
   "execution_count": 5,
   "id": "d58b14d9",
   "metadata": {},
   "outputs": [
    {
     "data": {
      "text/html": [
       "<script id=\"myVizzu_10e3a40\">\n",
       "    document.inhibitScroll = false;\n",
       "</script>"
      ]
     },
     "metadata": {},
     "output_type": "display_data"
    },
    {
     "data": {
      "text/html": [
       "<script id=\"myVizzu_be8a231\">\n",
       "    let display_be8a231 = myVizzu_be8a231.parentNode.parentNode.style.display;\n",
       "    myVizzu_be8a231.parentNode.parentNode.style.display = \"none\";\n",
       "    chart_8e87127 = chart_8e87127.then(chart => {\n",
       "        if (myVizzu_8e87127.parentNode && myVizzu_8e87127.parentNode.parentNode) {\n",
       "            myVizzu_8e87127.parentNode.parentNode.style.display = \"none\";\n",
       "        }\n",
       "        myVizzu_be8a231.parentNode.parentNode.style.display = display_be8a231;\n",
       "        myVizzu_be8a231.parentNode.insertBefore(myVizzu_8e87127, myVizzu_be8a231);\n",
       "        if (!document.inhibitScroll && true) {\n",
       "            myVizzu_8e87127.scrollIntoView({behavior: \"auto\", block: \"center\"});\n",
       "        }\n",
       "        return chart.animate(snapshot_17ae16e);\n",
       "    });\n",
       "</script>"
      ]
     },
     "metadata": {},
     "output_type": "display_data"
    },
    {
     "data": {
      "text/html": [
       "<script id=\"myVizzu_014d151\">\n",
       "    let display_014d151 = myVizzu_014d151.parentNode.parentNode.style.display;\n",
       "    myVizzu_014d151.parentNode.parentNode.style.display = \"none\";\n",
       "    chart_8e87127 = chart_8e87127.then(chart => {\n",
       "        if (myVizzu_8e87127.parentNode && myVizzu_8e87127.parentNode.parentNode) {\n",
       "            myVizzu_8e87127.parentNode.parentNode.style.display = \"none\";\n",
       "        }\n",
       "        myVizzu_014d151.parentNode.parentNode.style.display = display_014d151;\n",
       "        myVizzu_014d151.parentNode.insertBefore(myVizzu_8e87127, myVizzu_014d151);\n",
       "        if (!document.inhibitScroll && true) {\n",
       "            myVizzu_8e87127.scrollIntoView({behavior: \"auto\", block: \"center\"});\n",
       "        }\n",
       "        return chart.animate({\"config\": {\"title\": \"Setting all style settings back to default\"}});\n",
       "    });\n",
       "</script>"
      ]
     },
     "metadata": {},
     "output_type": "display_data"
    },
    {
     "data": {
      "text/html": [
       "<script id=\"myVizzu_79e2140\">\n",
       "    let display_79e2140 = myVizzu_79e2140.parentNode.parentNode.style.display;\n",
       "    myVizzu_79e2140.parentNode.parentNode.style.display = \"none\";\n",
       "    chart_8e87127 = chart_8e87127.then(chart => {\n",
       "        if (myVizzu_8e87127.parentNode && myVizzu_8e87127.parentNode.parentNode) {\n",
       "            myVizzu_8e87127.parentNode.parentNode.style.display = \"none\";\n",
       "        }\n",
       "        myVizzu_79e2140.parentNode.parentNode.style.display = display_79e2140;\n",
       "        myVizzu_79e2140.parentNode.insertBefore(myVizzu_8e87127, myVizzu_79e2140);\n",
       "        if (!document.inhibitScroll && true) {\n",
       "            myVizzu_8e87127.scrollIntoView({behavior: \"auto\", block: \"center\"});\n",
       "        }\n",
       "        return chart.animate({\"style\": null});\n",
       "    });\n",
       "</script>"
      ]
     },
     "metadata": {},
     "output_type": "display_data"
    }
   ],
   "source": [
    "chart.animate(snapshot4)\n",
    "\n",
    "chart.animate(Config({\"title\": \"Setting all style settings back to default\"}))\n",
    "\n",
    "chart.animate(Style(None))"
   ]
  }
 ],
 "metadata": {
  "kernelspec": {
   "display_name": ".venv",
   "language": "python",
   "name": ".venv"
  },
  "language_info": {
   "codemirror_mode": {
    "name": "ipython",
    "version": 3
   },
   "file_extension": ".py",
   "mimetype": "text/x-python",
   "name": "python",
   "nbconvert_exporter": "python",
   "pygments_lexer": "ipython3",
   "version": "3.8.10"
  }
 },
 "nbformat": 4,
 "nbformat_minor": 5
}
