{
 "cells": [
  {
   "cell_type": "markdown",
   "id": "8518ab11",
   "metadata": {},
   "source": [
    "## Animation options\n",
    "\n",
    "In Vizzu you can set the timing and duration of the animation. You can do this either for the whole animation, or for animation groups such as the elements moving along the x-axis or the y-axis, appearing or disappearing or when the coordinate system is changed.\n",
    "\n",
    "Let’s see first a simple example when a stacked column chart is grouped using the default animation options."
   ]
  },
  {
   "cell_type": "code",
   "execution_count": 1,
   "id": "b0552636",
   "metadata": {},
   "outputs": [
    {
     "data": {
      "text/html": [
       "<script id=\"myVizzu_539956d\">\n",
       "    document.inhibitScroll = false;\n",
       "    document.addEventListener('wheel', function (evt) { document.inhibitScroll = true }, true);\n",
       "    document.addEventListener('keydown', function (evt) { document.inhibitScroll = true }, true);\n",
       "    document.addEventListener('touchstart', function (evt) { document.inhibitScroll = true }, true);\n",
       "    let myVizzu_900f11c = document.createElement(\"div\");\n",
       "    myVizzu_900f11c.style.cssText = \"width: 800px; height: 480px;\";\n",
       "    let chart_900f11c = import(\"https://cdn.jsdelivr.net/npm/vizzu@~0.4.0/dist/vizzu.min.js\").then(Vizzu => new Vizzu.default(myVizzu_900f11c).initializing);\n",
       "    myVizzu_539956d.parentNode.insertBefore(myVizzu_900f11c, myVizzu_539956d);\n",
       "</script>"
      ]
     },
     "metadata": {},
     "output_type": "display_data"
    },
    {
     "data": {
      "text/html": [
       "<script id=\"myVizzu_55d7c43\">\n",
       "    let display_55d7c43 = myVizzu_55d7c43.parentNode.parentNode.style.display;\n",
       "    myVizzu_55d7c43.parentNode.parentNode.style.display = \"none\";\n",
       "    chart_900f11c = chart_900f11c.then(chart => {\n",
       "        if (myVizzu_900f11c.parentNode && myVizzu_900f11c.parentNode.parentNode) {\n",
       "            myVizzu_900f11c.parentNode.parentNode.style.display = \"none\";\n",
       "        }\n",
       "        myVizzu_55d7c43.parentNode.parentNode.style.display = display_55d7c43;\n",
       "        myVizzu_55d7c43.parentNode.insertBefore(myVizzu_900f11c, myVizzu_55d7c43);\n",
       "        if (!document.inhibitScroll && true) {\n",
       "            myVizzu_900f11c.scrollIntoView({behavior: \"auto\", block: \"center\"});\n",
       "        }\n",
       "        return chart.animate({\"data\": {\"dimensions\": [{\"name\": \"Genres\", \"values\": [\"Pop\", \"Rock\", \"Jazz\", \"Metal\"]}, {\"name\": \"Types\", \"values\": [\"Hard\", \"Smooth\", \"Experimental\"]}], \"measures\": [{\"name\": \"Popularity\", \"values\": [[114, 96, 78, 52], [56, 36, 174, 121], [127, 83, 94, 58]]}]}});\n",
       "    });\n",
       "</script>"
      ]
     },
     "metadata": {},
     "output_type": "display_data"
    },
    {
     "data": {
      "text/html": [
       "<script id=\"myVizzu_ca4117b\">\n",
       "    let display_ca4117b = myVizzu_ca4117b.parentNode.parentNode.style.display;\n",
       "    myVizzu_ca4117b.parentNode.parentNode.style.display = \"none\";\n",
       "    chart_900f11c = chart_900f11c.then(chart => {\n",
       "        if (myVizzu_900f11c.parentNode && myVizzu_900f11c.parentNode.parentNode) {\n",
       "            myVizzu_900f11c.parentNode.parentNode.style.display = \"none\";\n",
       "        }\n",
       "        myVizzu_ca4117b.parentNode.parentNode.style.display = display_ca4117b;\n",
       "        myVizzu_ca4117b.parentNode.insertBefore(myVizzu_900f11c, myVizzu_ca4117b);\n",
       "        if (!document.inhibitScroll && true) {\n",
       "            myVizzu_900f11c.scrollIntoView({behavior: \"auto\", block: \"center\"});\n",
       "        }\n",
       "        return chart.animate({\"config\": {\"channels\": {\"y\": {\"set\": [\"Popularity\", \"Types\"]}, \"x\": {\"set\": \"Genres\"}}, \"label\": {\"attach\": \"Popularity\"}, \"color\": {\"set\": \"Types\"}, \"title\": \"Default options - step 1\"}});\n",
       "    });\n",
       "</script>"
      ]
     },
     "metadata": {},
     "output_type": "display_data"
    },
    {
     "data": {
      "text/html": [
       "<script id=\"myVizzu_c656d2a\">\n",
       "    let display_c656d2a = myVizzu_c656d2a.parentNode.parentNode.style.display;\n",
       "    myVizzu_c656d2a.parentNode.parentNode.style.display = \"none\";\n",
       "    chart_900f11c = chart_900f11c.then(chart => {\n",
       "        if (myVizzu_900f11c.parentNode && myVizzu_900f11c.parentNode.parentNode) {\n",
       "            myVizzu_900f11c.parentNode.parentNode.style.display = \"none\";\n",
       "        }\n",
       "        myVizzu_c656d2a.parentNode.parentNode.style.display = display_c656d2a;\n",
       "        myVizzu_c656d2a.parentNode.insertBefore(myVizzu_900f11c, myVizzu_c656d2a);\n",
       "        if (!document.inhibitScroll && true) {\n",
       "            myVizzu_900f11c.scrollIntoView({behavior: \"auto\", block: \"center\"});\n",
       "        }\n",
       "        return chart.animate({\"config\": {\"channels\": {\"y\": {\"detach\": \"Types\"}, \"x\": {\"attach\": \"Types\"}}}});\n",
       "    });\n",
       "</script>"
      ]
     },
     "metadata": {},
     "output_type": "display_data"
    },
    {
     "data": {
      "text/html": [
       "<script id=\"myVizzu_d8d7ff8\">\n",
       "    myVizzu_d8d7ff8.parentNode.parentNode.style.display = \"none\";\n",
       "    let snapshot_d8d7ff8;\n",
       "    chart_900f11c = chart_900f11c.then(chart => {\n",
       "        snapshot_d8d7ff8 = chart.store();\n",
       "        return chart;\n",
       "    });\n",
       "</script>"
      ]
     },
     "metadata": {},
     "output_type": "display_data"
    }
   ],
   "source": [
    "from ipyvizzu import Chart, Data, Config\n",
    "\n",
    "chart = Chart()\n",
    "\n",
    "data = Data.from_json(\"./music_data.json\")\n",
    "\n",
    "chart.animate(data)\n",
    "\n",
    "chart.animate(Config({\n",
    "    \"channels\": {\n",
    "        \"y\": {\n",
    "            \"set\": [\"Popularity\", \"Types\"]\n",
    "        }, \n",
    "        \"x\": {\n",
    "            \"set\": \"Genres\"\n",
    "        }\n",
    "    }, \n",
    "    \"label\": {\n",
    "        \"attach\": \"Popularity\"\n",
    "    },\n",
    "    \"color\": {\n",
    "        \"set\": \"Types\"\n",
    "    },\n",
    "    \"title\": \"Default options - step 1\"\n",
    "}))\n",
    "\n",
    "chart.animate(Config({\n",
    "    \"channels\": {\n",
    "        \"y\": {\n",
    "            \"detach\": \"Types\"\n",
    "        }, \n",
    "        \"x\": {\n",
    "            \"attach\": \"Types\"\n",
    "        }\n",
    "    }\n",
    "}))\n",
    "\n",
    "snapshot1 = chart.store()"
   ]
  },
  {
   "cell_type": "markdown",
   "id": "703a28af",
   "metadata": {},
   "source": [
    "We stack the columns, still with the default options."
   ]
  },
  {
   "cell_type": "code",
   "execution_count": 2,
   "id": "ebce53a8",
   "metadata": {},
   "outputs": [
    {
     "data": {
      "text/html": [
       "<script id=\"myVizzu_e2e1a18\">\n",
       "    document.inhibitScroll = false;\n",
       "</script>"
      ]
     },
     "metadata": {},
     "output_type": "display_data"
    },
    {
     "data": {
      "text/html": [
       "<script id=\"myVizzu_e359c73\">\n",
       "    let display_e359c73 = myVizzu_e359c73.parentNode.parentNode.style.display;\n",
       "    myVizzu_e359c73.parentNode.parentNode.style.display = \"none\";\n",
       "    chart_900f11c = chart_900f11c.then(chart => {\n",
       "        if (myVizzu_900f11c.parentNode && myVizzu_900f11c.parentNode.parentNode) {\n",
       "            myVizzu_900f11c.parentNode.parentNode.style.display = \"none\";\n",
       "        }\n",
       "        myVizzu_e359c73.parentNode.parentNode.style.display = display_e359c73;\n",
       "        myVizzu_e359c73.parentNode.insertBefore(myVizzu_900f11c, myVizzu_e359c73);\n",
       "        if (!document.inhibitScroll && true) {\n",
       "            myVizzu_900f11c.scrollIntoView({behavior: \"auto\", block: \"center\"});\n",
       "        }\n",
       "        return chart.animate(snapshot_d8d7ff8);\n",
       "    });\n",
       "</script>"
      ]
     },
     "metadata": {},
     "output_type": "display_data"
    },
    {
     "data": {
      "text/html": [
       "<script id=\"myVizzu_4208b45\">\n",
       "    let display_4208b45 = myVizzu_4208b45.parentNode.parentNode.style.display;\n",
       "    myVizzu_4208b45.parentNode.parentNode.style.display = \"none\";\n",
       "    chart_900f11c = chart_900f11c.then(chart => {\n",
       "        if (myVizzu_900f11c.parentNode && myVizzu_900f11c.parentNode.parentNode) {\n",
       "            myVizzu_900f11c.parentNode.parentNode.style.display = \"none\";\n",
       "        }\n",
       "        myVizzu_4208b45.parentNode.parentNode.style.display = display_4208b45;\n",
       "        myVizzu_4208b45.parentNode.insertBefore(myVizzu_900f11c, myVizzu_4208b45);\n",
       "        if (!document.inhibitScroll && true) {\n",
       "            myVizzu_900f11c.scrollIntoView({behavior: \"auto\", block: \"center\"});\n",
       "        }\n",
       "        return chart.animate({\"config\": {\"title\": \"Default options - step 2\"}});\n",
       "    });\n",
       "</script>"
      ]
     },
     "metadata": {},
     "output_type": "display_data"
    },
    {
     "data": {
      "text/html": [
       "<script id=\"myVizzu_cccc2e3\">\n",
       "    let display_cccc2e3 = myVizzu_cccc2e3.parentNode.parentNode.style.display;\n",
       "    myVizzu_cccc2e3.parentNode.parentNode.style.display = \"none\";\n",
       "    chart_900f11c = chart_900f11c.then(chart => {\n",
       "        if (myVizzu_900f11c.parentNode && myVizzu_900f11c.parentNode.parentNode) {\n",
       "            myVizzu_900f11c.parentNode.parentNode.style.display = \"none\";\n",
       "        }\n",
       "        myVizzu_cccc2e3.parentNode.parentNode.style.display = display_cccc2e3;\n",
       "        myVizzu_cccc2e3.parentNode.insertBefore(myVizzu_900f11c, myVizzu_cccc2e3);\n",
       "        if (!document.inhibitScroll && true) {\n",
       "            myVizzu_900f11c.scrollIntoView({behavior: \"auto\", block: \"center\"});\n",
       "        }\n",
       "        return chart.animate({\"config\": {\"channels\": {\"x\": {\"detach\": \"Types\"}, \"y\": {\"attach\": \"Types\"}}}});\n",
       "    });\n",
       "</script>"
      ]
     },
     "metadata": {},
     "output_type": "display_data"
    },
    {
     "data": {
      "text/html": [
       "<script id=\"myVizzu_fbf253b\">\n",
       "    myVizzu_fbf253b.parentNode.parentNode.style.display = \"none\";\n",
       "    let snapshot_fbf253b;\n",
       "    chart_900f11c = chart_900f11c.then(chart => {\n",
       "        snapshot_fbf253b = chart.store();\n",
       "        return chart;\n",
       "    });\n",
       "</script>"
      ]
     },
     "metadata": {},
     "output_type": "display_data"
    }
   ],
   "source": [
    "chart.animate(snapshot1)\n",
    "\n",
    "chart.animate(Config({\"title\": \"Default options - step 2\"}))\n",
    "\n",
    "chart.animate(Config({\n",
    "    \"channels\": {\n",
    "        \"x\": {\n",
    "            \"detach\": \"Types\"\n",
    "        }, \n",
    "        \"y\": {\n",
    "            \"attach\": \"Types\"\n",
    "        }\n",
    "    }\n",
    "}))\n",
    "\n",
    "snapshot2 = chart.store()"
   ]
  },
  {
   "cell_type": "markdown",
   "id": "3c5ed3f8",
   "metadata": {},
   "source": [
    "Now we change the animation settings for the elements moving along the y-axis and also the change in styles, more specifically when the labels on the markers move from the center of the chart elements to the top of them."
   ]
  },
  {
   "cell_type": "code",
   "execution_count": 3,
   "id": "31c17b7c",
   "metadata": {},
   "outputs": [
    {
     "data": {
      "text/html": [
       "<script id=\"myVizzu_0e1ac3c\">\n",
       "    document.inhibitScroll = false;\n",
       "</script>"
      ]
     },
     "metadata": {},
     "output_type": "display_data"
    },
    {
     "data": {
      "text/html": [
       "<script id=\"myVizzu_1c46f8a\">\n",
       "    let display_1c46f8a = myVizzu_1c46f8a.parentNode.parentNode.style.display;\n",
       "    myVizzu_1c46f8a.parentNode.parentNode.style.display = \"none\";\n",
       "    chart_900f11c = chart_900f11c.then(chart => {\n",
       "        if (myVizzu_900f11c.parentNode && myVizzu_900f11c.parentNode.parentNode) {\n",
       "            myVizzu_900f11c.parentNode.parentNode.style.display = \"none\";\n",
       "        }\n",
       "        myVizzu_1c46f8a.parentNode.parentNode.style.display = display_1c46f8a;\n",
       "        myVizzu_1c46f8a.parentNode.insertBefore(myVizzu_900f11c, myVizzu_1c46f8a);\n",
       "        if (!document.inhibitScroll && true) {\n",
       "            myVizzu_900f11c.scrollIntoView({behavior: \"auto\", block: \"center\"});\n",
       "        }\n",
       "        return chart.animate(snapshot_fbf253b);\n",
       "    });\n",
       "</script>"
      ]
     },
     "metadata": {},
     "output_type": "display_data"
    },
    {
     "data": {
      "text/html": [
       "<script id=\"myVizzu_48d3529\">\n",
       "    let display_48d3529 = myVizzu_48d3529.parentNode.parentNode.style.display;\n",
       "    myVizzu_48d3529.parentNode.parentNode.style.display = \"none\";\n",
       "    chart_900f11c = chart_900f11c.then(chart => {\n",
       "        if (myVizzu_900f11c.parentNode && myVizzu_900f11c.parentNode.parentNode) {\n",
       "            myVizzu_900f11c.parentNode.parentNode.style.display = \"none\";\n",
       "        }\n",
       "        myVizzu_48d3529.parentNode.parentNode.style.display = display_48d3529;\n",
       "        myVizzu_48d3529.parentNode.insertBefore(myVizzu_900f11c, myVizzu_48d3529);\n",
       "        if (!document.inhibitScroll && true) {\n",
       "            myVizzu_900f11c.scrollIntoView({behavior: \"auto\", block: \"center\"});\n",
       "        }\n",
       "        return chart.animate({\"config\": {\"title\": \"Custom animation settings for specific groups\"}});\n",
       "    });\n",
       "</script>"
      ]
     },
     "metadata": {},
     "output_type": "display_data"
    },
    {
     "data": {
      "text/html": [
       "<script id=\"myVizzu_0816258\">\n",
       "    let display_0816258 = myVizzu_0816258.parentNode.parentNode.style.display;\n",
       "    myVizzu_0816258.parentNode.parentNode.style.display = \"none\";\n",
       "    chart_900f11c = chart_900f11c.then(chart => {\n",
       "        if (myVizzu_900f11c.parentNode && myVizzu_900f11c.parentNode.parentNode) {\n",
       "            myVizzu_900f11c.parentNode.parentNode.style.display = \"none\";\n",
       "        }\n",
       "        myVizzu_0816258.parentNode.parentNode.style.display = display_0816258;\n",
       "        myVizzu_0816258.parentNode.insertBefore(myVizzu_900f11c, myVizzu_0816258);\n",
       "        if (!document.inhibitScroll && true) {\n",
       "            myVizzu_900f11c.scrollIntoView({behavior: \"auto\", block: \"center\"});\n",
       "        }\n",
       "        return chart.animate({\"config\": {\"channels\": {\"y\": {\"detach\": \"Types\"}, \"x\": {\"attach\": \"Types\"}}}}, {\"y\": {\"duration\": 2, \"delay\": 2}, \"style\": {\"duration\": 2, \"delay\": 4}});\n",
       "    });\n",
       "</script>"
      ]
     },
     "metadata": {},
     "output_type": "display_data"
    },
    {
     "data": {
      "text/html": [
       "<script id=\"myVizzu_d26f7b5\">\n",
       "    myVizzu_d26f7b5.parentNode.parentNode.style.display = \"none\";\n",
       "    let snapshot_d26f7b5;\n",
       "    chart_900f11c = chart_900f11c.then(chart => {\n",
       "        snapshot_d26f7b5 = chart.store();\n",
       "        return chart;\n",
       "    });\n",
       "</script>"
      ]
     },
     "metadata": {},
     "output_type": "display_data"
    }
   ],
   "source": [
    "chart.animate(snapshot2)\n",
    "\n",
    "chart.animate(Config({\"title\": \"Custom animation settings for specific groups\"}))\n",
    "\n",
    "chart.animate(\n",
    "    Config({\n",
    "        \"channels\": {\n",
    "            \"y\": {\n",
    "                \"detach\": \"Types\"\n",
    "            }, \n",
    "            \"x\": {\n",
    "                \"attach\": \"Types\"\n",
    "            }\n",
    "        }\n",
    "    }),\n",
    "    y={\n",
    "        \"duration\": 2,\n",
    "        \"delay\": 2\n",
    "    },\n",
    "    style={\n",
    "        \"duration\": 2,\n",
    "        \"delay\": 4\n",
    "    }\n",
    ")\n",
    "\n",
    "snapshot3 = chart.store()"
   ]
  },
  {
   "cell_type": "markdown",
   "id": "0ea85836",
   "metadata": {},
   "source": [
    "This is an example of changing the settings for the whole animation at once."
   ]
  },
  {
   "cell_type": "code",
   "execution_count": 4,
   "id": "b835da76",
   "metadata": {},
   "outputs": [
    {
     "data": {
      "text/html": [
       "<script id=\"myVizzu_d80aede\">\n",
       "    document.inhibitScroll = false;\n",
       "</script>"
      ]
     },
     "metadata": {},
     "output_type": "display_data"
    },
    {
     "data": {
      "text/html": [
       "<script id=\"myVizzu_04f26ee\">\n",
       "    let display_04f26ee = myVizzu_04f26ee.parentNode.parentNode.style.display;\n",
       "    myVizzu_04f26ee.parentNode.parentNode.style.display = \"none\";\n",
       "    chart_900f11c = chart_900f11c.then(chart => {\n",
       "        if (myVizzu_900f11c.parentNode && myVizzu_900f11c.parentNode.parentNode) {\n",
       "            myVizzu_900f11c.parentNode.parentNode.style.display = \"none\";\n",
       "        }\n",
       "        myVizzu_04f26ee.parentNode.parentNode.style.display = display_04f26ee;\n",
       "        myVizzu_04f26ee.parentNode.insertBefore(myVizzu_900f11c, myVizzu_04f26ee);\n",
       "        if (!document.inhibitScroll && true) {\n",
       "            myVizzu_900f11c.scrollIntoView({behavior: \"auto\", block: \"center\"});\n",
       "        }\n",
       "        return chart.animate(snapshot_d26f7b5);\n",
       "    });\n",
       "</script>"
      ]
     },
     "metadata": {},
     "output_type": "display_data"
    },
    {
     "data": {
      "text/html": [
       "<script id=\"myVizzu_fbed5ec\">\n",
       "    let display_fbed5ec = myVizzu_fbed5ec.parentNode.parentNode.style.display;\n",
       "    myVizzu_fbed5ec.parentNode.parentNode.style.display = \"none\";\n",
       "    chart_900f11c = chart_900f11c.then(chart => {\n",
       "        if (myVizzu_900f11c.parentNode && myVizzu_900f11c.parentNode.parentNode) {\n",
       "            myVizzu_900f11c.parentNode.parentNode.style.display = \"none\";\n",
       "        }\n",
       "        myVizzu_fbed5ec.parentNode.parentNode.style.display = display_fbed5ec;\n",
       "        myVizzu_fbed5ec.parentNode.insertBefore(myVizzu_900f11c, myVizzu_fbed5ec);\n",
       "        if (!document.inhibitScroll && true) {\n",
       "            myVizzu_900f11c.scrollIntoView({behavior: \"auto\", block: \"center\"});\n",
       "        }\n",
       "        return chart.animate({\"config\": {\"title\": \"Custom options for the whole animation\"}});\n",
       "    });\n",
       "</script>"
      ]
     },
     "metadata": {},
     "output_type": "display_data"
    },
    {
     "data": {
      "text/html": [
       "<script id=\"myVizzu_6c8baf8\">\n",
       "    let display_6c8baf8 = myVizzu_6c8baf8.parentNode.parentNode.style.display;\n",
       "    myVizzu_6c8baf8.parentNode.parentNode.style.display = \"none\";\n",
       "    chart_900f11c = chart_900f11c.then(chart => {\n",
       "        if (myVizzu_900f11c.parentNode && myVizzu_900f11c.parentNode.parentNode) {\n",
       "            myVizzu_900f11c.parentNode.parentNode.style.display = \"none\";\n",
       "        }\n",
       "        myVizzu_6c8baf8.parentNode.parentNode.style.display = display_6c8baf8;\n",
       "        myVizzu_6c8baf8.parentNode.insertBefore(myVizzu_900f11c, myVizzu_6c8baf8);\n",
       "        if (!document.inhibitScroll && true) {\n",
       "            myVizzu_900f11c.scrollIntoView({behavior: \"auto\", block: \"center\"});\n",
       "        }\n",
       "        return chart.animate({\"config\": {\"channels\": {\"x\": {\"detach\": \"Types\"}, \"y\": {\"attach\": \"Types\"}}}}, {\"duration\": 1, \"easing\": \"linear\"});\n",
       "    });\n",
       "</script>"
      ]
     },
     "metadata": {},
     "output_type": "display_data"
    },
    {
     "data": {
      "text/html": [
       "<script id=\"myVizzu_f7b603d\">\n",
       "    myVizzu_f7b603d.parentNode.parentNode.style.display = \"none\";\n",
       "    let snapshot_f7b603d;\n",
       "    chart_900f11c = chart_900f11c.then(chart => {\n",
       "        snapshot_f7b603d = chart.store();\n",
       "        return chart;\n",
       "    });\n",
       "</script>"
      ]
     },
     "metadata": {},
     "output_type": "display_data"
    }
   ],
   "source": [
    "chart.animate(snapshot3)\n",
    "\n",
    "chart.animate(Config({\"title\": \"Custom options for the whole animation\"}))\n",
    "\n",
    "chart.animate(\n",
    "    Config({\n",
    "        \"channels\": {\n",
    "            \"x\": {\n",
    "                \"detach\": \"Types\"\n",
    "            }, \n",
    "            \"y\": {\n",
    "                \"attach\": \"Types\"\n",
    "            }\n",
    "        }\n",
    "    }),\n",
    "    duration=1,\n",
    "    easing=\"linear\"\n",
    ")\n",
    "\n",
    "snapshot4 = chart.store()"
   ]
  },
  {
   "cell_type": "markdown",
   "id": "7397ac85",
   "metadata": {},
   "source": [
    "When the two settings are combined, Vizzu will use the general animation options and spread the unique settings for specific groups proportionally. This is why you can see the same animation as two steps before but happening much quicker since the duration of the whole animation is set to 1 second."
   ]
  },
  {
   "cell_type": "code",
   "execution_count": 5,
   "id": "b9fe93a3",
   "metadata": {},
   "outputs": [
    {
     "data": {
      "text/html": [
       "<script id=\"myVizzu_73d74d0\">\n",
       "    document.inhibitScroll = false;\n",
       "</script>"
      ]
     },
     "metadata": {},
     "output_type": "display_data"
    },
    {
     "data": {
      "text/html": [
       "<script id=\"myVizzu_2c6aabd\">\n",
       "    let display_2c6aabd = myVizzu_2c6aabd.parentNode.parentNode.style.display;\n",
       "    myVizzu_2c6aabd.parentNode.parentNode.style.display = \"none\";\n",
       "    chart_900f11c = chart_900f11c.then(chart => {\n",
       "        if (myVizzu_900f11c.parentNode && myVizzu_900f11c.parentNode.parentNode) {\n",
       "            myVizzu_900f11c.parentNode.parentNode.style.display = \"none\";\n",
       "        }\n",
       "        myVizzu_2c6aabd.parentNode.parentNode.style.display = display_2c6aabd;\n",
       "        myVizzu_2c6aabd.parentNode.insertBefore(myVizzu_900f11c, myVizzu_2c6aabd);\n",
       "        if (!document.inhibitScroll && true) {\n",
       "            myVizzu_900f11c.scrollIntoView({behavior: \"auto\", block: \"center\"});\n",
       "        }\n",
       "        return chart.animate(snapshot_f7b603d);\n",
       "    });\n",
       "</script>"
      ]
     },
     "metadata": {},
     "output_type": "display_data"
    },
    {
     "data": {
      "text/html": [
       "<script id=\"myVizzu_ff62d6f\">\n",
       "    let display_ff62d6f = myVizzu_ff62d6f.parentNode.parentNode.style.display;\n",
       "    myVizzu_ff62d6f.parentNode.parentNode.style.display = \"none\";\n",
       "    chart_900f11c = chart_900f11c.then(chart => {\n",
       "        if (myVizzu_900f11c.parentNode && myVizzu_900f11c.parentNode.parentNode) {\n",
       "            myVizzu_900f11c.parentNode.parentNode.style.display = \"none\";\n",
       "        }\n",
       "        myVizzu_ff62d6f.parentNode.parentNode.style.display = display_ff62d6f;\n",
       "        myVizzu_ff62d6f.parentNode.insertBefore(myVizzu_900f11c, myVizzu_ff62d6f);\n",
       "        if (!document.inhibitScroll && true) {\n",
       "            myVizzu_900f11c.scrollIntoView({behavior: \"auto\", block: \"center\"});\n",
       "        }\n",
       "        return chart.animate({\"config\": {\"title\": \"Custom settings for both\"}});\n",
       "    });\n",
       "</script>"
      ]
     },
     "metadata": {},
     "output_type": "display_data"
    },
    {
     "data": {
      "text/html": [
       "<script id=\"myVizzu_37c76ec\">\n",
       "    let display_37c76ec = myVizzu_37c76ec.parentNode.parentNode.style.display;\n",
       "    myVizzu_37c76ec.parentNode.parentNode.style.display = \"none\";\n",
       "    chart_900f11c = chart_900f11c.then(chart => {\n",
       "        if (myVizzu_900f11c.parentNode && myVizzu_900f11c.parentNode.parentNode) {\n",
       "            myVizzu_900f11c.parentNode.parentNode.style.display = \"none\";\n",
       "        }\n",
       "        myVizzu_37c76ec.parentNode.parentNode.style.display = display_37c76ec;\n",
       "        myVizzu_37c76ec.parentNode.insertBefore(myVizzu_900f11c, myVizzu_37c76ec);\n",
       "        if (!document.inhibitScroll && true) {\n",
       "            myVizzu_900f11c.scrollIntoView({behavior: \"auto\", block: \"center\"});\n",
       "        }\n",
       "        return chart.animate({\"config\": {\"channels\": {\"y\": {\"detach\": \"Types\"}, \"x\": {\"attach\": \"Types\"}}}}, {\"duration\": 1, \"easing\": \"linear\", \"y\": {\"duration\": 2, \"delay\": 2}, \"style\": {\"duration\": 2, \"delay\": 4}});\n",
       "    });\n",
       "</script>"
      ]
     },
     "metadata": {},
     "output_type": "display_data"
    }
   ],
   "source": [
    "chart.animate(snapshot4)\n",
    "\n",
    "chart.animate(Config({\"title\": \"Custom settings for both\"}))\n",
    "\n",
    "chart.animate(\n",
    "    Config({\n",
    "        \"channels\": {\n",
    "            \"y\": {\n",
    "                \"detach\": \"Types\"\n",
    "            }, \n",
    "            \"x\": {\n",
    "                \"attach\": \"Types\"\n",
    "            }\n",
    "        }\n",
    "    }),\n",
    "    duration=1,\n",
    "    easing=\"linear\",\n",
    "    y={\n",
    "        \"duration\": 2,\n",
    "        \"delay\": 2\n",
    "    },\n",
    "    style={\n",
    "        \"duration\": 2,\n",
    "        \"delay\": 4\n",
    "    }\n",
    ")"
   ]
  }
 ],
 "metadata": {
  "kernelspec": {
   "display_name": ".venv",
   "language": "python",
   "name": ".venv"
  },
  "language_info": {
   "codemirror_mode": {
    "name": "ipython",
    "version": 3
   },
   "file_extension": ".py",
   "mimetype": "text/x-python",
   "name": "python",
   "nbconvert_exporter": "python",
   "pygments_lexer": "ipython3",
   "version": "3.8.10"
  }
 },
 "nbformat": 4,
 "nbformat_minor": 5
}
