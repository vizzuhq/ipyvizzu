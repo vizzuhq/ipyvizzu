{
 "cells": [
  {
   "cell_type": "code",
   "execution_count": 1,
   "metadata": {
    "scrolled": true
   },
   "outputs": [
    {
     "data": {
      "text/html": [
       "<script id=\"myVizzu_6565376\">\n",
       "    document.inhibitScroll = false;\n",
       "    document.addEventListener('wheel', function (evt) { document.inhibitScroll = true }, true);\n",
       "    document.addEventListener('keydown', function (evt) { document.inhibitScroll = true }, true);\n",
       "    document.addEventListener('touchstart', function (evt) { document.inhibitScroll = true }, true);\n",
       "    let myVizzu_184a155 = document.createElement(\"div\");\n",
       "    myVizzu_184a155.style.cssText = \"width: 640px; height: =360px;\";\n",
       "    let chart_184a155 = import(\"https://cdn.jsdelivr.net/npm/vizzu@~0.4.0/dist/vizzu.min.js\").then(Vizzu => new Vizzu.default(myVizzu_184a155).initializing);\n",
       "    myVizzu_6565376.parentNode.insertBefore(myVizzu_184a155, myVizzu_6565376);\n",
       "</script>"
      ]
     },
     "metadata": {},
     "output_type": "display_data"
    },
    {
     "data": {
      "text/html": [
       "<script id=\"myVizzu_a128a54\">\n",
       "    let display_a128a54 = myVizzu_a128a54.parentNode.parentNode.style.display;\n",
       "    myVizzu_a128a54.parentNode.parentNode.style.display = \"none\";\n",
       "    chart_184a155 = chart_184a155.then(chart => {\n",
       "        if (myVizzu_184a155.parentNode && myVizzu_184a155.parentNode.parentNode) {\n",
       "            myVizzu_184a155.parentNode.parentNode.style.display = \"none\";\n",
       "        }\n",
       "        myVizzu_a128a54.parentNode.parentNode.style.display = display_a128a54;\n",
       "        myVizzu_a128a54.parentNode.insertBefore(myVizzu_184a155, myVizzu_a128a54);\n",
       "        if (!document.inhibitScroll && true) {\n",
       "            myVizzu_184a155.scrollIntoView({behavior: \"auto\", block: \"center\"});\n",
       "        }\n",
       "        return chart.animate({\"data\": {\"series\": [{\"name\": \"Year\", \"type\": \"dimension\", \"values\": [\"1972\", \"1972\", \"1972\", \"1972\", \"1972\", \"1972\", \"1972\", \"1972\", \"1973\", \"1973\", \"1973\", \"1974\", \"1974\", \"1974\", \"1975\", \"1975\", \"1975\", \"1976\", \"1976\", \"1976\", \"1977\", \"1977\", \"1977\", \"1978\", \"1978\", \"1978\", \"1979\", \"1979\", \"1979\", \"1980\", \"1980\", \"1980\", \"1981\", \"1981\", \"1981\", \"1982\", \"1982\", \"1982\", \"1983\", \"1983\", \"1983\", \"1984\", \"1984\", \"1984\", \"1985\", \"1985\", \"1985\", \"1986\", \"1986\", \"1986\", \"1987\", \"1987\", \"1987\", \"1988\", \"1988\", \"1988\", \"1989\", \"1989\", \"1989\", \"1989\", \"1990\", \"1990\", \"1990\", \"1990\", \"1991\", \"1991\", \"1991\", \"1991\", \"1992\", \"1992\", \"1992\", \"1992\", \"1993\", \"1993\", \"1993\", \"1993\", \"1994\", \"1994\", \"1994\", \"1994\", \"1995\", \"1995\", \"1995\", \"1995\", \"1996\", \"1996\", \"1996\", \"1996\", \"1997\", \"1997\", \"1997\", \"1997\", \"1998\", \"1998\", \"1998\", \"1998\", \"1999\", \"1999\", \"1999\", \"1999\", \"2000\", \"2000\", \"2000\", \"2000\", \"2001\", \"2001\", \"2001\", \"2001\", \"2002\", \"2002\", \"2002\", \"2002\", \"2003\", \"2003\", \"2003\", \"2003\", \"2004\", \"2004\", \"2004\", \"2004\", \"2004\", \"2004\", \"2005\", \"2005\", \"2005\", \"2005\", \"2005\", \"2005\", \"2005\", \"2006\", \"2006\", \"2006\", \"2006\", \"2006\", \"2006\", \"2006\", \"2007\", \"2007\", \"2007\", \"2007\", \"2007\", \"2007\", \"2007\", \"2008\", \"2008\", \"2008\", \"2008\", \"2008\", \"2008\", \"2008\", \"2009\", \"2009\", \"2009\", \"2009\", \"2009\", \"2009\", \"2010\", \"2010\", \"2010\", \"2010\", \"2010\", \"2010\", \"2011\", \"2011\", \"2011\", \"2011\", \"2011\", \"2011\", \"2012\", \"2012\", \"2012\", \"2012\", \"2012\", \"2012\", \"2013\", \"2013\", \"2013\", \"2013\", \"2013\", \"2013\", \"2014\", \"2014\", \"2014\", \"2014\", \"2014\", \"2014\", \"2015\", \"2015\", \"2015\", \"2015\", \"2015\", \"2015\", \"2016\", \"2016\", \"2016\", \"2016\", \"2016\", \"2016\", \"2017\", \"2017\", \"2017\", \"2017\", \"2017\", \"2017\", \"2018\", \"2018\", \"2018\", \"2018\", \"2018\", \"2018\", \"2019\", \"2019\", \"2019\", \"2019\", \"2019\", \"2019\", \"2020\", \"2020\", \"2020\", \"2020\", \"2020\", \"2020\"]}, {\"name\": \"Format\", \"type\": \"dimension\", \"values\": [\"Other\", \"DVD\", \"Tapes\", \"Download\", \"Streaming\", \"Cassette\", \"Vinyl\", \"CD\", \"Cassette\", \"Tapes\", \"Vinyl\", \"Cassette\", \"Tapes\", \"Vinyl\", \"Cassette\", \"Tapes\", \"Vinyl\", \"Cassette\", \"Tapes\", \"Vinyl\", \"Cassette\", \"Tapes\", \"Vinyl\", \"Cassette\", \"Tapes\", \"Vinyl\", \"Cassette\", \"Tapes\", \"Vinyl\", \"Tapes\", \"Cassette\", \"Vinyl\", \"Tapes\", \"Cassette\", \"Vinyl\", \"Tapes\", \"Cassette\", \"Vinyl\", \"CD\", \"Cassette\", \"Vinyl\", \"CD\", \"Vinyl\", \"Cassette\", \"CD\", \"Vinyl\", \"Cassette\", \"CD\", \"Vinyl\", \"Cassette\", \"Vinyl\", \"CD\", \"Cassette\", \"Vinyl\", \"CD\", \"Cassette\", \"DVD\", \"Vinyl\", \"CD\", \"Cassette\", \"DVD\", \"Vinyl\", \"CD\", \"Cassette\", \"Vinyl\", \"DVD\", \"Cassette\", \"CD\", \"Vinyl\", \"DVD\", \"Cassette\", \"CD\", \"Vinyl\", \"DVD\", \"Cassette\", \"CD\", \"Vinyl\", \"DVD\", \"Cassette\", \"CD\", \"Vinyl\", \"DVD\", \"Cassette\", \"CD\", \"Vinyl\", \"DVD\", \"Cassette\", \"CD\", \"Vinyl\", \"DVD\", \"Cassette\", \"CD\", \"Vinyl\", \"DVD\", \"Cassette\", \"CD\", \"Vinyl\", \"DVD\", \"Cassette\", \"CD\", \"Vinyl\", \"DVD\", \"Cassette\", \"CD\", \"Vinyl\", \"DVD\", \"Cassette\", \"CD\", \"Vinyl\", \"Cassette\", \"DVD\", \"CD\", \"Vinyl\", \"Cassette\", \"DVD\", \"CD\", \"Streaming\", \"Cassette\", \"Vinyl\", \"Download\", \"DVD\", \"CD\", \"Cassette\", \"Vinyl\", \"Streaming\", \"Other\", \"Download\", \"DVD\", \"CD\", \"Cassette\", \"Vinyl\", \"Streaming\", \"DVD\", \"Other\", \"Download\", \"CD\", \"Cassette\", \"Vinyl\", \"Streaming\", \"DVD\", \"Other\", \"Download\", \"CD\", \"Cassette\", \"Vinyl\", \"DVD\", \"Streaming\", \"Other\", \"Download\", \"CD\", \"Vinyl\", \"DVD\", \"Streaming\", \"Other\", \"Download\", \"CD\", \"Vinyl\", \"DVD\", \"Streaming\", \"Other\", \"Download\", \"CD\", \"Vinyl\", \"DVD\", \"Other\", \"Streaming\", \"Download\", \"CD\", \"DVD\", \"Vinyl\", \"Other\", \"Streaming\", \"CD\", \"Download\", \"DVD\", \"Vinyl\", \"Other\", \"Streaming\", \"CD\", \"Download\", \"DVD\", \"Vinyl\", \"Other\", \"CD\", \"Streaming\", \"Download\", \"DVD\", \"Other\", \"Vinyl\", \"CD\", \"Download\", \"Streaming\", \"DVD\", \"Other\", \"Vinyl\", \"CD\", \"Download\", \"Streaming\", \"DVD\", \"Other\", \"Vinyl\", \"CD\", \"Download\", \"Streaming\", \"DVD\", \"Other\", \"Vinyl\", \"CD\", \"Download\", \"Streaming\", \"DVD\", \"Other\", \"Vinyl\", \"CD\", \"Download\", \"Streaming\", \"DVD\", \"Other\", \"CD\", \"Vinyl\", \"Download\", \"Streaming\"]}, {\"name\": \"Revenue [m$]\", \"type\": \"measure\", \"values\": [0.0, 0.0, 0.0, 0.0, 0.0, 0.0, 0.0, 0.0, 443.0, 2941.0, 8371.0, 458.0, 2953.0, 8137.0, 475.0, 2854.0, 8161.0, 663.0, 3108.0, 8679.0, 1066.0, 3464.0, 10422.0, 1786.0, 3763.0, 10851.0, 2070.0, 2440.0, 8594.0, 1655.0, 2214.0, 7695.0, 891.0, 3026.0, 7397.0, 97.0, 3713.0, 5922.0, 45.0, 4706.0, 5089.0, 257.0, 4602.0, 5938.0, 937.0, 3756.0, 5800.0, 2196.0, 2860.0, 5902.0, 2270.0, 3631.0, 6776.0, 1559.0, 4594.0, 7531.0, 241.0, 703.0, 5401.0, 7390.0, 341.0, 358.0, 6847.0, 7387.0, 177.0, 224.0, 6176.0, 8309.0, 147.0, 290.0, 6300.0, 9909.0, 111.0, 382.0, 5757.0, 11745.0, 114.0, 404.0, 5678.0, 14880.0, 122.0, 374.0, 4313.0, 16113.0, 139.0, 390.0, 3455.0, 16691.0, 111.0, 522.0, 2671.0, 16428.0, 95.0, 807.0, 2404.0, 18465.0, 93.0, 585.0, 1724.0, 20256.0, 81.0, 424.0, 948.0, 20075.0, 86.0, 490.0, 531.0, 18982.0, 65.0, 302.0, 427.0, 17355.0, 61.0, 152.0, 574.0, 15888.0, 10.0, 33.0, 54.0, 251.0, 841.0, 15726.0, 17.0, 36.0, 225.0, 560.0, 666.0, 813.0, 13969.0, 5.0, 33.0, 307.0, 582.0, 996.0, 1125.0, 12049.0, 4.0, 34.0, 337.0, 609.0, 1321.0, 1669.0, 9324.0, 1.0, 72.0, 275.0, 386.0, 1178.0, 2054.0, 6585.0, 80.0, 255.0, 436.0, 1098.0, 2361.0, 5217.0, 108.0, 212.0, 548.0, 763.0, 2665.0, 4028.0, 143.0, 174.0, 547.0, 752.0, 3021.0, 3573.0, 132.0, 187.0, 384.0, 1164.0, 2807.0, 3236.0, 118.0, 237.0, 327.0, 1616.0, 2382.0, 3136.0, 100.0, 273.0, 283.0, 1947.0, 1998.0, 2719.0, 83.0, 285.0, 370.0, 1580.0, 2464.0, 2546.0, 64.0, 296.0, 389.0, 1221.0, 1930.0, 4179.0, 40.0, 285.0, 417.0, 1103.0, 1412.0, 5721.0, 30.0, 322.0, 438.0, 718.0, 1038.0, 7491.0, 28.0, 307.0, 492.0, 639.0, 810.0, 8992.0, 29.0, 287.0, 484.0, 626.0, 653.0, 10075.0]}]}, \"style\": {\"fontSize\": 12.5, \"title\": {\"fontWeight\": 200}, \"plot\": {\"paddingLeft\": 100, \"paddingTop\": 25, \"yAxis\": {\"color\": \"#ffffff00\", \"label\": {\"paddingRight\": 10}}, \"xAxis\": {\"title\": {\"color\": \"#ffffff00\"}, \"label\": {\"color\": \"#ffffff00\", \"numberFormat\": \"grouped\"}}, \"marker\": {\"colorPalette\": \"#b74c20FF #c47f58FF #1c9761FF #ea4549FF #875792FF #3562b6FF #ee7c34FF #efae3aFF\"}}}});\n",
       "    });\n",
       "</script>"
      ]
     },
     "metadata": {},
     "output_type": "display_data"
    },
    {
     "data": {
      "text/html": [
       "<script id=\"myVizzu_1acd14f\">\n",
       "    let display_1acd14f = myVizzu_1acd14f.parentNode.parentNode.style.display;\n",
       "    myVizzu_1acd14f.parentNode.parentNode.style.display = \"none\";\n",
       "    chart_184a155 = chart_184a155.then(chart => {\n",
       "        if (myVizzu_184a155.parentNode && myVizzu_184a155.parentNode.parentNode) {\n",
       "            myVizzu_184a155.parentNode.parentNode.style.display = \"none\";\n",
       "        }\n",
       "        myVizzu_1acd14f.parentNode.parentNode.style.display = display_1acd14f;\n",
       "        myVizzu_1acd14f.parentNode.insertBefore(myVizzu_184a155, myVizzu_1acd14f);\n",
       "        if (!document.inhibitScroll && true) {\n",
       "            myVizzu_184a155.scrollIntoView({behavior: \"auto\", block: \"center\"});\n",
       "        }\n",
       "        return chart.animate({\"data\": {\"filter\": record => { return (parseInt(record.Year) == 1973) }}, \"config\": {\"channels\": {\"y\": {\"set\": [\"Format\"]}, \"x\": {\"set\": [\"Revenue [m$]\"]}, \"label\": {\"set\": [\"Revenue [m$]\"]}, \"color\": {\"set\": [\"Format\"]}}, \"title\": \"Music Revenue by Format - Year by Year 1973\", \"sort\": \"byValue\"}}, {\"duration\": 0.2, \"x\": {\"easing\": \"linear\", \"delay\": 0}, \"y\": {\"delay\": 0}, \"show\": {\"delay\": 0}, \"hide\": {\"delay\": 0}, \"title\": {\"duration\": 0, \"delay\": 0}});\n",
       "    });\n",
       "</script>"
      ]
     },
     "metadata": {},
     "output_type": "display_data"
    },
    {
     "data": {
      "text/html": [
       "<script id=\"myVizzu_a510ab5\">\n",
       "    let display_a510ab5 = myVizzu_a510ab5.parentNode.parentNode.style.display;\n",
       "    myVizzu_a510ab5.parentNode.parentNode.style.display = \"none\";\n",
       "    chart_184a155 = chart_184a155.then(chart => {\n",
       "        if (myVizzu_184a155.parentNode && myVizzu_184a155.parentNode.parentNode) {\n",
       "            myVizzu_184a155.parentNode.parentNode.style.display = \"none\";\n",
       "        }\n",
       "        myVizzu_a510ab5.parentNode.parentNode.style.display = display_a510ab5;\n",
       "        myVizzu_a510ab5.parentNode.insertBefore(myVizzu_184a155, myVizzu_a510ab5);\n",
       "        if (!document.inhibitScroll && true) {\n",
       "            myVizzu_184a155.scrollIntoView({behavior: \"auto\", block: \"center\"});\n",
       "        }\n",
       "        return chart.animate({\"data\": {\"filter\": record => { return (parseInt(record.Year) == 1974) }}, \"config\": {\"channels\": {\"y\": {\"set\": [\"Format\"]}, \"x\": {\"set\": [\"Revenue [m$]\"]}, \"label\": {\"set\": [\"Revenue [m$]\"]}, \"color\": {\"set\": [\"Format\"]}}, \"title\": \"Music Revenue by Format - Year by Year 1974\", \"sort\": \"byValue\"}}, {\"duration\": 0.2, \"x\": {\"easing\": \"linear\", \"delay\": 0}, \"y\": {\"delay\": 0}, \"show\": {\"delay\": 0}, \"hide\": {\"delay\": 0}, \"title\": {\"duration\": 0, \"delay\": 0}});\n",
       "    });\n",
       "</script>"
      ]
     },
     "metadata": {},
     "output_type": "display_data"
    },
    {
     "data": {
      "text/html": [
       "<script id=\"myVizzu_8e86816\">\n",
       "    let display_8e86816 = myVizzu_8e86816.parentNode.parentNode.style.display;\n",
       "    myVizzu_8e86816.parentNode.parentNode.style.display = \"none\";\n",
       "    chart_184a155 = chart_184a155.then(chart => {\n",
       "        if (myVizzu_184a155.parentNode && myVizzu_184a155.parentNode.parentNode) {\n",
       "            myVizzu_184a155.parentNode.parentNode.style.display = \"none\";\n",
       "        }\n",
       "        myVizzu_8e86816.parentNode.parentNode.style.display = display_8e86816;\n",
       "        myVizzu_8e86816.parentNode.insertBefore(myVizzu_184a155, myVizzu_8e86816);\n",
       "        if (!document.inhibitScroll && true) {\n",
       "            myVizzu_184a155.scrollIntoView({behavior: \"auto\", block: \"center\"});\n",
       "        }\n",
       "        return chart.animate({\"data\": {\"filter\": record => { return (parseInt(record.Year) == 1975) }}, \"config\": {\"channels\": {\"y\": {\"set\": [\"Format\"]}, \"x\": {\"set\": [\"Revenue [m$]\"]}, \"label\": {\"set\": [\"Revenue [m$]\"]}, \"color\": {\"set\": [\"Format\"]}}, \"title\": \"Music Revenue by Format - Year by Year 1975\", \"sort\": \"byValue\"}}, {\"duration\": 0.2, \"x\": {\"easing\": \"linear\", \"delay\": 0}, \"y\": {\"delay\": 0}, \"show\": {\"delay\": 0}, \"hide\": {\"delay\": 0}, \"title\": {\"duration\": 0, \"delay\": 0}});\n",
       "    });\n",
       "</script>"
      ]
     },
     "metadata": {},
     "output_type": "display_data"
    },
    {
     "data": {
      "text/html": [
       "<script id=\"myVizzu_bd0e81d\">\n",
       "    let display_bd0e81d = myVizzu_bd0e81d.parentNode.parentNode.style.display;\n",
       "    myVizzu_bd0e81d.parentNode.parentNode.style.display = \"none\";\n",
       "    chart_184a155 = chart_184a155.then(chart => {\n",
       "        if (myVizzu_184a155.parentNode && myVizzu_184a155.parentNode.parentNode) {\n",
       "            myVizzu_184a155.parentNode.parentNode.style.display = \"none\";\n",
       "        }\n",
       "        myVizzu_bd0e81d.parentNode.parentNode.style.display = display_bd0e81d;\n",
       "        myVizzu_bd0e81d.parentNode.insertBefore(myVizzu_184a155, myVizzu_bd0e81d);\n",
       "        if (!document.inhibitScroll && true) {\n",
       "            myVizzu_184a155.scrollIntoView({behavior: \"auto\", block: \"center\"});\n",
       "        }\n",
       "        return chart.animate({\"data\": {\"filter\": record => { return (parseInt(record.Year) == 1976) }}, \"config\": {\"channels\": {\"y\": {\"set\": [\"Format\"]}, \"x\": {\"set\": [\"Revenue [m$]\"]}, \"label\": {\"set\": [\"Revenue [m$]\"]}, \"color\": {\"set\": [\"Format\"]}}, \"title\": \"Music Revenue by Format - Year by Year 1976\", \"sort\": \"byValue\"}}, {\"duration\": 0.2, \"x\": {\"easing\": \"linear\", \"delay\": 0}, \"y\": {\"delay\": 0}, \"show\": {\"delay\": 0}, \"hide\": {\"delay\": 0}, \"title\": {\"duration\": 0, \"delay\": 0}});\n",
       "    });\n",
       "</script>"
      ]
     },
     "metadata": {},
     "output_type": "display_data"
    },
    {
     "data": {
      "text/html": [
       "<script id=\"myVizzu_98358e7\">\n",
       "    let display_98358e7 = myVizzu_98358e7.parentNode.parentNode.style.display;\n",
       "    myVizzu_98358e7.parentNode.parentNode.style.display = \"none\";\n",
       "    chart_184a155 = chart_184a155.then(chart => {\n",
       "        if (myVizzu_184a155.parentNode && myVizzu_184a155.parentNode.parentNode) {\n",
       "            myVizzu_184a155.parentNode.parentNode.style.display = \"none\";\n",
       "        }\n",
       "        myVizzu_98358e7.parentNode.parentNode.style.display = display_98358e7;\n",
       "        myVizzu_98358e7.parentNode.insertBefore(myVizzu_184a155, myVizzu_98358e7);\n",
       "        if (!document.inhibitScroll && true) {\n",
       "            myVizzu_184a155.scrollIntoView({behavior: \"auto\", block: \"center\"});\n",
       "        }\n",
       "        return chart.animate({\"data\": {\"filter\": record => { return (parseInt(record.Year) == 1977) }}, \"config\": {\"channels\": {\"y\": {\"set\": [\"Format\"]}, \"x\": {\"set\": [\"Revenue [m$]\"]}, \"label\": {\"set\": [\"Revenue [m$]\"]}, \"color\": {\"set\": [\"Format\"]}}, \"title\": \"Music Revenue by Format - Year by Year 1977\", \"sort\": \"byValue\"}}, {\"duration\": 0.2, \"x\": {\"easing\": \"linear\", \"delay\": 0}, \"y\": {\"delay\": 0}, \"show\": {\"delay\": 0}, \"hide\": {\"delay\": 0}, \"title\": {\"duration\": 0, \"delay\": 0}});\n",
       "    });\n",
       "</script>"
      ]
     },
     "metadata": {},
     "output_type": "display_data"
    },
    {
     "data": {
      "text/html": [
       "<script id=\"myVizzu_b27e232\">\n",
       "    let display_b27e232 = myVizzu_b27e232.parentNode.parentNode.style.display;\n",
       "    myVizzu_b27e232.parentNode.parentNode.style.display = \"none\";\n",
       "    chart_184a155 = chart_184a155.then(chart => {\n",
       "        if (myVizzu_184a155.parentNode && myVizzu_184a155.parentNode.parentNode) {\n",
       "            myVizzu_184a155.parentNode.parentNode.style.display = \"none\";\n",
       "        }\n",
       "        myVizzu_b27e232.parentNode.parentNode.style.display = display_b27e232;\n",
       "        myVizzu_b27e232.parentNode.insertBefore(myVizzu_184a155, myVizzu_b27e232);\n",
       "        if (!document.inhibitScroll && true) {\n",
       "            myVizzu_184a155.scrollIntoView({behavior: \"auto\", block: \"center\"});\n",
       "        }\n",
       "        return chart.animate({\"data\": {\"filter\": record => { return (parseInt(record.Year) == 1978) }}, \"config\": {\"channels\": {\"y\": {\"set\": [\"Format\"]}, \"x\": {\"set\": [\"Revenue [m$]\"]}, \"label\": {\"set\": [\"Revenue [m$]\"]}, \"color\": {\"set\": [\"Format\"]}}, \"title\": \"Music Revenue by Format - Year by Year 1978\", \"sort\": \"byValue\"}}, {\"duration\": 0.2, \"x\": {\"easing\": \"linear\", \"delay\": 0}, \"y\": {\"delay\": 0}, \"show\": {\"delay\": 0}, \"hide\": {\"delay\": 0}, \"title\": {\"duration\": 0, \"delay\": 0}});\n",
       "    });\n",
       "</script>"
      ]
     },
     "metadata": {},
     "output_type": "display_data"
    },
    {
     "data": {
      "text/html": [
       "<script id=\"myVizzu_1eb96c1\">\n",
       "    let display_1eb96c1 = myVizzu_1eb96c1.parentNode.parentNode.style.display;\n",
       "    myVizzu_1eb96c1.parentNode.parentNode.style.display = \"none\";\n",
       "    chart_184a155 = chart_184a155.then(chart => {\n",
       "        if (myVizzu_184a155.parentNode && myVizzu_184a155.parentNode.parentNode) {\n",
       "            myVizzu_184a155.parentNode.parentNode.style.display = \"none\";\n",
       "        }\n",
       "        myVizzu_1eb96c1.parentNode.parentNode.style.display = display_1eb96c1;\n",
       "        myVizzu_1eb96c1.parentNode.insertBefore(myVizzu_184a155, myVizzu_1eb96c1);\n",
       "        if (!document.inhibitScroll && true) {\n",
       "            myVizzu_184a155.scrollIntoView({behavior: \"auto\", block: \"center\"});\n",
       "        }\n",
       "        return chart.animate({\"data\": {\"filter\": record => { return (parseInt(record.Year) == 1979) }}, \"config\": {\"channels\": {\"y\": {\"set\": [\"Format\"]}, \"x\": {\"set\": [\"Revenue [m$]\"]}, \"label\": {\"set\": [\"Revenue [m$]\"]}, \"color\": {\"set\": [\"Format\"]}}, \"title\": \"Music Revenue by Format - Year by Year 1979\", \"sort\": \"byValue\"}}, {\"duration\": 0.2, \"x\": {\"easing\": \"linear\", \"delay\": 0}, \"y\": {\"delay\": 0}, \"show\": {\"delay\": 0}, \"hide\": {\"delay\": 0}, \"title\": {\"duration\": 0, \"delay\": 0}});\n",
       "    });\n",
       "</script>"
      ]
     },
     "metadata": {},
     "output_type": "display_data"
    },
    {
     "data": {
      "text/html": [
       "<script id=\"myVizzu_7fbd939\">\n",
       "    let display_7fbd939 = myVizzu_7fbd939.parentNode.parentNode.style.display;\n",
       "    myVizzu_7fbd939.parentNode.parentNode.style.display = \"none\";\n",
       "    chart_184a155 = chart_184a155.then(chart => {\n",
       "        if (myVizzu_184a155.parentNode && myVizzu_184a155.parentNode.parentNode) {\n",
       "            myVizzu_184a155.parentNode.parentNode.style.display = \"none\";\n",
       "        }\n",
       "        myVizzu_7fbd939.parentNode.parentNode.style.display = display_7fbd939;\n",
       "        myVizzu_7fbd939.parentNode.insertBefore(myVizzu_184a155, myVizzu_7fbd939);\n",
       "        if (!document.inhibitScroll && true) {\n",
       "            myVizzu_184a155.scrollIntoView({behavior: \"auto\", block: \"center\"});\n",
       "        }\n",
       "        return chart.animate({\"data\": {\"filter\": record => { return (parseInt(record.Year) == 1980) }}, \"config\": {\"channels\": {\"y\": {\"set\": [\"Format\"]}, \"x\": {\"set\": [\"Revenue [m$]\"]}, \"label\": {\"set\": [\"Revenue [m$]\"]}, \"color\": {\"set\": [\"Format\"]}}, \"title\": \"Music Revenue by Format - Year by Year 1980\", \"sort\": \"byValue\"}}, {\"duration\": 0.2, \"x\": {\"easing\": \"linear\", \"delay\": 0}, \"y\": {\"delay\": 0}, \"show\": {\"delay\": 0}, \"hide\": {\"delay\": 0}, \"title\": {\"duration\": 0, \"delay\": 0}});\n",
       "    });\n",
       "</script>"
      ]
     },
     "metadata": {},
     "output_type": "display_data"
    },
    {
     "data": {
      "text/html": [
       "<script id=\"myVizzu_f22d169\">\n",
       "    let display_f22d169 = myVizzu_f22d169.parentNode.parentNode.style.display;\n",
       "    myVizzu_f22d169.parentNode.parentNode.style.display = \"none\";\n",
       "    chart_184a155 = chart_184a155.then(chart => {\n",
       "        if (myVizzu_184a155.parentNode && myVizzu_184a155.parentNode.parentNode) {\n",
       "            myVizzu_184a155.parentNode.parentNode.style.display = \"none\";\n",
       "        }\n",
       "        myVizzu_f22d169.parentNode.parentNode.style.display = display_f22d169;\n",
       "        myVizzu_f22d169.parentNode.insertBefore(myVizzu_184a155, myVizzu_f22d169);\n",
       "        if (!document.inhibitScroll && true) {\n",
       "            myVizzu_184a155.scrollIntoView({behavior: \"auto\", block: \"center\"});\n",
       "        }\n",
       "        return chart.animate({\"data\": {\"filter\": record => { return (parseInt(record.Year) == 1981) }}, \"config\": {\"channels\": {\"y\": {\"set\": [\"Format\"]}, \"x\": {\"set\": [\"Revenue [m$]\"]}, \"label\": {\"set\": [\"Revenue [m$]\"]}, \"color\": {\"set\": [\"Format\"]}}, \"title\": \"Music Revenue by Format - Year by Year 1981\", \"sort\": \"byValue\"}}, {\"duration\": 0.2, \"x\": {\"easing\": \"linear\", \"delay\": 0}, \"y\": {\"delay\": 0}, \"show\": {\"delay\": 0}, \"hide\": {\"delay\": 0}, \"title\": {\"duration\": 0, \"delay\": 0}});\n",
       "    });\n",
       "</script>"
      ]
     },
     "metadata": {},
     "output_type": "display_data"
    },
    {
     "data": {
      "text/html": [
       "<script id=\"myVizzu_e4100de\">\n",
       "    let display_e4100de = myVizzu_e4100de.parentNode.parentNode.style.display;\n",
       "    myVizzu_e4100de.parentNode.parentNode.style.display = \"none\";\n",
       "    chart_184a155 = chart_184a155.then(chart => {\n",
       "        if (myVizzu_184a155.parentNode && myVizzu_184a155.parentNode.parentNode) {\n",
       "            myVizzu_184a155.parentNode.parentNode.style.display = \"none\";\n",
       "        }\n",
       "        myVizzu_e4100de.parentNode.parentNode.style.display = display_e4100de;\n",
       "        myVizzu_e4100de.parentNode.insertBefore(myVizzu_184a155, myVizzu_e4100de);\n",
       "        if (!document.inhibitScroll && true) {\n",
       "            myVizzu_184a155.scrollIntoView({behavior: \"auto\", block: \"center\"});\n",
       "        }\n",
       "        return chart.animate({\"data\": {\"filter\": record => { return (parseInt(record.Year) == 1982) }}, \"config\": {\"channels\": {\"y\": {\"set\": [\"Format\"]}, \"x\": {\"set\": [\"Revenue [m$]\"]}, \"label\": {\"set\": [\"Revenue [m$]\"]}, \"color\": {\"set\": [\"Format\"]}}, \"title\": \"Music Revenue by Format - Year by Year 1982\", \"sort\": \"byValue\"}}, {\"duration\": 0.2, \"x\": {\"easing\": \"linear\", \"delay\": 0}, \"y\": {\"delay\": 0}, \"show\": {\"delay\": 0}, \"hide\": {\"delay\": 0}, \"title\": {\"duration\": 0, \"delay\": 0}});\n",
       "    });\n",
       "</script>"
      ]
     },
     "metadata": {},
     "output_type": "display_data"
    },
    {
     "data": {
      "text/html": [
       "<script id=\"myVizzu_40c986f\">\n",
       "    let display_40c986f = myVizzu_40c986f.parentNode.parentNode.style.display;\n",
       "    myVizzu_40c986f.parentNode.parentNode.style.display = \"none\";\n",
       "    chart_184a155 = chart_184a155.then(chart => {\n",
       "        if (myVizzu_184a155.parentNode && myVizzu_184a155.parentNode.parentNode) {\n",
       "            myVizzu_184a155.parentNode.parentNode.style.display = \"none\";\n",
       "        }\n",
       "        myVizzu_40c986f.parentNode.parentNode.style.display = display_40c986f;\n",
       "        myVizzu_40c986f.parentNode.insertBefore(myVizzu_184a155, myVizzu_40c986f);\n",
       "        if (!document.inhibitScroll && true) {\n",
       "            myVizzu_184a155.scrollIntoView({behavior: \"auto\", block: \"center\"});\n",
       "        }\n",
       "        return chart.animate({\"data\": {\"filter\": record => { return (parseInt(record.Year) == 1983) }}, \"config\": {\"channels\": {\"y\": {\"set\": [\"Format\"]}, \"x\": {\"set\": [\"Revenue [m$]\"]}, \"label\": {\"set\": [\"Revenue [m$]\"]}, \"color\": {\"set\": [\"Format\"]}}, \"title\": \"Music Revenue by Format - Year by Year 1983\", \"sort\": \"byValue\"}}, {\"duration\": 0.2, \"x\": {\"easing\": \"linear\", \"delay\": 0}, \"y\": {\"delay\": 0}, \"show\": {\"delay\": 0}, \"hide\": {\"delay\": 0}, \"title\": {\"duration\": 0, \"delay\": 0}});\n",
       "    });\n",
       "</script>"
      ]
     },
     "metadata": {},
     "output_type": "display_data"
    },
    {
     "data": {
      "text/html": [
       "<script id=\"myVizzu_646f933\">\n",
       "    let display_646f933 = myVizzu_646f933.parentNode.parentNode.style.display;\n",
       "    myVizzu_646f933.parentNode.parentNode.style.display = \"none\";\n",
       "    chart_184a155 = chart_184a155.then(chart => {\n",
       "        if (myVizzu_184a155.parentNode && myVizzu_184a155.parentNode.parentNode) {\n",
       "            myVizzu_184a155.parentNode.parentNode.style.display = \"none\";\n",
       "        }\n",
       "        myVizzu_646f933.parentNode.parentNode.style.display = display_646f933;\n",
       "        myVizzu_646f933.parentNode.insertBefore(myVizzu_184a155, myVizzu_646f933);\n",
       "        if (!document.inhibitScroll && true) {\n",
       "            myVizzu_184a155.scrollIntoView({behavior: \"auto\", block: \"center\"});\n",
       "        }\n",
       "        return chart.animate({\"data\": {\"filter\": record => { return (parseInt(record.Year) == 1984) }}, \"config\": {\"channels\": {\"y\": {\"set\": [\"Format\"]}, \"x\": {\"set\": [\"Revenue [m$]\"]}, \"label\": {\"set\": [\"Revenue [m$]\"]}, \"color\": {\"set\": [\"Format\"]}}, \"title\": \"Music Revenue by Format - Year by Year 1984\", \"sort\": \"byValue\"}}, {\"duration\": 0.2, \"x\": {\"easing\": \"linear\", \"delay\": 0}, \"y\": {\"delay\": 0}, \"show\": {\"delay\": 0}, \"hide\": {\"delay\": 0}, \"title\": {\"duration\": 0, \"delay\": 0}});\n",
       "    });\n",
       "</script>"
      ]
     },
     "metadata": {},
     "output_type": "display_data"
    },
    {
     "data": {
      "text/html": [
       "<script id=\"myVizzu_2396b05\">\n",
       "    let display_2396b05 = myVizzu_2396b05.parentNode.parentNode.style.display;\n",
       "    myVizzu_2396b05.parentNode.parentNode.style.display = \"none\";\n",
       "    chart_184a155 = chart_184a155.then(chart => {\n",
       "        if (myVizzu_184a155.parentNode && myVizzu_184a155.parentNode.parentNode) {\n",
       "            myVizzu_184a155.parentNode.parentNode.style.display = \"none\";\n",
       "        }\n",
       "        myVizzu_2396b05.parentNode.parentNode.style.display = display_2396b05;\n",
       "        myVizzu_2396b05.parentNode.insertBefore(myVizzu_184a155, myVizzu_2396b05);\n",
       "        if (!document.inhibitScroll && true) {\n",
       "            myVizzu_184a155.scrollIntoView({behavior: \"auto\", block: \"center\"});\n",
       "        }\n",
       "        return chart.animate({\"data\": {\"filter\": record => { return (parseInt(record.Year) == 1985) }}, \"config\": {\"channels\": {\"y\": {\"set\": [\"Format\"]}, \"x\": {\"set\": [\"Revenue [m$]\"]}, \"label\": {\"set\": [\"Revenue [m$]\"]}, \"color\": {\"set\": [\"Format\"]}}, \"title\": \"Music Revenue by Format - Year by Year 1985\", \"sort\": \"byValue\"}}, {\"duration\": 0.2, \"x\": {\"easing\": \"linear\", \"delay\": 0}, \"y\": {\"delay\": 0}, \"show\": {\"delay\": 0}, \"hide\": {\"delay\": 0}, \"title\": {\"duration\": 0, \"delay\": 0}});\n",
       "    });\n",
       "</script>"
      ]
     },
     "metadata": {},
     "output_type": "display_data"
    },
    {
     "data": {
      "text/html": [
       "<script id=\"myVizzu_368fb8b\">\n",
       "    let display_368fb8b = myVizzu_368fb8b.parentNode.parentNode.style.display;\n",
       "    myVizzu_368fb8b.parentNode.parentNode.style.display = \"none\";\n",
       "    chart_184a155 = chart_184a155.then(chart => {\n",
       "        if (myVizzu_184a155.parentNode && myVizzu_184a155.parentNode.parentNode) {\n",
       "            myVizzu_184a155.parentNode.parentNode.style.display = \"none\";\n",
       "        }\n",
       "        myVizzu_368fb8b.parentNode.parentNode.style.display = display_368fb8b;\n",
       "        myVizzu_368fb8b.parentNode.insertBefore(myVizzu_184a155, myVizzu_368fb8b);\n",
       "        if (!document.inhibitScroll && true) {\n",
       "            myVizzu_184a155.scrollIntoView({behavior: \"auto\", block: \"center\"});\n",
       "        }\n",
       "        return chart.animate({\"data\": {\"filter\": record => { return (parseInt(record.Year) == 1986) }}, \"config\": {\"channels\": {\"y\": {\"set\": [\"Format\"]}, \"x\": {\"set\": [\"Revenue [m$]\"]}, \"label\": {\"set\": [\"Revenue [m$]\"]}, \"color\": {\"set\": [\"Format\"]}}, \"title\": \"Music Revenue by Format - Year by Year 1986\", \"sort\": \"byValue\"}}, {\"duration\": 0.2, \"x\": {\"easing\": \"linear\", \"delay\": 0}, \"y\": {\"delay\": 0}, \"show\": {\"delay\": 0}, \"hide\": {\"delay\": 0}, \"title\": {\"duration\": 0, \"delay\": 0}});\n",
       "    });\n",
       "</script>"
      ]
     },
     "metadata": {},
     "output_type": "display_data"
    },
    {
     "data": {
      "text/html": [
       "<script id=\"myVizzu_d37b58b\">\n",
       "    let display_d37b58b = myVizzu_d37b58b.parentNode.parentNode.style.display;\n",
       "    myVizzu_d37b58b.parentNode.parentNode.style.display = \"none\";\n",
       "    chart_184a155 = chart_184a155.then(chart => {\n",
       "        if (myVizzu_184a155.parentNode && myVizzu_184a155.parentNode.parentNode) {\n",
       "            myVizzu_184a155.parentNode.parentNode.style.display = \"none\";\n",
       "        }\n",
       "        myVizzu_d37b58b.parentNode.parentNode.style.display = display_d37b58b;\n",
       "        myVizzu_d37b58b.parentNode.insertBefore(myVizzu_184a155, myVizzu_d37b58b);\n",
       "        if (!document.inhibitScroll && true) {\n",
       "            myVizzu_184a155.scrollIntoView({behavior: \"auto\", block: \"center\"});\n",
       "        }\n",
       "        return chart.animate({\"data\": {\"filter\": record => { return (parseInt(record.Year) == 1987) }}, \"config\": {\"channels\": {\"y\": {\"set\": [\"Format\"]}, \"x\": {\"set\": [\"Revenue [m$]\"]}, \"label\": {\"set\": [\"Revenue [m$]\"]}, \"color\": {\"set\": [\"Format\"]}}, \"title\": \"Music Revenue by Format - Year by Year 1987\", \"sort\": \"byValue\"}}, {\"duration\": 0.2, \"x\": {\"easing\": \"linear\", \"delay\": 0}, \"y\": {\"delay\": 0}, \"show\": {\"delay\": 0}, \"hide\": {\"delay\": 0}, \"title\": {\"duration\": 0, \"delay\": 0}});\n",
       "    });\n",
       "</script>"
      ]
     },
     "metadata": {},
     "output_type": "display_data"
    },
    {
     "data": {
      "text/html": [
       "<script id=\"myVizzu_606d334\">\n",
       "    let display_606d334 = myVizzu_606d334.parentNode.parentNode.style.display;\n",
       "    myVizzu_606d334.parentNode.parentNode.style.display = \"none\";\n",
       "    chart_184a155 = chart_184a155.then(chart => {\n",
       "        if (myVizzu_184a155.parentNode && myVizzu_184a155.parentNode.parentNode) {\n",
       "            myVizzu_184a155.parentNode.parentNode.style.display = \"none\";\n",
       "        }\n",
       "        myVizzu_606d334.parentNode.parentNode.style.display = display_606d334;\n",
       "        myVizzu_606d334.parentNode.insertBefore(myVizzu_184a155, myVizzu_606d334);\n",
       "        if (!document.inhibitScroll && true) {\n",
       "            myVizzu_184a155.scrollIntoView({behavior: \"auto\", block: \"center\"});\n",
       "        }\n",
       "        return chart.animate({\"data\": {\"filter\": record => { return (parseInt(record.Year) == 1988) }}, \"config\": {\"channels\": {\"y\": {\"set\": [\"Format\"]}, \"x\": {\"set\": [\"Revenue [m$]\"]}, \"label\": {\"set\": [\"Revenue [m$]\"]}, \"color\": {\"set\": [\"Format\"]}}, \"title\": \"Music Revenue by Format - Year by Year 1988\", \"sort\": \"byValue\"}}, {\"duration\": 0.2, \"x\": {\"easing\": \"linear\", \"delay\": 0}, \"y\": {\"delay\": 0}, \"show\": {\"delay\": 0}, \"hide\": {\"delay\": 0}, \"title\": {\"duration\": 0, \"delay\": 0}});\n",
       "    });\n",
       "</script>"
      ]
     },
     "metadata": {},
     "output_type": "display_data"
    },
    {
     "data": {
      "text/html": [
       "<script id=\"myVizzu_a361f56\">\n",
       "    let display_a361f56 = myVizzu_a361f56.parentNode.parentNode.style.display;\n",
       "    myVizzu_a361f56.parentNode.parentNode.style.display = \"none\";\n",
       "    chart_184a155 = chart_184a155.then(chart => {\n",
       "        if (myVizzu_184a155.parentNode && myVizzu_184a155.parentNode.parentNode) {\n",
       "            myVizzu_184a155.parentNode.parentNode.style.display = \"none\";\n",
       "        }\n",
       "        myVizzu_a361f56.parentNode.parentNode.style.display = display_a361f56;\n",
       "        myVizzu_a361f56.parentNode.insertBefore(myVizzu_184a155, myVizzu_a361f56);\n",
       "        if (!document.inhibitScroll && true) {\n",
       "            myVizzu_184a155.scrollIntoView({behavior: \"auto\", block: \"center\"});\n",
       "        }\n",
       "        return chart.animate({\"data\": {\"filter\": record => { return (parseInt(record.Year) == 1989) }}, \"config\": {\"channels\": {\"y\": {\"set\": [\"Format\"]}, \"x\": {\"set\": [\"Revenue [m$]\"]}, \"label\": {\"set\": [\"Revenue [m$]\"]}, \"color\": {\"set\": [\"Format\"]}}, \"title\": \"Music Revenue by Format - Year by Year 1989\", \"sort\": \"byValue\"}}, {\"duration\": 0.2, \"x\": {\"easing\": \"linear\", \"delay\": 0}, \"y\": {\"delay\": 0}, \"show\": {\"delay\": 0}, \"hide\": {\"delay\": 0}, \"title\": {\"duration\": 0, \"delay\": 0}});\n",
       "    });\n",
       "</script>"
      ]
     },
     "metadata": {},
     "output_type": "display_data"
    },
    {
     "data": {
      "text/html": [
       "<script id=\"myVizzu_aad4583\">\n",
       "    let display_aad4583 = myVizzu_aad4583.parentNode.parentNode.style.display;\n",
       "    myVizzu_aad4583.parentNode.parentNode.style.display = \"none\";\n",
       "    chart_184a155 = chart_184a155.then(chart => {\n",
       "        if (myVizzu_184a155.parentNode && myVizzu_184a155.parentNode.parentNode) {\n",
       "            myVizzu_184a155.parentNode.parentNode.style.display = \"none\";\n",
       "        }\n",
       "        myVizzu_aad4583.parentNode.parentNode.style.display = display_aad4583;\n",
       "        myVizzu_aad4583.parentNode.insertBefore(myVizzu_184a155, myVizzu_aad4583);\n",
       "        if (!document.inhibitScroll && true) {\n",
       "            myVizzu_184a155.scrollIntoView({behavior: \"auto\", block: \"center\"});\n",
       "        }\n",
       "        return chart.animate({\"data\": {\"filter\": record => { return (parseInt(record.Year) == 1990) }}, \"config\": {\"channels\": {\"y\": {\"set\": [\"Format\"]}, \"x\": {\"set\": [\"Revenue [m$]\"]}, \"label\": {\"set\": [\"Revenue [m$]\"]}, \"color\": {\"set\": [\"Format\"]}}, \"title\": \"Music Revenue by Format - Year by Year 1990\", \"sort\": \"byValue\"}}, {\"duration\": 0.2, \"x\": {\"easing\": \"linear\", \"delay\": 0}, \"y\": {\"delay\": 0}, \"show\": {\"delay\": 0}, \"hide\": {\"delay\": 0}, \"title\": {\"duration\": 0, \"delay\": 0}});\n",
       "    });\n",
       "</script>"
      ]
     },
     "metadata": {},
     "output_type": "display_data"
    },
    {
     "data": {
      "text/html": [
       "<script id=\"myVizzu_82a21d6\">\n",
       "    let display_82a21d6 = myVizzu_82a21d6.parentNode.parentNode.style.display;\n",
       "    myVizzu_82a21d6.parentNode.parentNode.style.display = \"none\";\n",
       "    chart_184a155 = chart_184a155.then(chart => {\n",
       "        if (myVizzu_184a155.parentNode && myVizzu_184a155.parentNode.parentNode) {\n",
       "            myVizzu_184a155.parentNode.parentNode.style.display = \"none\";\n",
       "        }\n",
       "        myVizzu_82a21d6.parentNode.parentNode.style.display = display_82a21d6;\n",
       "        myVizzu_82a21d6.parentNode.insertBefore(myVizzu_184a155, myVizzu_82a21d6);\n",
       "        if (!document.inhibitScroll && true) {\n",
       "            myVizzu_184a155.scrollIntoView({behavior: \"auto\", block: \"center\"});\n",
       "        }\n",
       "        return chart.animate({\"data\": {\"filter\": record => { return (parseInt(record.Year) == 1991) }}, \"config\": {\"channels\": {\"y\": {\"set\": [\"Format\"]}, \"x\": {\"set\": [\"Revenue [m$]\"]}, \"label\": {\"set\": [\"Revenue [m$]\"]}, \"color\": {\"set\": [\"Format\"]}}, \"title\": \"Music Revenue by Format - Year by Year 1991\", \"sort\": \"byValue\"}}, {\"duration\": 0.2, \"x\": {\"easing\": \"linear\", \"delay\": 0}, \"y\": {\"delay\": 0}, \"show\": {\"delay\": 0}, \"hide\": {\"delay\": 0}, \"title\": {\"duration\": 0, \"delay\": 0}});\n",
       "    });\n",
       "</script>"
      ]
     },
     "metadata": {},
     "output_type": "display_data"
    },
    {
     "data": {
      "text/html": [
       "<script id=\"myVizzu_91dc03b\">\n",
       "    let display_91dc03b = myVizzu_91dc03b.parentNode.parentNode.style.display;\n",
       "    myVizzu_91dc03b.parentNode.parentNode.style.display = \"none\";\n",
       "    chart_184a155 = chart_184a155.then(chart => {\n",
       "        if (myVizzu_184a155.parentNode && myVizzu_184a155.parentNode.parentNode) {\n",
       "            myVizzu_184a155.parentNode.parentNode.style.display = \"none\";\n",
       "        }\n",
       "        myVizzu_91dc03b.parentNode.parentNode.style.display = display_91dc03b;\n",
       "        myVizzu_91dc03b.parentNode.insertBefore(myVizzu_184a155, myVizzu_91dc03b);\n",
       "        if (!document.inhibitScroll && true) {\n",
       "            myVizzu_184a155.scrollIntoView({behavior: \"auto\", block: \"center\"});\n",
       "        }\n",
       "        return chart.animate({\"data\": {\"filter\": record => { return (parseInt(record.Year) == 1992) }}, \"config\": {\"channels\": {\"y\": {\"set\": [\"Format\"]}, \"x\": {\"set\": [\"Revenue [m$]\"]}, \"label\": {\"set\": [\"Revenue [m$]\"]}, \"color\": {\"set\": [\"Format\"]}}, \"title\": \"Music Revenue by Format - Year by Year 1992\", \"sort\": \"byValue\"}}, {\"duration\": 0.2, \"x\": {\"easing\": \"linear\", \"delay\": 0}, \"y\": {\"delay\": 0}, \"show\": {\"delay\": 0}, \"hide\": {\"delay\": 0}, \"title\": {\"duration\": 0, \"delay\": 0}});\n",
       "    });\n",
       "</script>"
      ]
     },
     "metadata": {},
     "output_type": "display_data"
    },
    {
     "data": {
      "text/html": [
       "<script id=\"myVizzu_8fc5b73\">\n",
       "    let display_8fc5b73 = myVizzu_8fc5b73.parentNode.parentNode.style.display;\n",
       "    myVizzu_8fc5b73.parentNode.parentNode.style.display = \"none\";\n",
       "    chart_184a155 = chart_184a155.then(chart => {\n",
       "        if (myVizzu_184a155.parentNode && myVizzu_184a155.parentNode.parentNode) {\n",
       "            myVizzu_184a155.parentNode.parentNode.style.display = \"none\";\n",
       "        }\n",
       "        myVizzu_8fc5b73.parentNode.parentNode.style.display = display_8fc5b73;\n",
       "        myVizzu_8fc5b73.parentNode.insertBefore(myVizzu_184a155, myVizzu_8fc5b73);\n",
       "        if (!document.inhibitScroll && true) {\n",
       "            myVizzu_184a155.scrollIntoView({behavior: \"auto\", block: \"center\"});\n",
       "        }\n",
       "        return chart.animate({\"data\": {\"filter\": record => { return (parseInt(record.Year) == 1993) }}, \"config\": {\"channels\": {\"y\": {\"set\": [\"Format\"]}, \"x\": {\"set\": [\"Revenue [m$]\"]}, \"label\": {\"set\": [\"Revenue [m$]\"]}, \"color\": {\"set\": [\"Format\"]}}, \"title\": \"Music Revenue by Format - Year by Year 1993\", \"sort\": \"byValue\"}}, {\"duration\": 0.2, \"x\": {\"easing\": \"linear\", \"delay\": 0}, \"y\": {\"delay\": 0}, \"show\": {\"delay\": 0}, \"hide\": {\"delay\": 0}, \"title\": {\"duration\": 0, \"delay\": 0}});\n",
       "    });\n",
       "</script>"
      ]
     },
     "metadata": {},
     "output_type": "display_data"
    },
    {
     "data": {
      "text/html": [
       "<script id=\"myVizzu_e6be08e\">\n",
       "    let display_e6be08e = myVizzu_e6be08e.parentNode.parentNode.style.display;\n",
       "    myVizzu_e6be08e.parentNode.parentNode.style.display = \"none\";\n",
       "    chart_184a155 = chart_184a155.then(chart => {\n",
       "        if (myVizzu_184a155.parentNode && myVizzu_184a155.parentNode.parentNode) {\n",
       "            myVizzu_184a155.parentNode.parentNode.style.display = \"none\";\n",
       "        }\n",
       "        myVizzu_e6be08e.parentNode.parentNode.style.display = display_e6be08e;\n",
       "        myVizzu_e6be08e.parentNode.insertBefore(myVizzu_184a155, myVizzu_e6be08e);\n",
       "        if (!document.inhibitScroll && true) {\n",
       "            myVizzu_184a155.scrollIntoView({behavior: \"auto\", block: \"center\"});\n",
       "        }\n",
       "        return chart.animate({\"data\": {\"filter\": record => { return (parseInt(record.Year) == 1994) }}, \"config\": {\"channels\": {\"y\": {\"set\": [\"Format\"]}, \"x\": {\"set\": [\"Revenue [m$]\"]}, \"label\": {\"set\": [\"Revenue [m$]\"]}, \"color\": {\"set\": [\"Format\"]}}, \"title\": \"Music Revenue by Format - Year by Year 1994\", \"sort\": \"byValue\"}}, {\"duration\": 0.2, \"x\": {\"easing\": \"linear\", \"delay\": 0}, \"y\": {\"delay\": 0}, \"show\": {\"delay\": 0}, \"hide\": {\"delay\": 0}, \"title\": {\"duration\": 0, \"delay\": 0}});\n",
       "    });\n",
       "</script>"
      ]
     },
     "metadata": {},
     "output_type": "display_data"
    },
    {
     "data": {
      "text/html": [
       "<script id=\"myVizzu_8cae4ab\">\n",
       "    let display_8cae4ab = myVizzu_8cae4ab.parentNode.parentNode.style.display;\n",
       "    myVizzu_8cae4ab.parentNode.parentNode.style.display = \"none\";\n",
       "    chart_184a155 = chart_184a155.then(chart => {\n",
       "        if (myVizzu_184a155.parentNode && myVizzu_184a155.parentNode.parentNode) {\n",
       "            myVizzu_184a155.parentNode.parentNode.style.display = \"none\";\n",
       "        }\n",
       "        myVizzu_8cae4ab.parentNode.parentNode.style.display = display_8cae4ab;\n",
       "        myVizzu_8cae4ab.parentNode.insertBefore(myVizzu_184a155, myVizzu_8cae4ab);\n",
       "        if (!document.inhibitScroll && true) {\n",
       "            myVizzu_184a155.scrollIntoView({behavior: \"auto\", block: \"center\"});\n",
       "        }\n",
       "        return chart.animate({\"data\": {\"filter\": record => { return (parseInt(record.Year) == 1995) }}, \"config\": {\"channels\": {\"y\": {\"set\": [\"Format\"]}, \"x\": {\"set\": [\"Revenue [m$]\"]}, \"label\": {\"set\": [\"Revenue [m$]\"]}, \"color\": {\"set\": [\"Format\"]}}, \"title\": \"Music Revenue by Format - Year by Year 1995\", \"sort\": \"byValue\"}}, {\"duration\": 0.2, \"x\": {\"easing\": \"linear\", \"delay\": 0}, \"y\": {\"delay\": 0}, \"show\": {\"delay\": 0}, \"hide\": {\"delay\": 0}, \"title\": {\"duration\": 0, \"delay\": 0}});\n",
       "    });\n",
       "</script>"
      ]
     },
     "metadata": {},
     "output_type": "display_data"
    },
    {
     "data": {
      "text/html": [
       "<script id=\"myVizzu_9c759a0\">\n",
       "    let display_9c759a0 = myVizzu_9c759a0.parentNode.parentNode.style.display;\n",
       "    myVizzu_9c759a0.parentNode.parentNode.style.display = \"none\";\n",
       "    chart_184a155 = chart_184a155.then(chart => {\n",
       "        if (myVizzu_184a155.parentNode && myVizzu_184a155.parentNode.parentNode) {\n",
       "            myVizzu_184a155.parentNode.parentNode.style.display = \"none\";\n",
       "        }\n",
       "        myVizzu_9c759a0.parentNode.parentNode.style.display = display_9c759a0;\n",
       "        myVizzu_9c759a0.parentNode.insertBefore(myVizzu_184a155, myVizzu_9c759a0);\n",
       "        if (!document.inhibitScroll && true) {\n",
       "            myVizzu_184a155.scrollIntoView({behavior: \"auto\", block: \"center\"});\n",
       "        }\n",
       "        return chart.animate({\"data\": {\"filter\": record => { return (parseInt(record.Year) == 1996) }}, \"config\": {\"channels\": {\"y\": {\"set\": [\"Format\"]}, \"x\": {\"set\": [\"Revenue [m$]\"]}, \"label\": {\"set\": [\"Revenue [m$]\"]}, \"color\": {\"set\": [\"Format\"]}}, \"title\": \"Music Revenue by Format - Year by Year 1996\", \"sort\": \"byValue\"}}, {\"duration\": 0.2, \"x\": {\"easing\": \"linear\", \"delay\": 0}, \"y\": {\"delay\": 0}, \"show\": {\"delay\": 0}, \"hide\": {\"delay\": 0}, \"title\": {\"duration\": 0, \"delay\": 0}});\n",
       "    });\n",
       "</script>"
      ]
     },
     "metadata": {},
     "output_type": "display_data"
    },
    {
     "data": {
      "text/html": [
       "<script id=\"myVizzu_22f9336\">\n",
       "    let display_22f9336 = myVizzu_22f9336.parentNode.parentNode.style.display;\n",
       "    myVizzu_22f9336.parentNode.parentNode.style.display = \"none\";\n",
       "    chart_184a155 = chart_184a155.then(chart => {\n",
       "        if (myVizzu_184a155.parentNode && myVizzu_184a155.parentNode.parentNode) {\n",
       "            myVizzu_184a155.parentNode.parentNode.style.display = \"none\";\n",
       "        }\n",
       "        myVizzu_22f9336.parentNode.parentNode.style.display = display_22f9336;\n",
       "        myVizzu_22f9336.parentNode.insertBefore(myVizzu_184a155, myVizzu_22f9336);\n",
       "        if (!document.inhibitScroll && true) {\n",
       "            myVizzu_184a155.scrollIntoView({behavior: \"auto\", block: \"center\"});\n",
       "        }\n",
       "        return chart.animate({\"data\": {\"filter\": record => { return (parseInt(record.Year) == 1997) }}, \"config\": {\"channels\": {\"y\": {\"set\": [\"Format\"]}, \"x\": {\"set\": [\"Revenue [m$]\"]}, \"label\": {\"set\": [\"Revenue [m$]\"]}, \"color\": {\"set\": [\"Format\"]}}, \"title\": \"Music Revenue by Format - Year by Year 1997\", \"sort\": \"byValue\"}}, {\"duration\": 0.2, \"x\": {\"easing\": \"linear\", \"delay\": 0}, \"y\": {\"delay\": 0}, \"show\": {\"delay\": 0}, \"hide\": {\"delay\": 0}, \"title\": {\"duration\": 0, \"delay\": 0}});\n",
       "    });\n",
       "</script>"
      ]
     },
     "metadata": {},
     "output_type": "display_data"
    },
    {
     "data": {
      "text/html": [
       "<script id=\"myVizzu_aa98a0e\">\n",
       "    let display_aa98a0e = myVizzu_aa98a0e.parentNode.parentNode.style.display;\n",
       "    myVizzu_aa98a0e.parentNode.parentNode.style.display = \"none\";\n",
       "    chart_184a155 = chart_184a155.then(chart => {\n",
       "        if (myVizzu_184a155.parentNode && myVizzu_184a155.parentNode.parentNode) {\n",
       "            myVizzu_184a155.parentNode.parentNode.style.display = \"none\";\n",
       "        }\n",
       "        myVizzu_aa98a0e.parentNode.parentNode.style.display = display_aa98a0e;\n",
       "        myVizzu_aa98a0e.parentNode.insertBefore(myVizzu_184a155, myVizzu_aa98a0e);\n",
       "        if (!document.inhibitScroll && true) {\n",
       "            myVizzu_184a155.scrollIntoView({behavior: \"auto\", block: \"center\"});\n",
       "        }\n",
       "        return chart.animate({\"data\": {\"filter\": record => { return (parseInt(record.Year) == 1998) }}, \"config\": {\"channels\": {\"y\": {\"set\": [\"Format\"]}, \"x\": {\"set\": [\"Revenue [m$]\"]}, \"label\": {\"set\": [\"Revenue [m$]\"]}, \"color\": {\"set\": [\"Format\"]}}, \"title\": \"Music Revenue by Format - Year by Year 1998\", \"sort\": \"byValue\"}}, {\"duration\": 0.2, \"x\": {\"easing\": \"linear\", \"delay\": 0}, \"y\": {\"delay\": 0}, \"show\": {\"delay\": 0}, \"hide\": {\"delay\": 0}, \"title\": {\"duration\": 0, \"delay\": 0}});\n",
       "    });\n",
       "</script>"
      ]
     },
     "metadata": {},
     "output_type": "display_data"
    },
    {
     "data": {
      "text/html": [
       "<script id=\"myVizzu_f95dd8b\">\n",
       "    let display_f95dd8b = myVizzu_f95dd8b.parentNode.parentNode.style.display;\n",
       "    myVizzu_f95dd8b.parentNode.parentNode.style.display = \"none\";\n",
       "    chart_184a155 = chart_184a155.then(chart => {\n",
       "        if (myVizzu_184a155.parentNode && myVizzu_184a155.parentNode.parentNode) {\n",
       "            myVizzu_184a155.parentNode.parentNode.style.display = \"none\";\n",
       "        }\n",
       "        myVizzu_f95dd8b.parentNode.parentNode.style.display = display_f95dd8b;\n",
       "        myVizzu_f95dd8b.parentNode.insertBefore(myVizzu_184a155, myVizzu_f95dd8b);\n",
       "        if (!document.inhibitScroll && true) {\n",
       "            myVizzu_184a155.scrollIntoView({behavior: \"auto\", block: \"center\"});\n",
       "        }\n",
       "        return chart.animate({\"data\": {\"filter\": record => { return (parseInt(record.Year) == 1999) }}, \"config\": {\"channels\": {\"y\": {\"set\": [\"Format\"]}, \"x\": {\"set\": [\"Revenue [m$]\"]}, \"label\": {\"set\": [\"Revenue [m$]\"]}, \"color\": {\"set\": [\"Format\"]}}, \"title\": \"Music Revenue by Format - Year by Year 1999\", \"sort\": \"byValue\"}}, {\"duration\": 0.2, \"x\": {\"easing\": \"linear\", \"delay\": 0}, \"y\": {\"delay\": 0}, \"show\": {\"delay\": 0}, \"hide\": {\"delay\": 0}, \"title\": {\"duration\": 0, \"delay\": 0}});\n",
       "    });\n",
       "</script>"
      ]
     },
     "metadata": {},
     "output_type": "display_data"
    },
    {
     "data": {
      "text/html": [
       "<script id=\"myVizzu_8316b2d\">\n",
       "    let display_8316b2d = myVizzu_8316b2d.parentNode.parentNode.style.display;\n",
       "    myVizzu_8316b2d.parentNode.parentNode.style.display = \"none\";\n",
       "    chart_184a155 = chart_184a155.then(chart => {\n",
       "        if (myVizzu_184a155.parentNode && myVizzu_184a155.parentNode.parentNode) {\n",
       "            myVizzu_184a155.parentNode.parentNode.style.display = \"none\";\n",
       "        }\n",
       "        myVizzu_8316b2d.parentNode.parentNode.style.display = display_8316b2d;\n",
       "        myVizzu_8316b2d.parentNode.insertBefore(myVizzu_184a155, myVizzu_8316b2d);\n",
       "        if (!document.inhibitScroll && true) {\n",
       "            myVizzu_184a155.scrollIntoView({behavior: \"auto\", block: \"center\"});\n",
       "        }\n",
       "        return chart.animate({\"data\": {\"filter\": record => { return (parseInt(record.Year) == 2000) }}, \"config\": {\"channels\": {\"y\": {\"set\": [\"Format\"]}, \"x\": {\"set\": [\"Revenue [m$]\"]}, \"label\": {\"set\": [\"Revenue [m$]\"]}, \"color\": {\"set\": [\"Format\"]}}, \"title\": \"Music Revenue by Format - Year by Year 2000\", \"sort\": \"byValue\"}}, {\"duration\": 0.2, \"x\": {\"easing\": \"linear\", \"delay\": 0}, \"y\": {\"delay\": 0}, \"show\": {\"delay\": 0}, \"hide\": {\"delay\": 0}, \"title\": {\"duration\": 0, \"delay\": 0}});\n",
       "    });\n",
       "</script>"
      ]
     },
     "metadata": {},
     "output_type": "display_data"
    },
    {
     "data": {
      "text/html": [
       "<script id=\"myVizzu_bf58aeb\">\n",
       "    let display_bf58aeb = myVizzu_bf58aeb.parentNode.parentNode.style.display;\n",
       "    myVizzu_bf58aeb.parentNode.parentNode.style.display = \"none\";\n",
       "    chart_184a155 = chart_184a155.then(chart => {\n",
       "        if (myVizzu_184a155.parentNode && myVizzu_184a155.parentNode.parentNode) {\n",
       "            myVizzu_184a155.parentNode.parentNode.style.display = \"none\";\n",
       "        }\n",
       "        myVizzu_bf58aeb.parentNode.parentNode.style.display = display_bf58aeb;\n",
       "        myVizzu_bf58aeb.parentNode.insertBefore(myVizzu_184a155, myVizzu_bf58aeb);\n",
       "        if (!document.inhibitScroll && true) {\n",
       "            myVizzu_184a155.scrollIntoView({behavior: \"auto\", block: \"center\"});\n",
       "        }\n",
       "        return chart.animate({\"data\": {\"filter\": record => { return (parseInt(record.Year) == 2001) }}, \"config\": {\"channels\": {\"y\": {\"set\": [\"Format\"]}, \"x\": {\"set\": [\"Revenue [m$]\"]}, \"label\": {\"set\": [\"Revenue [m$]\"]}, \"color\": {\"set\": [\"Format\"]}}, \"title\": \"Music Revenue by Format - Year by Year 2001\", \"sort\": \"byValue\"}}, {\"duration\": 0.2, \"x\": {\"easing\": \"linear\", \"delay\": 0}, \"y\": {\"delay\": 0}, \"show\": {\"delay\": 0}, \"hide\": {\"delay\": 0}, \"title\": {\"duration\": 0, \"delay\": 0}});\n",
       "    });\n",
       "</script>"
      ]
     },
     "metadata": {},
     "output_type": "display_data"
    },
    {
     "data": {
      "text/html": [
       "<script id=\"myVizzu_df5430b\">\n",
       "    let display_df5430b = myVizzu_df5430b.parentNode.parentNode.style.display;\n",
       "    myVizzu_df5430b.parentNode.parentNode.style.display = \"none\";\n",
       "    chart_184a155 = chart_184a155.then(chart => {\n",
       "        if (myVizzu_184a155.parentNode && myVizzu_184a155.parentNode.parentNode) {\n",
       "            myVizzu_184a155.parentNode.parentNode.style.display = \"none\";\n",
       "        }\n",
       "        myVizzu_df5430b.parentNode.parentNode.style.display = display_df5430b;\n",
       "        myVizzu_df5430b.parentNode.insertBefore(myVizzu_184a155, myVizzu_df5430b);\n",
       "        if (!document.inhibitScroll && true) {\n",
       "            myVizzu_184a155.scrollIntoView({behavior: \"auto\", block: \"center\"});\n",
       "        }\n",
       "        return chart.animate({\"data\": {\"filter\": record => { return (parseInt(record.Year) == 2002) }}, \"config\": {\"channels\": {\"y\": {\"set\": [\"Format\"]}, \"x\": {\"set\": [\"Revenue [m$]\"]}, \"label\": {\"set\": [\"Revenue [m$]\"]}, \"color\": {\"set\": [\"Format\"]}}, \"title\": \"Music Revenue by Format - Year by Year 2002\", \"sort\": \"byValue\"}}, {\"duration\": 0.2, \"x\": {\"easing\": \"linear\", \"delay\": 0}, \"y\": {\"delay\": 0}, \"show\": {\"delay\": 0}, \"hide\": {\"delay\": 0}, \"title\": {\"duration\": 0, \"delay\": 0}});\n",
       "    });\n",
       "</script>"
      ]
     },
     "metadata": {},
     "output_type": "display_data"
    },
    {
     "data": {
      "text/html": [
       "<script id=\"myVizzu_c191f8b\">\n",
       "    let display_c191f8b = myVizzu_c191f8b.parentNode.parentNode.style.display;\n",
       "    myVizzu_c191f8b.parentNode.parentNode.style.display = \"none\";\n",
       "    chart_184a155 = chart_184a155.then(chart => {\n",
       "        if (myVizzu_184a155.parentNode && myVizzu_184a155.parentNode.parentNode) {\n",
       "            myVizzu_184a155.parentNode.parentNode.style.display = \"none\";\n",
       "        }\n",
       "        myVizzu_c191f8b.parentNode.parentNode.style.display = display_c191f8b;\n",
       "        myVizzu_c191f8b.parentNode.insertBefore(myVizzu_184a155, myVizzu_c191f8b);\n",
       "        if (!document.inhibitScroll && true) {\n",
       "            myVizzu_184a155.scrollIntoView({behavior: \"auto\", block: \"center\"});\n",
       "        }\n",
       "        return chart.animate({\"data\": {\"filter\": record => { return (parseInt(record.Year) == 2003) }}, \"config\": {\"channels\": {\"y\": {\"set\": [\"Format\"]}, \"x\": {\"set\": [\"Revenue [m$]\"]}, \"label\": {\"set\": [\"Revenue [m$]\"]}, \"color\": {\"set\": [\"Format\"]}}, \"title\": \"Music Revenue by Format - Year by Year 2003\", \"sort\": \"byValue\"}}, {\"duration\": 0.2, \"x\": {\"easing\": \"linear\", \"delay\": 0}, \"y\": {\"delay\": 0}, \"show\": {\"delay\": 0}, \"hide\": {\"delay\": 0}, \"title\": {\"duration\": 0, \"delay\": 0}});\n",
       "    });\n",
       "</script>"
      ]
     },
     "metadata": {},
     "output_type": "display_data"
    },
    {
     "data": {
      "text/html": [
       "<script id=\"myVizzu_c6678c8\">\n",
       "    let display_c6678c8 = myVizzu_c6678c8.parentNode.parentNode.style.display;\n",
       "    myVizzu_c6678c8.parentNode.parentNode.style.display = \"none\";\n",
       "    chart_184a155 = chart_184a155.then(chart => {\n",
       "        if (myVizzu_184a155.parentNode && myVizzu_184a155.parentNode.parentNode) {\n",
       "            myVizzu_184a155.parentNode.parentNode.style.display = \"none\";\n",
       "        }\n",
       "        myVizzu_c6678c8.parentNode.parentNode.style.display = display_c6678c8;\n",
       "        myVizzu_c6678c8.parentNode.insertBefore(myVizzu_184a155, myVizzu_c6678c8);\n",
       "        if (!document.inhibitScroll && true) {\n",
       "            myVizzu_184a155.scrollIntoView({behavior: \"auto\", block: \"center\"});\n",
       "        }\n",
       "        return chart.animate({\"data\": {\"filter\": record => { return (parseInt(record.Year) == 2004) }}, \"config\": {\"channels\": {\"y\": {\"set\": [\"Format\"]}, \"x\": {\"set\": [\"Revenue [m$]\"]}, \"label\": {\"set\": [\"Revenue [m$]\"]}, \"color\": {\"set\": [\"Format\"]}}, \"title\": \"Music Revenue by Format - Year by Year 2004\", \"sort\": \"byValue\"}}, {\"duration\": 0.2, \"x\": {\"easing\": \"linear\", \"delay\": 0}, \"y\": {\"delay\": 0}, \"show\": {\"delay\": 0}, \"hide\": {\"delay\": 0}, \"title\": {\"duration\": 0, \"delay\": 0}});\n",
       "    });\n",
       "</script>"
      ]
     },
     "metadata": {},
     "output_type": "display_data"
    },
    {
     "data": {
      "text/html": [
       "<script id=\"myVizzu_2200cf2\">\n",
       "    let display_2200cf2 = myVizzu_2200cf2.parentNode.parentNode.style.display;\n",
       "    myVizzu_2200cf2.parentNode.parentNode.style.display = \"none\";\n",
       "    chart_184a155 = chart_184a155.then(chart => {\n",
       "        if (myVizzu_184a155.parentNode && myVizzu_184a155.parentNode.parentNode) {\n",
       "            myVizzu_184a155.parentNode.parentNode.style.display = \"none\";\n",
       "        }\n",
       "        myVizzu_2200cf2.parentNode.parentNode.style.display = display_2200cf2;\n",
       "        myVizzu_2200cf2.parentNode.insertBefore(myVizzu_184a155, myVizzu_2200cf2);\n",
       "        if (!document.inhibitScroll && true) {\n",
       "            myVizzu_184a155.scrollIntoView({behavior: \"auto\", block: \"center\"});\n",
       "        }\n",
       "        return chart.animate({\"data\": {\"filter\": record => { return (parseInt(record.Year) == 2005) }}, \"config\": {\"channels\": {\"y\": {\"set\": [\"Format\"]}, \"x\": {\"set\": [\"Revenue [m$]\"]}, \"label\": {\"set\": [\"Revenue [m$]\"]}, \"color\": {\"set\": [\"Format\"]}}, \"title\": \"Music Revenue by Format - Year by Year 2005\", \"sort\": \"byValue\"}}, {\"duration\": 0.2, \"x\": {\"easing\": \"linear\", \"delay\": 0}, \"y\": {\"delay\": 0}, \"show\": {\"delay\": 0}, \"hide\": {\"delay\": 0}, \"title\": {\"duration\": 0, \"delay\": 0}});\n",
       "    });\n",
       "</script>"
      ]
     },
     "metadata": {},
     "output_type": "display_data"
    },
    {
     "data": {
      "text/html": [
       "<script id=\"myVizzu_6c1f74b\">\n",
       "    let display_6c1f74b = myVizzu_6c1f74b.parentNode.parentNode.style.display;\n",
       "    myVizzu_6c1f74b.parentNode.parentNode.style.display = \"none\";\n",
       "    chart_184a155 = chart_184a155.then(chart => {\n",
       "        if (myVizzu_184a155.parentNode && myVizzu_184a155.parentNode.parentNode) {\n",
       "            myVizzu_184a155.parentNode.parentNode.style.display = \"none\";\n",
       "        }\n",
       "        myVizzu_6c1f74b.parentNode.parentNode.style.display = display_6c1f74b;\n",
       "        myVizzu_6c1f74b.parentNode.insertBefore(myVizzu_184a155, myVizzu_6c1f74b);\n",
       "        if (!document.inhibitScroll && true) {\n",
       "            myVizzu_184a155.scrollIntoView({behavior: \"auto\", block: \"center\"});\n",
       "        }\n",
       "        return chart.animate({\"data\": {\"filter\": record => { return (parseInt(record.Year) == 2006) }}, \"config\": {\"channels\": {\"y\": {\"set\": [\"Format\"]}, \"x\": {\"set\": [\"Revenue [m$]\"]}, \"label\": {\"set\": [\"Revenue [m$]\"]}, \"color\": {\"set\": [\"Format\"]}}, \"title\": \"Music Revenue by Format - Year by Year 2006\", \"sort\": \"byValue\"}}, {\"duration\": 0.2, \"x\": {\"easing\": \"linear\", \"delay\": 0}, \"y\": {\"delay\": 0}, \"show\": {\"delay\": 0}, \"hide\": {\"delay\": 0}, \"title\": {\"duration\": 0, \"delay\": 0}});\n",
       "    });\n",
       "</script>"
      ]
     },
     "metadata": {},
     "output_type": "display_data"
    },
    {
     "data": {
      "text/html": [
       "<script id=\"myVizzu_d0b9fbf\">\n",
       "    let display_d0b9fbf = myVizzu_d0b9fbf.parentNode.parentNode.style.display;\n",
       "    myVizzu_d0b9fbf.parentNode.parentNode.style.display = \"none\";\n",
       "    chart_184a155 = chart_184a155.then(chart => {\n",
       "        if (myVizzu_184a155.parentNode && myVizzu_184a155.parentNode.parentNode) {\n",
       "            myVizzu_184a155.parentNode.parentNode.style.display = \"none\";\n",
       "        }\n",
       "        myVizzu_d0b9fbf.parentNode.parentNode.style.display = display_d0b9fbf;\n",
       "        myVizzu_d0b9fbf.parentNode.insertBefore(myVizzu_184a155, myVizzu_d0b9fbf);\n",
       "        if (!document.inhibitScroll && true) {\n",
       "            myVizzu_184a155.scrollIntoView({behavior: \"auto\", block: \"center\"});\n",
       "        }\n",
       "        return chart.animate({\"data\": {\"filter\": record => { return (parseInt(record.Year) == 2007) }}, \"config\": {\"channels\": {\"y\": {\"set\": [\"Format\"]}, \"x\": {\"set\": [\"Revenue [m$]\"]}, \"label\": {\"set\": [\"Revenue [m$]\"]}, \"color\": {\"set\": [\"Format\"]}}, \"title\": \"Music Revenue by Format - Year by Year 2007\", \"sort\": \"byValue\"}}, {\"duration\": 0.2, \"x\": {\"easing\": \"linear\", \"delay\": 0}, \"y\": {\"delay\": 0}, \"show\": {\"delay\": 0}, \"hide\": {\"delay\": 0}, \"title\": {\"duration\": 0, \"delay\": 0}});\n",
       "    });\n",
       "</script>"
      ]
     },
     "metadata": {},
     "output_type": "display_data"
    },
    {
     "data": {
      "text/html": [
       "<script id=\"myVizzu_6580902\">\n",
       "    let display_6580902 = myVizzu_6580902.parentNode.parentNode.style.display;\n",
       "    myVizzu_6580902.parentNode.parentNode.style.display = \"none\";\n",
       "    chart_184a155 = chart_184a155.then(chart => {\n",
       "        if (myVizzu_184a155.parentNode && myVizzu_184a155.parentNode.parentNode) {\n",
       "            myVizzu_184a155.parentNode.parentNode.style.display = \"none\";\n",
       "        }\n",
       "        myVizzu_6580902.parentNode.parentNode.style.display = display_6580902;\n",
       "        myVizzu_6580902.parentNode.insertBefore(myVizzu_184a155, myVizzu_6580902);\n",
       "        if (!document.inhibitScroll && true) {\n",
       "            myVizzu_184a155.scrollIntoView({behavior: \"auto\", block: \"center\"});\n",
       "        }\n",
       "        return chart.animate({\"data\": {\"filter\": record => { return (parseInt(record.Year) == 2008) }}, \"config\": {\"channels\": {\"y\": {\"set\": [\"Format\"]}, \"x\": {\"set\": [\"Revenue [m$]\"]}, \"label\": {\"set\": [\"Revenue [m$]\"]}, \"color\": {\"set\": [\"Format\"]}}, \"title\": \"Music Revenue by Format - Year by Year 2008\", \"sort\": \"byValue\"}}, {\"duration\": 0.2, \"x\": {\"easing\": \"linear\", \"delay\": 0}, \"y\": {\"delay\": 0}, \"show\": {\"delay\": 0}, \"hide\": {\"delay\": 0}, \"title\": {\"duration\": 0, \"delay\": 0}});\n",
       "    });\n",
       "</script>"
      ]
     },
     "metadata": {},
     "output_type": "display_data"
    },
    {
     "data": {
      "text/html": [
       "<script id=\"myVizzu_7749ceb\">\n",
       "    let display_7749ceb = myVizzu_7749ceb.parentNode.parentNode.style.display;\n",
       "    myVizzu_7749ceb.parentNode.parentNode.style.display = \"none\";\n",
       "    chart_184a155 = chart_184a155.then(chart => {\n",
       "        if (myVizzu_184a155.parentNode && myVizzu_184a155.parentNode.parentNode) {\n",
       "            myVizzu_184a155.parentNode.parentNode.style.display = \"none\";\n",
       "        }\n",
       "        myVizzu_7749ceb.parentNode.parentNode.style.display = display_7749ceb;\n",
       "        myVizzu_7749ceb.parentNode.insertBefore(myVizzu_184a155, myVizzu_7749ceb);\n",
       "        if (!document.inhibitScroll && true) {\n",
       "            myVizzu_184a155.scrollIntoView({behavior: \"auto\", block: \"center\"});\n",
       "        }\n",
       "        return chart.animate({\"data\": {\"filter\": record => { return (parseInt(record.Year) == 2009) }}, \"config\": {\"channels\": {\"y\": {\"set\": [\"Format\"]}, \"x\": {\"set\": [\"Revenue [m$]\"]}, \"label\": {\"set\": [\"Revenue [m$]\"]}, \"color\": {\"set\": [\"Format\"]}}, \"title\": \"Music Revenue by Format - Year by Year 2009\", \"sort\": \"byValue\"}}, {\"duration\": 0.2, \"x\": {\"easing\": \"linear\", \"delay\": 0}, \"y\": {\"delay\": 0}, \"show\": {\"delay\": 0}, \"hide\": {\"delay\": 0}, \"title\": {\"duration\": 0, \"delay\": 0}});\n",
       "    });\n",
       "</script>"
      ]
     },
     "metadata": {},
     "output_type": "display_data"
    },
    {
     "data": {
      "text/html": [
       "<script id=\"myVizzu_90c48f7\">\n",
       "    let display_90c48f7 = myVizzu_90c48f7.parentNode.parentNode.style.display;\n",
       "    myVizzu_90c48f7.parentNode.parentNode.style.display = \"none\";\n",
       "    chart_184a155 = chart_184a155.then(chart => {\n",
       "        if (myVizzu_184a155.parentNode && myVizzu_184a155.parentNode.parentNode) {\n",
       "            myVizzu_184a155.parentNode.parentNode.style.display = \"none\";\n",
       "        }\n",
       "        myVizzu_90c48f7.parentNode.parentNode.style.display = display_90c48f7;\n",
       "        myVizzu_90c48f7.parentNode.insertBefore(myVizzu_184a155, myVizzu_90c48f7);\n",
       "        if (!document.inhibitScroll && true) {\n",
       "            myVizzu_184a155.scrollIntoView({behavior: \"auto\", block: \"center\"});\n",
       "        }\n",
       "        return chart.animate({\"data\": {\"filter\": record => { return (parseInt(record.Year) == 2010) }}, \"config\": {\"channels\": {\"y\": {\"set\": [\"Format\"]}, \"x\": {\"set\": [\"Revenue [m$]\"]}, \"label\": {\"set\": [\"Revenue [m$]\"]}, \"color\": {\"set\": [\"Format\"]}}, \"title\": \"Music Revenue by Format - Year by Year 2010\", \"sort\": \"byValue\"}}, {\"duration\": 0.2, \"x\": {\"easing\": \"linear\", \"delay\": 0}, \"y\": {\"delay\": 0}, \"show\": {\"delay\": 0}, \"hide\": {\"delay\": 0}, \"title\": {\"duration\": 0, \"delay\": 0}});\n",
       "    });\n",
       "</script>"
      ]
     },
     "metadata": {},
     "output_type": "display_data"
    },
    {
     "data": {
      "text/html": [
       "<script id=\"myVizzu_a6a8c5b\">\n",
       "    let display_a6a8c5b = myVizzu_a6a8c5b.parentNode.parentNode.style.display;\n",
       "    myVizzu_a6a8c5b.parentNode.parentNode.style.display = \"none\";\n",
       "    chart_184a155 = chart_184a155.then(chart => {\n",
       "        if (myVizzu_184a155.parentNode && myVizzu_184a155.parentNode.parentNode) {\n",
       "            myVizzu_184a155.parentNode.parentNode.style.display = \"none\";\n",
       "        }\n",
       "        myVizzu_a6a8c5b.parentNode.parentNode.style.display = display_a6a8c5b;\n",
       "        myVizzu_a6a8c5b.parentNode.insertBefore(myVizzu_184a155, myVizzu_a6a8c5b);\n",
       "        if (!document.inhibitScroll && true) {\n",
       "            myVizzu_184a155.scrollIntoView({behavior: \"auto\", block: \"center\"});\n",
       "        }\n",
       "        return chart.animate({\"data\": {\"filter\": record => { return (parseInt(record.Year) == 2011) }}, \"config\": {\"channels\": {\"y\": {\"set\": [\"Format\"]}, \"x\": {\"set\": [\"Revenue [m$]\"]}, \"label\": {\"set\": [\"Revenue [m$]\"]}, \"color\": {\"set\": [\"Format\"]}}, \"title\": \"Music Revenue by Format - Year by Year 2011\", \"sort\": \"byValue\"}}, {\"duration\": 0.2, \"x\": {\"easing\": \"linear\", \"delay\": 0}, \"y\": {\"delay\": 0}, \"show\": {\"delay\": 0}, \"hide\": {\"delay\": 0}, \"title\": {\"duration\": 0, \"delay\": 0}});\n",
       "    });\n",
       "</script>"
      ]
     },
     "metadata": {},
     "output_type": "display_data"
    },
    {
     "data": {
      "text/html": [
       "<script id=\"myVizzu_0393160\">\n",
       "    let display_0393160 = myVizzu_0393160.parentNode.parentNode.style.display;\n",
       "    myVizzu_0393160.parentNode.parentNode.style.display = \"none\";\n",
       "    chart_184a155 = chart_184a155.then(chart => {\n",
       "        if (myVizzu_184a155.parentNode && myVizzu_184a155.parentNode.parentNode) {\n",
       "            myVizzu_184a155.parentNode.parentNode.style.display = \"none\";\n",
       "        }\n",
       "        myVizzu_0393160.parentNode.parentNode.style.display = display_0393160;\n",
       "        myVizzu_0393160.parentNode.insertBefore(myVizzu_184a155, myVizzu_0393160);\n",
       "        if (!document.inhibitScroll && true) {\n",
       "            myVizzu_184a155.scrollIntoView({behavior: \"auto\", block: \"center\"});\n",
       "        }\n",
       "        return chart.animate({\"data\": {\"filter\": record => { return (parseInt(record.Year) == 2012) }}, \"config\": {\"channels\": {\"y\": {\"set\": [\"Format\"]}, \"x\": {\"set\": [\"Revenue [m$]\"]}, \"label\": {\"set\": [\"Revenue [m$]\"]}, \"color\": {\"set\": [\"Format\"]}}, \"title\": \"Music Revenue by Format - Year by Year 2012\", \"sort\": \"byValue\"}}, {\"duration\": 0.2, \"x\": {\"easing\": \"linear\", \"delay\": 0}, \"y\": {\"delay\": 0}, \"show\": {\"delay\": 0}, \"hide\": {\"delay\": 0}, \"title\": {\"duration\": 0, \"delay\": 0}});\n",
       "    });\n",
       "</script>"
      ]
     },
     "metadata": {},
     "output_type": "display_data"
    },
    {
     "data": {
      "text/html": [
       "<script id=\"myVizzu_c7d50f9\">\n",
       "    let display_c7d50f9 = myVizzu_c7d50f9.parentNode.parentNode.style.display;\n",
       "    myVizzu_c7d50f9.parentNode.parentNode.style.display = \"none\";\n",
       "    chart_184a155 = chart_184a155.then(chart => {\n",
       "        if (myVizzu_184a155.parentNode && myVizzu_184a155.parentNode.parentNode) {\n",
       "            myVizzu_184a155.parentNode.parentNode.style.display = \"none\";\n",
       "        }\n",
       "        myVizzu_c7d50f9.parentNode.parentNode.style.display = display_c7d50f9;\n",
       "        myVizzu_c7d50f9.parentNode.insertBefore(myVizzu_184a155, myVizzu_c7d50f9);\n",
       "        if (!document.inhibitScroll && true) {\n",
       "            myVizzu_184a155.scrollIntoView({behavior: \"auto\", block: \"center\"});\n",
       "        }\n",
       "        return chart.animate({\"data\": {\"filter\": record => { return (parseInt(record.Year) == 2013) }}, \"config\": {\"channels\": {\"y\": {\"set\": [\"Format\"]}, \"x\": {\"set\": [\"Revenue [m$]\"]}, \"label\": {\"set\": [\"Revenue [m$]\"]}, \"color\": {\"set\": [\"Format\"]}}, \"title\": \"Music Revenue by Format - Year by Year 2013\", \"sort\": \"byValue\"}}, {\"duration\": 0.2, \"x\": {\"easing\": \"linear\", \"delay\": 0}, \"y\": {\"delay\": 0}, \"show\": {\"delay\": 0}, \"hide\": {\"delay\": 0}, \"title\": {\"duration\": 0, \"delay\": 0}});\n",
       "    });\n",
       "</script>"
      ]
     },
     "metadata": {},
     "output_type": "display_data"
    },
    {
     "data": {
      "text/html": [
       "<script id=\"myVizzu_62e0672\">\n",
       "    let display_62e0672 = myVizzu_62e0672.parentNode.parentNode.style.display;\n",
       "    myVizzu_62e0672.parentNode.parentNode.style.display = \"none\";\n",
       "    chart_184a155 = chart_184a155.then(chart => {\n",
       "        if (myVizzu_184a155.parentNode && myVizzu_184a155.parentNode.parentNode) {\n",
       "            myVizzu_184a155.parentNode.parentNode.style.display = \"none\";\n",
       "        }\n",
       "        myVizzu_62e0672.parentNode.parentNode.style.display = display_62e0672;\n",
       "        myVizzu_62e0672.parentNode.insertBefore(myVizzu_184a155, myVizzu_62e0672);\n",
       "        if (!document.inhibitScroll && true) {\n",
       "            myVizzu_184a155.scrollIntoView({behavior: \"auto\", block: \"center\"});\n",
       "        }\n",
       "        return chart.animate({\"data\": {\"filter\": record => { return (parseInt(record.Year) == 2014) }}, \"config\": {\"channels\": {\"y\": {\"set\": [\"Format\"]}, \"x\": {\"set\": [\"Revenue [m$]\"]}, \"label\": {\"set\": [\"Revenue [m$]\"]}, \"color\": {\"set\": [\"Format\"]}}, \"title\": \"Music Revenue by Format - Year by Year 2014\", \"sort\": \"byValue\"}}, {\"duration\": 0.2, \"x\": {\"easing\": \"linear\", \"delay\": 0}, \"y\": {\"delay\": 0}, \"show\": {\"delay\": 0}, \"hide\": {\"delay\": 0}, \"title\": {\"duration\": 0, \"delay\": 0}});\n",
       "    });\n",
       "</script>"
      ]
     },
     "metadata": {},
     "output_type": "display_data"
    },
    {
     "data": {
      "text/html": [
       "<script id=\"myVizzu_6457550\">\n",
       "    let display_6457550 = myVizzu_6457550.parentNode.parentNode.style.display;\n",
       "    myVizzu_6457550.parentNode.parentNode.style.display = \"none\";\n",
       "    chart_184a155 = chart_184a155.then(chart => {\n",
       "        if (myVizzu_184a155.parentNode && myVizzu_184a155.parentNode.parentNode) {\n",
       "            myVizzu_184a155.parentNode.parentNode.style.display = \"none\";\n",
       "        }\n",
       "        myVizzu_6457550.parentNode.parentNode.style.display = display_6457550;\n",
       "        myVizzu_6457550.parentNode.insertBefore(myVizzu_184a155, myVizzu_6457550);\n",
       "        if (!document.inhibitScroll && true) {\n",
       "            myVizzu_184a155.scrollIntoView({behavior: \"auto\", block: \"center\"});\n",
       "        }\n",
       "        return chart.animate({\"data\": {\"filter\": record => { return (parseInt(record.Year) == 2015) }}, \"config\": {\"channels\": {\"y\": {\"set\": [\"Format\"]}, \"x\": {\"set\": [\"Revenue [m$]\"]}, \"label\": {\"set\": [\"Revenue [m$]\"]}, \"color\": {\"set\": [\"Format\"]}}, \"title\": \"Music Revenue by Format - Year by Year 2015\", \"sort\": \"byValue\"}}, {\"duration\": 0.2, \"x\": {\"easing\": \"linear\", \"delay\": 0}, \"y\": {\"delay\": 0}, \"show\": {\"delay\": 0}, \"hide\": {\"delay\": 0}, \"title\": {\"duration\": 0, \"delay\": 0}});\n",
       "    });\n",
       "</script>"
      ]
     },
     "metadata": {},
     "output_type": "display_data"
    },
    {
     "data": {
      "text/html": [
       "<script id=\"myVizzu_a042c49\">\n",
       "    let display_a042c49 = myVizzu_a042c49.parentNode.parentNode.style.display;\n",
       "    myVizzu_a042c49.parentNode.parentNode.style.display = \"none\";\n",
       "    chart_184a155 = chart_184a155.then(chart => {\n",
       "        if (myVizzu_184a155.parentNode && myVizzu_184a155.parentNode.parentNode) {\n",
       "            myVizzu_184a155.parentNode.parentNode.style.display = \"none\";\n",
       "        }\n",
       "        myVizzu_a042c49.parentNode.parentNode.style.display = display_a042c49;\n",
       "        myVizzu_a042c49.parentNode.insertBefore(myVizzu_184a155, myVizzu_a042c49);\n",
       "        if (!document.inhibitScroll && true) {\n",
       "            myVizzu_184a155.scrollIntoView({behavior: \"auto\", block: \"center\"});\n",
       "        }\n",
       "        return chart.animate({\"data\": {\"filter\": record => { return (parseInt(record.Year) == 2016) }}, \"config\": {\"channels\": {\"y\": {\"set\": [\"Format\"]}, \"x\": {\"set\": [\"Revenue [m$]\"]}, \"label\": {\"set\": [\"Revenue [m$]\"]}, \"color\": {\"set\": [\"Format\"]}}, \"title\": \"Music Revenue by Format - Year by Year 2016\", \"sort\": \"byValue\"}}, {\"duration\": 0.2, \"x\": {\"easing\": \"linear\", \"delay\": 0}, \"y\": {\"delay\": 0}, \"show\": {\"delay\": 0}, \"hide\": {\"delay\": 0}, \"title\": {\"duration\": 0, \"delay\": 0}});\n",
       "    });\n",
       "</script>"
      ]
     },
     "metadata": {},
     "output_type": "display_data"
    },
    {
     "data": {
      "text/html": [
       "<script id=\"myVizzu_a8eb60f\">\n",
       "    let display_a8eb60f = myVizzu_a8eb60f.parentNode.parentNode.style.display;\n",
       "    myVizzu_a8eb60f.parentNode.parentNode.style.display = \"none\";\n",
       "    chart_184a155 = chart_184a155.then(chart => {\n",
       "        if (myVizzu_184a155.parentNode && myVizzu_184a155.parentNode.parentNode) {\n",
       "            myVizzu_184a155.parentNode.parentNode.style.display = \"none\";\n",
       "        }\n",
       "        myVizzu_a8eb60f.parentNode.parentNode.style.display = display_a8eb60f;\n",
       "        myVizzu_a8eb60f.parentNode.insertBefore(myVizzu_184a155, myVizzu_a8eb60f);\n",
       "        if (!document.inhibitScroll && true) {\n",
       "            myVizzu_184a155.scrollIntoView({behavior: \"auto\", block: \"center\"});\n",
       "        }\n",
       "        return chart.animate({\"data\": {\"filter\": record => { return (parseInt(record.Year) == 2017) }}, \"config\": {\"channels\": {\"y\": {\"set\": [\"Format\"]}, \"x\": {\"set\": [\"Revenue [m$]\"]}, \"label\": {\"set\": [\"Revenue [m$]\"]}, \"color\": {\"set\": [\"Format\"]}}, \"title\": \"Music Revenue by Format - Year by Year 2017\", \"sort\": \"byValue\"}}, {\"duration\": 0.2, \"x\": {\"easing\": \"linear\", \"delay\": 0}, \"y\": {\"delay\": 0}, \"show\": {\"delay\": 0}, \"hide\": {\"delay\": 0}, \"title\": {\"duration\": 0, \"delay\": 0}});\n",
       "    });\n",
       "</script>"
      ]
     },
     "metadata": {},
     "output_type": "display_data"
    },
    {
     "data": {
      "text/html": [
       "<script id=\"myVizzu_791b9f7\">\n",
       "    let display_791b9f7 = myVizzu_791b9f7.parentNode.parentNode.style.display;\n",
       "    myVizzu_791b9f7.parentNode.parentNode.style.display = \"none\";\n",
       "    chart_184a155 = chart_184a155.then(chart => {\n",
       "        if (myVizzu_184a155.parentNode && myVizzu_184a155.parentNode.parentNode) {\n",
       "            myVizzu_184a155.parentNode.parentNode.style.display = \"none\";\n",
       "        }\n",
       "        myVizzu_791b9f7.parentNode.parentNode.style.display = display_791b9f7;\n",
       "        myVizzu_791b9f7.parentNode.insertBefore(myVizzu_184a155, myVizzu_791b9f7);\n",
       "        if (!document.inhibitScroll && true) {\n",
       "            myVizzu_184a155.scrollIntoView({behavior: \"auto\", block: \"center\"});\n",
       "        }\n",
       "        return chart.animate({\"data\": {\"filter\": record => { return (parseInt(record.Year) == 2018) }}, \"config\": {\"channels\": {\"y\": {\"set\": [\"Format\"]}, \"x\": {\"set\": [\"Revenue [m$]\"]}, \"label\": {\"set\": [\"Revenue [m$]\"]}, \"color\": {\"set\": [\"Format\"]}}, \"title\": \"Music Revenue by Format - Year by Year 2018\", \"sort\": \"byValue\"}}, {\"duration\": 0.2, \"x\": {\"easing\": \"linear\", \"delay\": 0}, \"y\": {\"delay\": 0}, \"show\": {\"delay\": 0}, \"hide\": {\"delay\": 0}, \"title\": {\"duration\": 0, \"delay\": 0}});\n",
       "    });\n",
       "</script>"
      ]
     },
     "metadata": {},
     "output_type": "display_data"
    },
    {
     "data": {
      "text/html": [
       "<script id=\"myVizzu_ab3bd7c\">\n",
       "    let display_ab3bd7c = myVizzu_ab3bd7c.parentNode.parentNode.style.display;\n",
       "    myVizzu_ab3bd7c.parentNode.parentNode.style.display = \"none\";\n",
       "    chart_184a155 = chart_184a155.then(chart => {\n",
       "        if (myVizzu_184a155.parentNode && myVizzu_184a155.parentNode.parentNode) {\n",
       "            myVizzu_184a155.parentNode.parentNode.style.display = \"none\";\n",
       "        }\n",
       "        myVizzu_ab3bd7c.parentNode.parentNode.style.display = display_ab3bd7c;\n",
       "        myVizzu_ab3bd7c.parentNode.insertBefore(myVizzu_184a155, myVizzu_ab3bd7c);\n",
       "        if (!document.inhibitScroll && true) {\n",
       "            myVizzu_184a155.scrollIntoView({behavior: \"auto\", block: \"center\"});\n",
       "        }\n",
       "        return chart.animate({\"data\": {\"filter\": record => { return (parseInt(record.Year) == 2019) }}, \"config\": {\"channels\": {\"y\": {\"set\": [\"Format\"]}, \"x\": {\"set\": [\"Revenue [m$]\"]}, \"label\": {\"set\": [\"Revenue [m$]\"]}, \"color\": {\"set\": [\"Format\"]}}, \"title\": \"Music Revenue by Format - Year by Year 2019\", \"sort\": \"byValue\"}}, {\"duration\": 0.2, \"x\": {\"easing\": \"linear\", \"delay\": 0}, \"y\": {\"delay\": 0}, \"show\": {\"delay\": 0}, \"hide\": {\"delay\": 0}, \"title\": {\"duration\": 0, \"delay\": 0}});\n",
       "    });\n",
       "</script>"
      ]
     },
     "metadata": {},
     "output_type": "display_data"
    },
    {
     "data": {
      "text/html": [
       "<script id=\"myVizzu_0595adf\">\n",
       "    let display_0595adf = myVizzu_0595adf.parentNode.parentNode.style.display;\n",
       "    myVizzu_0595adf.parentNode.parentNode.style.display = \"none\";\n",
       "    chart_184a155 = chart_184a155.then(chart => {\n",
       "        if (myVizzu_184a155.parentNode && myVizzu_184a155.parentNode.parentNode) {\n",
       "            myVizzu_184a155.parentNode.parentNode.style.display = \"none\";\n",
       "        }\n",
       "        myVizzu_0595adf.parentNode.parentNode.style.display = display_0595adf;\n",
       "        myVizzu_0595adf.parentNode.insertBefore(myVizzu_184a155, myVizzu_0595adf);\n",
       "        if (!document.inhibitScroll && true) {\n",
       "            myVizzu_184a155.scrollIntoView({behavior: \"auto\", block: \"center\"});\n",
       "        }\n",
       "        return chart.animate({\"data\": {\"filter\": record => { return (parseInt(record.Year) == 2020) }}, \"config\": {\"channels\": {\"y\": {\"set\": [\"Format\"]}, \"x\": {\"set\": [\"Revenue [m$]\"]}, \"label\": {\"set\": [\"Revenue [m$]\"]}, \"color\": {\"set\": [\"Format\"]}}, \"title\": \"Music Revenue by Format - Year by Year 2020\", \"sort\": \"byValue\"}}, {\"duration\": 0.2, \"x\": {\"easing\": \"linear\", \"delay\": 0}, \"y\": {\"delay\": 0}, \"show\": {\"delay\": 0}, \"hide\": {\"delay\": 0}, \"title\": {\"duration\": 0, \"delay\": 0}});\n",
       "    });\n",
       "</script>"
      ]
     },
     "metadata": {},
     "output_type": "display_data"
    }
   ],
   "source": [
    "import pandas as pd\n",
    "from ipyvizzu import Chart, Data, Config, Style\n",
    "\n",
    "data_frame = pd.read_csv('./data.csv')\n",
    "data = Data()\n",
    "data.add_data_frame(data_frame, infer_types={\"Year\": \"dimension\"})\n",
    "\n",
    "config = Config({\n",
    "    \"channels\": {\n",
    "        \"y\": { \"set\": [\"Format\"], },\n",
    "        \"x\": { \"set\": [\"Revenue [m$]\"] },\n",
    "        \"label\": { \"set\": [\"Revenue [m$]\"] },\n",
    "        \"color\": { \"set\": [\"Format\"] }\n",
    "    },\n",
    "    \"title\": 'Music Revenue by Format - Year by Year     ',\n",
    "    \"sort\": 'byValue'\n",
    "})\n",
    "\n",
    "style = Style({\n",
    "    \"fontSize\": 12.5,\n",
    "    \"title\":\n",
    "    {\n",
    "        \"fontWeight\": 200\n",
    "    },\n",
    "    \"plot\": {\n",
    "        \"paddingLeft\": 100,\n",
    "        \"paddingTop\": 25,\n",
    "        \"yAxis\": {\n",
    "            \"color\": \"#ffffff00\",\n",
    "            \"label\": {\n",
    "                \"paddingRight\": 10\n",
    "            },\n",
    "        },\n",
    "        \"xAxis\": {\n",
    "            \"title\": { \"color\": \"#ffffff00\" },\n",
    "            \"label\": { \"color\": \"#ffffff00\", \"numberFormat\": \"grouped\" }\n",
    "        },\n",
    "        \"marker\": {\n",
    "            \"colorPalette\": '#b74c20FF #c47f58FF #1c9761FF #ea4549FF #875792FF #3562b6FF #ee7c34FF #efae3aFF'\n",
    "        }\n",
    "    }\n",
    "})\n",
    "\n",
    "chart = Chart(width=\"640px\", height=\"=360px\")\n",
    "\n",
    "chart.animate(data, style)\n",
    "\n",
    "for year in range(1973, 2021):\n",
    "    config[\"title\"] = f\"Music Revenue by Format - Year by Year {year}\";\n",
    "    chart.animate(\n",
    "        Data.filter(f\"parseInt(record.Year) == {year}\"),\n",
    "        config,\n",
    "        duration = 0.2,\n",
    "        x = { \"easing\": \"linear\", \"delay\": 0 },\n",
    "        y = { \"delay\": 0 },\n",
    "        show = { \"delay\": 0 },\n",
    "        hide = { \"delay\": 0 },\n",
    "        title = { \"duration\": 0, \"delay\": 0 }\n",
    "    )"
   ]
  },
  {
   "cell_type": "code",
   "execution_count": 2,
   "metadata": {},
   "outputs": [
    {
     "data": {
      "text/html": [
       "<script id=\"myVizzu_45e3832\">\n",
       "    document.inhibitScroll = false;\n",
       "</script>"
      ]
     },
     "metadata": {},
     "output_type": "display_data"
    },
    {
     "data": {
      "text/html": [
       "<script id=\"myVizzu_bd75dc1\">\n",
       "    let display_bd75dc1 = myVizzu_bd75dc1.parentNode.parentNode.style.display;\n",
       "    myVizzu_bd75dc1.parentNode.parentNode.style.display = \"none\";\n",
       "    chart_184a155 = chart_184a155.then(chart => {\n",
       "        if (myVizzu_184a155.parentNode && myVizzu_184a155.parentNode.parentNode) {\n",
       "            myVizzu_184a155.parentNode.parentNode.style.display = \"none\";\n",
       "        }\n",
       "        myVizzu_bd75dc1.parentNode.parentNode.style.display = display_bd75dc1;\n",
       "        myVizzu_bd75dc1.parentNode.insertBefore(myVizzu_184a155, myVizzu_bd75dc1);\n",
       "        if (!document.inhibitScroll && true) {\n",
       "            myVizzu_184a155.scrollIntoView({behavior: \"auto\", block: \"center\"});\n",
       "        }\n",
       "        return chart.animate({\"config\": {\"channels\": {\"x\": {\"attach\": [\"Year\"]}, \"label\": {\"set\": null}}}}, {\"duration\": 0.3});\n",
       "    });\n",
       "</script>"
      ]
     },
     "metadata": {},
     "output_type": "display_data"
    },
    {
     "data": {
      "text/html": [
       "<script id=\"myVizzu_91a95cf\">\n",
       "    let display_91a95cf = myVizzu_91a95cf.parentNode.parentNode.style.display;\n",
       "    myVizzu_91a95cf.parentNode.parentNode.style.display = \"none\";\n",
       "    chart_184a155 = chart_184a155.then(chart => {\n",
       "        if (myVizzu_184a155.parentNode && myVizzu_184a155.parentNode.parentNode) {\n",
       "            myVizzu_184a155.parentNode.parentNode.style.display = \"none\";\n",
       "        }\n",
       "        myVizzu_91a95cf.parentNode.parentNode.style.display = display_91a95cf;\n",
       "        myVizzu_91a95cf.parentNode.insertBefore(myVizzu_184a155, myVizzu_91a95cf);\n",
       "        if (!document.inhibitScroll && true) {\n",
       "            myVizzu_184a155.scrollIntoView({behavior: \"auto\", block: \"center\"});\n",
       "        }\n",
       "        return chart.animate({\"data\": {\"filter\": record => { return (record.Year == '2020' || record.Year == '1972') }}, \"config\": {\"title\": \"Lets see the total of the last 47 years\"}}, {\"duration\": 2});\n",
       "    });\n",
       "</script>"
      ]
     },
     "metadata": {},
     "output_type": "display_data"
    },
    {
     "data": {
      "text/html": [
       "<script id=\"myVizzu_1bbef3f\">\n",
       "    let display_1bbef3f = myVizzu_1bbef3f.parentNode.parentNode.style.display;\n",
       "    myVizzu_1bbef3f.parentNode.parentNode.style.display = \"none\";\n",
       "    chart_184a155 = chart_184a155.then(chart => {\n",
       "        if (myVizzu_184a155.parentNode && myVizzu_184a155.parentNode.parentNode) {\n",
       "            myVizzu_184a155.parentNode.parentNode.style.display = \"none\";\n",
       "        }\n",
       "        myVizzu_1bbef3f.parentNode.parentNode.style.display = display_1bbef3f;\n",
       "        myVizzu_1bbef3f.parentNode.insertBefore(myVizzu_184a155, myVizzu_1bbef3f);\n",
       "        if (!document.inhibitScroll && true) {\n",
       "            myVizzu_184a155.scrollIntoView({behavior: \"auto\", block: \"center\"});\n",
       "        }\n",
       "        return chart.animate({\"config\": {\"sort\": \"none\"}}, {\"delay\": 0, \"duration\": 2});\n",
       "    });\n",
       "</script>"
      ]
     },
     "metadata": {},
     "output_type": "display_data"
    },
    {
     "data": {
      "text/html": [
       "<script id=\"myVizzu_82f7196\">\n",
       "    let display_82f7196 = myVizzu_82f7196.parentNode.parentNode.style.display;\n",
       "    myVizzu_82f7196.parentNode.parentNode.style.display = \"none\";\n",
       "    chart_184a155 = chart_184a155.then(chart => {\n",
       "        if (myVizzu_184a155.parentNode && myVizzu_184a155.parentNode.parentNode) {\n",
       "            myVizzu_184a155.parentNode.parentNode.style.display = \"none\";\n",
       "        }\n",
       "        myVizzu_82f7196.parentNode.parentNode.style.display = display_82f7196;\n",
       "        myVizzu_82f7196.parentNode.insertBefore(myVizzu_184a155, myVizzu_82f7196);\n",
       "        if (!document.inhibitScroll && true) {\n",
       "            myVizzu_184a155.scrollIntoView({behavior: \"auto\", block: \"center\"});\n",
       "        }\n",
       "        return chart.animate({\"data\": {\"filter\": record => { return (parseInt(record.Year) >= 2019 || record.Year == '1972') }}, \"config\": {\"split\": true}, \"style\": {\"plot.xAxis.interlacing.color\": \"#ffffff\"}}, {\"duration\": 0.005});\n",
       "    });\n",
       "</script>"
      ]
     },
     "metadata": {},
     "output_type": "display_data"
    },
    {
     "data": {
      "text/html": [
       "<script id=\"myVizzu_574a890\">\n",
       "    let display_574a890 = myVizzu_574a890.parentNode.parentNode.style.display;\n",
       "    myVizzu_574a890.parentNode.parentNode.style.display = \"none\";\n",
       "    chart_184a155 = chart_184a155.then(chart => {\n",
       "        if (myVizzu_184a155.parentNode && myVizzu_184a155.parentNode.parentNode) {\n",
       "            myVizzu_184a155.parentNode.parentNode.style.display = \"none\";\n",
       "        }\n",
       "        myVizzu_574a890.parentNode.parentNode.style.display = display_574a890;\n",
       "        myVizzu_574a890.parentNode.insertBefore(myVizzu_184a155, myVizzu_574a890);\n",
       "        if (!document.inhibitScroll && true) {\n",
       "            myVizzu_184a155.scrollIntoView({behavior: \"auto\", block: \"center\"});\n",
       "        }\n",
       "        return chart.animate({\"data\": {\"filter\": record => { return (parseInt(record.Year) >= 2018 || record.Year == '1972') }}, \"config\": {\"split\": true}, \"style\": {\"plot.xAxis.interlacing.color\": \"#ffffff\"}}, {\"duration\": 0.005});\n",
       "    });\n",
       "</script>"
      ]
     },
     "metadata": {},
     "output_type": "display_data"
    },
    {
     "data": {
      "text/html": [
       "<script id=\"myVizzu_147d7ba\">\n",
       "    let display_147d7ba = myVizzu_147d7ba.parentNode.parentNode.style.display;\n",
       "    myVizzu_147d7ba.parentNode.parentNode.style.display = \"none\";\n",
       "    chart_184a155 = chart_184a155.then(chart => {\n",
       "        if (myVizzu_184a155.parentNode && myVizzu_184a155.parentNode.parentNode) {\n",
       "            myVizzu_184a155.parentNode.parentNode.style.display = \"none\";\n",
       "        }\n",
       "        myVizzu_147d7ba.parentNode.parentNode.style.display = display_147d7ba;\n",
       "        myVizzu_147d7ba.parentNode.insertBefore(myVizzu_184a155, myVizzu_147d7ba);\n",
       "        if (!document.inhibitScroll && true) {\n",
       "            myVizzu_184a155.scrollIntoView({behavior: \"auto\", block: \"center\"});\n",
       "        }\n",
       "        return chart.animate({\"data\": {\"filter\": record => { return (parseInt(record.Year) >= 2017 || record.Year == '1972') }}, \"config\": {\"split\": true}, \"style\": {\"plot.xAxis.interlacing.color\": \"#ffffff\"}}, {\"duration\": 0.005});\n",
       "    });\n",
       "</script>"
      ]
     },
     "metadata": {},
     "output_type": "display_data"
    },
    {
     "data": {
      "text/html": [
       "<script id=\"myVizzu_ebc718e\">\n",
       "    let display_ebc718e = myVizzu_ebc718e.parentNode.parentNode.style.display;\n",
       "    myVizzu_ebc718e.parentNode.parentNode.style.display = \"none\";\n",
       "    chart_184a155 = chart_184a155.then(chart => {\n",
       "        if (myVizzu_184a155.parentNode && myVizzu_184a155.parentNode.parentNode) {\n",
       "            myVizzu_184a155.parentNode.parentNode.style.display = \"none\";\n",
       "        }\n",
       "        myVizzu_ebc718e.parentNode.parentNode.style.display = display_ebc718e;\n",
       "        myVizzu_ebc718e.parentNode.insertBefore(myVizzu_184a155, myVizzu_ebc718e);\n",
       "        if (!document.inhibitScroll && true) {\n",
       "            myVizzu_184a155.scrollIntoView({behavior: \"auto\", block: \"center\"});\n",
       "        }\n",
       "        return chart.animate({\"data\": {\"filter\": record => { return (parseInt(record.Year) >= 2016 || record.Year == '1972') }}, \"config\": {\"split\": true}, \"style\": {\"plot.xAxis.interlacing.color\": \"#ffffff\"}}, {\"duration\": 0.005});\n",
       "    });\n",
       "</script>"
      ]
     },
     "metadata": {},
     "output_type": "display_data"
    },
    {
     "data": {
      "text/html": [
       "<script id=\"myVizzu_dd5a09f\">\n",
       "    let display_dd5a09f = myVizzu_dd5a09f.parentNode.parentNode.style.display;\n",
       "    myVizzu_dd5a09f.parentNode.parentNode.style.display = \"none\";\n",
       "    chart_184a155 = chart_184a155.then(chart => {\n",
       "        if (myVizzu_184a155.parentNode && myVizzu_184a155.parentNode.parentNode) {\n",
       "            myVizzu_184a155.parentNode.parentNode.style.display = \"none\";\n",
       "        }\n",
       "        myVizzu_dd5a09f.parentNode.parentNode.style.display = display_dd5a09f;\n",
       "        myVizzu_dd5a09f.parentNode.insertBefore(myVizzu_184a155, myVizzu_dd5a09f);\n",
       "        if (!document.inhibitScroll && true) {\n",
       "            myVizzu_184a155.scrollIntoView({behavior: \"auto\", block: \"center\"});\n",
       "        }\n",
       "        return chart.animate({\"data\": {\"filter\": record => { return (parseInt(record.Year) >= 2015 || record.Year == '1972') }}, \"config\": {\"split\": true}, \"style\": {\"plot.xAxis.interlacing.color\": \"#ffffff\"}}, {\"duration\": 0.005});\n",
       "    });\n",
       "</script>"
      ]
     },
     "metadata": {},
     "output_type": "display_data"
    },
    {
     "data": {
      "text/html": [
       "<script id=\"myVizzu_948ad89\">\n",
       "    let display_948ad89 = myVizzu_948ad89.parentNode.parentNode.style.display;\n",
       "    myVizzu_948ad89.parentNode.parentNode.style.display = \"none\";\n",
       "    chart_184a155 = chart_184a155.then(chart => {\n",
       "        if (myVizzu_184a155.parentNode && myVizzu_184a155.parentNode.parentNode) {\n",
       "            myVizzu_184a155.parentNode.parentNode.style.display = \"none\";\n",
       "        }\n",
       "        myVizzu_948ad89.parentNode.parentNode.style.display = display_948ad89;\n",
       "        myVizzu_948ad89.parentNode.insertBefore(myVizzu_184a155, myVizzu_948ad89);\n",
       "        if (!document.inhibitScroll && true) {\n",
       "            myVizzu_184a155.scrollIntoView({behavior: \"auto\", block: \"center\"});\n",
       "        }\n",
       "        return chart.animate({\"data\": {\"filter\": record => { return (parseInt(record.Year) >= 2014 || record.Year == '1972') }}, \"config\": {\"split\": true}, \"style\": {\"plot.xAxis.interlacing.color\": \"#ffffff\"}}, {\"duration\": 0.005});\n",
       "    });\n",
       "</script>"
      ]
     },
     "metadata": {},
     "output_type": "display_data"
    },
    {
     "data": {
      "text/html": [
       "<script id=\"myVizzu_f3690ec\">\n",
       "    let display_f3690ec = myVizzu_f3690ec.parentNode.parentNode.style.display;\n",
       "    myVizzu_f3690ec.parentNode.parentNode.style.display = \"none\";\n",
       "    chart_184a155 = chart_184a155.then(chart => {\n",
       "        if (myVizzu_184a155.parentNode && myVizzu_184a155.parentNode.parentNode) {\n",
       "            myVizzu_184a155.parentNode.parentNode.style.display = \"none\";\n",
       "        }\n",
       "        myVizzu_f3690ec.parentNode.parentNode.style.display = display_f3690ec;\n",
       "        myVizzu_f3690ec.parentNode.insertBefore(myVizzu_184a155, myVizzu_f3690ec);\n",
       "        if (!document.inhibitScroll && true) {\n",
       "            myVizzu_184a155.scrollIntoView({behavior: \"auto\", block: \"center\"});\n",
       "        }\n",
       "        return chart.animate({\"data\": {\"filter\": record => { return (parseInt(record.Year) >= 2013 || record.Year == '1972') }}, \"config\": {\"split\": true}, \"style\": {\"plot.xAxis.interlacing.color\": \"#ffffff\"}}, {\"duration\": 0.005});\n",
       "    });\n",
       "</script>"
      ]
     },
     "metadata": {},
     "output_type": "display_data"
    },
    {
     "data": {
      "text/html": [
       "<script id=\"myVizzu_804b75b\">\n",
       "    let display_804b75b = myVizzu_804b75b.parentNode.parentNode.style.display;\n",
       "    myVizzu_804b75b.parentNode.parentNode.style.display = \"none\";\n",
       "    chart_184a155 = chart_184a155.then(chart => {\n",
       "        if (myVizzu_184a155.parentNode && myVizzu_184a155.parentNode.parentNode) {\n",
       "            myVizzu_184a155.parentNode.parentNode.style.display = \"none\";\n",
       "        }\n",
       "        myVizzu_804b75b.parentNode.parentNode.style.display = display_804b75b;\n",
       "        myVizzu_804b75b.parentNode.insertBefore(myVizzu_184a155, myVizzu_804b75b);\n",
       "        if (!document.inhibitScroll && true) {\n",
       "            myVizzu_184a155.scrollIntoView({behavior: \"auto\", block: \"center\"});\n",
       "        }\n",
       "        return chart.animate({\"data\": {\"filter\": record => { return (parseInt(record.Year) >= 2012 || record.Year == '1972') }}, \"config\": {\"split\": true}, \"style\": {\"plot.xAxis.interlacing.color\": \"#ffffff\"}}, {\"duration\": 0.005});\n",
       "    });\n",
       "</script>"
      ]
     },
     "metadata": {},
     "output_type": "display_data"
    },
    {
     "data": {
      "text/html": [
       "<script id=\"myVizzu_ed499a7\">\n",
       "    let display_ed499a7 = myVizzu_ed499a7.parentNode.parentNode.style.display;\n",
       "    myVizzu_ed499a7.parentNode.parentNode.style.display = \"none\";\n",
       "    chart_184a155 = chart_184a155.then(chart => {\n",
       "        if (myVizzu_184a155.parentNode && myVizzu_184a155.parentNode.parentNode) {\n",
       "            myVizzu_184a155.parentNode.parentNode.style.display = \"none\";\n",
       "        }\n",
       "        myVizzu_ed499a7.parentNode.parentNode.style.display = display_ed499a7;\n",
       "        myVizzu_ed499a7.parentNode.insertBefore(myVizzu_184a155, myVizzu_ed499a7);\n",
       "        if (!document.inhibitScroll && true) {\n",
       "            myVizzu_184a155.scrollIntoView({behavior: \"auto\", block: \"center\"});\n",
       "        }\n",
       "        return chart.animate({\"data\": {\"filter\": record => { return (parseInt(record.Year) >= 2011 || record.Year == '1972') }}, \"config\": {\"split\": true}, \"style\": {\"plot.xAxis.interlacing.color\": \"#ffffff\"}}, {\"duration\": 0.005});\n",
       "    });\n",
       "</script>"
      ]
     },
     "metadata": {},
     "output_type": "display_data"
    },
    {
     "data": {
      "text/html": [
       "<script id=\"myVizzu_613c5cd\">\n",
       "    let display_613c5cd = myVizzu_613c5cd.parentNode.parentNode.style.display;\n",
       "    myVizzu_613c5cd.parentNode.parentNode.style.display = \"none\";\n",
       "    chart_184a155 = chart_184a155.then(chart => {\n",
       "        if (myVizzu_184a155.parentNode && myVizzu_184a155.parentNode.parentNode) {\n",
       "            myVizzu_184a155.parentNode.parentNode.style.display = \"none\";\n",
       "        }\n",
       "        myVizzu_613c5cd.parentNode.parentNode.style.display = display_613c5cd;\n",
       "        myVizzu_613c5cd.parentNode.insertBefore(myVizzu_184a155, myVizzu_613c5cd);\n",
       "        if (!document.inhibitScroll && true) {\n",
       "            myVizzu_184a155.scrollIntoView({behavior: \"auto\", block: \"center\"});\n",
       "        }\n",
       "        return chart.animate({\"data\": {\"filter\": record => { return (parseInt(record.Year) >= 2010 || record.Year == '1972') }}, \"config\": {\"split\": true}, \"style\": {\"plot.xAxis.interlacing.color\": \"#ffffff\"}}, {\"duration\": 0.005});\n",
       "    });\n",
       "</script>"
      ]
     },
     "metadata": {},
     "output_type": "display_data"
    },
    {
     "data": {
      "text/html": [
       "<script id=\"myVizzu_f020842\">\n",
       "    let display_f020842 = myVizzu_f020842.parentNode.parentNode.style.display;\n",
       "    myVizzu_f020842.parentNode.parentNode.style.display = \"none\";\n",
       "    chart_184a155 = chart_184a155.then(chart => {\n",
       "        if (myVizzu_184a155.parentNode && myVizzu_184a155.parentNode.parentNode) {\n",
       "            myVizzu_184a155.parentNode.parentNode.style.display = \"none\";\n",
       "        }\n",
       "        myVizzu_f020842.parentNode.parentNode.style.display = display_f020842;\n",
       "        myVizzu_f020842.parentNode.insertBefore(myVizzu_184a155, myVizzu_f020842);\n",
       "        if (!document.inhibitScroll && true) {\n",
       "            myVizzu_184a155.scrollIntoView({behavior: \"auto\", block: \"center\"});\n",
       "        }\n",
       "        return chart.animate({\"data\": {\"filter\": record => { return (parseInt(record.Year) >= 2009 || record.Year == '1972') }}, \"config\": {\"split\": true}, \"style\": {\"plot.xAxis.interlacing.color\": \"#ffffff\"}}, {\"duration\": 0.005});\n",
       "    });\n",
       "</script>"
      ]
     },
     "metadata": {},
     "output_type": "display_data"
    },
    {
     "data": {
      "text/html": [
       "<script id=\"myVizzu_e663408\">\n",
       "    let display_e663408 = myVizzu_e663408.parentNode.parentNode.style.display;\n",
       "    myVizzu_e663408.parentNode.parentNode.style.display = \"none\";\n",
       "    chart_184a155 = chart_184a155.then(chart => {\n",
       "        if (myVizzu_184a155.parentNode && myVizzu_184a155.parentNode.parentNode) {\n",
       "            myVizzu_184a155.parentNode.parentNode.style.display = \"none\";\n",
       "        }\n",
       "        myVizzu_e663408.parentNode.parentNode.style.display = display_e663408;\n",
       "        myVizzu_e663408.parentNode.insertBefore(myVizzu_184a155, myVizzu_e663408);\n",
       "        if (!document.inhibitScroll && true) {\n",
       "            myVizzu_184a155.scrollIntoView({behavior: \"auto\", block: \"center\"});\n",
       "        }\n",
       "        return chart.animate({\"data\": {\"filter\": record => { return (parseInt(record.Year) >= 2008 || record.Year == '1972') }}, \"config\": {\"split\": true}, \"style\": {\"plot.xAxis.interlacing.color\": \"#ffffff\"}}, {\"duration\": 0.005});\n",
       "    });\n",
       "</script>"
      ]
     },
     "metadata": {},
     "output_type": "display_data"
    },
    {
     "data": {
      "text/html": [
       "<script id=\"myVizzu_7cc7ba9\">\n",
       "    let display_7cc7ba9 = myVizzu_7cc7ba9.parentNode.parentNode.style.display;\n",
       "    myVizzu_7cc7ba9.parentNode.parentNode.style.display = \"none\";\n",
       "    chart_184a155 = chart_184a155.then(chart => {\n",
       "        if (myVizzu_184a155.parentNode && myVizzu_184a155.parentNode.parentNode) {\n",
       "            myVizzu_184a155.parentNode.parentNode.style.display = \"none\";\n",
       "        }\n",
       "        myVizzu_7cc7ba9.parentNode.parentNode.style.display = display_7cc7ba9;\n",
       "        myVizzu_7cc7ba9.parentNode.insertBefore(myVizzu_184a155, myVizzu_7cc7ba9);\n",
       "        if (!document.inhibitScroll && true) {\n",
       "            myVizzu_184a155.scrollIntoView({behavior: \"auto\", block: \"center\"});\n",
       "        }\n",
       "        return chart.animate({\"data\": {\"filter\": record => { return (parseInt(record.Year) >= 2007 || record.Year == '1972') }}, \"config\": {\"split\": true}, \"style\": {\"plot.xAxis.interlacing.color\": \"#ffffff\"}}, {\"duration\": 0.005});\n",
       "    });\n",
       "</script>"
      ]
     },
     "metadata": {},
     "output_type": "display_data"
    },
    {
     "data": {
      "text/html": [
       "<script id=\"myVizzu_a5f546a\">\n",
       "    let display_a5f546a = myVizzu_a5f546a.parentNode.parentNode.style.display;\n",
       "    myVizzu_a5f546a.parentNode.parentNode.style.display = \"none\";\n",
       "    chart_184a155 = chart_184a155.then(chart => {\n",
       "        if (myVizzu_184a155.parentNode && myVizzu_184a155.parentNode.parentNode) {\n",
       "            myVizzu_184a155.parentNode.parentNode.style.display = \"none\";\n",
       "        }\n",
       "        myVizzu_a5f546a.parentNode.parentNode.style.display = display_a5f546a;\n",
       "        myVizzu_a5f546a.parentNode.insertBefore(myVizzu_184a155, myVizzu_a5f546a);\n",
       "        if (!document.inhibitScroll && true) {\n",
       "            myVizzu_184a155.scrollIntoView({behavior: \"auto\", block: \"center\"});\n",
       "        }\n",
       "        return chart.animate({\"data\": {\"filter\": record => { return (parseInt(record.Year) >= 2006 || record.Year == '1972') }}, \"config\": {\"split\": true}, \"style\": {\"plot.xAxis.interlacing.color\": \"#ffffff\"}}, {\"duration\": 0.005});\n",
       "    });\n",
       "</script>"
      ]
     },
     "metadata": {},
     "output_type": "display_data"
    },
    {
     "data": {
      "text/html": [
       "<script id=\"myVizzu_c06b1b6\">\n",
       "    let display_c06b1b6 = myVizzu_c06b1b6.parentNode.parentNode.style.display;\n",
       "    myVizzu_c06b1b6.parentNode.parentNode.style.display = \"none\";\n",
       "    chart_184a155 = chart_184a155.then(chart => {\n",
       "        if (myVizzu_184a155.parentNode && myVizzu_184a155.parentNode.parentNode) {\n",
       "            myVizzu_184a155.parentNode.parentNode.style.display = \"none\";\n",
       "        }\n",
       "        myVizzu_c06b1b6.parentNode.parentNode.style.display = display_c06b1b6;\n",
       "        myVizzu_c06b1b6.parentNode.insertBefore(myVizzu_184a155, myVizzu_c06b1b6);\n",
       "        if (!document.inhibitScroll && true) {\n",
       "            myVizzu_184a155.scrollIntoView({behavior: \"auto\", block: \"center\"});\n",
       "        }\n",
       "        return chart.animate({\"data\": {\"filter\": record => { return (parseInt(record.Year) >= 2005 || record.Year == '1972') }}, \"config\": {\"split\": true}, \"style\": {\"plot.xAxis.interlacing.color\": \"#ffffff\"}}, {\"duration\": 0.005});\n",
       "    });\n",
       "</script>"
      ]
     },
     "metadata": {},
     "output_type": "display_data"
    },
    {
     "data": {
      "text/html": [
       "<script id=\"myVizzu_9f1313e\">\n",
       "    let display_9f1313e = myVizzu_9f1313e.parentNode.parentNode.style.display;\n",
       "    myVizzu_9f1313e.parentNode.parentNode.style.display = \"none\";\n",
       "    chart_184a155 = chart_184a155.then(chart => {\n",
       "        if (myVizzu_184a155.parentNode && myVizzu_184a155.parentNode.parentNode) {\n",
       "            myVizzu_184a155.parentNode.parentNode.style.display = \"none\";\n",
       "        }\n",
       "        myVizzu_9f1313e.parentNode.parentNode.style.display = display_9f1313e;\n",
       "        myVizzu_9f1313e.parentNode.insertBefore(myVizzu_184a155, myVizzu_9f1313e);\n",
       "        if (!document.inhibitScroll && true) {\n",
       "            myVizzu_184a155.scrollIntoView({behavior: \"auto\", block: \"center\"});\n",
       "        }\n",
       "        return chart.animate({\"data\": {\"filter\": record => { return (parseInt(record.Year) >= 2004 || record.Year == '1972') }}, \"config\": {\"split\": true}, \"style\": {\"plot.xAxis.interlacing.color\": \"#ffffff\"}}, {\"duration\": 0.005});\n",
       "    });\n",
       "</script>"
      ]
     },
     "metadata": {},
     "output_type": "display_data"
    },
    {
     "data": {
      "text/html": [
       "<script id=\"myVizzu_09f868b\">\n",
       "    let display_09f868b = myVizzu_09f868b.parentNode.parentNode.style.display;\n",
       "    myVizzu_09f868b.parentNode.parentNode.style.display = \"none\";\n",
       "    chart_184a155 = chart_184a155.then(chart => {\n",
       "        if (myVizzu_184a155.parentNode && myVizzu_184a155.parentNode.parentNode) {\n",
       "            myVizzu_184a155.parentNode.parentNode.style.display = \"none\";\n",
       "        }\n",
       "        myVizzu_09f868b.parentNode.parentNode.style.display = display_09f868b;\n",
       "        myVizzu_09f868b.parentNode.insertBefore(myVizzu_184a155, myVizzu_09f868b);\n",
       "        if (!document.inhibitScroll && true) {\n",
       "            myVizzu_184a155.scrollIntoView({behavior: \"auto\", block: \"center\"});\n",
       "        }\n",
       "        return chart.animate({\"data\": {\"filter\": record => { return (parseInt(record.Year) >= 2003 || record.Year == '1972') }}, \"config\": {\"split\": true}, \"style\": {\"plot.xAxis.interlacing.color\": \"#ffffff\"}}, {\"duration\": 0.005});\n",
       "    });\n",
       "</script>"
      ]
     },
     "metadata": {},
     "output_type": "display_data"
    },
    {
     "data": {
      "text/html": [
       "<script id=\"myVizzu_6148708\">\n",
       "    let display_6148708 = myVizzu_6148708.parentNode.parentNode.style.display;\n",
       "    myVizzu_6148708.parentNode.parentNode.style.display = \"none\";\n",
       "    chart_184a155 = chart_184a155.then(chart => {\n",
       "        if (myVizzu_184a155.parentNode && myVizzu_184a155.parentNode.parentNode) {\n",
       "            myVizzu_184a155.parentNode.parentNode.style.display = \"none\";\n",
       "        }\n",
       "        myVizzu_6148708.parentNode.parentNode.style.display = display_6148708;\n",
       "        myVizzu_6148708.parentNode.insertBefore(myVizzu_184a155, myVizzu_6148708);\n",
       "        if (!document.inhibitScroll && true) {\n",
       "            myVizzu_184a155.scrollIntoView({behavior: \"auto\", block: \"center\"});\n",
       "        }\n",
       "        return chart.animate({\"data\": {\"filter\": record => { return (parseInt(record.Year) >= 2002 || record.Year == '1972') }}, \"config\": {\"split\": true}, \"style\": {\"plot.xAxis.interlacing.color\": \"#ffffff\"}}, {\"duration\": 0.005});\n",
       "    });\n",
       "</script>"
      ]
     },
     "metadata": {},
     "output_type": "display_data"
    },
    {
     "data": {
      "text/html": [
       "<script id=\"myVizzu_3c71274\">\n",
       "    let display_3c71274 = myVizzu_3c71274.parentNode.parentNode.style.display;\n",
       "    myVizzu_3c71274.parentNode.parentNode.style.display = \"none\";\n",
       "    chart_184a155 = chart_184a155.then(chart => {\n",
       "        if (myVizzu_184a155.parentNode && myVizzu_184a155.parentNode.parentNode) {\n",
       "            myVizzu_184a155.parentNode.parentNode.style.display = \"none\";\n",
       "        }\n",
       "        myVizzu_3c71274.parentNode.parentNode.style.display = display_3c71274;\n",
       "        myVizzu_3c71274.parentNode.insertBefore(myVizzu_184a155, myVizzu_3c71274);\n",
       "        if (!document.inhibitScroll && true) {\n",
       "            myVizzu_184a155.scrollIntoView({behavior: \"auto\", block: \"center\"});\n",
       "        }\n",
       "        return chart.animate({\"data\": {\"filter\": record => { return (parseInt(record.Year) >= 2001 || record.Year == '1972') }}, \"config\": {\"split\": true}, \"style\": {\"plot.xAxis.interlacing.color\": \"#ffffff\"}}, {\"duration\": 0.005});\n",
       "    });\n",
       "</script>"
      ]
     },
     "metadata": {},
     "output_type": "display_data"
    },
    {
     "data": {
      "text/html": [
       "<script id=\"myVizzu_1f58a10\">\n",
       "    let display_1f58a10 = myVizzu_1f58a10.parentNode.parentNode.style.display;\n",
       "    myVizzu_1f58a10.parentNode.parentNode.style.display = \"none\";\n",
       "    chart_184a155 = chart_184a155.then(chart => {\n",
       "        if (myVizzu_184a155.parentNode && myVizzu_184a155.parentNode.parentNode) {\n",
       "            myVizzu_184a155.parentNode.parentNode.style.display = \"none\";\n",
       "        }\n",
       "        myVizzu_1f58a10.parentNode.parentNode.style.display = display_1f58a10;\n",
       "        myVizzu_1f58a10.parentNode.insertBefore(myVizzu_184a155, myVizzu_1f58a10);\n",
       "        if (!document.inhibitScroll && true) {\n",
       "            myVizzu_184a155.scrollIntoView({behavior: \"auto\", block: \"center\"});\n",
       "        }\n",
       "        return chart.animate({\"data\": {\"filter\": record => { return (parseInt(record.Year) >= 2000 || record.Year == '1972') }}, \"config\": {\"split\": true}, \"style\": {\"plot.xAxis.interlacing.color\": \"#ffffff\"}}, {\"duration\": 0.005});\n",
       "    });\n",
       "</script>"
      ]
     },
     "metadata": {},
     "output_type": "display_data"
    },
    {
     "data": {
      "text/html": [
       "<script id=\"myVizzu_5c02501\">\n",
       "    let display_5c02501 = myVizzu_5c02501.parentNode.parentNode.style.display;\n",
       "    myVizzu_5c02501.parentNode.parentNode.style.display = \"none\";\n",
       "    chart_184a155 = chart_184a155.then(chart => {\n",
       "        if (myVizzu_184a155.parentNode && myVizzu_184a155.parentNode.parentNode) {\n",
       "            myVizzu_184a155.parentNode.parentNode.style.display = \"none\";\n",
       "        }\n",
       "        myVizzu_5c02501.parentNode.parentNode.style.display = display_5c02501;\n",
       "        myVizzu_5c02501.parentNode.insertBefore(myVizzu_184a155, myVizzu_5c02501);\n",
       "        if (!document.inhibitScroll && true) {\n",
       "            myVizzu_184a155.scrollIntoView({behavior: \"auto\", block: \"center\"});\n",
       "        }\n",
       "        return chart.animate({\"data\": {\"filter\": record => { return (parseInt(record.Year) >= 1999 || record.Year == '1972') }}, \"config\": {\"split\": true}, \"style\": {\"plot.xAxis.interlacing.color\": \"#ffffff\"}}, {\"duration\": 0.005});\n",
       "    });\n",
       "</script>"
      ]
     },
     "metadata": {},
     "output_type": "display_data"
    },
    {
     "data": {
      "text/html": [
       "<script id=\"myVizzu_07eab0c\">\n",
       "    let display_07eab0c = myVizzu_07eab0c.parentNode.parentNode.style.display;\n",
       "    myVizzu_07eab0c.parentNode.parentNode.style.display = \"none\";\n",
       "    chart_184a155 = chart_184a155.then(chart => {\n",
       "        if (myVizzu_184a155.parentNode && myVizzu_184a155.parentNode.parentNode) {\n",
       "            myVizzu_184a155.parentNode.parentNode.style.display = \"none\";\n",
       "        }\n",
       "        myVizzu_07eab0c.parentNode.parentNode.style.display = display_07eab0c;\n",
       "        myVizzu_07eab0c.parentNode.insertBefore(myVizzu_184a155, myVizzu_07eab0c);\n",
       "        if (!document.inhibitScroll && true) {\n",
       "            myVizzu_184a155.scrollIntoView({behavior: \"auto\", block: \"center\"});\n",
       "        }\n",
       "        return chart.animate({\"data\": {\"filter\": record => { return (parseInt(record.Year) >= 1998 || record.Year == '1972') }}, \"config\": {\"split\": true}, \"style\": {\"plot.xAxis.interlacing.color\": \"#ffffff\"}}, {\"duration\": 0.005});\n",
       "    });\n",
       "</script>"
      ]
     },
     "metadata": {},
     "output_type": "display_data"
    },
    {
     "data": {
      "text/html": [
       "<script id=\"myVizzu_6a62dc4\">\n",
       "    let display_6a62dc4 = myVizzu_6a62dc4.parentNode.parentNode.style.display;\n",
       "    myVizzu_6a62dc4.parentNode.parentNode.style.display = \"none\";\n",
       "    chart_184a155 = chart_184a155.then(chart => {\n",
       "        if (myVizzu_184a155.parentNode && myVizzu_184a155.parentNode.parentNode) {\n",
       "            myVizzu_184a155.parentNode.parentNode.style.display = \"none\";\n",
       "        }\n",
       "        myVizzu_6a62dc4.parentNode.parentNode.style.display = display_6a62dc4;\n",
       "        myVizzu_6a62dc4.parentNode.insertBefore(myVizzu_184a155, myVizzu_6a62dc4);\n",
       "        if (!document.inhibitScroll && true) {\n",
       "            myVizzu_184a155.scrollIntoView({behavior: \"auto\", block: \"center\"});\n",
       "        }\n",
       "        return chart.animate({\"data\": {\"filter\": record => { return (parseInt(record.Year) >= 1997 || record.Year == '1972') }}, \"config\": {\"split\": true}, \"style\": {\"plot.xAxis.interlacing.color\": \"#ffffff\"}}, {\"duration\": 0.005});\n",
       "    });\n",
       "</script>"
      ]
     },
     "metadata": {},
     "output_type": "display_data"
    },
    {
     "data": {
      "text/html": [
       "<script id=\"myVizzu_bdf6534\">\n",
       "    let display_bdf6534 = myVizzu_bdf6534.parentNode.parentNode.style.display;\n",
       "    myVizzu_bdf6534.parentNode.parentNode.style.display = \"none\";\n",
       "    chart_184a155 = chart_184a155.then(chart => {\n",
       "        if (myVizzu_184a155.parentNode && myVizzu_184a155.parentNode.parentNode) {\n",
       "            myVizzu_184a155.parentNode.parentNode.style.display = \"none\";\n",
       "        }\n",
       "        myVizzu_bdf6534.parentNode.parentNode.style.display = display_bdf6534;\n",
       "        myVizzu_bdf6534.parentNode.insertBefore(myVizzu_184a155, myVizzu_bdf6534);\n",
       "        if (!document.inhibitScroll && true) {\n",
       "            myVizzu_184a155.scrollIntoView({behavior: \"auto\", block: \"center\"});\n",
       "        }\n",
       "        return chart.animate({\"data\": {\"filter\": record => { return (parseInt(record.Year) >= 1996 || record.Year == '1972') }}, \"config\": {\"split\": true}, \"style\": {\"plot.xAxis.interlacing.color\": \"#ffffff\"}}, {\"duration\": 0.005});\n",
       "    });\n",
       "</script>"
      ]
     },
     "metadata": {},
     "output_type": "display_data"
    },
    {
     "data": {
      "text/html": [
       "<script id=\"myVizzu_9b2efd0\">\n",
       "    let display_9b2efd0 = myVizzu_9b2efd0.parentNode.parentNode.style.display;\n",
       "    myVizzu_9b2efd0.parentNode.parentNode.style.display = \"none\";\n",
       "    chart_184a155 = chart_184a155.then(chart => {\n",
       "        if (myVizzu_184a155.parentNode && myVizzu_184a155.parentNode.parentNode) {\n",
       "            myVizzu_184a155.parentNode.parentNode.style.display = \"none\";\n",
       "        }\n",
       "        myVizzu_9b2efd0.parentNode.parentNode.style.display = display_9b2efd0;\n",
       "        myVizzu_9b2efd0.parentNode.insertBefore(myVizzu_184a155, myVizzu_9b2efd0);\n",
       "        if (!document.inhibitScroll && true) {\n",
       "            myVizzu_184a155.scrollIntoView({behavior: \"auto\", block: \"center\"});\n",
       "        }\n",
       "        return chart.animate({\"data\": {\"filter\": record => { return (parseInt(record.Year) >= 1995 || record.Year == '1972') }}, \"config\": {\"split\": true}, \"style\": {\"plot.xAxis.interlacing.color\": \"#ffffff\"}}, {\"duration\": 0.005});\n",
       "    });\n",
       "</script>"
      ]
     },
     "metadata": {},
     "output_type": "display_data"
    },
    {
     "data": {
      "text/html": [
       "<script id=\"myVizzu_e779da1\">\n",
       "    let display_e779da1 = myVizzu_e779da1.parentNode.parentNode.style.display;\n",
       "    myVizzu_e779da1.parentNode.parentNode.style.display = \"none\";\n",
       "    chart_184a155 = chart_184a155.then(chart => {\n",
       "        if (myVizzu_184a155.parentNode && myVizzu_184a155.parentNode.parentNode) {\n",
       "            myVizzu_184a155.parentNode.parentNode.style.display = \"none\";\n",
       "        }\n",
       "        myVizzu_e779da1.parentNode.parentNode.style.display = display_e779da1;\n",
       "        myVizzu_e779da1.parentNode.insertBefore(myVizzu_184a155, myVizzu_e779da1);\n",
       "        if (!document.inhibitScroll && true) {\n",
       "            myVizzu_184a155.scrollIntoView({behavior: \"auto\", block: \"center\"});\n",
       "        }\n",
       "        return chart.animate({\"data\": {\"filter\": record => { return (parseInt(record.Year) >= 1994 || record.Year == '1972') }}, \"config\": {\"split\": true}, \"style\": {\"plot.xAxis.interlacing.color\": \"#ffffff\"}}, {\"duration\": 0.005});\n",
       "    });\n",
       "</script>"
      ]
     },
     "metadata": {},
     "output_type": "display_data"
    },
    {
     "data": {
      "text/html": [
       "<script id=\"myVizzu_dadbefc\">\n",
       "    let display_dadbefc = myVizzu_dadbefc.parentNode.parentNode.style.display;\n",
       "    myVizzu_dadbefc.parentNode.parentNode.style.display = \"none\";\n",
       "    chart_184a155 = chart_184a155.then(chart => {\n",
       "        if (myVizzu_184a155.parentNode && myVizzu_184a155.parentNode.parentNode) {\n",
       "            myVizzu_184a155.parentNode.parentNode.style.display = \"none\";\n",
       "        }\n",
       "        myVizzu_dadbefc.parentNode.parentNode.style.display = display_dadbefc;\n",
       "        myVizzu_dadbefc.parentNode.insertBefore(myVizzu_184a155, myVizzu_dadbefc);\n",
       "        if (!document.inhibitScroll && true) {\n",
       "            myVizzu_184a155.scrollIntoView({behavior: \"auto\", block: \"center\"});\n",
       "        }\n",
       "        return chart.animate({\"data\": {\"filter\": record => { return (parseInt(record.Year) >= 1993 || record.Year == '1972') }}, \"config\": {\"split\": true}, \"style\": {\"plot.xAxis.interlacing.color\": \"#ffffff\"}}, {\"duration\": 0.005});\n",
       "    });\n",
       "</script>"
      ]
     },
     "metadata": {},
     "output_type": "display_data"
    },
    {
     "data": {
      "text/html": [
       "<script id=\"myVizzu_8319366\">\n",
       "    let display_8319366 = myVizzu_8319366.parentNode.parentNode.style.display;\n",
       "    myVizzu_8319366.parentNode.parentNode.style.display = \"none\";\n",
       "    chart_184a155 = chart_184a155.then(chart => {\n",
       "        if (myVizzu_184a155.parentNode && myVizzu_184a155.parentNode.parentNode) {\n",
       "            myVizzu_184a155.parentNode.parentNode.style.display = \"none\";\n",
       "        }\n",
       "        myVizzu_8319366.parentNode.parentNode.style.display = display_8319366;\n",
       "        myVizzu_8319366.parentNode.insertBefore(myVizzu_184a155, myVizzu_8319366);\n",
       "        if (!document.inhibitScroll && true) {\n",
       "            myVizzu_184a155.scrollIntoView({behavior: \"auto\", block: \"center\"});\n",
       "        }\n",
       "        return chart.animate({\"data\": {\"filter\": record => { return (parseInt(record.Year) >= 1992 || record.Year == '1972') }}, \"config\": {\"split\": true}, \"style\": {\"plot.xAxis.interlacing.color\": \"#ffffff\"}}, {\"duration\": 0.005});\n",
       "    });\n",
       "</script>"
      ]
     },
     "metadata": {},
     "output_type": "display_data"
    },
    {
     "data": {
      "text/html": [
       "<script id=\"myVizzu_8683dab\">\n",
       "    let display_8683dab = myVizzu_8683dab.parentNode.parentNode.style.display;\n",
       "    myVizzu_8683dab.parentNode.parentNode.style.display = \"none\";\n",
       "    chart_184a155 = chart_184a155.then(chart => {\n",
       "        if (myVizzu_184a155.parentNode && myVizzu_184a155.parentNode.parentNode) {\n",
       "            myVizzu_184a155.parentNode.parentNode.style.display = \"none\";\n",
       "        }\n",
       "        myVizzu_8683dab.parentNode.parentNode.style.display = display_8683dab;\n",
       "        myVizzu_8683dab.parentNode.insertBefore(myVizzu_184a155, myVizzu_8683dab);\n",
       "        if (!document.inhibitScroll && true) {\n",
       "            myVizzu_184a155.scrollIntoView({behavior: \"auto\", block: \"center\"});\n",
       "        }\n",
       "        return chart.animate({\"data\": {\"filter\": record => { return (parseInt(record.Year) >= 1991 || record.Year == '1972') }}, \"config\": {\"split\": true}, \"style\": {\"plot.xAxis.interlacing.color\": \"#ffffff\"}}, {\"duration\": 0.005});\n",
       "    });\n",
       "</script>"
      ]
     },
     "metadata": {},
     "output_type": "display_data"
    },
    {
     "data": {
      "text/html": [
       "<script id=\"myVizzu_924ca3d\">\n",
       "    let display_924ca3d = myVizzu_924ca3d.parentNode.parentNode.style.display;\n",
       "    myVizzu_924ca3d.parentNode.parentNode.style.display = \"none\";\n",
       "    chart_184a155 = chart_184a155.then(chart => {\n",
       "        if (myVizzu_184a155.parentNode && myVizzu_184a155.parentNode.parentNode) {\n",
       "            myVizzu_184a155.parentNode.parentNode.style.display = \"none\";\n",
       "        }\n",
       "        myVizzu_924ca3d.parentNode.parentNode.style.display = display_924ca3d;\n",
       "        myVizzu_924ca3d.parentNode.insertBefore(myVizzu_184a155, myVizzu_924ca3d);\n",
       "        if (!document.inhibitScroll && true) {\n",
       "            myVizzu_184a155.scrollIntoView({behavior: \"auto\", block: \"center\"});\n",
       "        }\n",
       "        return chart.animate({\"data\": {\"filter\": record => { return (parseInt(record.Year) >= 1990 || record.Year == '1972') }}, \"config\": {\"split\": true}, \"style\": {\"plot.xAxis.interlacing.color\": \"#ffffff\"}}, {\"duration\": 0.005});\n",
       "    });\n",
       "</script>"
      ]
     },
     "metadata": {},
     "output_type": "display_data"
    },
    {
     "data": {
      "text/html": [
       "<script id=\"myVizzu_74710d6\">\n",
       "    let display_74710d6 = myVizzu_74710d6.parentNode.parentNode.style.display;\n",
       "    myVizzu_74710d6.parentNode.parentNode.style.display = \"none\";\n",
       "    chart_184a155 = chart_184a155.then(chart => {\n",
       "        if (myVizzu_184a155.parentNode && myVizzu_184a155.parentNode.parentNode) {\n",
       "            myVizzu_184a155.parentNode.parentNode.style.display = \"none\";\n",
       "        }\n",
       "        myVizzu_74710d6.parentNode.parentNode.style.display = display_74710d6;\n",
       "        myVizzu_74710d6.parentNode.insertBefore(myVizzu_184a155, myVizzu_74710d6);\n",
       "        if (!document.inhibitScroll && true) {\n",
       "            myVizzu_184a155.scrollIntoView({behavior: \"auto\", block: \"center\"});\n",
       "        }\n",
       "        return chart.animate({\"data\": {\"filter\": record => { return (parseInt(record.Year) >= 1989 || record.Year == '1972') }}, \"config\": {\"split\": true}, \"style\": {\"plot.xAxis.interlacing.color\": \"#ffffff\"}}, {\"duration\": 0.005});\n",
       "    });\n",
       "</script>"
      ]
     },
     "metadata": {},
     "output_type": "display_data"
    },
    {
     "data": {
      "text/html": [
       "<script id=\"myVizzu_19ae9bb\">\n",
       "    let display_19ae9bb = myVizzu_19ae9bb.parentNode.parentNode.style.display;\n",
       "    myVizzu_19ae9bb.parentNode.parentNode.style.display = \"none\";\n",
       "    chart_184a155 = chart_184a155.then(chart => {\n",
       "        if (myVizzu_184a155.parentNode && myVizzu_184a155.parentNode.parentNode) {\n",
       "            myVizzu_184a155.parentNode.parentNode.style.display = \"none\";\n",
       "        }\n",
       "        myVizzu_19ae9bb.parentNode.parentNode.style.display = display_19ae9bb;\n",
       "        myVizzu_19ae9bb.parentNode.insertBefore(myVizzu_184a155, myVizzu_19ae9bb);\n",
       "        if (!document.inhibitScroll && true) {\n",
       "            myVizzu_184a155.scrollIntoView({behavior: \"auto\", block: \"center\"});\n",
       "        }\n",
       "        return chart.animate({\"data\": {\"filter\": record => { return (parseInt(record.Year) >= 1988 || record.Year == '1972') }}, \"config\": {\"split\": true}, \"style\": {\"plot.xAxis.interlacing.color\": \"#ffffff\"}}, {\"duration\": 0.005});\n",
       "    });\n",
       "</script>"
      ]
     },
     "metadata": {},
     "output_type": "display_data"
    },
    {
     "data": {
      "text/html": [
       "<script id=\"myVizzu_754c544\">\n",
       "    let display_754c544 = myVizzu_754c544.parentNode.parentNode.style.display;\n",
       "    myVizzu_754c544.parentNode.parentNode.style.display = \"none\";\n",
       "    chart_184a155 = chart_184a155.then(chart => {\n",
       "        if (myVizzu_184a155.parentNode && myVizzu_184a155.parentNode.parentNode) {\n",
       "            myVizzu_184a155.parentNode.parentNode.style.display = \"none\";\n",
       "        }\n",
       "        myVizzu_754c544.parentNode.parentNode.style.display = display_754c544;\n",
       "        myVizzu_754c544.parentNode.insertBefore(myVizzu_184a155, myVizzu_754c544);\n",
       "        if (!document.inhibitScroll && true) {\n",
       "            myVizzu_184a155.scrollIntoView({behavior: \"auto\", block: \"center\"});\n",
       "        }\n",
       "        return chart.animate({\"data\": {\"filter\": record => { return (parseInt(record.Year) >= 1987 || record.Year == '1972') }}, \"config\": {\"split\": true}, \"style\": {\"plot.xAxis.interlacing.color\": \"#ffffff\"}}, {\"duration\": 0.005});\n",
       "    });\n",
       "</script>"
      ]
     },
     "metadata": {},
     "output_type": "display_data"
    },
    {
     "data": {
      "text/html": [
       "<script id=\"myVizzu_88d15f9\">\n",
       "    let display_88d15f9 = myVizzu_88d15f9.parentNode.parentNode.style.display;\n",
       "    myVizzu_88d15f9.parentNode.parentNode.style.display = \"none\";\n",
       "    chart_184a155 = chart_184a155.then(chart => {\n",
       "        if (myVizzu_184a155.parentNode && myVizzu_184a155.parentNode.parentNode) {\n",
       "            myVizzu_184a155.parentNode.parentNode.style.display = \"none\";\n",
       "        }\n",
       "        myVizzu_88d15f9.parentNode.parentNode.style.display = display_88d15f9;\n",
       "        myVizzu_88d15f9.parentNode.insertBefore(myVizzu_184a155, myVizzu_88d15f9);\n",
       "        if (!document.inhibitScroll && true) {\n",
       "            myVizzu_184a155.scrollIntoView({behavior: \"auto\", block: \"center\"});\n",
       "        }\n",
       "        return chart.animate({\"data\": {\"filter\": record => { return (parseInt(record.Year) >= 1986 || record.Year == '1972') }}, \"config\": {\"split\": true}, \"style\": {\"plot.xAxis.interlacing.color\": \"#ffffff\"}}, {\"duration\": 0.005});\n",
       "    });\n",
       "</script>"
      ]
     },
     "metadata": {},
     "output_type": "display_data"
    },
    {
     "data": {
      "text/html": [
       "<script id=\"myVizzu_cb5fca5\">\n",
       "    let display_cb5fca5 = myVizzu_cb5fca5.parentNode.parentNode.style.display;\n",
       "    myVizzu_cb5fca5.parentNode.parentNode.style.display = \"none\";\n",
       "    chart_184a155 = chart_184a155.then(chart => {\n",
       "        if (myVizzu_184a155.parentNode && myVizzu_184a155.parentNode.parentNode) {\n",
       "            myVizzu_184a155.parentNode.parentNode.style.display = \"none\";\n",
       "        }\n",
       "        myVizzu_cb5fca5.parentNode.parentNode.style.display = display_cb5fca5;\n",
       "        myVizzu_cb5fca5.parentNode.insertBefore(myVizzu_184a155, myVizzu_cb5fca5);\n",
       "        if (!document.inhibitScroll && true) {\n",
       "            myVizzu_184a155.scrollIntoView({behavior: \"auto\", block: \"center\"});\n",
       "        }\n",
       "        return chart.animate({\"data\": {\"filter\": record => { return (parseInt(record.Year) >= 1985 || record.Year == '1972') }}, \"config\": {\"split\": true}, \"style\": {\"plot.xAxis.interlacing.color\": \"#ffffff\"}}, {\"duration\": 0.005});\n",
       "    });\n",
       "</script>"
      ]
     },
     "metadata": {},
     "output_type": "display_data"
    },
    {
     "data": {
      "text/html": [
       "<script id=\"myVizzu_25e1218\">\n",
       "    let display_25e1218 = myVizzu_25e1218.parentNode.parentNode.style.display;\n",
       "    myVizzu_25e1218.parentNode.parentNode.style.display = \"none\";\n",
       "    chart_184a155 = chart_184a155.then(chart => {\n",
       "        if (myVizzu_184a155.parentNode && myVizzu_184a155.parentNode.parentNode) {\n",
       "            myVizzu_184a155.parentNode.parentNode.style.display = \"none\";\n",
       "        }\n",
       "        myVizzu_25e1218.parentNode.parentNode.style.display = display_25e1218;\n",
       "        myVizzu_25e1218.parentNode.insertBefore(myVizzu_184a155, myVizzu_25e1218);\n",
       "        if (!document.inhibitScroll && true) {\n",
       "            myVizzu_184a155.scrollIntoView({behavior: \"auto\", block: \"center\"});\n",
       "        }\n",
       "        return chart.animate({\"data\": {\"filter\": record => { return (parseInt(record.Year) >= 1984 || record.Year == '1972') }}, \"config\": {\"split\": true}, \"style\": {\"plot.xAxis.interlacing.color\": \"#ffffff\"}}, {\"duration\": 0.005});\n",
       "    });\n",
       "</script>"
      ]
     },
     "metadata": {},
     "output_type": "display_data"
    },
    {
     "data": {
      "text/html": [
       "<script id=\"myVizzu_3229378\">\n",
       "    let display_3229378 = myVizzu_3229378.parentNode.parentNode.style.display;\n",
       "    myVizzu_3229378.parentNode.parentNode.style.display = \"none\";\n",
       "    chart_184a155 = chart_184a155.then(chart => {\n",
       "        if (myVizzu_184a155.parentNode && myVizzu_184a155.parentNode.parentNode) {\n",
       "            myVizzu_184a155.parentNode.parentNode.style.display = \"none\";\n",
       "        }\n",
       "        myVizzu_3229378.parentNode.parentNode.style.display = display_3229378;\n",
       "        myVizzu_3229378.parentNode.insertBefore(myVizzu_184a155, myVizzu_3229378);\n",
       "        if (!document.inhibitScroll && true) {\n",
       "            myVizzu_184a155.scrollIntoView({behavior: \"auto\", block: \"center\"});\n",
       "        }\n",
       "        return chart.animate({\"data\": {\"filter\": record => { return (parseInt(record.Year) >= 1983 || record.Year == '1972') }}, \"config\": {\"split\": true}, \"style\": {\"plot.xAxis.interlacing.color\": \"#ffffff\"}}, {\"duration\": 0.005});\n",
       "    });\n",
       "</script>"
      ]
     },
     "metadata": {},
     "output_type": "display_data"
    },
    {
     "data": {
      "text/html": [
       "<script id=\"myVizzu_0427817\">\n",
       "    let display_0427817 = myVizzu_0427817.parentNode.parentNode.style.display;\n",
       "    myVizzu_0427817.parentNode.parentNode.style.display = \"none\";\n",
       "    chart_184a155 = chart_184a155.then(chart => {\n",
       "        if (myVizzu_184a155.parentNode && myVizzu_184a155.parentNode.parentNode) {\n",
       "            myVizzu_184a155.parentNode.parentNode.style.display = \"none\";\n",
       "        }\n",
       "        myVizzu_0427817.parentNode.parentNode.style.display = display_0427817;\n",
       "        myVizzu_0427817.parentNode.insertBefore(myVizzu_184a155, myVizzu_0427817);\n",
       "        if (!document.inhibitScroll && true) {\n",
       "            myVizzu_184a155.scrollIntoView({behavior: \"auto\", block: \"center\"});\n",
       "        }\n",
       "        return chart.animate({\"data\": {\"filter\": record => { return (parseInt(record.Year) >= 1982 || record.Year == '1972') }}, \"config\": {\"split\": true}, \"style\": {\"plot.xAxis.interlacing.color\": \"#ffffff\"}}, {\"duration\": 0.005});\n",
       "    });\n",
       "</script>"
      ]
     },
     "metadata": {},
     "output_type": "display_data"
    },
    {
     "data": {
      "text/html": [
       "<script id=\"myVizzu_18c8575\">\n",
       "    let display_18c8575 = myVizzu_18c8575.parentNode.parentNode.style.display;\n",
       "    myVizzu_18c8575.parentNode.parentNode.style.display = \"none\";\n",
       "    chart_184a155 = chart_184a155.then(chart => {\n",
       "        if (myVizzu_184a155.parentNode && myVizzu_184a155.parentNode.parentNode) {\n",
       "            myVizzu_184a155.parentNode.parentNode.style.display = \"none\";\n",
       "        }\n",
       "        myVizzu_18c8575.parentNode.parentNode.style.display = display_18c8575;\n",
       "        myVizzu_18c8575.parentNode.insertBefore(myVizzu_184a155, myVizzu_18c8575);\n",
       "        if (!document.inhibitScroll && true) {\n",
       "            myVizzu_184a155.scrollIntoView({behavior: \"auto\", block: \"center\"});\n",
       "        }\n",
       "        return chart.animate({\"data\": {\"filter\": record => { return (parseInt(record.Year) >= 1981 || record.Year == '1972') }}, \"config\": {\"split\": true}, \"style\": {\"plot.xAxis.interlacing.color\": \"#ffffff\"}}, {\"duration\": 0.005});\n",
       "    });\n",
       "</script>"
      ]
     },
     "metadata": {},
     "output_type": "display_data"
    },
    {
     "data": {
      "text/html": [
       "<script id=\"myVizzu_ee107eb\">\n",
       "    let display_ee107eb = myVizzu_ee107eb.parentNode.parentNode.style.display;\n",
       "    myVizzu_ee107eb.parentNode.parentNode.style.display = \"none\";\n",
       "    chart_184a155 = chart_184a155.then(chart => {\n",
       "        if (myVizzu_184a155.parentNode && myVizzu_184a155.parentNode.parentNode) {\n",
       "            myVizzu_184a155.parentNode.parentNode.style.display = \"none\";\n",
       "        }\n",
       "        myVizzu_ee107eb.parentNode.parentNode.style.display = display_ee107eb;\n",
       "        myVizzu_ee107eb.parentNode.insertBefore(myVizzu_184a155, myVizzu_ee107eb);\n",
       "        if (!document.inhibitScroll && true) {\n",
       "            myVizzu_184a155.scrollIntoView({behavior: \"auto\", block: \"center\"});\n",
       "        }\n",
       "        return chart.animate({\"data\": {\"filter\": record => { return (parseInt(record.Year) >= 1980 || record.Year == '1972') }}, \"config\": {\"split\": true}, \"style\": {\"plot.xAxis.interlacing.color\": \"#ffffff\"}}, {\"duration\": 0.005});\n",
       "    });\n",
       "</script>"
      ]
     },
     "metadata": {},
     "output_type": "display_data"
    },
    {
     "data": {
      "text/html": [
       "<script id=\"myVizzu_8c5d12d\">\n",
       "    let display_8c5d12d = myVizzu_8c5d12d.parentNode.parentNode.style.display;\n",
       "    myVizzu_8c5d12d.parentNode.parentNode.style.display = \"none\";\n",
       "    chart_184a155 = chart_184a155.then(chart => {\n",
       "        if (myVizzu_184a155.parentNode && myVizzu_184a155.parentNode.parentNode) {\n",
       "            myVizzu_184a155.parentNode.parentNode.style.display = \"none\";\n",
       "        }\n",
       "        myVizzu_8c5d12d.parentNode.parentNode.style.display = display_8c5d12d;\n",
       "        myVizzu_8c5d12d.parentNode.insertBefore(myVizzu_184a155, myVizzu_8c5d12d);\n",
       "        if (!document.inhibitScroll && true) {\n",
       "            myVizzu_184a155.scrollIntoView({behavior: \"auto\", block: \"center\"});\n",
       "        }\n",
       "        return chart.animate({\"data\": {\"filter\": record => { return (parseInt(record.Year) >= 1979 || record.Year == '1972') }}, \"config\": {\"split\": true}, \"style\": {\"plot.xAxis.interlacing.color\": \"#ffffff\"}}, {\"duration\": 0.005});\n",
       "    });\n",
       "</script>"
      ]
     },
     "metadata": {},
     "output_type": "display_data"
    },
    {
     "data": {
      "text/html": [
       "<script id=\"myVizzu_1e021be\">\n",
       "    let display_1e021be = myVizzu_1e021be.parentNode.parentNode.style.display;\n",
       "    myVizzu_1e021be.parentNode.parentNode.style.display = \"none\";\n",
       "    chart_184a155 = chart_184a155.then(chart => {\n",
       "        if (myVizzu_184a155.parentNode && myVizzu_184a155.parentNode.parentNode) {\n",
       "            myVizzu_184a155.parentNode.parentNode.style.display = \"none\";\n",
       "        }\n",
       "        myVizzu_1e021be.parentNode.parentNode.style.display = display_1e021be;\n",
       "        myVizzu_1e021be.parentNode.insertBefore(myVizzu_184a155, myVizzu_1e021be);\n",
       "        if (!document.inhibitScroll && true) {\n",
       "            myVizzu_184a155.scrollIntoView({behavior: \"auto\", block: \"center\"});\n",
       "        }\n",
       "        return chart.animate({\"data\": {\"filter\": record => { return (parseInt(record.Year) >= 1978 || record.Year == '1972') }}, \"config\": {\"split\": true}, \"style\": {\"plot.xAxis.interlacing.color\": \"#ffffff\"}}, {\"duration\": 0.005});\n",
       "    });\n",
       "</script>"
      ]
     },
     "metadata": {},
     "output_type": "display_data"
    },
    {
     "data": {
      "text/html": [
       "<script id=\"myVizzu_d3c7ec6\">\n",
       "    let display_d3c7ec6 = myVizzu_d3c7ec6.parentNode.parentNode.style.display;\n",
       "    myVizzu_d3c7ec6.parentNode.parentNode.style.display = \"none\";\n",
       "    chart_184a155 = chart_184a155.then(chart => {\n",
       "        if (myVizzu_184a155.parentNode && myVizzu_184a155.parentNode.parentNode) {\n",
       "            myVizzu_184a155.parentNode.parentNode.style.display = \"none\";\n",
       "        }\n",
       "        myVizzu_d3c7ec6.parentNode.parentNode.style.display = display_d3c7ec6;\n",
       "        myVizzu_d3c7ec6.parentNode.insertBefore(myVizzu_184a155, myVizzu_d3c7ec6);\n",
       "        if (!document.inhibitScroll && true) {\n",
       "            myVizzu_184a155.scrollIntoView({behavior: \"auto\", block: \"center\"});\n",
       "        }\n",
       "        return chart.animate({\"data\": {\"filter\": record => { return (parseInt(record.Year) >= 1977 || record.Year == '1972') }}, \"config\": {\"split\": true}, \"style\": {\"plot.xAxis.interlacing.color\": \"#ffffff\"}}, {\"duration\": 0.005});\n",
       "    });\n",
       "</script>"
      ]
     },
     "metadata": {},
     "output_type": "display_data"
    },
    {
     "data": {
      "text/html": [
       "<script id=\"myVizzu_bcf0e36\">\n",
       "    let display_bcf0e36 = myVizzu_bcf0e36.parentNode.parentNode.style.display;\n",
       "    myVizzu_bcf0e36.parentNode.parentNode.style.display = \"none\";\n",
       "    chart_184a155 = chart_184a155.then(chart => {\n",
       "        if (myVizzu_184a155.parentNode && myVizzu_184a155.parentNode.parentNode) {\n",
       "            myVizzu_184a155.parentNode.parentNode.style.display = \"none\";\n",
       "        }\n",
       "        myVizzu_bcf0e36.parentNode.parentNode.style.display = display_bcf0e36;\n",
       "        myVizzu_bcf0e36.parentNode.insertBefore(myVizzu_184a155, myVizzu_bcf0e36);\n",
       "        if (!document.inhibitScroll && true) {\n",
       "            myVizzu_184a155.scrollIntoView({behavior: \"auto\", block: \"center\"});\n",
       "        }\n",
       "        return chart.animate({\"data\": {\"filter\": record => { return (parseInt(record.Year) >= 1976 || record.Year == '1972') }}, \"config\": {\"split\": true}, \"style\": {\"plot.xAxis.interlacing.color\": \"#ffffff\"}}, {\"duration\": 0.005});\n",
       "    });\n",
       "</script>"
      ]
     },
     "metadata": {},
     "output_type": "display_data"
    },
    {
     "data": {
      "text/html": [
       "<script id=\"myVizzu_d8fd299\">\n",
       "    let display_d8fd299 = myVizzu_d8fd299.parentNode.parentNode.style.display;\n",
       "    myVizzu_d8fd299.parentNode.parentNode.style.display = \"none\";\n",
       "    chart_184a155 = chart_184a155.then(chart => {\n",
       "        if (myVizzu_184a155.parentNode && myVizzu_184a155.parentNode.parentNode) {\n",
       "            myVizzu_184a155.parentNode.parentNode.style.display = \"none\";\n",
       "        }\n",
       "        myVizzu_d8fd299.parentNode.parentNode.style.display = display_d8fd299;\n",
       "        myVizzu_d8fd299.parentNode.insertBefore(myVizzu_184a155, myVizzu_d8fd299);\n",
       "        if (!document.inhibitScroll && true) {\n",
       "            myVizzu_184a155.scrollIntoView({behavior: \"auto\", block: \"center\"});\n",
       "        }\n",
       "        return chart.animate({\"data\": {\"filter\": record => { return (parseInt(record.Year) >= 1975 || record.Year == '1972') }}, \"config\": {\"split\": true}, \"style\": {\"plot.xAxis.interlacing.color\": \"#ffffff\"}}, {\"duration\": 0.005});\n",
       "    });\n",
       "</script>"
      ]
     },
     "metadata": {},
     "output_type": "display_data"
    },
    {
     "data": {
      "text/html": [
       "<script id=\"myVizzu_11dce91\">\n",
       "    let display_11dce91 = myVizzu_11dce91.parentNode.parentNode.style.display;\n",
       "    myVizzu_11dce91.parentNode.parentNode.style.display = \"none\";\n",
       "    chart_184a155 = chart_184a155.then(chart => {\n",
       "        if (myVizzu_184a155.parentNode && myVizzu_184a155.parentNode.parentNode) {\n",
       "            myVizzu_184a155.parentNode.parentNode.style.display = \"none\";\n",
       "        }\n",
       "        myVizzu_11dce91.parentNode.parentNode.style.display = display_11dce91;\n",
       "        myVizzu_11dce91.parentNode.insertBefore(myVizzu_184a155, myVizzu_11dce91);\n",
       "        if (!document.inhibitScroll && true) {\n",
       "            myVizzu_184a155.scrollIntoView({behavior: \"auto\", block: \"center\"});\n",
       "        }\n",
       "        return chart.animate({\"data\": {\"filter\": record => { return (parseInt(record.Year) >= 1974 || record.Year == '1972') }}, \"config\": {\"split\": true}, \"style\": {\"plot.xAxis.interlacing.color\": \"#ffffff\"}}, {\"duration\": 0.005});\n",
       "    });\n",
       "</script>"
      ]
     },
     "metadata": {},
     "output_type": "display_data"
    },
    {
     "data": {
      "text/html": [
       "<script id=\"myVizzu_2c251f1\">\n",
       "    let display_2c251f1 = myVizzu_2c251f1.parentNode.parentNode.style.display;\n",
       "    myVizzu_2c251f1.parentNode.parentNode.style.display = \"none\";\n",
       "    chart_184a155 = chart_184a155.then(chart => {\n",
       "        if (myVizzu_184a155.parentNode && myVizzu_184a155.parentNode.parentNode) {\n",
       "            myVizzu_184a155.parentNode.parentNode.style.display = \"none\";\n",
       "        }\n",
       "        myVizzu_2c251f1.parentNode.parentNode.style.display = display_2c251f1;\n",
       "        myVizzu_2c251f1.parentNode.insertBefore(myVizzu_184a155, myVizzu_2c251f1);\n",
       "        if (!document.inhibitScroll && true) {\n",
       "            myVizzu_184a155.scrollIntoView({behavior: \"auto\", block: \"center\"});\n",
       "        }\n",
       "        return chart.animate({\"data\": {\"filter\": record => { return (parseInt(record.Year) >= 1973 || record.Year == '1972') }}, \"config\": {\"split\": true}, \"style\": {\"plot.xAxis.interlacing.color\": \"#ffffff\"}}, {\"duration\": 0.005});\n",
       "    });\n",
       "</script>"
      ]
     },
     "metadata": {},
     "output_type": "display_data"
    },
    {
     "data": {
      "text/html": [
       "<script id=\"myVizzu_d823e79\">\n",
       "    let display_d823e79 = myVizzu_d823e79.parentNode.parentNode.style.display;\n",
       "    myVizzu_d823e79.parentNode.parentNode.style.display = \"none\";\n",
       "    chart_184a155 = chart_184a155.then(chart => {\n",
       "        if (myVizzu_184a155.parentNode && myVizzu_184a155.parentNode.parentNode) {\n",
       "            myVizzu_184a155.parentNode.parentNode.style.display = \"none\";\n",
       "        }\n",
       "        myVizzu_d823e79.parentNode.parentNode.style.display = display_d823e79;\n",
       "        myVizzu_d823e79.parentNode.insertBefore(myVizzu_184a155, myVizzu_d823e79);\n",
       "        if (!document.inhibitScroll && true) {\n",
       "            myVizzu_184a155.scrollIntoView({behavior: \"auto\", block: \"center\"});\n",
       "        }\n",
       "        return chart.animate({\"data\": {\"filter\": record => { return (record.Year != '1972') }}, \"config\": {\"split\": false}}, {\"duration\": 1.5});\n",
       "    });\n",
       "</script>"
      ]
     },
     "metadata": {},
     "output_type": "display_data"
    },
    {
     "data": {
      "text/html": [
       "<script id=\"myVizzu_7a53572\">\n",
       "    let display_7a53572 = myVizzu_7a53572.parentNode.parentNode.style.display;\n",
       "    myVizzu_7a53572.parentNode.parentNode.style.display = \"none\";\n",
       "    chart_184a155 = chart_184a155.then(chart => {\n",
       "        if (myVizzu_184a155.parentNode && myVizzu_184a155.parentNode.parentNode) {\n",
       "            myVizzu_184a155.parentNode.parentNode.style.display = \"none\";\n",
       "        }\n",
       "        myVizzu_7a53572.parentNode.parentNode.style.display = display_7a53572;\n",
       "        myVizzu_7a53572.parentNode.insertBefore(myVizzu_184a155, myVizzu_7a53572);\n",
       "        if (!document.inhibitScroll && true) {\n",
       "            myVizzu_184a155.scrollIntoView({behavior: \"auto\", block: \"center\"});\n",
       "        }\n",
       "        return chart.animate({\"config\": {\"channels\": {\"x\": {\"detach\": [\"Year\"]}}}}, {\"duration\": 0});\n",
       "    });\n",
       "</script>"
      ]
     },
     "metadata": {},
     "output_type": "display_data"
    },
    {
     "data": {
      "text/html": [
       "<script id=\"myVizzu_cc7aba9\">\n",
       "    let display_cc7aba9 = myVizzu_cc7aba9.parentNode.parentNode.style.display;\n",
       "    myVizzu_cc7aba9.parentNode.parentNode.style.display = \"none\";\n",
       "    chart_184a155 = chart_184a155.then(chart => {\n",
       "        if (myVizzu_184a155.parentNode && myVizzu_184a155.parentNode.parentNode) {\n",
       "            myVizzu_184a155.parentNode.parentNode.style.display = \"none\";\n",
       "        }\n",
       "        myVizzu_cc7aba9.parentNode.parentNode.style.display = display_cc7aba9;\n",
       "        myVizzu_cc7aba9.parentNode.insertBefore(myVizzu_184a155, myVizzu_cc7aba9);\n",
       "        if (!document.inhibitScroll && true) {\n",
       "            myVizzu_184a155.scrollIntoView({behavior: \"auto\", block: \"center\"});\n",
       "        }\n",
       "        return chart.animate({\"config\": {\"channels\": {\"label\": {\"set\": [\"Revenue [m$]\"]}}}}, {\"duration\": 0.1});\n",
       "    });\n",
       "</script>"
      ]
     },
     "metadata": {},
     "output_type": "display_data"
    }
   ],
   "source": [
    "chart.animate(\n",
    "    Config({\n",
    "        \"channels\": {\n",
    "            \"x\": { \"attach\": [\"Year\"] },\n",
    "            \"label\": { \"set\": None }\n",
    "        }\n",
    "    }),\n",
    "    duration = 0.3\n",
    ")\n",
    "\n",
    "chart.animate(\n",
    "    Data.filter(\"record.Year == '2020' || record.Year == '1972'\"),\n",
    "    Config({\n",
    "        \"title\": \"Lets see the total of the last 47 years\"\n",
    "    }),\n",
    "    duration = 2\n",
    ")\n",
    "\n",
    "chart.animate(Config({ \"sort\": \"none\" }), delay = 0, duration = 2)\n",
    "\n",
    "\n",
    "for year in reversed(range(1973, 2020)):\n",
    "    chart.animate(\n",
    "        Data.filter(f\"parseInt(record.Year) >= {year} || record.Year == '1972'\"),\n",
    "        Config({ \"split\": True }),\n",
    "        Style({ \"plot.xAxis.interlacing.color\": \"#ffffff\" }),\n",
    "        duration = 0.005\n",
    "    )\n",
    "\n",
    "chart.animate(\n",
    "    Data.filter(\"record.Year != '1972'\"),\n",
    "    Config({ \"split\": False }),\n",
    "    duration = 1.5\n",
    ")\n",
    "\n",
    "\n",
    "chart.animate(\n",
    "    Config({\n",
    "        \"channels\": {\n",
    "            \"x\": { \"detach\": [\"Year\"] }\n",
    "        }\n",
    "    }),\n",
    "    duration = 0\n",
    ")\n",
    "\n",
    "chart.animate(\n",
    "    Config({\n",
    "        \"channels\": {\n",
    "            \"label\": { \"set\": [\"Revenue [m$]\"] }\n",
    "        }\n",
    "    }),\n",
    "    duration = 0.1\n",
    ")\n"
   ]
  },
  {
   "cell_type": "code",
   "execution_count": 3,
   "metadata": {},
   "outputs": [
    {
     "data": {
      "text/html": [
       "<script id=\"myVizzu_59203bc\">\n",
       "    document.inhibitScroll = false;\n",
       "</script>"
      ]
     },
     "metadata": {},
     "output_type": "display_data"
    },
    {
     "data": {
      "text/html": [
       "<script id=\"myVizzu_593e810\">\n",
       "    let display_593e810 = myVizzu_593e810.parentNode.parentNode.style.display;\n",
       "    myVizzu_593e810.parentNode.parentNode.style.display = \"none\";\n",
       "    chart_184a155 = chart_184a155.then(chart => {\n",
       "        if (myVizzu_184a155.parentNode && myVizzu_184a155.parentNode.parentNode) {\n",
       "            myVizzu_184a155.parentNode.parentNode.style.display = \"none\";\n",
       "        }\n",
       "        myVizzu_593e810.parentNode.parentNode.style.display = display_593e810;\n",
       "        myVizzu_593e810.parentNode.insertBefore(myVizzu_184a155, myVizzu_593e810);\n",
       "        if (!document.inhibitScroll && true) {\n",
       "            myVizzu_184a155.scrollIntoView({behavior: \"auto\", block: \"center\"});\n",
       "        }\n",
       "        return chart.animate({\"config\": {\"channels\": {\"x\": {\"attach\": [\"Year\"]}, \"label\": {\"detach\": [\"Revenue [m$]\"]}}}}, {\"duration\": 1});\n",
       "    });\n",
       "</script>"
      ]
     },
     "metadata": {},
     "output_type": "display_data"
    },
    {
     "data": {
      "text/html": [
       "<script id=\"myVizzu_717baf0\">\n",
       "    let display_717baf0 = myVizzu_717baf0.parentNode.parentNode.style.display;\n",
       "    myVizzu_717baf0.parentNode.parentNode.style.display = \"none\";\n",
       "    chart_184a155 = chart_184a155.then(chart => {\n",
       "        if (myVizzu_184a155.parentNode && myVizzu_184a155.parentNode.parentNode) {\n",
       "            myVizzu_184a155.parentNode.parentNode.style.display = \"none\";\n",
       "        }\n",
       "        myVizzu_717baf0.parentNode.parentNode.style.display = display_717baf0;\n",
       "        myVizzu_717baf0.parentNode.insertBefore(myVizzu_184a155, myVizzu_717baf0);\n",
       "        if (!document.inhibitScroll && true) {\n",
       "            myVizzu_184a155.scrollIntoView({behavior: \"auto\", block: \"center\"});\n",
       "        }\n",
       "        return chart.animate({\"config\": {\"channels\": {\"x\": {\"set\": [\"Year\"]}, \"y\": {\"set\": [\"Revenue [m$]\", \"Format\"], \"range\": {\"min\": null, \"max\": null}}, \"color\": {\"set\": [\"Format\"]}}, \"title\": \"Music Revenue by Format in the USA 1973 - 2020\", \"split\": true}, \"style\": {\"plot\": {\"paddingLeft\": 7.5, \"paddingTop\": 25, \"xAxis\": {\"label\": {\"fontSize\": 9, \"angle\": 2.0, \"color\": \"#8e8e8e\"}}, \"yAxis\": {\"interlacing\": {\"color\": \"#ffffff00\"}, \"title\": {\"color\": \"#ffffff00\"}, \"label\": {\"color\": \"#ffffff00\"}}}}}, {\"duration\": 2});\n",
       "    });\n",
       "</script>"
      ]
     },
     "metadata": {},
     "output_type": "display_data"
    },
    {
     "data": {
      "text/html": [
       "<script id=\"myVizzu_ba297dc\">\n",
       "    let display_ba297dc = myVizzu_ba297dc.parentNode.parentNode.style.display;\n",
       "    myVizzu_ba297dc.parentNode.parentNode.style.display = \"none\";\n",
       "    chart_184a155 = chart_184a155.then(chart => {\n",
       "        if (myVizzu_184a155.parentNode && myVizzu_184a155.parentNode.parentNode) {\n",
       "            myVizzu_184a155.parentNode.parentNode.style.display = \"none\";\n",
       "        }\n",
       "        myVizzu_ba297dc.parentNode.parentNode.style.display = display_ba297dc;\n",
       "        myVizzu_ba297dc.parentNode.insertBefore(myVizzu_184a155, myVizzu_ba297dc);\n",
       "        if (!document.inhibitScroll && true) {\n",
       "            myVizzu_184a155.scrollIntoView({behavior: \"auto\", block: \"center\"});\n",
       "        }\n",
       "        return chart.animate({\"config\": {\"geometry\": \"area\"}}, {\"duration\": 1});\n",
       "    });\n",
       "</script>"
      ]
     },
     "metadata": {},
     "output_type": "display_data"
    }
   ],
   "source": [
    "chart.animate(\n",
    "    Config({\n",
    "        \"channels\": {\n",
    "            \"x\": { \"attach\": [\"Year\"] },\n",
    "            \"label\": { \"detach\": [\"Revenue [m$]\"] }\n",
    "        }\n",
    "    }),\n",
    "    duration = 1\n",
    ")\n",
    "\n",
    "chart.animate(\n",
    "    Config({\n",
    "        \"channels\": {\n",
    "            \"x\": { \"set\": ['Year'] },\n",
    "            \"y\": { \"set\": ['Revenue [m$]', 'Format'], \"range\": { \"min\": None, \"max\": None } },\n",
    "            \"color\": { \"set\": ['Format'] }\n",
    "        },\n",
    "        \"title\": 'Music Revenue by Format in the USA 1973 - 2020',\n",
    "        \"split\": True\n",
    "    }),\n",
    "    Style({\n",
    "        \"plot\": {\n",
    "            \"paddingLeft\": 7.5,\n",
    "            \"paddingTop\": 25,\n",
    "            \"xAxis\": {\n",
    "                \"label\": {\n",
    "                    \"fontSize\": 9,\n",
    "                    \"angle\": 2.0,\n",
    "                    \"color\": \"#8e8e8e\"\n",
    "                }\n",
    "            },\n",
    "            \"yAxis\": {\n",
    "                \"interlacing\": { \"color\": \"#ffffff00\" },\n",
    "                \"title\": { \"color\": \"#ffffff00\" },\n",
    "                \"label\": { \"color\": \"#ffffff00\" }\n",
    "            }\n",
    "        }\n",
    "    }),\n",
    "    duration = 2\n",
    ")\n",
    "\n",
    "chart.animate(Config({ \"geometry\": \"area\" }), duration = 1)\n",
    "\n"
   ]
  },
  {
   "cell_type": "code",
   "execution_count": 4,
   "metadata": {},
   "outputs": [
    {
     "data": {
      "text/html": [
       "<script id=\"myVizzu_7ef6741\">\n",
       "    document.inhibitScroll = false;\n",
       "</script>"
      ]
     },
     "metadata": {},
     "output_type": "display_data"
    },
    {
     "data": {
      "text/html": [
       "<script id=\"myVizzu_483ae4c\">\n",
       "    let display_483ae4c = myVizzu_483ae4c.parentNode.parentNode.style.display;\n",
       "    myVizzu_483ae4c.parentNode.parentNode.style.display = \"none\";\n",
       "    chart_184a155 = chart_184a155.then(chart => {\n",
       "        if (myVizzu_184a155.parentNode && myVizzu_184a155.parentNode.parentNode) {\n",
       "            myVizzu_184a155.parentNode.parentNode.style.display = \"none\";\n",
       "        }\n",
       "        myVizzu_483ae4c.parentNode.parentNode.style.display = display_483ae4c;\n",
       "        myVizzu_483ae4c.parentNode.insertBefore(myVizzu_184a155, myVizzu_483ae4c);\n",
       "        if (!document.inhibitScroll && true) {\n",
       "            myVizzu_184a155.scrollIntoView({behavior: \"auto\", block: \"center\"});\n",
       "        }\n",
       "        return chart.animate({\"config\": {\"channels\": {\"x\": {\"set\": [\"Year\"]}, \"y\": {\"range\": {\"max\": \"110%\"}}}, \"align\": \"center\", \"split\": false}, \"style\": {\"plot.marker.borderWidth\": 1}}, {\"duration\": 1});\n",
       "    });\n",
       "</script>"
      ]
     },
     "metadata": {},
     "output_type": "display_data"
    }
   ],
   "source": [
    "chart.animate(\n",
    "    Config({\n",
    "        \"channels\": {\n",
    "            \"x\": { \"set\": [\"Year\"] },\n",
    "            \"y\": {\n",
    "                \"range\": {\n",
    "                    \"max\": \"110%\"\n",
    "                }\n",
    "            }\n",
    "        },\n",
    "        \"align\": \"center\",\n",
    "        \"split\": False\n",
    "    }),\n",
    "    Style({ \"plot.marker.borderWidth\": 1 }),\n",
    "    duration = 1\n",
    ")"
   ]
  }
 ],
 "metadata": {
  "kernelspec": {
   "display_name": ".venv",
   "language": "python",
   "name": ".venv"
  },
  "language_info": {
   "codemirror_mode": {
    "name": "ipython",
    "version": 3
   },
   "file_extension": ".py",
   "mimetype": "text/x-python",
   "name": "python",
   "nbconvert_exporter": "python",
   "pygments_lexer": "ipython3",
   "version": "3.8.10"
  }
 },
 "nbformat": 4,
 "nbformat_minor": 2
}
